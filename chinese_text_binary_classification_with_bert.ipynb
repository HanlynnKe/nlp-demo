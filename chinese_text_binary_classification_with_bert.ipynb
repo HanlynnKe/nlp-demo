{
  "nbformat": 4,
  "nbformat_minor": 0,
  "metadata": {
    "colab": {
      "name": "chinese-text-binary-classification-with-bert.ipynb",
      "provenance": [],
      "collapsed_sections": [],
      "include_colab_link": true
    },
    "kernelspec": {
      "name": "python3",
      "display_name": "Python 3"
    },
    "accelerator": "GPU"
  },
  "cells": [
    {
      "cell_type": "markdown",
      "metadata": {
        "id": "view-in-github",
        "colab_type": "text"
      },
      "source": [
        "<a href=\"https://colab.research.google.com/github/HanlynnKe/nlp-demo/blob/master/chinese_text_binary_classification_with_bert.ipynb\" target=\"_parent\"><img src=\"https://colab.research.google.com/assets/colab-badge.svg\" alt=\"Open In Colab\"/></a>"
      ]
    },
    {
      "cell_type": "markdown",
      "metadata": {
        "id": "GBbAMqZ6IZuw",
        "colab_type": "text"
      },
      "source": [
        "Base code borrowed from [this Google Colab Notebook](https://colab.research.google.com/github/google-research/bert/blob/master/predicting_movie_reviews_with_bert_on_tf_hub.ipynb).\n",
        "\n",
        "Refactored by [Hanlynn Ke](https://github.com/HanlynnKe)\n",
        "\n",
        "Credit to [Shuyi Wang](https://www.linkedin.com/in/shuyi-wang-b3955026/)\n",
        "\n",
        "Please refer to [this GitHub repository](https://github.com/wshuyi/demo-chinese-text-binary-classification-with-bert) for the tutorial on how to do binary classification on Chinese text data.\n",
        "\n"
      ]
    },
    {
      "cell_type": "code",
      "metadata": {
        "id": "jviywGyWyKsA",
        "colab_type": "code",
        "trusted": true,
        "outputId": "78dc114f-8468-4e32-ceed-de267993db7c",
        "colab": {
          "base_uri": "https://localhost:8080/",
          "height": 139
        }
      },
      "source": [
        "!pip install bert-tensorflow"
      ],
      "execution_count": 1,
      "outputs": [
        {
          "output_type": "stream",
          "text": [
            "Collecting bert-tensorflow\n",
            "\u001b[?25l  Downloading https://files.pythonhosted.org/packages/a6/66/7eb4e8b6ea35b7cc54c322c816f976167a43019750279a8473d355800a93/bert_tensorflow-1.0.1-py2.py3-none-any.whl (67kB)\n",
            "\r\u001b[K     |████▉                           | 10kB 18.2MB/s eta 0:00:01\r\u001b[K     |█████████▊                      | 20kB 1.7MB/s eta 0:00:01\r\u001b[K     |██████████████▋                 | 30kB 2.5MB/s eta 0:00:01\r\u001b[K     |███████████████████▍            | 40kB 1.6MB/s eta 0:00:01\r\u001b[K     |████████████████████████▎       | 51kB 2.0MB/s eta 0:00:01\r\u001b[K     |█████████████████████████████▏  | 61kB 2.4MB/s eta 0:00:01\r\u001b[K     |████████████████████████████████| 71kB 2.6MB/s \n",
            "\u001b[?25hRequirement already satisfied: six in /usr/local/lib/python3.6/dist-packages (from bert-tensorflow) (1.12.0)\n",
            "Installing collected packages: bert-tensorflow\n",
            "Successfully installed bert-tensorflow-1.0.1\n"
          ],
          "name": "stdout"
        }
      ]
    },
    {
      "cell_type": "code",
      "metadata": {
        "id": "hsZvic2YxnTz",
        "colab_type": "code",
        "trusted": true,
        "outputId": "efe23c52-2a68-4fb9-e63e-f2f1e035204c",
        "colab": {
          "base_uri": "https://localhost:8080/",
          "height": 71
        }
      },
      "source": [
        "import pandas as pd\n",
        "import tensorflow as tf\n",
        "import tensorflow_hub as hub\n",
        "import pickle\n",
        "import bert\n",
        "from bert import run_classifier\n",
        "from bert import optimization\n",
        "from bert import tokenization"
      ],
      "execution_count": 2,
      "outputs": [
        {
          "output_type": "stream",
          "text": [
            "WARNING:tensorflow:From /usr/local/lib/python3.6/dist-packages/bert/optimization.py:87: The name tf.train.Optimizer is deprecated. Please use tf.compat.v1.train.Optimizer instead.\n",
            "\n"
          ],
          "name": "stdout"
        }
      ]
    },
    {
      "cell_type": "code",
      "metadata": {
        "colab_type": "code",
        "id": "NZM71PjIOF_I",
        "colab": {}
      },
      "source": [
        "def pretty_print(result):\n",
        "    df = pd.DataFrame([result]).T\n",
        "    df.columns = [\"values\"]\n",
        "    return df"
      ],
      "execution_count": 0,
      "outputs": []
    },
    {
      "cell_type": "code",
      "metadata": {
        "trusted": true,
        "id": "ZCYOL8HbIZu2",
        "colab_type": "code",
        "colab": {}
      },
      "source": [
        "def create_tokenizer_from_hub_module(bert_model_hub):\n",
        "  \"\"\"Get the vocab file and casing info from the Hub module.\"\"\"\n",
        "  with tf.Graph().as_default():\n",
        "    bert_module = hub.Module(bert_model_hub)\n",
        "    tokenization_info = bert_module(signature=\"tokenization_info\", as_dict=True)\n",
        "    with tf.Session() as sess:\n",
        "      vocab_file, do_lower_case = sess.run([tokenization_info[\"vocab_file\"],\n",
        "                                            tokenization_info[\"do_lower_case\"]])\n",
        "      \n",
        "  return bert.tokenization.FullTokenizer(\n",
        "      vocab_file=vocab_file, do_lower_case=do_lower_case)\n",
        "\n",
        "def make_features(dataset, label_list, MAX_SEQ_LENGTH, \n",
        "                  tokenizer, DATA_COLUMN, LABEL_COLUMN):\n",
        "    input_example = dataset.apply(lambda x: bert.run_classifier. InputExample(guid=None,\n",
        "                                                   text_a = x[DATA_COLUMN],\n",
        "                                                   text_b = None,\n",
        "                                                   label = x[LABEL_COLUMN]),\n",
        "                                                   axis = 1)\n",
        "    features = bert.run_classifier.convert_examples_to_features(input_example, label_list, MAX_SEQ_LENGTH, tokenizer)\n",
        "    return features\n",
        "\n",
        "def create_model(bert_model_hub, is_predicting, input_ids, input_mask, segment_ids, labels,\n",
        "                 num_labels):\n",
        "  \"\"\"Creates a classification model.\"\"\"\n",
        "\n",
        "  bert_module = hub.Module(\n",
        "      bert_model_hub,\n",
        "      trainable=True)\n",
        "  bert_inputs = dict(\n",
        "      input_ids=input_ids,\n",
        "      input_mask=input_mask,\n",
        "      segment_ids=segment_ids)\n",
        "  bert_outputs = bert_module(\n",
        "      inputs=bert_inputs,\n",
        "      signature=\"tokens\",\n",
        "      as_dict=True)\n",
        "\n",
        "  # Use \"pooled_output\" for classification tasks on an entire sentence.\n",
        "  # Use \"sequence_outputs\" for token-level output.\n",
        "  output_layer = bert_outputs[\"pooled_output\"]\n",
        "\n",
        "  hidden_size = output_layer.shape[-1].value\n",
        "\n",
        "  # Create our own layer to tune for politeness data.\n",
        "  output_weights = tf.get_variable(\n",
        "      \"output_weights\", [num_labels, hidden_size],\n",
        "      initializer=tf.truncated_normal_initializer(stddev=0.02))\n",
        "\n",
        "  output_bias = tf.get_variable(\n",
        "      \"output_bias\", [num_labels], initializer=tf.zeros_initializer())\n",
        "\n",
        "  with tf.variable_scope(\"loss\"):\n",
        "\n",
        "    # Dropout helps prevent overfitting\n",
        "    output_layer = tf.nn.dropout(output_layer, keep_prob=0.9)\n",
        "\n",
        "    logits = tf.matmul(output_layer, output_weights, transpose_b=True)\n",
        "    logits = tf.nn.bias_add(logits, output_bias)\n",
        "    log_probs = tf.nn.log_softmax(logits, axis=-1)\n",
        "\n",
        "    # Convert labels into one-hot encoding\n",
        "    one_hot_labels = tf.one_hot(labels, depth=num_labels, dtype=tf.float32)\n",
        "\n",
        "    predicted_labels = tf.squeeze(tf.argmax(log_probs, axis=-1, output_type=tf.int32))\n",
        "    # If we're predicting, we want predicted labels and the probabiltiies.\n",
        "    if is_predicting:\n",
        "      return (predicted_labels, log_probs)\n",
        "\n",
        "    # If we're train/eval, compute loss between predicted and actual label\n",
        "    per_example_loss = -tf.reduce_sum(one_hot_labels * log_probs, axis=-1)\n",
        "    loss = tf.reduce_mean(per_example_loss)\n",
        "    return (loss, predicted_labels, log_probs)\n",
        "\n",
        "# model_fn_builder actually creates our model function\n",
        "# using the passed parameters for num_labels, learning_rate, etc.\n",
        "def model_fn_builder(bert_model_hub, num_labels, learning_rate, num_train_steps,\n",
        "                     num_warmup_steps):\n",
        "  \"\"\"Returns `model_fn` closure for TPUEstimator.\"\"\"\n",
        "  def model_fn(features, labels, mode, params):  # pylint: disable=unused-argument\n",
        "    \"\"\"The `model_fn` for TPUEstimator.\"\"\"\n",
        "\n",
        "    input_ids = features[\"input_ids\"]\n",
        "    input_mask = features[\"input_mask\"]\n",
        "    segment_ids = features[\"segment_ids\"]\n",
        "    label_ids = features[\"label_ids\"]\n",
        "\n",
        "    is_predicting = (mode == tf.estimator.ModeKeys.PREDICT)\n",
        "    \n",
        "    # TRAIN and EVAL\n",
        "    if not is_predicting:\n",
        "\n",
        "      (loss, predicted_labels, log_probs) = create_model(\n",
        "        bert_model_hub, is_predicting, input_ids, input_mask, \n",
        "          segment_ids, label_ids, num_labels)\n",
        "\n",
        "      train_op = bert.optimization.create_optimizer(\n",
        "          loss, learning_rate, num_train_steps, num_warmup_steps, use_tpu=False)\n",
        "\n",
        "      # Calculate evaluation metrics. \n",
        "      def metric_fn(label_ids, predicted_labels):\n",
        "        accuracy = tf.metrics.accuracy(label_ids, predicted_labels)\n",
        "        f1_score = tf.contrib.metrics.f1_score(\n",
        "            label_ids,\n",
        "            predicted_labels)\n",
        "        auc = tf.metrics.auc(\n",
        "            label_ids,\n",
        "            predicted_labels)\n",
        "        recall = tf.metrics.recall(\n",
        "            label_ids,\n",
        "            predicted_labels)\n",
        "        precision = tf.metrics.precision(\n",
        "            label_ids,\n",
        "            predicted_labels) \n",
        "        true_pos = tf.metrics.true_positives(\n",
        "            label_ids,\n",
        "            predicted_labels)\n",
        "        true_neg = tf.metrics.true_negatives(\n",
        "            label_ids,\n",
        "            predicted_labels)   \n",
        "        false_pos = tf.metrics.false_positives(\n",
        "            label_ids,\n",
        "            predicted_labels)  \n",
        "        false_neg = tf.metrics.false_negatives(\n",
        "            label_ids,\n",
        "            predicted_labels)\n",
        "        return {\n",
        "            \"eval_accuracy\": accuracy,\n",
        "            \"f1_score\": f1_score,\n",
        "            \"auc\": auc,\n",
        "            \"precision\": precision,\n",
        "            \"recall\": recall,\n",
        "            \"true_positives\": true_pos,\n",
        "            \"true_negatives\": true_neg,\n",
        "            \"false_positives\": false_pos,\n",
        "            \"false_negatives\": false_neg\n",
        "        }\n",
        "\n",
        "      eval_metrics = metric_fn(label_ids, predicted_labels)\n",
        "\n",
        "      if mode == tf.estimator.ModeKeys.TRAIN:\n",
        "        return tf.estimator.EstimatorSpec(mode=mode,\n",
        "          loss=loss,\n",
        "          train_op=train_op)\n",
        "      else:\n",
        "          return tf.estimator.EstimatorSpec(mode=mode,\n",
        "            loss=loss,\n",
        "            eval_metric_ops=eval_metrics)\n",
        "    else:\n",
        "      (predicted_labels, log_probs) = create_model(\n",
        "        bert_model_hub, is_predicting, input_ids, \n",
        "          input_mask, segment_ids, label_ids, num_labels)\n",
        "\n",
        "      predictions = {\n",
        "          'probabilities': log_probs,\n",
        "          'labels': predicted_labels\n",
        "      }\n",
        "      return tf.estimator.EstimatorSpec(mode, predictions=predictions)\n",
        "\n",
        "  # Return the actual model function in the closure\n",
        "  return model_fn\n",
        "\n",
        "def estimator_builder(bert_model_hub, OUTPUT_DIR, SAVE_SUMMARY_STEPS, \n",
        "                      SAVE_CHECKPOINTS_STEPS, label_list, LEARNING_RATE, \n",
        "                      num_train_steps, num_warmup_steps, BATCH_SIZE):\n",
        "\n",
        "    # Specify outpit directory and number of checkpoint steps to save\n",
        "    run_config = tf.estimator.RunConfig(\n",
        "        model_dir=OUTPUT_DIR,\n",
        "        save_summary_steps=SAVE_SUMMARY_STEPS,\n",
        "        save_checkpoints_steps=SAVE_CHECKPOINTS_STEPS)\n",
        "\n",
        "    model_fn = model_fn_builder(\n",
        "      bert_model_hub = bert_model_hub,\n",
        "      num_labels=len(label_list),\n",
        "      learning_rate=LEARNING_RATE,\n",
        "      num_train_steps=num_train_steps,\n",
        "      num_warmup_steps=num_warmup_steps)\n",
        "\n",
        "    estimator = tf.estimator.Estimator(\n",
        "      model_fn=model_fn,\n",
        "      config=run_config,\n",
        "      params={\"batch_size\": BATCH_SIZE})\n",
        "    return estimator, model_fn, run_config\n"
      ],
      "execution_count": 0,
      "outputs": []
    },
    {
      "cell_type": "code",
      "metadata": {
        "id": "IuMOGwFui4it",
        "colab_type": "code",
        "trusted": true,
        "colab": {}
      },
      "source": [
        "def run_on_dfs(train, test, DATA_COLUMN, LABEL_COLUMN, \n",
        "               MAX_SEQ_LENGTH = 128,\n",
        "               BATCH_SIZE = 32,\n",
        "               LEARNING_RATE = 2e-5,\n",
        "               NUM_TRAIN_EPOCHS = 3.0,\n",
        "               WARMUP_PROPORTION = 0.1,\n",
        "               SAVE_SUMMARY_STEPS = 100,\n",
        "               SAVE_CHECKPOINTS_STEPS = 10000,\n",
        "               bert_model_hub = \"https://tfhub.dev/google/bert_chinese_L-12_H-768_A-12/1\"):\n",
        "\n",
        "    label_list = train[LABEL_COLUMN].unique().tolist()\n",
        "    \n",
        "    tokenizer = create_tokenizer_from_hub_module(bert_model_hub)\n",
        "\n",
        "    train_features = make_features(train, label_list, MAX_SEQ_LENGTH, tokenizer, DATA_COLUMN, LABEL_COLUMN)\n",
        "    test_features = make_features(test, label_list, MAX_SEQ_LENGTH, tokenizer, DATA_COLUMN, LABEL_COLUMN)\n",
        "\n",
        "    num_train_steps = int(len(train_features) / BATCH_SIZE * NUM_TRAIN_EPOCHS)\n",
        "    num_warmup_steps = int(num_train_steps * WARMUP_PROPORTION)\n",
        "\n",
        "    estimator, model_fn, run_config = estimator_builder(\n",
        "                                  bert_model_hub, \n",
        "                                  OUTPUT_DIR, \n",
        "                                  SAVE_SUMMARY_STEPS, \n",
        "                                  SAVE_CHECKPOINTS_STEPS, \n",
        "                                  label_list, \n",
        "                                  LEARNING_RATE, \n",
        "                                  num_train_steps, \n",
        "                                  num_warmup_steps, \n",
        "                                  BATCH_SIZE)\n",
        "\n",
        "    train_input_fn = bert.run_classifier.input_fn_builder(\n",
        "        features=train_features,\n",
        "        seq_length=MAX_SEQ_LENGTH,\n",
        "        is_training=True,\n",
        "        drop_remainder=False)\n",
        "\n",
        "    estimator.train(input_fn=train_input_fn, max_steps=num_train_steps)\n",
        "\n",
        "    test_input_fn = run_classifier.input_fn_builder(\n",
        "        features=test_features,\n",
        "        seq_length=MAX_SEQ_LENGTH,\n",
        "        is_training=False,\n",
        "        drop_remainder=False)\n",
        "\n",
        "    result_dict = estimator.evaluate(input_fn=test_input_fn, steps=None)\n",
        "    return result_dict, estimator\n",
        "    "
      ],
      "execution_count": 0,
      "outputs": []
    },
    {
      "cell_type": "code",
      "metadata": {
        "trusted": true,
        "id": "wpUHTA8LIZu_",
        "colab_type": "code",
        "colab": {}
      },
      "source": [
        "import random\n",
        "random.seed(10)"
      ],
      "execution_count": 0,
      "outputs": []
    },
    {
      "cell_type": "code",
      "metadata": {
        "trusted": true,
        "id": "qmP8MBvjIZvB",
        "colab_type": "code",
        "colab": {}
      },
      "source": [
        "OUTPUT_DIR = 'output'"
      ],
      "execution_count": 0,
      "outputs": []
    },
    {
      "cell_type": "markdown",
      "metadata": {
        "id": "UV3ExI2JJMhd",
        "colab_type": "text"
      },
      "source": [
        "----- you just need to focus from here ------"
      ]
    },
    {
      "cell_type": "markdown",
      "metadata": {
        "id": "XSUjVoFtJVEO",
        "colab_type": "text"
      },
      "source": [
        "## Get your data"
      ]
    },
    {
      "cell_type": "code",
      "metadata": {
        "id": "pe6HHONmOwEs",
        "colab_type": "code",
        "outputId": "79609d5c-6352-4377-dce1-0358416a07b4",
        "colab": {
          "base_uri": "https://localhost:8080/",
          "height": 561
        }
      },
      "source": [
        "!wget https://github.com/HanlynnKe/nlp-demo/raw/master/safety_train_valid.pickle\n",
        "!wget https://github.com/HanlynnKe/nlp-demo/raw/master/test_new.csv"
      ],
      "execution_count": 8,
      "outputs": [
        {
          "output_type": "stream",
          "text": [
            "--2019-10-23 09:14:20--  https://github.com/HanlynnKe/nlp-demo/raw/master/safety_train_valid.pickle\n",
            "Resolving github.com (github.com)... 140.82.113.4\n",
            "Connecting to github.com (github.com)|140.82.113.4|:443... connected.\n",
            "HTTP request sent, awaiting response... 302 Found\n",
            "Location: https://raw.githubusercontent.com/HanlynnKe/nlp-demo/master/safety_train_valid.pickle [following]\n",
            "--2019-10-23 09:14:21--  https://raw.githubusercontent.com/HanlynnKe/nlp-demo/master/safety_train_valid.pickle\n",
            "Resolving raw.githubusercontent.com (raw.githubusercontent.com)... 151.101.0.133, 151.101.64.133, 151.101.128.133, ...\n",
            "Connecting to raw.githubusercontent.com (raw.githubusercontent.com)|151.101.0.133|:443... connected.\n",
            "HTTP request sent, awaiting response... 200 OK\n",
            "Length: 1181866 (1.1M) [application/octet-stream]\n",
            "Saving to: ‘safety_train_valid.pickle’\n",
            "\n",
            "safety_train_valid. 100%[===================>]   1.13M  --.-KB/s    in 0.07s   \n",
            "\n",
            "2019-10-23 09:14:22 (15.2 MB/s) - ‘safety_train_valid.pickle’ saved [1181866/1181866]\n",
            "\n",
            "--2019-10-23 09:14:24--  https://github.com/HanlynnKe/nlp-demo/raw/master/test_new.csv\n",
            "Resolving github.com (github.com)... 140.82.113.4\n",
            "Connecting to github.com (github.com)|140.82.113.4|:443... connected.\n",
            "HTTP request sent, awaiting response... 302 Found\n",
            "Location: https://raw.githubusercontent.com/HanlynnKe/nlp-demo/master/test_new.csv [following]\n",
            "--2019-10-23 09:14:25--  https://raw.githubusercontent.com/HanlynnKe/nlp-demo/master/test_new.csv\n",
            "Resolving raw.githubusercontent.com (raw.githubusercontent.com)... 151.101.0.133, 151.101.64.133, 151.101.128.133, ...\n",
            "Connecting to raw.githubusercontent.com (raw.githubusercontent.com)|151.101.0.133|:443... connected.\n",
            "HTTP request sent, awaiting response... 200 OK\n",
            "Length: 279545 (273K) [text/plain]\n",
            "Saving to: ‘test_new.csv’\n",
            "\n",
            "test_new.csv        100%[===================>] 272.99K  --.-KB/s    in 0.05s   \n",
            "\n",
            "2019-10-23 09:14:25 (5.22 MB/s) - ‘test_new.csv’ saved [279545/279545]\n",
            "\n"
          ],
          "name": "stdout"
        }
      ]
    },
    {
      "cell_type": "code",
      "metadata": {
        "trusted": true,
        "id": "XFBwDlmnIZvD",
        "colab_type": "code",
        "colab": {}
      },
      "source": [
        "with open(\"safety_train_valid.pickle\", 'rb') as f:\n",
        "    train, test = pickle.load(f)"
      ],
      "execution_count": 0,
      "outputs": []
    },
    {
      "cell_type": "code",
      "metadata": {
        "trusted": true,
        "id": "Tju0c4dqIZvK",
        "colab_type": "code",
        "colab": {}
      },
      "source": [
        "train = train.sample(len(train))"
      ],
      "execution_count": 0,
      "outputs": []
    },
    {
      "cell_type": "code",
      "metadata": {
        "id": "p9BAxyKhKirc",
        "colab_type": "code",
        "outputId": "63f5e1d5-11a9-4606-e4fe-c8c17ed02e02",
        "colab": {
          "base_uri": "https://localhost:8080/",
          "height": 204
        }
      },
      "source": [
        "train.head()"
      ],
      "execution_count": 11,
      "outputs": [
        {
          "output_type": "execute_result",
          "data": {
            "text/html": [
              "<div>\n",
              "<style scoped>\n",
              "    .dataframe tbody tr th:only-of-type {\n",
              "        vertical-align: middle;\n",
              "    }\n",
              "\n",
              "    .dataframe tbody tr th {\n",
              "        vertical-align: top;\n",
              "    }\n",
              "\n",
              "    .dataframe thead th {\n",
              "        text-align: right;\n",
              "    }\n",
              "</style>\n",
              "<table border=\"1\" class=\"dataframe\">\n",
              "  <thead>\n",
              "    <tr style=\"text-align: right;\">\n",
              "      <th></th>\n",
              "      <th>label</th>\n",
              "      <th>comment</th>\n",
              "    </tr>\n",
              "  </thead>\n",
              "  <tbody>\n",
              "    <tr>\n",
              "      <th>1648</th>\n",
              "      <td>0</td>\n",
              "      <td>很满意 口味好 推荐朋友们下次再来</td>\n",
              "    </tr>\n",
              "    <tr>\n",
              "      <th>3345</th>\n",
              "      <td>0</td>\n",
              "      <td>还好吧本来买来北环永辉对面用的，商家不让用态度很恶劣</td>\n",
              "    </tr>\n",
              "    <tr>\n",
              "      <th>4858</th>\n",
              "      <td>1</td>\n",
              "      <td>差评，#粉蒸肥肠#从来没吃过这么难吃的。你们见过粉蒸像红烧一样多的汤吗？来这里可以体会，而且...</td>\n",
              "    </tr>\n",
              "    <tr>\n",
              "      <th>1899</th>\n",
              "      <td>0</td>\n",
              "      <td>味道不错，环境卫生，没吃之前看上去就很有食欲，老板态度很好，下次还会光顾的...</td>\n",
              "    </tr>\n",
              "    <tr>\n",
              "      <th>1108</th>\n",
              "      <td>0</td>\n",
              "      <td>真心不错，开始还怕不够呢，还好够多</td>\n",
              "    </tr>\n",
              "  </tbody>\n",
              "</table>\n",
              "</div>"
            ],
            "text/plain": [
              "      label                                            comment\n",
              "1648      0                                  很满意 口味好 推荐朋友们下次再来\n",
              "3345      0                         还好吧本来买来北环永辉对面用的，商家不让用态度很恶劣\n",
              "4858      1  差评，#粉蒸肥肠#从来没吃过这么难吃的。你们见过粉蒸像红烧一样多的汤吗？来这里可以体会，而且...\n",
              "1899      0           味道不错，环境卫生，没吃之前看上去就很有食欲，老板态度很好，下次还会光顾的...\n",
              "1108      0                                  真心不错，开始还怕不够呢，还好够多"
            ]
          },
          "metadata": {
            "tags": []
          },
          "execution_count": 11
        }
      ]
    },
    {
      "cell_type": "code",
      "metadata": {
        "id": "hM8M7k0gKk5H",
        "colab_type": "code",
        "colab": {}
      },
      "source": [
        "myparam = {\n",
        "        \"DATA_COLUMN\": \"comment\",\n",
        "        \"LABEL_COLUMN\": \"label\",\n",
        "        \"LEARNING_RATE\": 2e-5,\n",
        "        \"NUM_TRAIN_EPOCHS\":3,\n",
        "        \"bert_model_hub\":\"https://tfhub.dev/google/bert_chinese_L-12_H-768_A-12/1\"\n",
        "    }"
      ],
      "execution_count": 0,
      "outputs": []
    },
    {
      "cell_type": "code",
      "metadata": {
        "colab_type": "code",
        "id": "Dg2apeXpMqG-",
        "outputId": "9f568557-4f5e-4f00-de15-6242df4ef46c",
        "colab": {
          "base_uri": "https://localhost:8080/",
          "height": 1000
        }
      },
      "source": [
        "result, estimator = run_on_dfs(train, test, **myparam)"
      ],
      "execution_count": 13,
      "outputs": [
        {
          "output_type": "stream",
          "text": [
            "INFO:tensorflow:Saver not created because there are no variables in the graph to restore\n"
          ],
          "name": "stdout"
        },
        {
          "output_type": "stream",
          "text": [
            "INFO:tensorflow:Saver not created because there are no variables in the graph to restore\n"
          ],
          "name": "stderr"
        },
        {
          "output_type": "stream",
          "text": [
            "WARNING:tensorflow:From /usr/local/lib/python3.6/dist-packages/bert/tokenization.py:125: The name tf.gfile.GFile is deprecated. Please use tf.io.gfile.GFile instead.\n",
            "\n"
          ],
          "name": "stdout"
        },
        {
          "output_type": "stream",
          "text": [
            "WARNING:tensorflow:From /usr/local/lib/python3.6/dist-packages/bert/tokenization.py:125: The name tf.gfile.GFile is deprecated. Please use tf.io.gfile.GFile instead.\n",
            "\n"
          ],
          "name": "stderr"
        },
        {
          "output_type": "stream",
          "text": [
            "WARNING:tensorflow:From /usr/local/lib/python3.6/dist-packages/bert/run_classifier.py:774: The name tf.logging.info is deprecated. Please use tf.compat.v1.logging.info instead.\n",
            "\n"
          ],
          "name": "stdout"
        },
        {
          "output_type": "stream",
          "text": [
            "WARNING:tensorflow:From /usr/local/lib/python3.6/dist-packages/bert/run_classifier.py:774: The name tf.logging.info is deprecated. Please use tf.compat.v1.logging.info instead.\n",
            "\n"
          ],
          "name": "stderr"
        },
        {
          "output_type": "stream",
          "text": [
            "INFO:tensorflow:Writing example 0 of 8000\n"
          ],
          "name": "stdout"
        },
        {
          "output_type": "stream",
          "text": [
            "INFO:tensorflow:Writing example 0 of 8000\n"
          ],
          "name": "stderr"
        },
        {
          "output_type": "stream",
          "text": [
            "INFO:tensorflow:*** Example ***\n"
          ],
          "name": "stdout"
        },
        {
          "output_type": "stream",
          "text": [
            "INFO:tensorflow:*** Example ***\n"
          ],
          "name": "stderr"
        },
        {
          "output_type": "stream",
          "text": [
            "INFO:tensorflow:guid: None\n"
          ],
          "name": "stdout"
        },
        {
          "output_type": "stream",
          "text": [
            "INFO:tensorflow:guid: None\n"
          ],
          "name": "stderr"
        },
        {
          "output_type": "stream",
          "text": [
            "INFO:tensorflow:tokens: [CLS] 很 满 意 口 味 好 推 荐 朋 友 们 下 次 再 来 [SEP]\n"
          ],
          "name": "stdout"
        },
        {
          "output_type": "stream",
          "text": [
            "INFO:tensorflow:tokens: [CLS] 很 满 意 口 味 好 推 荐 朋 友 们 下 次 再 来 [SEP]\n"
          ],
          "name": "stderr"
        },
        {
          "output_type": "stream",
          "text": [
            "INFO:tensorflow:input_ids: 101 2523 4007 2692 1366 1456 1962 2972 5773 3301 1351 812 678 3613 1086 3341 102 0 0 0 0 0 0 0 0 0 0 0 0 0 0 0 0 0 0 0 0 0 0 0 0 0 0 0 0 0 0 0 0 0 0 0 0 0 0 0 0 0 0 0 0 0 0 0 0 0 0 0 0 0 0 0 0 0 0 0 0 0 0 0 0 0 0 0 0 0 0 0 0 0 0 0 0 0 0 0 0 0 0 0 0 0 0 0 0 0 0 0 0 0 0 0 0 0 0 0 0 0 0 0 0 0 0 0 0 0 0 0\n"
          ],
          "name": "stdout"
        },
        {
          "output_type": "stream",
          "text": [
            "INFO:tensorflow:input_ids: 101 2523 4007 2692 1366 1456 1962 2972 5773 3301 1351 812 678 3613 1086 3341 102 0 0 0 0 0 0 0 0 0 0 0 0 0 0 0 0 0 0 0 0 0 0 0 0 0 0 0 0 0 0 0 0 0 0 0 0 0 0 0 0 0 0 0 0 0 0 0 0 0 0 0 0 0 0 0 0 0 0 0 0 0 0 0 0 0 0 0 0 0 0 0 0 0 0 0 0 0 0 0 0 0 0 0 0 0 0 0 0 0 0 0 0 0 0 0 0 0 0 0 0 0 0 0 0 0 0 0 0 0 0 0\n"
          ],
          "name": "stderr"
        },
        {
          "output_type": "stream",
          "text": [
            "INFO:tensorflow:input_mask: 1 1 1 1 1 1 1 1 1 1 1 1 1 1 1 1 1 0 0 0 0 0 0 0 0 0 0 0 0 0 0 0 0 0 0 0 0 0 0 0 0 0 0 0 0 0 0 0 0 0 0 0 0 0 0 0 0 0 0 0 0 0 0 0 0 0 0 0 0 0 0 0 0 0 0 0 0 0 0 0 0 0 0 0 0 0 0 0 0 0 0 0 0 0 0 0 0 0 0 0 0 0 0 0 0 0 0 0 0 0 0 0 0 0 0 0 0 0 0 0 0 0 0 0 0 0 0 0\n"
          ],
          "name": "stdout"
        },
        {
          "output_type": "stream",
          "text": [
            "INFO:tensorflow:input_mask: 1 1 1 1 1 1 1 1 1 1 1 1 1 1 1 1 1 0 0 0 0 0 0 0 0 0 0 0 0 0 0 0 0 0 0 0 0 0 0 0 0 0 0 0 0 0 0 0 0 0 0 0 0 0 0 0 0 0 0 0 0 0 0 0 0 0 0 0 0 0 0 0 0 0 0 0 0 0 0 0 0 0 0 0 0 0 0 0 0 0 0 0 0 0 0 0 0 0 0 0 0 0 0 0 0 0 0 0 0 0 0 0 0 0 0 0 0 0 0 0 0 0 0 0 0 0 0 0\n"
          ],
          "name": "stderr"
        },
        {
          "output_type": "stream",
          "text": [
            "INFO:tensorflow:segment_ids: 0 0 0 0 0 0 0 0 0 0 0 0 0 0 0 0 0 0 0 0 0 0 0 0 0 0 0 0 0 0 0 0 0 0 0 0 0 0 0 0 0 0 0 0 0 0 0 0 0 0 0 0 0 0 0 0 0 0 0 0 0 0 0 0 0 0 0 0 0 0 0 0 0 0 0 0 0 0 0 0 0 0 0 0 0 0 0 0 0 0 0 0 0 0 0 0 0 0 0 0 0 0 0 0 0 0 0 0 0 0 0 0 0 0 0 0 0 0 0 0 0 0 0 0 0 0 0 0\n"
          ],
          "name": "stdout"
        },
        {
          "output_type": "stream",
          "text": [
            "INFO:tensorflow:segment_ids: 0 0 0 0 0 0 0 0 0 0 0 0 0 0 0 0 0 0 0 0 0 0 0 0 0 0 0 0 0 0 0 0 0 0 0 0 0 0 0 0 0 0 0 0 0 0 0 0 0 0 0 0 0 0 0 0 0 0 0 0 0 0 0 0 0 0 0 0 0 0 0 0 0 0 0 0 0 0 0 0 0 0 0 0 0 0 0 0 0 0 0 0 0 0 0 0 0 0 0 0 0 0 0 0 0 0 0 0 0 0 0 0 0 0 0 0 0 0 0 0 0 0 0 0 0 0 0 0\n"
          ],
          "name": "stderr"
        },
        {
          "output_type": "stream",
          "text": [
            "INFO:tensorflow:label: 0 (id = 0)\n"
          ],
          "name": "stdout"
        },
        {
          "output_type": "stream",
          "text": [
            "INFO:tensorflow:label: 0 (id = 0)\n"
          ],
          "name": "stderr"
        },
        {
          "output_type": "stream",
          "text": [
            "INFO:tensorflow:*** Example ***\n"
          ],
          "name": "stdout"
        },
        {
          "output_type": "stream",
          "text": [
            "INFO:tensorflow:*** Example ***\n"
          ],
          "name": "stderr"
        },
        {
          "output_type": "stream",
          "text": [
            "INFO:tensorflow:guid: None\n"
          ],
          "name": "stdout"
        },
        {
          "output_type": "stream",
          "text": [
            "INFO:tensorflow:guid: None\n"
          ],
          "name": "stderr"
        },
        {
          "output_type": "stream",
          "text": [
            "INFO:tensorflow:tokens: [CLS] 还 好 吧 本 来 买 来 北 环 永 辉 对 面 用 的 ， 商 家 不 让 用 态 度 很 恶 劣 [SEP]\n"
          ],
          "name": "stdout"
        },
        {
          "output_type": "stream",
          "text": [
            "INFO:tensorflow:tokens: [CLS] 还 好 吧 本 来 买 来 北 环 永 辉 对 面 用 的 ， 商 家 不 让 用 态 度 很 恶 劣 [SEP]\n"
          ],
          "name": "stderr"
        },
        {
          "output_type": "stream",
          "text": [
            "INFO:tensorflow:input_ids: 101 6820 1962 1416 3315 3341 743 3341 1266 4384 3719 6778 2190 7481 4500 4638 8024 1555 2157 679 6375 4500 2578 2428 2523 2626 1219 102 0 0 0 0 0 0 0 0 0 0 0 0 0 0 0 0 0 0 0 0 0 0 0 0 0 0 0 0 0 0 0 0 0 0 0 0 0 0 0 0 0 0 0 0 0 0 0 0 0 0 0 0 0 0 0 0 0 0 0 0 0 0 0 0 0 0 0 0 0 0 0 0 0 0 0 0 0 0 0 0 0 0 0 0 0 0 0 0 0 0 0 0 0 0 0 0 0 0 0 0\n"
          ],
          "name": "stdout"
        },
        {
          "output_type": "stream",
          "text": [
            "INFO:tensorflow:input_ids: 101 6820 1962 1416 3315 3341 743 3341 1266 4384 3719 6778 2190 7481 4500 4638 8024 1555 2157 679 6375 4500 2578 2428 2523 2626 1219 102 0 0 0 0 0 0 0 0 0 0 0 0 0 0 0 0 0 0 0 0 0 0 0 0 0 0 0 0 0 0 0 0 0 0 0 0 0 0 0 0 0 0 0 0 0 0 0 0 0 0 0 0 0 0 0 0 0 0 0 0 0 0 0 0 0 0 0 0 0 0 0 0 0 0 0 0 0 0 0 0 0 0 0 0 0 0 0 0 0 0 0 0 0 0 0 0 0 0 0 0\n"
          ],
          "name": "stderr"
        },
        {
          "output_type": "stream",
          "text": [
            "INFO:tensorflow:input_mask: 1 1 1 1 1 1 1 1 1 1 1 1 1 1 1 1 1 1 1 1 1 1 1 1 1 1 1 1 0 0 0 0 0 0 0 0 0 0 0 0 0 0 0 0 0 0 0 0 0 0 0 0 0 0 0 0 0 0 0 0 0 0 0 0 0 0 0 0 0 0 0 0 0 0 0 0 0 0 0 0 0 0 0 0 0 0 0 0 0 0 0 0 0 0 0 0 0 0 0 0 0 0 0 0 0 0 0 0 0 0 0 0 0 0 0 0 0 0 0 0 0 0 0 0 0 0 0 0\n"
          ],
          "name": "stdout"
        },
        {
          "output_type": "stream",
          "text": [
            "INFO:tensorflow:input_mask: 1 1 1 1 1 1 1 1 1 1 1 1 1 1 1 1 1 1 1 1 1 1 1 1 1 1 1 1 0 0 0 0 0 0 0 0 0 0 0 0 0 0 0 0 0 0 0 0 0 0 0 0 0 0 0 0 0 0 0 0 0 0 0 0 0 0 0 0 0 0 0 0 0 0 0 0 0 0 0 0 0 0 0 0 0 0 0 0 0 0 0 0 0 0 0 0 0 0 0 0 0 0 0 0 0 0 0 0 0 0 0 0 0 0 0 0 0 0 0 0 0 0 0 0 0 0 0 0\n"
          ],
          "name": "stderr"
        },
        {
          "output_type": "stream",
          "text": [
            "INFO:tensorflow:segment_ids: 0 0 0 0 0 0 0 0 0 0 0 0 0 0 0 0 0 0 0 0 0 0 0 0 0 0 0 0 0 0 0 0 0 0 0 0 0 0 0 0 0 0 0 0 0 0 0 0 0 0 0 0 0 0 0 0 0 0 0 0 0 0 0 0 0 0 0 0 0 0 0 0 0 0 0 0 0 0 0 0 0 0 0 0 0 0 0 0 0 0 0 0 0 0 0 0 0 0 0 0 0 0 0 0 0 0 0 0 0 0 0 0 0 0 0 0 0 0 0 0 0 0 0 0 0 0 0 0\n"
          ],
          "name": "stdout"
        },
        {
          "output_type": "stream",
          "text": [
            "INFO:tensorflow:segment_ids: 0 0 0 0 0 0 0 0 0 0 0 0 0 0 0 0 0 0 0 0 0 0 0 0 0 0 0 0 0 0 0 0 0 0 0 0 0 0 0 0 0 0 0 0 0 0 0 0 0 0 0 0 0 0 0 0 0 0 0 0 0 0 0 0 0 0 0 0 0 0 0 0 0 0 0 0 0 0 0 0 0 0 0 0 0 0 0 0 0 0 0 0 0 0 0 0 0 0 0 0 0 0 0 0 0 0 0 0 0 0 0 0 0 0 0 0 0 0 0 0 0 0 0 0 0 0 0 0\n"
          ],
          "name": "stderr"
        },
        {
          "output_type": "stream",
          "text": [
            "INFO:tensorflow:label: 0 (id = 0)\n"
          ],
          "name": "stdout"
        },
        {
          "output_type": "stream",
          "text": [
            "INFO:tensorflow:label: 0 (id = 0)\n"
          ],
          "name": "stderr"
        },
        {
          "output_type": "stream",
          "text": [
            "INFO:tensorflow:*** Example ***\n"
          ],
          "name": "stdout"
        },
        {
          "output_type": "stream",
          "text": [
            "INFO:tensorflow:*** Example ***\n"
          ],
          "name": "stderr"
        },
        {
          "output_type": "stream",
          "text": [
            "INFO:tensorflow:guid: None\n"
          ],
          "name": "stdout"
        },
        {
          "output_type": "stream",
          "text": [
            "INFO:tensorflow:guid: None\n"
          ],
          "name": "stderr"
        },
        {
          "output_type": "stream",
          "text": [
            "INFO:tensorflow:tokens: [CLS] 差 评 ， # 粉 蒸 肥 肠 # 从 来 没 吃 过 这 么 难 吃 的 。 你 们 见 过 粉 蒸 像 红 烧 一 样 多 的 汤 吗 ？ 来 这 里 可 以 体 会 ， 而 且 是 臭 的 。 其 他 排 骨 和 羊 肉 还 将 就 。 [SEP]\n"
          ],
          "name": "stdout"
        },
        {
          "output_type": "stream",
          "text": [
            "INFO:tensorflow:tokens: [CLS] 差 评 ， # 粉 蒸 肥 肠 # 从 来 没 吃 过 这 么 难 吃 的 。 你 们 见 过 粉 蒸 像 红 烧 一 样 多 的 汤 吗 ？ 来 这 里 可 以 体 会 ， 而 且 是 臭 的 。 其 他 排 骨 和 羊 肉 还 将 就 。 [SEP]\n"
          ],
          "name": "stderr"
        },
        {
          "output_type": "stream",
          "text": [
            "INFO:tensorflow:input_ids: 101 2345 6397 8024 108 5106 5892 5503 5499 108 794 3341 3766 1391 6814 6821 720 7410 1391 4638 511 872 812 6224 6814 5106 5892 1008 5273 4173 671 3416 1914 4638 3739 1408 8043 3341 6821 7027 1377 809 860 833 8024 5445 684 3221 5634 4638 511 1071 800 2961 7755 1469 5399 5489 6820 2199 2218 511 102 0 0 0 0 0 0 0 0 0 0 0 0 0 0 0 0 0 0 0 0 0 0 0 0 0 0 0 0 0 0 0 0 0 0 0 0 0 0 0 0 0 0 0 0 0 0 0 0 0 0 0 0 0 0 0 0 0 0 0 0 0 0 0 0 0\n"
          ],
          "name": "stdout"
        },
        {
          "output_type": "stream",
          "text": [
            "INFO:tensorflow:input_ids: 101 2345 6397 8024 108 5106 5892 5503 5499 108 794 3341 3766 1391 6814 6821 720 7410 1391 4638 511 872 812 6224 6814 5106 5892 1008 5273 4173 671 3416 1914 4638 3739 1408 8043 3341 6821 7027 1377 809 860 833 8024 5445 684 3221 5634 4638 511 1071 800 2961 7755 1469 5399 5489 6820 2199 2218 511 102 0 0 0 0 0 0 0 0 0 0 0 0 0 0 0 0 0 0 0 0 0 0 0 0 0 0 0 0 0 0 0 0 0 0 0 0 0 0 0 0 0 0 0 0 0 0 0 0 0 0 0 0 0 0 0 0 0 0 0 0 0 0 0 0 0\n"
          ],
          "name": "stderr"
        },
        {
          "output_type": "stream",
          "text": [
            "INFO:tensorflow:input_mask: 1 1 1 1 1 1 1 1 1 1 1 1 1 1 1 1 1 1 1 1 1 1 1 1 1 1 1 1 1 1 1 1 1 1 1 1 1 1 1 1 1 1 1 1 1 1 1 1 1 1 1 1 1 1 1 1 1 1 1 1 1 1 1 0 0 0 0 0 0 0 0 0 0 0 0 0 0 0 0 0 0 0 0 0 0 0 0 0 0 0 0 0 0 0 0 0 0 0 0 0 0 0 0 0 0 0 0 0 0 0 0 0 0 0 0 0 0 0 0 0 0 0 0 0 0 0 0 0\n"
          ],
          "name": "stdout"
        },
        {
          "output_type": "stream",
          "text": [
            "INFO:tensorflow:input_mask: 1 1 1 1 1 1 1 1 1 1 1 1 1 1 1 1 1 1 1 1 1 1 1 1 1 1 1 1 1 1 1 1 1 1 1 1 1 1 1 1 1 1 1 1 1 1 1 1 1 1 1 1 1 1 1 1 1 1 1 1 1 1 1 0 0 0 0 0 0 0 0 0 0 0 0 0 0 0 0 0 0 0 0 0 0 0 0 0 0 0 0 0 0 0 0 0 0 0 0 0 0 0 0 0 0 0 0 0 0 0 0 0 0 0 0 0 0 0 0 0 0 0 0 0 0 0 0 0\n"
          ],
          "name": "stderr"
        },
        {
          "output_type": "stream",
          "text": [
            "INFO:tensorflow:segment_ids: 0 0 0 0 0 0 0 0 0 0 0 0 0 0 0 0 0 0 0 0 0 0 0 0 0 0 0 0 0 0 0 0 0 0 0 0 0 0 0 0 0 0 0 0 0 0 0 0 0 0 0 0 0 0 0 0 0 0 0 0 0 0 0 0 0 0 0 0 0 0 0 0 0 0 0 0 0 0 0 0 0 0 0 0 0 0 0 0 0 0 0 0 0 0 0 0 0 0 0 0 0 0 0 0 0 0 0 0 0 0 0 0 0 0 0 0 0 0 0 0 0 0 0 0 0 0 0 0\n"
          ],
          "name": "stdout"
        },
        {
          "output_type": "stream",
          "text": [
            "INFO:tensorflow:segment_ids: 0 0 0 0 0 0 0 0 0 0 0 0 0 0 0 0 0 0 0 0 0 0 0 0 0 0 0 0 0 0 0 0 0 0 0 0 0 0 0 0 0 0 0 0 0 0 0 0 0 0 0 0 0 0 0 0 0 0 0 0 0 0 0 0 0 0 0 0 0 0 0 0 0 0 0 0 0 0 0 0 0 0 0 0 0 0 0 0 0 0 0 0 0 0 0 0 0 0 0 0 0 0 0 0 0 0 0 0 0 0 0 0 0 0 0 0 0 0 0 0 0 0 0 0 0 0 0 0\n"
          ],
          "name": "stderr"
        },
        {
          "output_type": "stream",
          "text": [
            "INFO:tensorflow:label: 1 (id = 1)\n"
          ],
          "name": "stdout"
        },
        {
          "output_type": "stream",
          "text": [
            "INFO:tensorflow:label: 1 (id = 1)\n"
          ],
          "name": "stderr"
        },
        {
          "output_type": "stream",
          "text": [
            "INFO:tensorflow:*** Example ***\n"
          ],
          "name": "stdout"
        },
        {
          "output_type": "stream",
          "text": [
            "INFO:tensorflow:*** Example ***\n"
          ],
          "name": "stderr"
        },
        {
          "output_type": "stream",
          "text": [
            "INFO:tensorflow:guid: None\n"
          ],
          "name": "stdout"
        },
        {
          "output_type": "stream",
          "text": [
            "INFO:tensorflow:guid: None\n"
          ],
          "name": "stderr"
        },
        {
          "output_type": "stream",
          "text": [
            "INFO:tensorflow:tokens: [CLS] 味 道 不 错 ， 环 境 卫 生 ， 没 吃 之 前 看 上 去 就 很 有 食 欲 ， 老 板 态 度 很 好 ， 下 次 还 会 光 顾 的 . . . [SEP]\n"
          ],
          "name": "stdout"
        },
        {
          "output_type": "stream",
          "text": [
            "INFO:tensorflow:tokens: [CLS] 味 道 不 错 ， 环 境 卫 生 ， 没 吃 之 前 看 上 去 就 很 有 食 欲 ， 老 板 态 度 很 好 ， 下 次 还 会 光 顾 的 . . . [SEP]\n"
          ],
          "name": "stderr"
        },
        {
          "output_type": "stream",
          "text": [
            "INFO:tensorflow:input_ids: 101 1456 6887 679 7231 8024 4384 1862 1310 4495 8024 3766 1391 722 1184 4692 677 1343 2218 2523 3300 7608 3617 8024 5439 3352 2578 2428 2523 1962 8024 678 3613 6820 833 1045 7560 4638 119 119 119 102 0 0 0 0 0 0 0 0 0 0 0 0 0 0 0 0 0 0 0 0 0 0 0 0 0 0 0 0 0 0 0 0 0 0 0 0 0 0 0 0 0 0 0 0 0 0 0 0 0 0 0 0 0 0 0 0 0 0 0 0 0 0 0 0 0 0 0 0 0 0 0 0 0 0 0 0 0 0 0 0 0 0 0 0 0 0\n"
          ],
          "name": "stdout"
        },
        {
          "output_type": "stream",
          "text": [
            "INFO:tensorflow:input_ids: 101 1456 6887 679 7231 8024 4384 1862 1310 4495 8024 3766 1391 722 1184 4692 677 1343 2218 2523 3300 7608 3617 8024 5439 3352 2578 2428 2523 1962 8024 678 3613 6820 833 1045 7560 4638 119 119 119 102 0 0 0 0 0 0 0 0 0 0 0 0 0 0 0 0 0 0 0 0 0 0 0 0 0 0 0 0 0 0 0 0 0 0 0 0 0 0 0 0 0 0 0 0 0 0 0 0 0 0 0 0 0 0 0 0 0 0 0 0 0 0 0 0 0 0 0 0 0 0 0 0 0 0 0 0 0 0 0 0 0 0 0 0 0 0\n"
          ],
          "name": "stderr"
        },
        {
          "output_type": "stream",
          "text": [
            "INFO:tensorflow:input_mask: 1 1 1 1 1 1 1 1 1 1 1 1 1 1 1 1 1 1 1 1 1 1 1 1 1 1 1 1 1 1 1 1 1 1 1 1 1 1 1 1 1 1 0 0 0 0 0 0 0 0 0 0 0 0 0 0 0 0 0 0 0 0 0 0 0 0 0 0 0 0 0 0 0 0 0 0 0 0 0 0 0 0 0 0 0 0 0 0 0 0 0 0 0 0 0 0 0 0 0 0 0 0 0 0 0 0 0 0 0 0 0 0 0 0 0 0 0 0 0 0 0 0 0 0 0 0 0 0\n"
          ],
          "name": "stdout"
        },
        {
          "output_type": "stream",
          "text": [
            "INFO:tensorflow:input_mask: 1 1 1 1 1 1 1 1 1 1 1 1 1 1 1 1 1 1 1 1 1 1 1 1 1 1 1 1 1 1 1 1 1 1 1 1 1 1 1 1 1 1 0 0 0 0 0 0 0 0 0 0 0 0 0 0 0 0 0 0 0 0 0 0 0 0 0 0 0 0 0 0 0 0 0 0 0 0 0 0 0 0 0 0 0 0 0 0 0 0 0 0 0 0 0 0 0 0 0 0 0 0 0 0 0 0 0 0 0 0 0 0 0 0 0 0 0 0 0 0 0 0 0 0 0 0 0 0\n"
          ],
          "name": "stderr"
        },
        {
          "output_type": "stream",
          "text": [
            "INFO:tensorflow:segment_ids: 0 0 0 0 0 0 0 0 0 0 0 0 0 0 0 0 0 0 0 0 0 0 0 0 0 0 0 0 0 0 0 0 0 0 0 0 0 0 0 0 0 0 0 0 0 0 0 0 0 0 0 0 0 0 0 0 0 0 0 0 0 0 0 0 0 0 0 0 0 0 0 0 0 0 0 0 0 0 0 0 0 0 0 0 0 0 0 0 0 0 0 0 0 0 0 0 0 0 0 0 0 0 0 0 0 0 0 0 0 0 0 0 0 0 0 0 0 0 0 0 0 0 0 0 0 0 0 0\n"
          ],
          "name": "stdout"
        },
        {
          "output_type": "stream",
          "text": [
            "INFO:tensorflow:segment_ids: 0 0 0 0 0 0 0 0 0 0 0 0 0 0 0 0 0 0 0 0 0 0 0 0 0 0 0 0 0 0 0 0 0 0 0 0 0 0 0 0 0 0 0 0 0 0 0 0 0 0 0 0 0 0 0 0 0 0 0 0 0 0 0 0 0 0 0 0 0 0 0 0 0 0 0 0 0 0 0 0 0 0 0 0 0 0 0 0 0 0 0 0 0 0 0 0 0 0 0 0 0 0 0 0 0 0 0 0 0 0 0 0 0 0 0 0 0 0 0 0 0 0 0 0 0 0 0 0\n"
          ],
          "name": "stderr"
        },
        {
          "output_type": "stream",
          "text": [
            "INFO:tensorflow:label: 0 (id = 0)\n"
          ],
          "name": "stdout"
        },
        {
          "output_type": "stream",
          "text": [
            "INFO:tensorflow:label: 0 (id = 0)\n"
          ],
          "name": "stderr"
        },
        {
          "output_type": "stream",
          "text": [
            "INFO:tensorflow:*** Example ***\n"
          ],
          "name": "stdout"
        },
        {
          "output_type": "stream",
          "text": [
            "INFO:tensorflow:*** Example ***\n"
          ],
          "name": "stderr"
        },
        {
          "output_type": "stream",
          "text": [
            "INFO:tensorflow:guid: None\n"
          ],
          "name": "stdout"
        },
        {
          "output_type": "stream",
          "text": [
            "INFO:tensorflow:guid: None\n"
          ],
          "name": "stderr"
        },
        {
          "output_type": "stream",
          "text": [
            "INFO:tensorflow:tokens: [CLS] 真 心 不 错 ， 开 始 还 怕 不 够 呢 ， 还 好 够 多 [SEP]\n"
          ],
          "name": "stdout"
        },
        {
          "output_type": "stream",
          "text": [
            "INFO:tensorflow:tokens: [CLS] 真 心 不 错 ， 开 始 还 怕 不 够 呢 ， 还 好 够 多 [SEP]\n"
          ],
          "name": "stderr"
        },
        {
          "output_type": "stream",
          "text": [
            "INFO:tensorflow:input_ids: 101 4696 2552 679 7231 8024 2458 1993 6820 2586 679 1916 1450 8024 6820 1962 1916 1914 102 0 0 0 0 0 0 0 0 0 0 0 0 0 0 0 0 0 0 0 0 0 0 0 0 0 0 0 0 0 0 0 0 0 0 0 0 0 0 0 0 0 0 0 0 0 0 0 0 0 0 0 0 0 0 0 0 0 0 0 0 0 0 0 0 0 0 0 0 0 0 0 0 0 0 0 0 0 0 0 0 0 0 0 0 0 0 0 0 0 0 0 0 0 0 0 0 0 0 0 0 0 0 0 0 0 0 0 0 0\n"
          ],
          "name": "stdout"
        },
        {
          "output_type": "stream",
          "text": [
            "INFO:tensorflow:input_ids: 101 4696 2552 679 7231 8024 2458 1993 6820 2586 679 1916 1450 8024 6820 1962 1916 1914 102 0 0 0 0 0 0 0 0 0 0 0 0 0 0 0 0 0 0 0 0 0 0 0 0 0 0 0 0 0 0 0 0 0 0 0 0 0 0 0 0 0 0 0 0 0 0 0 0 0 0 0 0 0 0 0 0 0 0 0 0 0 0 0 0 0 0 0 0 0 0 0 0 0 0 0 0 0 0 0 0 0 0 0 0 0 0 0 0 0 0 0 0 0 0 0 0 0 0 0 0 0 0 0 0 0 0 0 0 0\n"
          ],
          "name": "stderr"
        },
        {
          "output_type": "stream",
          "text": [
            "INFO:tensorflow:input_mask: 1 1 1 1 1 1 1 1 1 1 1 1 1 1 1 1 1 1 1 0 0 0 0 0 0 0 0 0 0 0 0 0 0 0 0 0 0 0 0 0 0 0 0 0 0 0 0 0 0 0 0 0 0 0 0 0 0 0 0 0 0 0 0 0 0 0 0 0 0 0 0 0 0 0 0 0 0 0 0 0 0 0 0 0 0 0 0 0 0 0 0 0 0 0 0 0 0 0 0 0 0 0 0 0 0 0 0 0 0 0 0 0 0 0 0 0 0 0 0 0 0 0 0 0 0 0 0 0\n"
          ],
          "name": "stdout"
        },
        {
          "output_type": "stream",
          "text": [
            "INFO:tensorflow:input_mask: 1 1 1 1 1 1 1 1 1 1 1 1 1 1 1 1 1 1 1 0 0 0 0 0 0 0 0 0 0 0 0 0 0 0 0 0 0 0 0 0 0 0 0 0 0 0 0 0 0 0 0 0 0 0 0 0 0 0 0 0 0 0 0 0 0 0 0 0 0 0 0 0 0 0 0 0 0 0 0 0 0 0 0 0 0 0 0 0 0 0 0 0 0 0 0 0 0 0 0 0 0 0 0 0 0 0 0 0 0 0 0 0 0 0 0 0 0 0 0 0 0 0 0 0 0 0 0 0\n"
          ],
          "name": "stderr"
        },
        {
          "output_type": "stream",
          "text": [
            "INFO:tensorflow:segment_ids: 0 0 0 0 0 0 0 0 0 0 0 0 0 0 0 0 0 0 0 0 0 0 0 0 0 0 0 0 0 0 0 0 0 0 0 0 0 0 0 0 0 0 0 0 0 0 0 0 0 0 0 0 0 0 0 0 0 0 0 0 0 0 0 0 0 0 0 0 0 0 0 0 0 0 0 0 0 0 0 0 0 0 0 0 0 0 0 0 0 0 0 0 0 0 0 0 0 0 0 0 0 0 0 0 0 0 0 0 0 0 0 0 0 0 0 0 0 0 0 0 0 0 0 0 0 0 0 0\n"
          ],
          "name": "stdout"
        },
        {
          "output_type": "stream",
          "text": [
            "INFO:tensorflow:segment_ids: 0 0 0 0 0 0 0 0 0 0 0 0 0 0 0 0 0 0 0 0 0 0 0 0 0 0 0 0 0 0 0 0 0 0 0 0 0 0 0 0 0 0 0 0 0 0 0 0 0 0 0 0 0 0 0 0 0 0 0 0 0 0 0 0 0 0 0 0 0 0 0 0 0 0 0 0 0 0 0 0 0 0 0 0 0 0 0 0 0 0 0 0 0 0 0 0 0 0 0 0 0 0 0 0 0 0 0 0 0 0 0 0 0 0 0 0 0 0 0 0 0 0 0 0 0 0 0 0\n"
          ],
          "name": "stderr"
        },
        {
          "output_type": "stream",
          "text": [
            "INFO:tensorflow:label: 0 (id = 0)\n"
          ],
          "name": "stdout"
        },
        {
          "output_type": "stream",
          "text": [
            "INFO:tensorflow:label: 0 (id = 0)\n"
          ],
          "name": "stderr"
        },
        {
          "output_type": "stream",
          "text": [
            "INFO:tensorflow:Writing example 0 of 2000\n"
          ],
          "name": "stdout"
        },
        {
          "output_type": "stream",
          "text": [
            "INFO:tensorflow:Writing example 0 of 2000\n"
          ],
          "name": "stderr"
        },
        {
          "output_type": "stream",
          "text": [
            "INFO:tensorflow:*** Example ***\n"
          ],
          "name": "stdout"
        },
        {
          "output_type": "stream",
          "text": [
            "INFO:tensorflow:*** Example ***\n"
          ],
          "name": "stderr"
        },
        {
          "output_type": "stream",
          "text": [
            "INFO:tensorflow:guid: None\n"
          ],
          "name": "stdout"
        },
        {
          "output_type": "stream",
          "text": [
            "INFO:tensorflow:guid: None\n"
          ],
          "name": "stderr"
        },
        {
          "output_type": "stream",
          "text": [
            "INFO:tensorflow:tokens: [CLS] 这 家 店 特 别 坑 ， 坑 爹 的 坑 ， 大 家 千 万 别 点 ， 又 难 吃 ， 请 问 你 两 荤 两 素 值 八 十 吗 ？ 昏 素 套 餐 打 个 原 价 八 十 来 折 半 价 骗 人 ， 还 没 有 鱼 ， 误 导 消 费 者 ， 我 点 了 你 的 折 扣 的 套 餐 就 给 我 送 来 了 半 盒 菜 ， 当 我 们 是 傻 逼 么 ？ 有 种 打 对 折 促 销 就 大 方 点 别 这 样 忽 悠 人 ， 怪 我 自 己 没 看 清 ， 我 点 烤 鱼 只 包 鱼 点 太 [SEP]\n"
          ],
          "name": "stdout"
        },
        {
          "output_type": "stream",
          "text": [
            "INFO:tensorflow:tokens: [CLS] 这 家 店 特 别 坑 ， 坑 爹 的 坑 ， 大 家 千 万 别 点 ， 又 难 吃 ， 请 问 你 两 荤 两 素 值 八 十 吗 ？ 昏 素 套 餐 打 个 原 价 八 十 来 折 半 价 骗 人 ， 还 没 有 鱼 ， 误 导 消 费 者 ， 我 点 了 你 的 折 扣 的 套 餐 就 给 我 送 来 了 半 盒 菜 ， 当 我 们 是 傻 逼 么 ？ 有 种 打 对 折 促 销 就 大 方 点 别 这 样 忽 悠 人 ， 怪 我 自 己 没 看 清 ， 我 点 烤 鱼 只 包 鱼 点 太 [SEP]\n"
          ],
          "name": "stderr"
        },
        {
          "output_type": "stream",
          "text": [
            "INFO:tensorflow:input_ids: 101 6821 2157 2421 4294 1166 1778 8024 1778 4269 4638 1778 8024 1920 2157 1283 674 1166 4157 8024 1348 7410 1391 8024 6435 7309 872 697 5784 697 5162 966 1061 1282 1408 8043 3210 5162 1947 7623 2802 702 1333 817 1061 1282 3341 2835 1288 817 7745 782 8024 6820 3766 3300 7824 8024 6428 2193 3867 6589 5442 8024 2769 4157 749 872 4638 2835 2807 4638 1947 7623 2218 5314 2769 6843 3341 749 1288 4665 5831 8024 2496 2769 812 3221 1004 6873 720 8043 3300 4905 2802 2190 2835 914 7218 2218 1920 3175 4157 1166 6821 3416 2575 2641 782 8024 2597 2769 5632 2346 3766 4692 3926 8024 2769 4157 4171 7824 1372 1259 7824 4157 1922 102\n"
          ],
          "name": "stdout"
        },
        {
          "output_type": "stream",
          "text": [
            "INFO:tensorflow:input_ids: 101 6821 2157 2421 4294 1166 1778 8024 1778 4269 4638 1778 8024 1920 2157 1283 674 1166 4157 8024 1348 7410 1391 8024 6435 7309 872 697 5784 697 5162 966 1061 1282 1408 8043 3210 5162 1947 7623 2802 702 1333 817 1061 1282 3341 2835 1288 817 7745 782 8024 6820 3766 3300 7824 8024 6428 2193 3867 6589 5442 8024 2769 4157 749 872 4638 2835 2807 4638 1947 7623 2218 5314 2769 6843 3341 749 1288 4665 5831 8024 2496 2769 812 3221 1004 6873 720 8043 3300 4905 2802 2190 2835 914 7218 2218 1920 3175 4157 1166 6821 3416 2575 2641 782 8024 2597 2769 5632 2346 3766 4692 3926 8024 2769 4157 4171 7824 1372 1259 7824 4157 1922 102\n"
          ],
          "name": "stderr"
        },
        {
          "output_type": "stream",
          "text": [
            "INFO:tensorflow:input_mask: 1 1 1 1 1 1 1 1 1 1 1 1 1 1 1 1 1 1 1 1 1 1 1 1 1 1 1 1 1 1 1 1 1 1 1 1 1 1 1 1 1 1 1 1 1 1 1 1 1 1 1 1 1 1 1 1 1 1 1 1 1 1 1 1 1 1 1 1 1 1 1 1 1 1 1 1 1 1 1 1 1 1 1 1 1 1 1 1 1 1 1 1 1 1 1 1 1 1 1 1 1 1 1 1 1 1 1 1 1 1 1 1 1 1 1 1 1 1 1 1 1 1 1 1 1 1 1 1\n"
          ],
          "name": "stdout"
        },
        {
          "output_type": "stream",
          "text": [
            "INFO:tensorflow:input_mask: 1 1 1 1 1 1 1 1 1 1 1 1 1 1 1 1 1 1 1 1 1 1 1 1 1 1 1 1 1 1 1 1 1 1 1 1 1 1 1 1 1 1 1 1 1 1 1 1 1 1 1 1 1 1 1 1 1 1 1 1 1 1 1 1 1 1 1 1 1 1 1 1 1 1 1 1 1 1 1 1 1 1 1 1 1 1 1 1 1 1 1 1 1 1 1 1 1 1 1 1 1 1 1 1 1 1 1 1 1 1 1 1 1 1 1 1 1 1 1 1 1 1 1 1 1 1 1 1\n"
          ],
          "name": "stderr"
        },
        {
          "output_type": "stream",
          "text": [
            "INFO:tensorflow:segment_ids: 0 0 0 0 0 0 0 0 0 0 0 0 0 0 0 0 0 0 0 0 0 0 0 0 0 0 0 0 0 0 0 0 0 0 0 0 0 0 0 0 0 0 0 0 0 0 0 0 0 0 0 0 0 0 0 0 0 0 0 0 0 0 0 0 0 0 0 0 0 0 0 0 0 0 0 0 0 0 0 0 0 0 0 0 0 0 0 0 0 0 0 0 0 0 0 0 0 0 0 0 0 0 0 0 0 0 0 0 0 0 0 0 0 0 0 0 0 0 0 0 0 0 0 0 0 0 0 0\n"
          ],
          "name": "stdout"
        },
        {
          "output_type": "stream",
          "text": [
            "INFO:tensorflow:segment_ids: 0 0 0 0 0 0 0 0 0 0 0 0 0 0 0 0 0 0 0 0 0 0 0 0 0 0 0 0 0 0 0 0 0 0 0 0 0 0 0 0 0 0 0 0 0 0 0 0 0 0 0 0 0 0 0 0 0 0 0 0 0 0 0 0 0 0 0 0 0 0 0 0 0 0 0 0 0 0 0 0 0 0 0 0 0 0 0 0 0 0 0 0 0 0 0 0 0 0 0 0 0 0 0 0 0 0 0 0 0 0 0 0 0 0 0 0 0 0 0 0 0 0 0 0 0 0 0 0\n"
          ],
          "name": "stderr"
        },
        {
          "output_type": "stream",
          "text": [
            "INFO:tensorflow:label: 0 (id = 0)\n"
          ],
          "name": "stdout"
        },
        {
          "output_type": "stream",
          "text": [
            "INFO:tensorflow:label: 0 (id = 0)\n"
          ],
          "name": "stderr"
        },
        {
          "output_type": "stream",
          "text": [
            "INFO:tensorflow:*** Example ***\n"
          ],
          "name": "stdout"
        },
        {
          "output_type": "stream",
          "text": [
            "INFO:tensorflow:*** Example ***\n"
          ],
          "name": "stderr"
        },
        {
          "output_type": "stream",
          "text": [
            "INFO:tensorflow:guid: None\n"
          ],
          "name": "stdout"
        },
        {
          "output_type": "stream",
          "text": [
            "INFO:tensorflow:guid: None\n"
          ],
          "name": "stderr"
        },
        {
          "output_type": "stream",
          "text": [
            "INFO:tensorflow:tokens: [CLS] 不 评 价 了 ， 沒 有 第 二 单 ！ [SEP]\n"
          ],
          "name": "stdout"
        },
        {
          "output_type": "stream",
          "text": [
            "INFO:tensorflow:tokens: [CLS] 不 评 价 了 ， 沒 有 第 二 单 ！ [SEP]\n"
          ],
          "name": "stderr"
        },
        {
          "output_type": "stream",
          "text": [
            "INFO:tensorflow:input_ids: 101 679 6397 817 749 8024 3760 3300 5018 753 1296 8013 102 0 0 0 0 0 0 0 0 0 0 0 0 0 0 0 0 0 0 0 0 0 0 0 0 0 0 0 0 0 0 0 0 0 0 0 0 0 0 0 0 0 0 0 0 0 0 0 0 0 0 0 0 0 0 0 0 0 0 0 0 0 0 0 0 0 0 0 0 0 0 0 0 0 0 0 0 0 0 0 0 0 0 0 0 0 0 0 0 0 0 0 0 0 0 0 0 0 0 0 0 0 0 0 0 0 0 0 0 0 0 0 0 0 0 0\n"
          ],
          "name": "stdout"
        },
        {
          "output_type": "stream",
          "text": [
            "INFO:tensorflow:input_ids: 101 679 6397 817 749 8024 3760 3300 5018 753 1296 8013 102 0 0 0 0 0 0 0 0 0 0 0 0 0 0 0 0 0 0 0 0 0 0 0 0 0 0 0 0 0 0 0 0 0 0 0 0 0 0 0 0 0 0 0 0 0 0 0 0 0 0 0 0 0 0 0 0 0 0 0 0 0 0 0 0 0 0 0 0 0 0 0 0 0 0 0 0 0 0 0 0 0 0 0 0 0 0 0 0 0 0 0 0 0 0 0 0 0 0 0 0 0 0 0 0 0 0 0 0 0 0 0 0 0 0 0\n"
          ],
          "name": "stderr"
        },
        {
          "output_type": "stream",
          "text": [
            "INFO:tensorflow:input_mask: 1 1 1 1 1 1 1 1 1 1 1 1 1 0 0 0 0 0 0 0 0 0 0 0 0 0 0 0 0 0 0 0 0 0 0 0 0 0 0 0 0 0 0 0 0 0 0 0 0 0 0 0 0 0 0 0 0 0 0 0 0 0 0 0 0 0 0 0 0 0 0 0 0 0 0 0 0 0 0 0 0 0 0 0 0 0 0 0 0 0 0 0 0 0 0 0 0 0 0 0 0 0 0 0 0 0 0 0 0 0 0 0 0 0 0 0 0 0 0 0 0 0 0 0 0 0 0 0\n"
          ],
          "name": "stdout"
        },
        {
          "output_type": "stream",
          "text": [
            "INFO:tensorflow:input_mask: 1 1 1 1 1 1 1 1 1 1 1 1 1 0 0 0 0 0 0 0 0 0 0 0 0 0 0 0 0 0 0 0 0 0 0 0 0 0 0 0 0 0 0 0 0 0 0 0 0 0 0 0 0 0 0 0 0 0 0 0 0 0 0 0 0 0 0 0 0 0 0 0 0 0 0 0 0 0 0 0 0 0 0 0 0 0 0 0 0 0 0 0 0 0 0 0 0 0 0 0 0 0 0 0 0 0 0 0 0 0 0 0 0 0 0 0 0 0 0 0 0 0 0 0 0 0 0 0\n"
          ],
          "name": "stderr"
        },
        {
          "output_type": "stream",
          "text": [
            "INFO:tensorflow:segment_ids: 0 0 0 0 0 0 0 0 0 0 0 0 0 0 0 0 0 0 0 0 0 0 0 0 0 0 0 0 0 0 0 0 0 0 0 0 0 0 0 0 0 0 0 0 0 0 0 0 0 0 0 0 0 0 0 0 0 0 0 0 0 0 0 0 0 0 0 0 0 0 0 0 0 0 0 0 0 0 0 0 0 0 0 0 0 0 0 0 0 0 0 0 0 0 0 0 0 0 0 0 0 0 0 0 0 0 0 0 0 0 0 0 0 0 0 0 0 0 0 0 0 0 0 0 0 0 0 0\n"
          ],
          "name": "stdout"
        },
        {
          "output_type": "stream",
          "text": [
            "INFO:tensorflow:segment_ids: 0 0 0 0 0 0 0 0 0 0 0 0 0 0 0 0 0 0 0 0 0 0 0 0 0 0 0 0 0 0 0 0 0 0 0 0 0 0 0 0 0 0 0 0 0 0 0 0 0 0 0 0 0 0 0 0 0 0 0 0 0 0 0 0 0 0 0 0 0 0 0 0 0 0 0 0 0 0 0 0 0 0 0 0 0 0 0 0 0 0 0 0 0 0 0 0 0 0 0 0 0 0 0 0 0 0 0 0 0 0 0 0 0 0 0 0 0 0 0 0 0 0 0 0 0 0 0 0\n"
          ],
          "name": "stderr"
        },
        {
          "output_type": "stream",
          "text": [
            "INFO:tensorflow:label: 0 (id = 0)\n"
          ],
          "name": "stdout"
        },
        {
          "output_type": "stream",
          "text": [
            "INFO:tensorflow:label: 0 (id = 0)\n"
          ],
          "name": "stderr"
        },
        {
          "output_type": "stream",
          "text": [
            "INFO:tensorflow:*** Example ***\n"
          ],
          "name": "stdout"
        },
        {
          "output_type": "stream",
          "text": [
            "INFO:tensorflow:*** Example ***\n"
          ],
          "name": "stderr"
        },
        {
          "output_type": "stream",
          "text": [
            "INFO:tensorflow:guid: None\n"
          ],
          "name": "stdout"
        },
        {
          "output_type": "stream",
          "text": [
            "INFO:tensorflow:guid: None\n"
          ],
          "name": "stderr"
        },
        {
          "output_type": "stream",
          "text": [
            "INFO:tensorflow:tokens: [CLS] ， 味 道 不 错 ， 吃 到 后 来 越 来 越 辣 越 来 越 香 ， 菜 品 还 是 多 ， 都 没 吃 完 还 打 了 包 。 [SEP]\n"
          ],
          "name": "stdout"
        },
        {
          "output_type": "stream",
          "text": [
            "INFO:tensorflow:tokens: [CLS] ， 味 道 不 错 ， 吃 到 后 来 越 来 越 辣 越 来 越 香 ， 菜 品 还 是 多 ， 都 没 吃 完 还 打 了 包 。 [SEP]\n"
          ],
          "name": "stderr"
        },
        {
          "output_type": "stream",
          "text": [
            "INFO:tensorflow:input_ids: 101 8024 1456 6887 679 7231 8024 1391 1168 1400 3341 6632 3341 6632 6793 6632 3341 6632 7676 8024 5831 1501 6820 3221 1914 8024 6963 3766 1391 2130 6820 2802 749 1259 511 102 0 0 0 0 0 0 0 0 0 0 0 0 0 0 0 0 0 0 0 0 0 0 0 0 0 0 0 0 0 0 0 0 0 0 0 0 0 0 0 0 0 0 0 0 0 0 0 0 0 0 0 0 0 0 0 0 0 0 0 0 0 0 0 0 0 0 0 0 0 0 0 0 0 0 0 0 0 0 0 0 0 0 0 0 0 0 0 0 0 0 0 0\n"
          ],
          "name": "stdout"
        },
        {
          "output_type": "stream",
          "text": [
            "INFO:tensorflow:input_ids: 101 8024 1456 6887 679 7231 8024 1391 1168 1400 3341 6632 3341 6632 6793 6632 3341 6632 7676 8024 5831 1501 6820 3221 1914 8024 6963 3766 1391 2130 6820 2802 749 1259 511 102 0 0 0 0 0 0 0 0 0 0 0 0 0 0 0 0 0 0 0 0 0 0 0 0 0 0 0 0 0 0 0 0 0 0 0 0 0 0 0 0 0 0 0 0 0 0 0 0 0 0 0 0 0 0 0 0 0 0 0 0 0 0 0 0 0 0 0 0 0 0 0 0 0 0 0 0 0 0 0 0 0 0 0 0 0 0 0 0 0 0 0 0\n"
          ],
          "name": "stderr"
        },
        {
          "output_type": "stream",
          "text": [
            "INFO:tensorflow:input_mask: 1 1 1 1 1 1 1 1 1 1 1 1 1 1 1 1 1 1 1 1 1 1 1 1 1 1 1 1 1 1 1 1 1 1 1 1 0 0 0 0 0 0 0 0 0 0 0 0 0 0 0 0 0 0 0 0 0 0 0 0 0 0 0 0 0 0 0 0 0 0 0 0 0 0 0 0 0 0 0 0 0 0 0 0 0 0 0 0 0 0 0 0 0 0 0 0 0 0 0 0 0 0 0 0 0 0 0 0 0 0 0 0 0 0 0 0 0 0 0 0 0 0 0 0 0 0 0 0\n"
          ],
          "name": "stdout"
        },
        {
          "output_type": "stream",
          "text": [
            "INFO:tensorflow:input_mask: 1 1 1 1 1 1 1 1 1 1 1 1 1 1 1 1 1 1 1 1 1 1 1 1 1 1 1 1 1 1 1 1 1 1 1 1 0 0 0 0 0 0 0 0 0 0 0 0 0 0 0 0 0 0 0 0 0 0 0 0 0 0 0 0 0 0 0 0 0 0 0 0 0 0 0 0 0 0 0 0 0 0 0 0 0 0 0 0 0 0 0 0 0 0 0 0 0 0 0 0 0 0 0 0 0 0 0 0 0 0 0 0 0 0 0 0 0 0 0 0 0 0 0 0 0 0 0 0\n"
          ],
          "name": "stderr"
        },
        {
          "output_type": "stream",
          "text": [
            "INFO:tensorflow:segment_ids: 0 0 0 0 0 0 0 0 0 0 0 0 0 0 0 0 0 0 0 0 0 0 0 0 0 0 0 0 0 0 0 0 0 0 0 0 0 0 0 0 0 0 0 0 0 0 0 0 0 0 0 0 0 0 0 0 0 0 0 0 0 0 0 0 0 0 0 0 0 0 0 0 0 0 0 0 0 0 0 0 0 0 0 0 0 0 0 0 0 0 0 0 0 0 0 0 0 0 0 0 0 0 0 0 0 0 0 0 0 0 0 0 0 0 0 0 0 0 0 0 0 0 0 0 0 0 0 0\n"
          ],
          "name": "stdout"
        },
        {
          "output_type": "stream",
          "text": [
            "INFO:tensorflow:segment_ids: 0 0 0 0 0 0 0 0 0 0 0 0 0 0 0 0 0 0 0 0 0 0 0 0 0 0 0 0 0 0 0 0 0 0 0 0 0 0 0 0 0 0 0 0 0 0 0 0 0 0 0 0 0 0 0 0 0 0 0 0 0 0 0 0 0 0 0 0 0 0 0 0 0 0 0 0 0 0 0 0 0 0 0 0 0 0 0 0 0 0 0 0 0 0 0 0 0 0 0 0 0 0 0 0 0 0 0 0 0 0 0 0 0 0 0 0 0 0 0 0 0 0 0 0 0 0 0 0\n"
          ],
          "name": "stderr"
        },
        {
          "output_type": "stream",
          "text": [
            "INFO:tensorflow:label: 0 (id = 0)\n"
          ],
          "name": "stdout"
        },
        {
          "output_type": "stream",
          "text": [
            "INFO:tensorflow:label: 0 (id = 0)\n"
          ],
          "name": "stderr"
        },
        {
          "output_type": "stream",
          "text": [
            "INFO:tensorflow:*** Example ***\n"
          ],
          "name": "stdout"
        },
        {
          "output_type": "stream",
          "text": [
            "INFO:tensorflow:*** Example ***\n"
          ],
          "name": "stderr"
        },
        {
          "output_type": "stream",
          "text": [
            "INFO:tensorflow:guid: None\n"
          ],
          "name": "stdout"
        },
        {
          "output_type": "stream",
          "text": [
            "INFO:tensorflow:guid: None\n"
          ],
          "name": "stderr"
        },
        {
          "output_type": "stream",
          "text": [
            "INFO:tensorflow:tokens: [CLS] 来 过 几 次 了 ， 物 美 价 廉 ， 不 因 为 是 团 购 而 怠 慢 ， 点 个 赞 [SEP]\n"
          ],
          "name": "stdout"
        },
        {
          "output_type": "stream",
          "text": [
            "INFO:tensorflow:tokens: [CLS] 来 过 几 次 了 ， 物 美 价 廉 ， 不 因 为 是 团 购 而 怠 慢 ， 点 个 赞 [SEP]\n"
          ],
          "name": "stderr"
        },
        {
          "output_type": "stream",
          "text": [
            "INFO:tensorflow:input_ids: 101 3341 6814 1126 3613 749 8024 4289 5401 817 2442 8024 679 1728 711 3221 1730 6579 5445 2591 2714 8024 4157 702 6614 102 0 0 0 0 0 0 0 0 0 0 0 0 0 0 0 0 0 0 0 0 0 0 0 0 0 0 0 0 0 0 0 0 0 0 0 0 0 0 0 0 0 0 0 0 0 0 0 0 0 0 0 0 0 0 0 0 0 0 0 0 0 0 0 0 0 0 0 0 0 0 0 0 0 0 0 0 0 0 0 0 0 0 0 0 0 0 0 0 0 0 0 0 0 0 0 0 0 0 0 0 0 0\n"
          ],
          "name": "stdout"
        },
        {
          "output_type": "stream",
          "text": [
            "INFO:tensorflow:input_ids: 101 3341 6814 1126 3613 749 8024 4289 5401 817 2442 8024 679 1728 711 3221 1730 6579 5445 2591 2714 8024 4157 702 6614 102 0 0 0 0 0 0 0 0 0 0 0 0 0 0 0 0 0 0 0 0 0 0 0 0 0 0 0 0 0 0 0 0 0 0 0 0 0 0 0 0 0 0 0 0 0 0 0 0 0 0 0 0 0 0 0 0 0 0 0 0 0 0 0 0 0 0 0 0 0 0 0 0 0 0 0 0 0 0 0 0 0 0 0 0 0 0 0 0 0 0 0 0 0 0 0 0 0 0 0 0 0 0\n"
          ],
          "name": "stderr"
        },
        {
          "output_type": "stream",
          "text": [
            "INFO:tensorflow:input_mask: 1 1 1 1 1 1 1 1 1 1 1 1 1 1 1 1 1 1 1 1 1 1 1 1 1 1 0 0 0 0 0 0 0 0 0 0 0 0 0 0 0 0 0 0 0 0 0 0 0 0 0 0 0 0 0 0 0 0 0 0 0 0 0 0 0 0 0 0 0 0 0 0 0 0 0 0 0 0 0 0 0 0 0 0 0 0 0 0 0 0 0 0 0 0 0 0 0 0 0 0 0 0 0 0 0 0 0 0 0 0 0 0 0 0 0 0 0 0 0 0 0 0 0 0 0 0 0 0\n"
          ],
          "name": "stdout"
        },
        {
          "output_type": "stream",
          "text": [
            "INFO:tensorflow:input_mask: 1 1 1 1 1 1 1 1 1 1 1 1 1 1 1 1 1 1 1 1 1 1 1 1 1 1 0 0 0 0 0 0 0 0 0 0 0 0 0 0 0 0 0 0 0 0 0 0 0 0 0 0 0 0 0 0 0 0 0 0 0 0 0 0 0 0 0 0 0 0 0 0 0 0 0 0 0 0 0 0 0 0 0 0 0 0 0 0 0 0 0 0 0 0 0 0 0 0 0 0 0 0 0 0 0 0 0 0 0 0 0 0 0 0 0 0 0 0 0 0 0 0 0 0 0 0 0 0\n"
          ],
          "name": "stderr"
        },
        {
          "output_type": "stream",
          "text": [
            "INFO:tensorflow:segment_ids: 0 0 0 0 0 0 0 0 0 0 0 0 0 0 0 0 0 0 0 0 0 0 0 0 0 0 0 0 0 0 0 0 0 0 0 0 0 0 0 0 0 0 0 0 0 0 0 0 0 0 0 0 0 0 0 0 0 0 0 0 0 0 0 0 0 0 0 0 0 0 0 0 0 0 0 0 0 0 0 0 0 0 0 0 0 0 0 0 0 0 0 0 0 0 0 0 0 0 0 0 0 0 0 0 0 0 0 0 0 0 0 0 0 0 0 0 0 0 0 0 0 0 0 0 0 0 0 0\n"
          ],
          "name": "stdout"
        },
        {
          "output_type": "stream",
          "text": [
            "INFO:tensorflow:segment_ids: 0 0 0 0 0 0 0 0 0 0 0 0 0 0 0 0 0 0 0 0 0 0 0 0 0 0 0 0 0 0 0 0 0 0 0 0 0 0 0 0 0 0 0 0 0 0 0 0 0 0 0 0 0 0 0 0 0 0 0 0 0 0 0 0 0 0 0 0 0 0 0 0 0 0 0 0 0 0 0 0 0 0 0 0 0 0 0 0 0 0 0 0 0 0 0 0 0 0 0 0 0 0 0 0 0 0 0 0 0 0 0 0 0 0 0 0 0 0 0 0 0 0 0 0 0 0 0 0\n"
          ],
          "name": "stderr"
        },
        {
          "output_type": "stream",
          "text": [
            "INFO:tensorflow:label: 0 (id = 0)\n"
          ],
          "name": "stdout"
        },
        {
          "output_type": "stream",
          "text": [
            "INFO:tensorflow:label: 0 (id = 0)\n"
          ],
          "name": "stderr"
        },
        {
          "output_type": "stream",
          "text": [
            "INFO:tensorflow:*** Example ***\n"
          ],
          "name": "stdout"
        },
        {
          "output_type": "stream",
          "text": [
            "INFO:tensorflow:*** Example ***\n"
          ],
          "name": "stderr"
        },
        {
          "output_type": "stream",
          "text": [
            "INFO:tensorflow:guid: None\n"
          ],
          "name": "stdout"
        },
        {
          "output_type": "stream",
          "text": [
            "INFO:tensorflow:guid: None\n"
          ],
          "name": "stderr"
        },
        {
          "output_type": "stream",
          "text": [
            "INFO:tensorflow:tokens: [CLS] 第 一 次 被 女 儿 带 去 ， 蛋 糕 真 心 好 吃 ， 价 格 实 惠 ， 以 前 一 直 不 晓 得 ！ [SEP]\n"
          ],
          "name": "stdout"
        },
        {
          "output_type": "stream",
          "text": [
            "INFO:tensorflow:tokens: [CLS] 第 一 次 被 女 儿 带 去 ， 蛋 糕 真 心 好 吃 ， 价 格 实 惠 ， 以 前 一 直 不 晓 得 ！ [SEP]\n"
          ],
          "name": "stderr"
        },
        {
          "output_type": "stream",
          "text": [
            "INFO:tensorflow:input_ids: 101 5018 671 3613 6158 1957 1036 2372 1343 8024 6028 5130 4696 2552 1962 1391 8024 817 3419 2141 2669 8024 809 1184 671 4684 679 3236 2533 8013 102 0 0 0 0 0 0 0 0 0 0 0 0 0 0 0 0 0 0 0 0 0 0 0 0 0 0 0 0 0 0 0 0 0 0 0 0 0 0 0 0 0 0 0 0 0 0 0 0 0 0 0 0 0 0 0 0 0 0 0 0 0 0 0 0 0 0 0 0 0 0 0 0 0 0 0 0 0 0 0 0 0 0 0 0 0 0 0 0 0 0 0 0 0 0 0 0 0\n"
          ],
          "name": "stdout"
        },
        {
          "output_type": "stream",
          "text": [
            "INFO:tensorflow:input_ids: 101 5018 671 3613 6158 1957 1036 2372 1343 8024 6028 5130 4696 2552 1962 1391 8024 817 3419 2141 2669 8024 809 1184 671 4684 679 3236 2533 8013 102 0 0 0 0 0 0 0 0 0 0 0 0 0 0 0 0 0 0 0 0 0 0 0 0 0 0 0 0 0 0 0 0 0 0 0 0 0 0 0 0 0 0 0 0 0 0 0 0 0 0 0 0 0 0 0 0 0 0 0 0 0 0 0 0 0 0 0 0 0 0 0 0 0 0 0 0 0 0 0 0 0 0 0 0 0 0 0 0 0 0 0 0 0 0 0 0 0\n"
          ],
          "name": "stderr"
        },
        {
          "output_type": "stream",
          "text": [
            "INFO:tensorflow:input_mask: 1 1 1 1 1 1 1 1 1 1 1 1 1 1 1 1 1 1 1 1 1 1 1 1 1 1 1 1 1 1 1 0 0 0 0 0 0 0 0 0 0 0 0 0 0 0 0 0 0 0 0 0 0 0 0 0 0 0 0 0 0 0 0 0 0 0 0 0 0 0 0 0 0 0 0 0 0 0 0 0 0 0 0 0 0 0 0 0 0 0 0 0 0 0 0 0 0 0 0 0 0 0 0 0 0 0 0 0 0 0 0 0 0 0 0 0 0 0 0 0 0 0 0 0 0 0 0 0\n"
          ],
          "name": "stdout"
        },
        {
          "output_type": "stream",
          "text": [
            "INFO:tensorflow:input_mask: 1 1 1 1 1 1 1 1 1 1 1 1 1 1 1 1 1 1 1 1 1 1 1 1 1 1 1 1 1 1 1 0 0 0 0 0 0 0 0 0 0 0 0 0 0 0 0 0 0 0 0 0 0 0 0 0 0 0 0 0 0 0 0 0 0 0 0 0 0 0 0 0 0 0 0 0 0 0 0 0 0 0 0 0 0 0 0 0 0 0 0 0 0 0 0 0 0 0 0 0 0 0 0 0 0 0 0 0 0 0 0 0 0 0 0 0 0 0 0 0 0 0 0 0 0 0 0 0\n"
          ],
          "name": "stderr"
        },
        {
          "output_type": "stream",
          "text": [
            "INFO:tensorflow:segment_ids: 0 0 0 0 0 0 0 0 0 0 0 0 0 0 0 0 0 0 0 0 0 0 0 0 0 0 0 0 0 0 0 0 0 0 0 0 0 0 0 0 0 0 0 0 0 0 0 0 0 0 0 0 0 0 0 0 0 0 0 0 0 0 0 0 0 0 0 0 0 0 0 0 0 0 0 0 0 0 0 0 0 0 0 0 0 0 0 0 0 0 0 0 0 0 0 0 0 0 0 0 0 0 0 0 0 0 0 0 0 0 0 0 0 0 0 0 0 0 0 0 0 0 0 0 0 0 0 0\n"
          ],
          "name": "stdout"
        },
        {
          "output_type": "stream",
          "text": [
            "INFO:tensorflow:segment_ids: 0 0 0 0 0 0 0 0 0 0 0 0 0 0 0 0 0 0 0 0 0 0 0 0 0 0 0 0 0 0 0 0 0 0 0 0 0 0 0 0 0 0 0 0 0 0 0 0 0 0 0 0 0 0 0 0 0 0 0 0 0 0 0 0 0 0 0 0 0 0 0 0 0 0 0 0 0 0 0 0 0 0 0 0 0 0 0 0 0 0 0 0 0 0 0 0 0 0 0 0 0 0 0 0 0 0 0 0 0 0 0 0 0 0 0 0 0 0 0 0 0 0 0 0 0 0 0 0\n"
          ],
          "name": "stderr"
        },
        {
          "output_type": "stream",
          "text": [
            "INFO:tensorflow:label: 0 (id = 0)\n"
          ],
          "name": "stdout"
        },
        {
          "output_type": "stream",
          "text": [
            "INFO:tensorflow:label: 0 (id = 0)\n"
          ],
          "name": "stderr"
        },
        {
          "output_type": "stream",
          "text": [
            "INFO:tensorflow:Using config: {'_model_dir': 'output', '_tf_random_seed': None, '_save_summary_steps': 100, '_save_checkpoints_steps': 10000, '_save_checkpoints_secs': None, '_session_config': allow_soft_placement: true\n",
            "graph_options {\n",
            "  rewrite_options {\n",
            "    meta_optimizer_iterations: ONE\n",
            "  }\n",
            "}\n",
            ", '_keep_checkpoint_max': 5, '_keep_checkpoint_every_n_hours': 10000, '_log_step_count_steps': 100, '_train_distribute': None, '_device_fn': None, '_protocol': None, '_eval_distribute': None, '_experimental_distribute': None, '_experimental_max_worker_delay_secs': None, '_session_creation_timeout_secs': 7200, '_service': None, '_cluster_spec': <tensorflow.python.training.server_lib.ClusterSpec object at 0x7fd002faeb70>, '_task_type': 'worker', '_task_id': 0, '_global_id_in_cluster': 0, '_master': '', '_evaluation_master': '', '_is_chief': True, '_num_ps_replicas': 0, '_num_worker_replicas': 1}\n"
          ],
          "name": "stdout"
        },
        {
          "output_type": "stream",
          "text": [
            "INFO:tensorflow:Using config: {'_model_dir': 'output', '_tf_random_seed': None, '_save_summary_steps': 100, '_save_checkpoints_steps': 10000, '_save_checkpoints_secs': None, '_session_config': allow_soft_placement: true\n",
            "graph_options {\n",
            "  rewrite_options {\n",
            "    meta_optimizer_iterations: ONE\n",
            "  }\n",
            "}\n",
            ", '_keep_checkpoint_max': 5, '_keep_checkpoint_every_n_hours': 10000, '_log_step_count_steps': 100, '_train_distribute': None, '_device_fn': None, '_protocol': None, '_eval_distribute': None, '_experimental_distribute': None, '_experimental_max_worker_delay_secs': None, '_session_creation_timeout_secs': 7200, '_service': None, '_cluster_spec': <tensorflow.python.training.server_lib.ClusterSpec object at 0x7fd002faeb70>, '_task_type': 'worker', '_task_id': 0, '_global_id_in_cluster': 0, '_master': '', '_evaluation_master': '', '_is_chief': True, '_num_ps_replicas': 0, '_num_worker_replicas': 1}\n"
          ],
          "name": "stderr"
        },
        {
          "output_type": "stream",
          "text": [
            "WARNING:tensorflow:From /usr/local/lib/python3.6/dist-packages/tensorflow_core/python/training/training_util.py:236: Variable.initialized_value (from tensorflow.python.ops.variables) is deprecated and will be removed in a future version.\n",
            "Instructions for updating:\n",
            "Use Variable.read_value. Variables in 2.X are initialized automatically both in eager and graph (inside tf.defun) contexts.\n"
          ],
          "name": "stdout"
        },
        {
          "output_type": "stream",
          "text": [
            "WARNING:tensorflow:From /usr/local/lib/python3.6/dist-packages/tensorflow_core/python/training/training_util.py:236: Variable.initialized_value (from tensorflow.python.ops.variables) is deprecated and will be removed in a future version.\n",
            "Instructions for updating:\n",
            "Use Variable.read_value. Variables in 2.X are initialized automatically both in eager and graph (inside tf.defun) contexts.\n"
          ],
          "name": "stderr"
        },
        {
          "output_type": "stream",
          "text": [
            "INFO:tensorflow:Calling model_fn.\n"
          ],
          "name": "stdout"
        },
        {
          "output_type": "stream",
          "text": [
            "INFO:tensorflow:Calling model_fn.\n"
          ],
          "name": "stderr"
        },
        {
          "output_type": "stream",
          "text": [
            "INFO:tensorflow:Saver not created because there are no variables in the graph to restore\n"
          ],
          "name": "stdout"
        },
        {
          "output_type": "stream",
          "text": [
            "INFO:tensorflow:Saver not created because there are no variables in the graph to restore\n"
          ],
          "name": "stderr"
        },
        {
          "output_type": "stream",
          "text": [
            "WARNING:tensorflow:From <ipython-input-4-8c7e2d555bb6>:56: calling dropout (from tensorflow.python.ops.nn_ops) with keep_prob is deprecated and will be removed in a future version.\n",
            "Instructions for updating:\n",
            "Please use `rate` instead of `keep_prob`. Rate should be set to `rate = 1 - keep_prob`.\n"
          ],
          "name": "stdout"
        },
        {
          "output_type": "stream",
          "text": [
            "WARNING:tensorflow:From <ipython-input-4-8c7e2d555bb6>:56: calling dropout (from tensorflow.python.ops.nn_ops) with keep_prob is deprecated and will be removed in a future version.\n",
            "Instructions for updating:\n",
            "Please use `rate` instead of `keep_prob`. Rate should be set to `rate = 1 - keep_prob`.\n"
          ],
          "name": "stderr"
        },
        {
          "output_type": "stream",
          "text": [
            "WARNING:tensorflow:From /usr/local/lib/python3.6/dist-packages/bert/optimization.py:27: The name tf.train.get_or_create_global_step is deprecated. Please use tf.compat.v1.train.get_or_create_global_step instead.\n",
            "\n"
          ],
          "name": "stdout"
        },
        {
          "output_type": "stream",
          "text": [
            "WARNING:tensorflow:From /usr/local/lib/python3.6/dist-packages/bert/optimization.py:27: The name tf.train.get_or_create_global_step is deprecated. Please use tf.compat.v1.train.get_or_create_global_step instead.\n",
            "\n"
          ],
          "name": "stderr"
        },
        {
          "output_type": "stream",
          "text": [
            "WARNING:tensorflow:From /usr/local/lib/python3.6/dist-packages/bert/optimization.py:32: The name tf.train.polynomial_decay is deprecated. Please use tf.compat.v1.train.polynomial_decay instead.\n",
            "\n"
          ],
          "name": "stdout"
        },
        {
          "output_type": "stream",
          "text": [
            "WARNING:tensorflow:From /usr/local/lib/python3.6/dist-packages/bert/optimization.py:32: The name tf.train.polynomial_decay is deprecated. Please use tf.compat.v1.train.polynomial_decay instead.\n",
            "\n"
          ],
          "name": "stderr"
        },
        {
          "output_type": "stream",
          "text": [
            "WARNING:tensorflow:From /usr/local/lib/python3.6/dist-packages/bert/optimization.py:70: The name tf.trainable_variables is deprecated. Please use tf.compat.v1.trainable_variables instead.\n",
            "\n"
          ],
          "name": "stdout"
        },
        {
          "output_type": "stream",
          "text": [
            "WARNING:tensorflow:From /usr/local/lib/python3.6/dist-packages/bert/optimization.py:70: The name tf.trainable_variables is deprecated. Please use tf.compat.v1.trainable_variables instead.\n",
            "\n"
          ],
          "name": "stderr"
        },
        {
          "output_type": "stream",
          "text": [
            "WARNING:tensorflow:From /usr/local/lib/python3.6/dist-packages/tensorflow_core/python/ops/math_grad.py:1375: where (from tensorflow.python.ops.array_ops) is deprecated and will be removed in a future version.\n",
            "Instructions for updating:\n",
            "Use tf.where in 2.0, which has the same broadcast rule as np.where\n"
          ],
          "name": "stdout"
        },
        {
          "output_type": "stream",
          "text": [
            "WARNING:tensorflow:From /usr/local/lib/python3.6/dist-packages/tensorflow_core/python/ops/math_grad.py:1375: where (from tensorflow.python.ops.array_ops) is deprecated and will be removed in a future version.\n",
            "Instructions for updating:\n",
            "Use tf.where in 2.0, which has the same broadcast rule as np.where\n",
            "/usr/local/lib/python3.6/dist-packages/tensorflow_core/python/framework/indexed_slices.py:424: UserWarning: Converting sparse IndexedSlices to a dense Tensor of unknown shape. This may consume a large amount of memory.\n",
            "  \"Converting sparse IndexedSlices to a dense Tensor of unknown shape. \"\n"
          ],
          "name": "stderr"
        },
        {
          "output_type": "stream",
          "text": [
            "WARNING:tensorflow:\n",
            "The TensorFlow contrib module will not be included in TensorFlow 2.0.\n",
            "For more information, please see:\n",
            "  * https://github.com/tensorflow/community/blob/master/rfcs/20180907-contrib-sunset.md\n",
            "  * https://github.com/tensorflow/addons\n",
            "  * https://github.com/tensorflow/io (for I/O related ops)\n",
            "If you depend on functionality not listed there, please file an issue.\n",
            "\n"
          ],
          "name": "stdout"
        },
        {
          "output_type": "stream",
          "text": [
            "WARNING:tensorflow:\n",
            "The TensorFlow contrib module will not be included in TensorFlow 2.0.\n",
            "For more information, please see:\n",
            "  * https://github.com/tensorflow/community/blob/master/rfcs/20180907-contrib-sunset.md\n",
            "  * https://github.com/tensorflow/addons\n",
            "  * https://github.com/tensorflow/io (for I/O related ops)\n",
            "If you depend on functionality not listed there, please file an issue.\n",
            "\n"
          ],
          "name": "stderr"
        },
        {
          "output_type": "stream",
          "text": [
            "WARNING:tensorflow:From /usr/local/lib/python3.6/dist-packages/tensorflow_core/contrib/metrics/python/metrics/classification.py:162: div (from tensorflow.python.ops.math_ops) is deprecated and will be removed in a future version.\n",
            "Instructions for updating:\n",
            "Deprecated in favor of operator or tf.math.divide.\n"
          ],
          "name": "stdout"
        },
        {
          "output_type": "stream",
          "text": [
            "WARNING:tensorflow:From /usr/local/lib/python3.6/dist-packages/tensorflow_core/contrib/metrics/python/metrics/classification.py:162: div (from tensorflow.python.ops.math_ops) is deprecated and will be removed in a future version.\n",
            "Instructions for updating:\n",
            "Deprecated in favor of operator or tf.math.divide.\n"
          ],
          "name": "stderr"
        },
        {
          "output_type": "stream",
          "text": [
            "INFO:tensorflow:Done calling model_fn.\n"
          ],
          "name": "stdout"
        },
        {
          "output_type": "stream",
          "text": [
            "INFO:tensorflow:Done calling model_fn.\n"
          ],
          "name": "stderr"
        },
        {
          "output_type": "stream",
          "text": [
            "INFO:tensorflow:Create CheckpointSaverHook.\n"
          ],
          "name": "stdout"
        },
        {
          "output_type": "stream",
          "text": [
            "INFO:tensorflow:Create CheckpointSaverHook.\n"
          ],
          "name": "stderr"
        },
        {
          "output_type": "stream",
          "text": [
            "INFO:tensorflow:Graph was finalized.\n"
          ],
          "name": "stdout"
        },
        {
          "output_type": "stream",
          "text": [
            "INFO:tensorflow:Graph was finalized.\n"
          ],
          "name": "stderr"
        },
        {
          "output_type": "stream",
          "text": [
            "INFO:tensorflow:Running local_init_op.\n"
          ],
          "name": "stdout"
        },
        {
          "output_type": "stream",
          "text": [
            "INFO:tensorflow:Running local_init_op.\n"
          ],
          "name": "stderr"
        },
        {
          "output_type": "stream",
          "text": [
            "INFO:tensorflow:Done running local_init_op.\n"
          ],
          "name": "stdout"
        },
        {
          "output_type": "stream",
          "text": [
            "INFO:tensorflow:Done running local_init_op.\n"
          ],
          "name": "stderr"
        },
        {
          "output_type": "stream",
          "text": [
            "INFO:tensorflow:Saving checkpoints for 0 into output/model.ckpt.\n"
          ],
          "name": "stdout"
        },
        {
          "output_type": "stream",
          "text": [
            "INFO:tensorflow:Saving checkpoints for 0 into output/model.ckpt.\n"
          ],
          "name": "stderr"
        },
        {
          "output_type": "stream",
          "text": [
            "INFO:tensorflow:loss = 0.7009976, step = 0\n"
          ],
          "name": "stdout"
        },
        {
          "output_type": "stream",
          "text": [
            "INFO:tensorflow:loss = 0.7009976, step = 0\n"
          ],
          "name": "stderr"
        },
        {
          "output_type": "stream",
          "text": [
            "INFO:tensorflow:global_step/sec: 0.571023\n"
          ],
          "name": "stdout"
        },
        {
          "output_type": "stream",
          "text": [
            "INFO:tensorflow:global_step/sec: 0.571023\n"
          ],
          "name": "stderr"
        },
        {
          "output_type": "stream",
          "text": [
            "INFO:tensorflow:loss = 0.022946615, step = 100 (175.130 sec)\n"
          ],
          "name": "stdout"
        },
        {
          "output_type": "stream",
          "text": [
            "INFO:tensorflow:loss = 0.022946615, step = 100 (175.130 sec)\n"
          ],
          "name": "stderr"
        },
        {
          "output_type": "stream",
          "text": [
            "INFO:tensorflow:global_step/sec: 0.633183\n"
          ],
          "name": "stdout"
        },
        {
          "output_type": "stream",
          "text": [
            "INFO:tensorflow:global_step/sec: 0.633183\n"
          ],
          "name": "stderr"
        },
        {
          "output_type": "stream",
          "text": [
            "INFO:tensorflow:loss = 0.015645508, step = 200 (157.928 sec)\n"
          ],
          "name": "stdout"
        },
        {
          "output_type": "stream",
          "text": [
            "INFO:tensorflow:loss = 0.015645508, step = 200 (157.928 sec)\n"
          ],
          "name": "stderr"
        },
        {
          "output_type": "stream",
          "text": [
            "INFO:tensorflow:global_step/sec: 0.637769\n"
          ],
          "name": "stdout"
        },
        {
          "output_type": "stream",
          "text": [
            "INFO:tensorflow:global_step/sec: 0.637769\n"
          ],
          "name": "stderr"
        },
        {
          "output_type": "stream",
          "text": [
            "INFO:tensorflow:loss = 0.11069322, step = 300 (156.802 sec)\n"
          ],
          "name": "stdout"
        },
        {
          "output_type": "stream",
          "text": [
            "INFO:tensorflow:loss = 0.11069322, step = 300 (156.802 sec)\n"
          ],
          "name": "stderr"
        },
        {
          "output_type": "stream",
          "text": [
            "INFO:tensorflow:global_step/sec: 0.633364\n"
          ],
          "name": "stdout"
        },
        {
          "output_type": "stream",
          "text": [
            "INFO:tensorflow:global_step/sec: 0.633364\n"
          ],
          "name": "stderr"
        },
        {
          "output_type": "stream",
          "text": [
            "INFO:tensorflow:loss = 0.014729094, step = 400 (157.882 sec)\n"
          ],
          "name": "stdout"
        },
        {
          "output_type": "stream",
          "text": [
            "INFO:tensorflow:loss = 0.014729094, step = 400 (157.882 sec)\n"
          ],
          "name": "stderr"
        },
        {
          "output_type": "stream",
          "text": [
            "INFO:tensorflow:global_step/sec: 0.637833\n"
          ],
          "name": "stdout"
        },
        {
          "output_type": "stream",
          "text": [
            "INFO:tensorflow:global_step/sec: 0.637833\n"
          ],
          "name": "stderr"
        },
        {
          "output_type": "stream",
          "text": [
            "INFO:tensorflow:loss = 0.031386647, step = 500 (156.784 sec)\n"
          ],
          "name": "stdout"
        },
        {
          "output_type": "stream",
          "text": [
            "INFO:tensorflow:loss = 0.031386647, step = 500 (156.784 sec)\n"
          ],
          "name": "stderr"
        },
        {
          "output_type": "stream",
          "text": [
            "INFO:tensorflow:global_step/sec: 0.635583\n"
          ],
          "name": "stdout"
        },
        {
          "output_type": "stream",
          "text": [
            "INFO:tensorflow:global_step/sec: 0.635583\n"
          ],
          "name": "stderr"
        },
        {
          "output_type": "stream",
          "text": [
            "INFO:tensorflow:loss = 0.0029217564, step = 600 (157.335 sec)\n"
          ],
          "name": "stdout"
        },
        {
          "output_type": "stream",
          "text": [
            "INFO:tensorflow:loss = 0.0029217564, step = 600 (157.335 sec)\n"
          ],
          "name": "stderr"
        },
        {
          "output_type": "stream",
          "text": [
            "INFO:tensorflow:global_step/sec: 0.640525\n"
          ],
          "name": "stdout"
        },
        {
          "output_type": "stream",
          "text": [
            "INFO:tensorflow:global_step/sec: 0.640525\n"
          ],
          "name": "stderr"
        },
        {
          "output_type": "stream",
          "text": [
            "INFO:tensorflow:loss = 0.0019863276, step = 700 (156.119 sec)\n"
          ],
          "name": "stdout"
        },
        {
          "output_type": "stream",
          "text": [
            "INFO:tensorflow:loss = 0.0019863276, step = 700 (156.119 sec)\n"
          ],
          "name": "stderr"
        },
        {
          "output_type": "stream",
          "text": [
            "INFO:tensorflow:Saving checkpoints for 750 into output/model.ckpt.\n"
          ],
          "name": "stdout"
        },
        {
          "output_type": "stream",
          "text": [
            "INFO:tensorflow:Saving checkpoints for 750 into output/model.ckpt.\n"
          ],
          "name": "stderr"
        },
        {
          "output_type": "stream",
          "text": [
            "INFO:tensorflow:Loss for final step: 0.0015150579.\n"
          ],
          "name": "stdout"
        },
        {
          "output_type": "stream",
          "text": [
            "INFO:tensorflow:Loss for final step: 0.0015150579.\n"
          ],
          "name": "stderr"
        },
        {
          "output_type": "stream",
          "text": [
            "INFO:tensorflow:Calling model_fn.\n"
          ],
          "name": "stdout"
        },
        {
          "output_type": "stream",
          "text": [
            "INFO:tensorflow:Calling model_fn.\n"
          ],
          "name": "stderr"
        },
        {
          "output_type": "stream",
          "text": [
            "INFO:tensorflow:Saver not created because there are no variables in the graph to restore\n"
          ],
          "name": "stdout"
        },
        {
          "output_type": "stream",
          "text": [
            "INFO:tensorflow:Saver not created because there are no variables in the graph to restore\n",
            "/usr/local/lib/python3.6/dist-packages/tensorflow_core/python/framework/indexed_slices.py:424: UserWarning: Converting sparse IndexedSlices to a dense Tensor of unknown shape. This may consume a large amount of memory.\n",
            "  \"Converting sparse IndexedSlices to a dense Tensor of unknown shape. \"\n"
          ],
          "name": "stderr"
        },
        {
          "output_type": "stream",
          "text": [
            "INFO:tensorflow:Done calling model_fn.\n"
          ],
          "name": "stdout"
        },
        {
          "output_type": "stream",
          "text": [
            "INFO:tensorflow:Done calling model_fn.\n"
          ],
          "name": "stderr"
        },
        {
          "output_type": "stream",
          "text": [
            "INFO:tensorflow:Starting evaluation at 2019-10-23T09:35:54Z\n"
          ],
          "name": "stdout"
        },
        {
          "output_type": "stream",
          "text": [
            "INFO:tensorflow:Starting evaluation at 2019-10-23T09:35:54Z\n"
          ],
          "name": "stderr"
        },
        {
          "output_type": "stream",
          "text": [
            "INFO:tensorflow:Graph was finalized.\n"
          ],
          "name": "stdout"
        },
        {
          "output_type": "stream",
          "text": [
            "INFO:tensorflow:Graph was finalized.\n"
          ],
          "name": "stderr"
        },
        {
          "output_type": "stream",
          "text": [
            "INFO:tensorflow:Restoring parameters from output/model.ckpt-750\n"
          ],
          "name": "stdout"
        },
        {
          "output_type": "stream",
          "text": [
            "INFO:tensorflow:Restoring parameters from output/model.ckpt-750\n"
          ],
          "name": "stderr"
        },
        {
          "output_type": "stream",
          "text": [
            "INFO:tensorflow:Running local_init_op.\n"
          ],
          "name": "stdout"
        },
        {
          "output_type": "stream",
          "text": [
            "INFO:tensorflow:Running local_init_op.\n"
          ],
          "name": "stderr"
        },
        {
          "output_type": "stream",
          "text": [
            "INFO:tensorflow:Done running local_init_op.\n"
          ],
          "name": "stdout"
        },
        {
          "output_type": "stream",
          "text": [
            "INFO:tensorflow:Done running local_init_op.\n"
          ],
          "name": "stderr"
        },
        {
          "output_type": "stream",
          "text": [
            "INFO:tensorflow:Finished evaluation at 2019-10-23-09:36:35\n"
          ],
          "name": "stdout"
        },
        {
          "output_type": "stream",
          "text": [
            "INFO:tensorflow:Finished evaluation at 2019-10-23-09:36:35\n"
          ],
          "name": "stderr"
        },
        {
          "output_type": "stream",
          "text": [
            "INFO:tensorflow:Saving dict for global step 750: auc = 0.9402202, eval_accuracy = 0.974, f1_score = 0.90613717, false_negatives = 30.0, false_positives = 22.0, global_step = 750, loss = 0.11951409, precision = 0.9194139, recall = 0.8932384, true_negatives = 1697.0, true_positives = 251.0\n"
          ],
          "name": "stdout"
        },
        {
          "output_type": "stream",
          "text": [
            "INFO:tensorflow:Saving dict for global step 750: auc = 0.9402202, eval_accuracy = 0.974, f1_score = 0.90613717, false_negatives = 30.0, false_positives = 22.0, global_step = 750, loss = 0.11951409, precision = 0.9194139, recall = 0.8932384, true_negatives = 1697.0, true_positives = 251.0\n"
          ],
          "name": "stderr"
        },
        {
          "output_type": "stream",
          "text": [
            "INFO:tensorflow:Saving 'checkpoint_path' summary for global step 750: output/model.ckpt-750\n"
          ],
          "name": "stdout"
        },
        {
          "output_type": "stream",
          "text": [
            "INFO:tensorflow:Saving 'checkpoint_path' summary for global step 750: output/model.ckpt-750\n"
          ],
          "name": "stderr"
        }
      ]
    },
    {
      "cell_type": "code",
      "metadata": {
        "id": "YLOvtveTMqwp",
        "colab_type": "code",
        "outputId": "c188e4cc-1123-44d6-88b6-7bfa116feca5",
        "colab": {
          "base_uri": "https://localhost:8080/",
          "height": 390
        }
      },
      "source": [
        "pretty_print(result)"
      ],
      "execution_count": 14,
      "outputs": [
        {
          "output_type": "execute_result",
          "data": {
            "text/html": [
              "<div>\n",
              "<style scoped>\n",
              "    .dataframe tbody tr th:only-of-type {\n",
              "        vertical-align: middle;\n",
              "    }\n",
              "\n",
              "    .dataframe tbody tr th {\n",
              "        vertical-align: top;\n",
              "    }\n",
              "\n",
              "    .dataframe thead th {\n",
              "        text-align: right;\n",
              "    }\n",
              "</style>\n",
              "<table border=\"1\" class=\"dataframe\">\n",
              "  <thead>\n",
              "    <tr style=\"text-align: right;\">\n",
              "      <th></th>\n",
              "      <th>values</th>\n",
              "    </tr>\n",
              "  </thead>\n",
              "  <tbody>\n",
              "    <tr>\n",
              "      <th>auc</th>\n",
              "      <td>0.940220</td>\n",
              "    </tr>\n",
              "    <tr>\n",
              "      <th>eval_accuracy</th>\n",
              "      <td>0.974000</td>\n",
              "    </tr>\n",
              "    <tr>\n",
              "      <th>f1_score</th>\n",
              "      <td>0.906137</td>\n",
              "    </tr>\n",
              "    <tr>\n",
              "      <th>false_negatives</th>\n",
              "      <td>30.000000</td>\n",
              "    </tr>\n",
              "    <tr>\n",
              "      <th>false_positives</th>\n",
              "      <td>22.000000</td>\n",
              "    </tr>\n",
              "    <tr>\n",
              "      <th>global_step</th>\n",
              "      <td>750.000000</td>\n",
              "    </tr>\n",
              "    <tr>\n",
              "      <th>loss</th>\n",
              "      <td>0.119514</td>\n",
              "    </tr>\n",
              "    <tr>\n",
              "      <th>precision</th>\n",
              "      <td>0.919414</td>\n",
              "    </tr>\n",
              "    <tr>\n",
              "      <th>recall</th>\n",
              "      <td>0.893238</td>\n",
              "    </tr>\n",
              "    <tr>\n",
              "      <th>true_negatives</th>\n",
              "      <td>1697.000000</td>\n",
              "    </tr>\n",
              "    <tr>\n",
              "      <th>true_positives</th>\n",
              "      <td>251.000000</td>\n",
              "    </tr>\n",
              "  </tbody>\n",
              "</table>\n",
              "</div>"
            ],
            "text/plain": [
              "                      values\n",
              "auc                 0.940220\n",
              "eval_accuracy       0.974000\n",
              "f1_score            0.906137\n",
              "false_negatives    30.000000\n",
              "false_positives    22.000000\n",
              "global_step       750.000000\n",
              "loss                0.119514\n",
              "precision           0.919414\n",
              "recall              0.893238\n",
              "true_negatives   1697.000000\n",
              "true_positives    251.000000"
            ]
          },
          "metadata": {
            "tags": []
          },
          "execution_count": 14
        }
      ]
    },
    {
      "cell_type": "code",
      "metadata": {
        "id": "D0OPTDcGMsJw",
        "colab_type": "code",
        "colab": {}
      },
      "source": [
        "def getPrediction(in_sentences, estimator):\n",
        "  labels = [\"Negaitive\", \"Positive\"]\n",
        "  label_list = train['label'].unique().tolist()\n",
        "  MAX_SEQ_LENGTH = 128\n",
        "  bert_model_hub = \"https://tfhub.dev/google/bert_chinese_L-12_H-768_A-12/1\"\n",
        "  \n",
        "  tokenizer = create_tokenizer_from_hub_module(bert_model_hub)\n",
        "  input_examples = [bert.run_classifier.InputExample(guid=None, \n",
        "                                                     text_a=x, \n",
        "                                                     text_b=None, \n",
        "                                                     label=0) \n",
        "                    for x in in_sentences]\n",
        "  input_features = bert.run_classifier.convert_examples_to_features(input_examples, \n",
        "                                                                    label_list, \n",
        "                                                                    MAX_SEQ_LENGTH, \n",
        "                                                                    tokenizer)\n",
        "  predict_input_fn = bert.run_classifier.input_fn_builder(\n",
        "      features=input_features, \n",
        "      seq_length=MAX_SEQ_LENGTH, \n",
        "      is_training=False, \n",
        "      drop_remainder=False)\n",
        "\n",
        "  predictions = estimator.predict(predict_input_fn)\n",
        "  \n",
        "  return [(sentence, prediction['probabilities'], labels[prediction['labels']]) for sentence, prediction in zip(in_sentences, predictions)]"
      ],
      "execution_count": 0,
      "outputs": []
    },
    {
      "cell_type": "code",
      "metadata": {
        "id": "PK8PlJ_3dl3a",
        "colab_type": "code",
        "outputId": "c6dcdf05-0123-4c8b-af86-3c5c769a146f",
        "colab": {
          "base_uri": "https://localhost:8080/",
          "height": 1000
        }
      },
      "source": [
        "target = pd.read_csv('test_new.csv')\n",
        "pred_sentences = target['comment'].values.tolist()\n",
        "predictions = getPrediction(pred_sentences, estimator)"
      ],
      "execution_count": 16,
      "outputs": [
        {
          "output_type": "stream",
          "text": [
            "INFO:tensorflow:Saver not created because there are no variables in the graph to restore\n"
          ],
          "name": "stdout"
        },
        {
          "output_type": "stream",
          "text": [
            "INFO:tensorflow:Saver not created because there are no variables in the graph to restore\n"
          ],
          "name": "stderr"
        },
        {
          "output_type": "stream",
          "text": [
            "INFO:tensorflow:Writing example 0 of 2000\n"
          ],
          "name": "stdout"
        },
        {
          "output_type": "stream",
          "text": [
            "INFO:tensorflow:Writing example 0 of 2000\n"
          ],
          "name": "stderr"
        },
        {
          "output_type": "stream",
          "text": [
            "INFO:tensorflow:*** Example ***\n"
          ],
          "name": "stdout"
        },
        {
          "output_type": "stream",
          "text": [
            "INFO:tensorflow:*** Example ***\n"
          ],
          "name": "stderr"
        },
        {
          "output_type": "stream",
          "text": [
            "INFO:tensorflow:guid: None\n"
          ],
          "name": "stdout"
        },
        {
          "output_type": "stream",
          "text": [
            "INFO:tensorflow:guid: None\n"
          ],
          "name": "stderr"
        },
        {
          "output_type": "stream",
          "text": [
            "INFO:tensorflow:tokens: [CLS] 糯 米 团 是 我 小 时 候 的 记 忆 了 ， 吃 起 还 是 好 吃 ， 只 是 小 时 候 的 油 条 没 有 这 么 硬 ！ 油 茶 也 还 好 ！ 可 以 试 试 [SEP]\n"
          ],
          "name": "stdout"
        },
        {
          "output_type": "stream",
          "text": [
            "INFO:tensorflow:tokens: [CLS] 糯 米 团 是 我 小 时 候 的 记 忆 了 ， 吃 起 还 是 好 吃 ， 只 是 小 时 候 的 油 条 没 有 这 么 硬 ！ 油 茶 也 还 好 ！ 可 以 试 试 [SEP]\n"
          ],
          "name": "stderr"
        },
        {
          "output_type": "stream",
          "text": [
            "INFO:tensorflow:input_ids: 101 5140 5101 1730 3221 2769 2207 3198 952 4638 6381 2554 749 8024 1391 6629 6820 3221 1962 1391 8024 1372 3221 2207 3198 952 4638 3779 3340 3766 3300 6821 720 4801 8013 3779 5763 738 6820 1962 8013 1377 809 6407 6407 102 0 0 0 0 0 0 0 0 0 0 0 0 0 0 0 0 0 0 0 0 0 0 0 0 0 0 0 0 0 0 0 0 0 0 0 0 0 0 0 0 0 0 0 0 0 0 0 0 0 0 0 0 0 0 0 0 0 0 0 0 0 0 0 0 0 0 0 0 0 0 0 0 0 0 0 0 0 0 0 0 0 0\n"
          ],
          "name": "stdout"
        },
        {
          "output_type": "stream",
          "text": [
            "INFO:tensorflow:input_ids: 101 5140 5101 1730 3221 2769 2207 3198 952 4638 6381 2554 749 8024 1391 6629 6820 3221 1962 1391 8024 1372 3221 2207 3198 952 4638 3779 3340 3766 3300 6821 720 4801 8013 3779 5763 738 6820 1962 8013 1377 809 6407 6407 102 0 0 0 0 0 0 0 0 0 0 0 0 0 0 0 0 0 0 0 0 0 0 0 0 0 0 0 0 0 0 0 0 0 0 0 0 0 0 0 0 0 0 0 0 0 0 0 0 0 0 0 0 0 0 0 0 0 0 0 0 0 0 0 0 0 0 0 0 0 0 0 0 0 0 0 0 0 0 0 0 0 0\n"
          ],
          "name": "stderr"
        },
        {
          "output_type": "stream",
          "text": [
            "INFO:tensorflow:input_mask: 1 1 1 1 1 1 1 1 1 1 1 1 1 1 1 1 1 1 1 1 1 1 1 1 1 1 1 1 1 1 1 1 1 1 1 1 1 1 1 1 1 1 1 1 1 1 0 0 0 0 0 0 0 0 0 0 0 0 0 0 0 0 0 0 0 0 0 0 0 0 0 0 0 0 0 0 0 0 0 0 0 0 0 0 0 0 0 0 0 0 0 0 0 0 0 0 0 0 0 0 0 0 0 0 0 0 0 0 0 0 0 0 0 0 0 0 0 0 0 0 0 0 0 0 0 0 0 0\n"
          ],
          "name": "stdout"
        },
        {
          "output_type": "stream",
          "text": [
            "INFO:tensorflow:input_mask: 1 1 1 1 1 1 1 1 1 1 1 1 1 1 1 1 1 1 1 1 1 1 1 1 1 1 1 1 1 1 1 1 1 1 1 1 1 1 1 1 1 1 1 1 1 1 0 0 0 0 0 0 0 0 0 0 0 0 0 0 0 0 0 0 0 0 0 0 0 0 0 0 0 0 0 0 0 0 0 0 0 0 0 0 0 0 0 0 0 0 0 0 0 0 0 0 0 0 0 0 0 0 0 0 0 0 0 0 0 0 0 0 0 0 0 0 0 0 0 0 0 0 0 0 0 0 0 0\n"
          ],
          "name": "stderr"
        },
        {
          "output_type": "stream",
          "text": [
            "INFO:tensorflow:segment_ids: 0 0 0 0 0 0 0 0 0 0 0 0 0 0 0 0 0 0 0 0 0 0 0 0 0 0 0 0 0 0 0 0 0 0 0 0 0 0 0 0 0 0 0 0 0 0 0 0 0 0 0 0 0 0 0 0 0 0 0 0 0 0 0 0 0 0 0 0 0 0 0 0 0 0 0 0 0 0 0 0 0 0 0 0 0 0 0 0 0 0 0 0 0 0 0 0 0 0 0 0 0 0 0 0 0 0 0 0 0 0 0 0 0 0 0 0 0 0 0 0 0 0 0 0 0 0 0 0\n"
          ],
          "name": "stdout"
        },
        {
          "output_type": "stream",
          "text": [
            "INFO:tensorflow:segment_ids: 0 0 0 0 0 0 0 0 0 0 0 0 0 0 0 0 0 0 0 0 0 0 0 0 0 0 0 0 0 0 0 0 0 0 0 0 0 0 0 0 0 0 0 0 0 0 0 0 0 0 0 0 0 0 0 0 0 0 0 0 0 0 0 0 0 0 0 0 0 0 0 0 0 0 0 0 0 0 0 0 0 0 0 0 0 0 0 0 0 0 0 0 0 0 0 0 0 0 0 0 0 0 0 0 0 0 0 0 0 0 0 0 0 0 0 0 0 0 0 0 0 0 0 0 0 0 0 0\n"
          ],
          "name": "stderr"
        },
        {
          "output_type": "stream",
          "text": [
            "INFO:tensorflow:label: 0 (id = 0)\n"
          ],
          "name": "stdout"
        },
        {
          "output_type": "stream",
          "text": [
            "INFO:tensorflow:label: 0 (id = 0)\n"
          ],
          "name": "stderr"
        },
        {
          "output_type": "stream",
          "text": [
            "INFO:tensorflow:*** Example ***\n"
          ],
          "name": "stdout"
        },
        {
          "output_type": "stream",
          "text": [
            "INFO:tensorflow:*** Example ***\n"
          ],
          "name": "stderr"
        },
        {
          "output_type": "stream",
          "text": [
            "INFO:tensorflow:guid: None\n"
          ],
          "name": "stdout"
        },
        {
          "output_type": "stream",
          "text": [
            "INFO:tensorflow:guid: None\n"
          ],
          "name": "stderr"
        },
        {
          "output_type": "stream",
          "text": [
            "INFO:tensorflow:tokens: [CLS] 满 满 的 五 星 好 评 ， 口 味 好 ， 服 务 好 ， 特 别 喜 欢 ， 昨 天 第 一 次 买 ， 今 天 就 回 购 了 ， 买 的 刨 奶 ， 店 长 问 我 加 腰 果 还 是 核 桃 ， 我 说 随 便 ， 他 又 问 我 喜 欢 吃 什 么 ， 我 说 都 喜 欢 ， 然 后 ， 帅 帅 的 店 长 都 给 我 加 了 ， 超 赞 [SEP]\n"
          ],
          "name": "stdout"
        },
        {
          "output_type": "stream",
          "text": [
            "INFO:tensorflow:tokens: [CLS] 满 满 的 五 星 好 评 ， 口 味 好 ， 服 务 好 ， 特 别 喜 欢 ， 昨 天 第 一 次 买 ， 今 天 就 回 购 了 ， 买 的 刨 奶 ， 店 长 问 我 加 腰 果 还 是 核 桃 ， 我 说 随 便 ， 他 又 问 我 喜 欢 吃 什 么 ， 我 说 都 喜 欢 ， 然 后 ， 帅 帅 的 店 长 都 给 我 加 了 ， 超 赞 [SEP]\n"
          ],
          "name": "stderr"
        },
        {
          "output_type": "stream",
          "text": [
            "INFO:tensorflow:input_ids: 101 4007 4007 4638 758 3215 1962 6397 8024 1366 1456 1962 8024 3302 1218 1962 8024 4294 1166 1599 3614 8024 3219 1921 5018 671 3613 743 8024 791 1921 2218 1726 6579 749 8024 743 4638 1163 1959 8024 2421 7270 7309 2769 1217 5587 3362 6820 3221 3417 3425 8024 2769 6432 7390 912 8024 800 1348 7309 2769 1599 3614 1391 784 720 8024 2769 6432 6963 1599 3614 8024 4197 1400 8024 2358 2358 4638 2421 7270 6963 5314 2769 1217 749 8024 6631 6614 102 0 0 0 0 0 0 0 0 0 0 0 0 0 0 0 0 0 0 0 0 0 0 0 0 0 0 0 0 0 0 0 0 0 0 0 0 0\n"
          ],
          "name": "stdout"
        },
        {
          "output_type": "stream",
          "text": [
            "INFO:tensorflow:input_ids: 101 4007 4007 4638 758 3215 1962 6397 8024 1366 1456 1962 8024 3302 1218 1962 8024 4294 1166 1599 3614 8024 3219 1921 5018 671 3613 743 8024 791 1921 2218 1726 6579 749 8024 743 4638 1163 1959 8024 2421 7270 7309 2769 1217 5587 3362 6820 3221 3417 3425 8024 2769 6432 7390 912 8024 800 1348 7309 2769 1599 3614 1391 784 720 8024 2769 6432 6963 1599 3614 8024 4197 1400 8024 2358 2358 4638 2421 7270 6963 5314 2769 1217 749 8024 6631 6614 102 0 0 0 0 0 0 0 0 0 0 0 0 0 0 0 0 0 0 0 0 0 0 0 0 0 0 0 0 0 0 0 0 0 0 0 0 0\n"
          ],
          "name": "stderr"
        },
        {
          "output_type": "stream",
          "text": [
            "INFO:tensorflow:input_mask: 1 1 1 1 1 1 1 1 1 1 1 1 1 1 1 1 1 1 1 1 1 1 1 1 1 1 1 1 1 1 1 1 1 1 1 1 1 1 1 1 1 1 1 1 1 1 1 1 1 1 1 1 1 1 1 1 1 1 1 1 1 1 1 1 1 1 1 1 1 1 1 1 1 1 1 1 1 1 1 1 1 1 1 1 1 1 1 1 1 1 1 0 0 0 0 0 0 0 0 0 0 0 0 0 0 0 0 0 0 0 0 0 0 0 0 0 0 0 0 0 0 0 0 0 0 0 0 0\n"
          ],
          "name": "stdout"
        },
        {
          "output_type": "stream",
          "text": [
            "INFO:tensorflow:input_mask: 1 1 1 1 1 1 1 1 1 1 1 1 1 1 1 1 1 1 1 1 1 1 1 1 1 1 1 1 1 1 1 1 1 1 1 1 1 1 1 1 1 1 1 1 1 1 1 1 1 1 1 1 1 1 1 1 1 1 1 1 1 1 1 1 1 1 1 1 1 1 1 1 1 1 1 1 1 1 1 1 1 1 1 1 1 1 1 1 1 1 1 0 0 0 0 0 0 0 0 0 0 0 0 0 0 0 0 0 0 0 0 0 0 0 0 0 0 0 0 0 0 0 0 0 0 0 0 0\n"
          ],
          "name": "stderr"
        },
        {
          "output_type": "stream",
          "text": [
            "INFO:tensorflow:segment_ids: 0 0 0 0 0 0 0 0 0 0 0 0 0 0 0 0 0 0 0 0 0 0 0 0 0 0 0 0 0 0 0 0 0 0 0 0 0 0 0 0 0 0 0 0 0 0 0 0 0 0 0 0 0 0 0 0 0 0 0 0 0 0 0 0 0 0 0 0 0 0 0 0 0 0 0 0 0 0 0 0 0 0 0 0 0 0 0 0 0 0 0 0 0 0 0 0 0 0 0 0 0 0 0 0 0 0 0 0 0 0 0 0 0 0 0 0 0 0 0 0 0 0 0 0 0 0 0 0\n"
          ],
          "name": "stdout"
        },
        {
          "output_type": "stream",
          "text": [
            "INFO:tensorflow:segment_ids: 0 0 0 0 0 0 0 0 0 0 0 0 0 0 0 0 0 0 0 0 0 0 0 0 0 0 0 0 0 0 0 0 0 0 0 0 0 0 0 0 0 0 0 0 0 0 0 0 0 0 0 0 0 0 0 0 0 0 0 0 0 0 0 0 0 0 0 0 0 0 0 0 0 0 0 0 0 0 0 0 0 0 0 0 0 0 0 0 0 0 0 0 0 0 0 0 0 0 0 0 0 0 0 0 0 0 0 0 0 0 0 0 0 0 0 0 0 0 0 0 0 0 0 0 0 0 0 0\n"
          ],
          "name": "stderr"
        },
        {
          "output_type": "stream",
          "text": [
            "INFO:tensorflow:label: 0 (id = 0)\n"
          ],
          "name": "stdout"
        },
        {
          "output_type": "stream",
          "text": [
            "INFO:tensorflow:label: 0 (id = 0)\n"
          ],
          "name": "stderr"
        },
        {
          "output_type": "stream",
          "text": [
            "INFO:tensorflow:*** Example ***\n"
          ],
          "name": "stdout"
        },
        {
          "output_type": "stream",
          "text": [
            "INFO:tensorflow:*** Example ***\n"
          ],
          "name": "stderr"
        },
        {
          "output_type": "stream",
          "text": [
            "INFO:tensorflow:guid: None\n"
          ],
          "name": "stdout"
        },
        {
          "output_type": "stream",
          "text": [
            "INFO:tensorflow:guid: None\n"
          ],
          "name": "stderr"
        },
        {
          "output_type": "stream",
          "text": [
            "INFO:tensorflow:tokens: [CLS] 好 喝 ！ 经 常 会 再 去 买 来 喝 ！ 就 是 排 队 的 人 太 多 了 [SEP]\n"
          ],
          "name": "stdout"
        },
        {
          "output_type": "stream",
          "text": [
            "INFO:tensorflow:tokens: [CLS] 好 喝 ！ 经 常 会 再 去 买 来 喝 ！ 就 是 排 队 的 人 太 多 了 [SEP]\n"
          ],
          "name": "stderr"
        },
        {
          "output_type": "stream",
          "text": [
            "INFO:tensorflow:input_ids: 101 1962 1600 8013 5307 2382 833 1086 1343 743 3341 1600 8013 2218 3221 2961 7339 4638 782 1922 1914 749 102 0 0 0 0 0 0 0 0 0 0 0 0 0 0 0 0 0 0 0 0 0 0 0 0 0 0 0 0 0 0 0 0 0 0 0 0 0 0 0 0 0 0 0 0 0 0 0 0 0 0 0 0 0 0 0 0 0 0 0 0 0 0 0 0 0 0 0 0 0 0 0 0 0 0 0 0 0 0 0 0 0 0 0 0 0 0 0 0 0 0 0 0 0 0 0 0 0 0 0 0 0 0 0 0 0\n"
          ],
          "name": "stdout"
        },
        {
          "output_type": "stream",
          "text": [
            "INFO:tensorflow:input_ids: 101 1962 1600 8013 5307 2382 833 1086 1343 743 3341 1600 8013 2218 3221 2961 7339 4638 782 1922 1914 749 102 0 0 0 0 0 0 0 0 0 0 0 0 0 0 0 0 0 0 0 0 0 0 0 0 0 0 0 0 0 0 0 0 0 0 0 0 0 0 0 0 0 0 0 0 0 0 0 0 0 0 0 0 0 0 0 0 0 0 0 0 0 0 0 0 0 0 0 0 0 0 0 0 0 0 0 0 0 0 0 0 0 0 0 0 0 0 0 0 0 0 0 0 0 0 0 0 0 0 0 0 0 0 0 0 0\n"
          ],
          "name": "stderr"
        },
        {
          "output_type": "stream",
          "text": [
            "INFO:tensorflow:input_mask: 1 1 1 1 1 1 1 1 1 1 1 1 1 1 1 1 1 1 1 1 1 1 1 0 0 0 0 0 0 0 0 0 0 0 0 0 0 0 0 0 0 0 0 0 0 0 0 0 0 0 0 0 0 0 0 0 0 0 0 0 0 0 0 0 0 0 0 0 0 0 0 0 0 0 0 0 0 0 0 0 0 0 0 0 0 0 0 0 0 0 0 0 0 0 0 0 0 0 0 0 0 0 0 0 0 0 0 0 0 0 0 0 0 0 0 0 0 0 0 0 0 0 0 0 0 0 0 0\n"
          ],
          "name": "stdout"
        },
        {
          "output_type": "stream",
          "text": [
            "INFO:tensorflow:input_mask: 1 1 1 1 1 1 1 1 1 1 1 1 1 1 1 1 1 1 1 1 1 1 1 0 0 0 0 0 0 0 0 0 0 0 0 0 0 0 0 0 0 0 0 0 0 0 0 0 0 0 0 0 0 0 0 0 0 0 0 0 0 0 0 0 0 0 0 0 0 0 0 0 0 0 0 0 0 0 0 0 0 0 0 0 0 0 0 0 0 0 0 0 0 0 0 0 0 0 0 0 0 0 0 0 0 0 0 0 0 0 0 0 0 0 0 0 0 0 0 0 0 0 0 0 0 0 0 0\n"
          ],
          "name": "stderr"
        },
        {
          "output_type": "stream",
          "text": [
            "INFO:tensorflow:segment_ids: 0 0 0 0 0 0 0 0 0 0 0 0 0 0 0 0 0 0 0 0 0 0 0 0 0 0 0 0 0 0 0 0 0 0 0 0 0 0 0 0 0 0 0 0 0 0 0 0 0 0 0 0 0 0 0 0 0 0 0 0 0 0 0 0 0 0 0 0 0 0 0 0 0 0 0 0 0 0 0 0 0 0 0 0 0 0 0 0 0 0 0 0 0 0 0 0 0 0 0 0 0 0 0 0 0 0 0 0 0 0 0 0 0 0 0 0 0 0 0 0 0 0 0 0 0 0 0 0\n"
          ],
          "name": "stdout"
        },
        {
          "output_type": "stream",
          "text": [
            "INFO:tensorflow:segment_ids: 0 0 0 0 0 0 0 0 0 0 0 0 0 0 0 0 0 0 0 0 0 0 0 0 0 0 0 0 0 0 0 0 0 0 0 0 0 0 0 0 0 0 0 0 0 0 0 0 0 0 0 0 0 0 0 0 0 0 0 0 0 0 0 0 0 0 0 0 0 0 0 0 0 0 0 0 0 0 0 0 0 0 0 0 0 0 0 0 0 0 0 0 0 0 0 0 0 0 0 0 0 0 0 0 0 0 0 0 0 0 0 0 0 0 0 0 0 0 0 0 0 0 0 0 0 0 0 0\n"
          ],
          "name": "stderr"
        },
        {
          "output_type": "stream",
          "text": [
            "INFO:tensorflow:label: 0 (id = 0)\n"
          ],
          "name": "stdout"
        },
        {
          "output_type": "stream",
          "text": [
            "INFO:tensorflow:label: 0 (id = 0)\n"
          ],
          "name": "stderr"
        },
        {
          "output_type": "stream",
          "text": [
            "INFO:tensorflow:*** Example ***\n"
          ],
          "name": "stdout"
        },
        {
          "output_type": "stream",
          "text": [
            "INFO:tensorflow:*** Example ***\n"
          ],
          "name": "stderr"
        },
        {
          "output_type": "stream",
          "text": [
            "INFO:tensorflow:guid: None\n"
          ],
          "name": "stdout"
        },
        {
          "output_type": "stream",
          "text": [
            "INFO:tensorflow:guid: None\n"
          ],
          "name": "stderr"
        },
        {
          "output_type": "stream",
          "text": [
            "INFO:tensorflow:tokens: [CLS] 三 个 人 订 的 四 人 餐 ， 菜 量 大 没 吃 完 ， 问 道 不 错 。 [SEP]\n"
          ],
          "name": "stdout"
        },
        {
          "output_type": "stream",
          "text": [
            "INFO:tensorflow:tokens: [CLS] 三 个 人 订 的 四 人 餐 ， 菜 量 大 没 吃 完 ， 问 道 不 错 。 [SEP]\n"
          ],
          "name": "stderr"
        },
        {
          "output_type": "stream",
          "text": [
            "INFO:tensorflow:input_ids: 101 676 702 782 6370 4638 1724 782 7623 8024 5831 7030 1920 3766 1391 2130 8024 7309 6887 679 7231 511 102 0 0 0 0 0 0 0 0 0 0 0 0 0 0 0 0 0 0 0 0 0 0 0 0 0 0 0 0 0 0 0 0 0 0 0 0 0 0 0 0 0 0 0 0 0 0 0 0 0 0 0 0 0 0 0 0 0 0 0 0 0 0 0 0 0 0 0 0 0 0 0 0 0 0 0 0 0 0 0 0 0 0 0 0 0 0 0 0 0 0 0 0 0 0 0 0 0 0 0 0 0 0 0 0 0\n"
          ],
          "name": "stdout"
        },
        {
          "output_type": "stream",
          "text": [
            "INFO:tensorflow:input_ids: 101 676 702 782 6370 4638 1724 782 7623 8024 5831 7030 1920 3766 1391 2130 8024 7309 6887 679 7231 511 102 0 0 0 0 0 0 0 0 0 0 0 0 0 0 0 0 0 0 0 0 0 0 0 0 0 0 0 0 0 0 0 0 0 0 0 0 0 0 0 0 0 0 0 0 0 0 0 0 0 0 0 0 0 0 0 0 0 0 0 0 0 0 0 0 0 0 0 0 0 0 0 0 0 0 0 0 0 0 0 0 0 0 0 0 0 0 0 0 0 0 0 0 0 0 0 0 0 0 0 0 0 0 0 0 0\n"
          ],
          "name": "stderr"
        },
        {
          "output_type": "stream",
          "text": [
            "INFO:tensorflow:input_mask: 1 1 1 1 1 1 1 1 1 1 1 1 1 1 1 1 1 1 1 1 1 1 1 0 0 0 0 0 0 0 0 0 0 0 0 0 0 0 0 0 0 0 0 0 0 0 0 0 0 0 0 0 0 0 0 0 0 0 0 0 0 0 0 0 0 0 0 0 0 0 0 0 0 0 0 0 0 0 0 0 0 0 0 0 0 0 0 0 0 0 0 0 0 0 0 0 0 0 0 0 0 0 0 0 0 0 0 0 0 0 0 0 0 0 0 0 0 0 0 0 0 0 0 0 0 0 0 0\n"
          ],
          "name": "stdout"
        },
        {
          "output_type": "stream",
          "text": [
            "INFO:tensorflow:input_mask: 1 1 1 1 1 1 1 1 1 1 1 1 1 1 1 1 1 1 1 1 1 1 1 0 0 0 0 0 0 0 0 0 0 0 0 0 0 0 0 0 0 0 0 0 0 0 0 0 0 0 0 0 0 0 0 0 0 0 0 0 0 0 0 0 0 0 0 0 0 0 0 0 0 0 0 0 0 0 0 0 0 0 0 0 0 0 0 0 0 0 0 0 0 0 0 0 0 0 0 0 0 0 0 0 0 0 0 0 0 0 0 0 0 0 0 0 0 0 0 0 0 0 0 0 0 0 0 0\n"
          ],
          "name": "stderr"
        },
        {
          "output_type": "stream",
          "text": [
            "INFO:tensorflow:segment_ids: 0 0 0 0 0 0 0 0 0 0 0 0 0 0 0 0 0 0 0 0 0 0 0 0 0 0 0 0 0 0 0 0 0 0 0 0 0 0 0 0 0 0 0 0 0 0 0 0 0 0 0 0 0 0 0 0 0 0 0 0 0 0 0 0 0 0 0 0 0 0 0 0 0 0 0 0 0 0 0 0 0 0 0 0 0 0 0 0 0 0 0 0 0 0 0 0 0 0 0 0 0 0 0 0 0 0 0 0 0 0 0 0 0 0 0 0 0 0 0 0 0 0 0 0 0 0 0 0\n"
          ],
          "name": "stdout"
        },
        {
          "output_type": "stream",
          "text": [
            "INFO:tensorflow:segment_ids: 0 0 0 0 0 0 0 0 0 0 0 0 0 0 0 0 0 0 0 0 0 0 0 0 0 0 0 0 0 0 0 0 0 0 0 0 0 0 0 0 0 0 0 0 0 0 0 0 0 0 0 0 0 0 0 0 0 0 0 0 0 0 0 0 0 0 0 0 0 0 0 0 0 0 0 0 0 0 0 0 0 0 0 0 0 0 0 0 0 0 0 0 0 0 0 0 0 0 0 0 0 0 0 0 0 0 0 0 0 0 0 0 0 0 0 0 0 0 0 0 0 0 0 0 0 0 0 0\n"
          ],
          "name": "stderr"
        },
        {
          "output_type": "stream",
          "text": [
            "INFO:tensorflow:label: 0 (id = 0)\n"
          ],
          "name": "stdout"
        },
        {
          "output_type": "stream",
          "text": [
            "INFO:tensorflow:label: 0 (id = 0)\n"
          ],
          "name": "stderr"
        },
        {
          "output_type": "stream",
          "text": [
            "INFO:tensorflow:*** Example ***\n"
          ],
          "name": "stdout"
        },
        {
          "output_type": "stream",
          "text": [
            "INFO:tensorflow:*** Example ***\n"
          ],
          "name": "stderr"
        },
        {
          "output_type": "stream",
          "text": [
            "INFO:tensorflow:guid: None\n"
          ],
          "name": "stdout"
        },
        {
          "output_type": "stream",
          "text": [
            "INFO:tensorflow:guid: None\n"
          ],
          "name": "stderr"
        },
        {
          "output_type": "stream",
          "text": [
            "INFO:tensorflow:tokens: [CLS] 好 的 一 如 既 往 ， 真 真 爱 上 了 自 助 炒 饭 自 助 八 宝 粥 自 助 冰 粉 ！ ！ ！ 喜 欢 所 有 菜 和 肉 ， 两 女 一 男 吃 两 份 两 人 餐 没 吃 完 ， 饮 料 也 不 错 ！ 有 空 就 要 来 ！ [SEP]\n"
          ],
          "name": "stdout"
        },
        {
          "output_type": "stream",
          "text": [
            "INFO:tensorflow:tokens: [CLS] 好 的 一 如 既 往 ， 真 真 爱 上 了 自 助 炒 饭 自 助 八 宝 粥 自 助 冰 粉 ！ ！ ！ 喜 欢 所 有 菜 和 肉 ， 两 女 一 男 吃 两 份 两 人 餐 没 吃 完 ， 饮 料 也 不 错 ！ 有 空 就 要 来 ！ [SEP]\n"
          ],
          "name": "stderr"
        },
        {
          "output_type": "stream",
          "text": [
            "INFO:tensorflow:input_ids: 101 1962 4638 671 1963 3188 2518 8024 4696 4696 4263 677 749 5632 1221 4143 7649 5632 1221 1061 2140 5114 5632 1221 1102 5106 8013 8013 8013 1599 3614 2792 3300 5831 1469 5489 8024 697 1957 671 4511 1391 697 819 697 782 7623 3766 1391 2130 8024 7650 3160 738 679 7231 8013 3300 4958 2218 6206 3341 8013 102 0 0 0 0 0 0 0 0 0 0 0 0 0 0 0 0 0 0 0 0 0 0 0 0 0 0 0 0 0 0 0 0 0 0 0 0 0 0 0 0 0 0 0 0 0 0 0 0 0 0 0 0 0 0 0 0 0 0 0 0 0 0 0 0\n"
          ],
          "name": "stdout"
        },
        {
          "output_type": "stream",
          "text": [
            "INFO:tensorflow:input_ids: 101 1962 4638 671 1963 3188 2518 8024 4696 4696 4263 677 749 5632 1221 4143 7649 5632 1221 1061 2140 5114 5632 1221 1102 5106 8013 8013 8013 1599 3614 2792 3300 5831 1469 5489 8024 697 1957 671 4511 1391 697 819 697 782 7623 3766 1391 2130 8024 7650 3160 738 679 7231 8013 3300 4958 2218 6206 3341 8013 102 0 0 0 0 0 0 0 0 0 0 0 0 0 0 0 0 0 0 0 0 0 0 0 0 0 0 0 0 0 0 0 0 0 0 0 0 0 0 0 0 0 0 0 0 0 0 0 0 0 0 0 0 0 0 0 0 0 0 0 0 0 0 0 0\n"
          ],
          "name": "stderr"
        },
        {
          "output_type": "stream",
          "text": [
            "INFO:tensorflow:input_mask: 1 1 1 1 1 1 1 1 1 1 1 1 1 1 1 1 1 1 1 1 1 1 1 1 1 1 1 1 1 1 1 1 1 1 1 1 1 1 1 1 1 1 1 1 1 1 1 1 1 1 1 1 1 1 1 1 1 1 1 1 1 1 1 1 0 0 0 0 0 0 0 0 0 0 0 0 0 0 0 0 0 0 0 0 0 0 0 0 0 0 0 0 0 0 0 0 0 0 0 0 0 0 0 0 0 0 0 0 0 0 0 0 0 0 0 0 0 0 0 0 0 0 0 0 0 0 0 0\n"
          ],
          "name": "stdout"
        },
        {
          "output_type": "stream",
          "text": [
            "INFO:tensorflow:input_mask: 1 1 1 1 1 1 1 1 1 1 1 1 1 1 1 1 1 1 1 1 1 1 1 1 1 1 1 1 1 1 1 1 1 1 1 1 1 1 1 1 1 1 1 1 1 1 1 1 1 1 1 1 1 1 1 1 1 1 1 1 1 1 1 1 0 0 0 0 0 0 0 0 0 0 0 0 0 0 0 0 0 0 0 0 0 0 0 0 0 0 0 0 0 0 0 0 0 0 0 0 0 0 0 0 0 0 0 0 0 0 0 0 0 0 0 0 0 0 0 0 0 0 0 0 0 0 0 0\n"
          ],
          "name": "stderr"
        },
        {
          "output_type": "stream",
          "text": [
            "INFO:tensorflow:segment_ids: 0 0 0 0 0 0 0 0 0 0 0 0 0 0 0 0 0 0 0 0 0 0 0 0 0 0 0 0 0 0 0 0 0 0 0 0 0 0 0 0 0 0 0 0 0 0 0 0 0 0 0 0 0 0 0 0 0 0 0 0 0 0 0 0 0 0 0 0 0 0 0 0 0 0 0 0 0 0 0 0 0 0 0 0 0 0 0 0 0 0 0 0 0 0 0 0 0 0 0 0 0 0 0 0 0 0 0 0 0 0 0 0 0 0 0 0 0 0 0 0 0 0 0 0 0 0 0 0\n"
          ],
          "name": "stdout"
        },
        {
          "output_type": "stream",
          "text": [
            "INFO:tensorflow:segment_ids: 0 0 0 0 0 0 0 0 0 0 0 0 0 0 0 0 0 0 0 0 0 0 0 0 0 0 0 0 0 0 0 0 0 0 0 0 0 0 0 0 0 0 0 0 0 0 0 0 0 0 0 0 0 0 0 0 0 0 0 0 0 0 0 0 0 0 0 0 0 0 0 0 0 0 0 0 0 0 0 0 0 0 0 0 0 0 0 0 0 0 0 0 0 0 0 0 0 0 0 0 0 0 0 0 0 0 0 0 0 0 0 0 0 0 0 0 0 0 0 0 0 0 0 0 0 0 0 0\n"
          ],
          "name": "stderr"
        },
        {
          "output_type": "stream",
          "text": [
            "INFO:tensorflow:label: 0 (id = 0)\n"
          ],
          "name": "stdout"
        },
        {
          "output_type": "stream",
          "text": [
            "INFO:tensorflow:label: 0 (id = 0)\n"
          ],
          "name": "stderr"
        },
        {
          "output_type": "stream",
          "text": [
            "INFO:tensorflow:Calling model_fn.\n"
          ],
          "name": "stdout"
        },
        {
          "output_type": "stream",
          "text": [
            "INFO:tensorflow:Calling model_fn.\n"
          ],
          "name": "stderr"
        },
        {
          "output_type": "stream",
          "text": [
            "INFO:tensorflow:Saver not created because there are no variables in the graph to restore\n"
          ],
          "name": "stdout"
        },
        {
          "output_type": "stream",
          "text": [
            "INFO:tensorflow:Saver not created because there are no variables in the graph to restore\n"
          ],
          "name": "stderr"
        },
        {
          "output_type": "stream",
          "text": [
            "INFO:tensorflow:Done calling model_fn.\n"
          ],
          "name": "stdout"
        },
        {
          "output_type": "stream",
          "text": [
            "INFO:tensorflow:Done calling model_fn.\n"
          ],
          "name": "stderr"
        },
        {
          "output_type": "stream",
          "text": [
            "INFO:tensorflow:Graph was finalized.\n"
          ],
          "name": "stdout"
        },
        {
          "output_type": "stream",
          "text": [
            "INFO:tensorflow:Graph was finalized.\n"
          ],
          "name": "stderr"
        },
        {
          "output_type": "stream",
          "text": [
            "INFO:tensorflow:Restoring parameters from output/model.ckpt-750\n"
          ],
          "name": "stdout"
        },
        {
          "output_type": "stream",
          "text": [
            "INFO:tensorflow:Restoring parameters from output/model.ckpt-750\n"
          ],
          "name": "stderr"
        },
        {
          "output_type": "stream",
          "text": [
            "INFO:tensorflow:Running local_init_op.\n"
          ],
          "name": "stdout"
        },
        {
          "output_type": "stream",
          "text": [
            "INFO:tensorflow:Running local_init_op.\n"
          ],
          "name": "stderr"
        },
        {
          "output_type": "stream",
          "text": [
            "INFO:tensorflow:Done running local_init_op.\n"
          ],
          "name": "stdout"
        },
        {
          "output_type": "stream",
          "text": [
            "INFO:tensorflow:Done running local_init_op.\n"
          ],
          "name": "stderr"
        }
      ]
    },
    {
      "cell_type": "code",
      "metadata": {
        "id": "ZMfB-mxBeaDA",
        "colab_type": "code",
        "outputId": "b26673de-2a35-4cff-ffee-42c3aa25dc5f",
        "colab": {
          "base_uri": "https://localhost:8080/",
          "height": 1000
        }
      },
      "source": [
        "predictions"
      ],
      "execution_count": 17,
      "outputs": [
        {
          "output_type": "execute_result",
          "data": {
            "text/plain": [
              "[('糯米团是我小时候的记忆了，吃起还是好吃，只是小时候的油条没有这么硬！油茶也还好！可以试试',\n",
              "  array([-3.5065223e-04, -7.9559903e+00], dtype=float32),\n",
              "  'Negaitive'),\n",
              " ('满满的五星好评，口味好，服务好，特别喜欢，昨天第一次买，今天就回购了，买的刨奶，店长问我加腰果还是核桃，我说随便，他又问我喜欢吃什么，我说都喜欢，然后，帅帅的店长都给我加了，超赞',\n",
              "  array([-4.7064672e-04, -7.6615443e+00], dtype=float32),\n",
              "  'Negaitive'),\n",
              " ('好喝！经常会再去买来喝！就是排队的人太多了',\n",
              "  array([-3.0310327e-04, -8.1017485e+00], dtype=float32),\n",
              "  'Negaitive'),\n",
              " ('三个人订的四人餐，菜量大没吃完，问道不错。',\n",
              "  array([-3.0191155e-04, -8.1053867e+00], dtype=float32),\n",
              "  'Negaitive'),\n",
              " ('好的一如既往，真真爱上了自助炒饭自助八宝粥自助冰粉！！！喜欢所有菜和肉，两女一男吃两份两人餐没吃完，饮料也不错！有空就要来！',\n",
              "  array([-2.6139180e-04, -8.2497635e+00], dtype=float32),\n",
              "  'Negaitive'),\n",
              " ('太tmd的难吃了跟狗屎一样草',\n",
              "  array([-0.05199534, -2.9824867 ], dtype=float32),\n",
              "  'Negaitive'),\n",
              " ('火锅味的味道比渝李记那个火锅米线的味道好吃，更有一种老火锅的感觉，很划算，但是有韭菜叶的就好了，更喜欢吃韭菜叶的面',\n",
              "  array([-3.3468366e-04, -8.0023909e+00], dtype=float32),\n",
              "  'Negaitive'),\n",
              " ('今天肯定是走着来的，饿坏宝宝了',\n",
              "  array([-4.6147188e-04, -7.6814380e+00], dtype=float32),\n",
              "  'Negaitive'),\n",
              " ('差评。  饭是馊的！根本吃不下，再也不会点了！菜没问题，但是不可能不吃饭啊，被迫去买了方便面下菜.............',\n",
              "  array([-5.650681e+00, -3.521315e-03], dtype=float32),\n",
              "  'Positive'),\n",
              " ('分量足，态度没得说！原来吃了，今天看到刚上团购，又来了！经理人很帅，还送了一砸果籽',\n",
              "  array([-3.4493220e-04, -7.9723787e+00], dtype=float32),\n",
              "  'Negaitive'),\n",
              " ('一如既往的好，菜品好，服务更好！',\n",
              "  array([-2.624644e-04, -8.245358e+00], dtype=float32),\n",
              "  'Negaitive'),\n",
              " ('真的很不错呦，味道非常鲜美，吃的柠檬的，有点带酸，而且米线是有颜色的，总感觉怪怪的，感觉了可能原味的会更鲜更好吃，下次好想试试原味的，不过我回一趟大学城太远了，另外掉了一个黑椒牛肉乌冬面，也很不错，，，',\n",
              "  array([-5.950349e-04, -7.427156e+00], dtype=float32),\n",
              "  'Negaitive'),\n",
              " ('在重庆吃的最满意的一家日料！服务满分！味道满分！还送吃西瓜！之前元宵节还送吃汤圆！',\n",
              "  array([-2.598425e-04, -8.255683e+00], dtype=float32),\n",
              "  'Negaitive'),\n",
              " ('天下最难吃的东西！',\n",
              "  array([-3.632839e-04, -7.920393e+00], dtype=float32),\n",
              "  'Negaitive'),\n",
              " ('里面有虫子 太恶心了 吐死了',\n",
              "  array([-6.1686811e+00, -2.0962425e-03], dtype=float32),\n",
              "  'Positive'),\n",
              " ('炒苕尖太难吃了又老基本上没有吃',\n",
              "  array([-1.5345952e-03, -6.4802818e+00], dtype=float32),\n",
              "  'Negaitive'),\n",
              " ('奶茶味道不错，鸡蛋仔要现做，需要等，脆脆的，很好吃',\n",
              "  array([-1.9953644e-04, -8.5193834e+00], dtype=float32),\n",
              "  'Negaitive'),\n",
              " ('天，还有蚊子，份量太太太太少了，老大你这个好几十哦，全是西海椒和芹菜，老板这样做生意不好哦',\n",
              "  array([-4.8468685 , -0.00788398], dtype=float32),\n",
              "  'Positive'),\n",
              " ('没得筷子，害的我买叉叉',\n",
              "  array([-0.00782827, -4.8539205 ], dtype=float32),\n",
              "  'Negaitive'),\n",
              " ('我们点了蒜蓉、香辣两个口味的小龙虾，虾太小，几乎没啥肉，味道很是一般，没有配菜，另外我们还点了蛋炒饭，下单前看到评论里说蛋炒饭是亮点，很好吃，结果……，惨不忍睹。。。。深度怀疑历史好评是不是水军。。。。如果说一定要找个亮点出来，勉强就算包装和送的两罐加多宝吧。。。。。呵呵。。。。。',\n",
              "  array([-1.8500846e-03, -6.2934456e+00], dtype=float32),\n",
              "  'Negaitive'),\n",
              " ('这是第二次去了，第一次去晚了，忘了预约，等了好久，这次早早就跑过去，一如既往的好吃，服务也超赞，俩人点的两人份都没吃完，还打了包，哈哈哈哈，强烈推荐',\n",
              "  array([-3.0191155e-04, -8.1056013e+00], dtype=float32),\n",
              "  'Negaitive'),\n",
              " ('味道很赞。',\n",
              "  array([-2.2885564e-04, -8.3824997e+00], dtype=float32),\n",
              "  'Negaitive'),\n",
              " ('看着就很好吃的样子 ',\n",
              "  array([-3.134713e-04, -8.068001e+00], dtype=float32),\n",
              "  'Negaitive'),\n",
              " ('烤鸭非常好吃，价格实惠',\n",
              "  array([-2.854655e-04, -8.161481e+00], dtype=float32),\n",
              "  'Negaitive'),\n",
              " ('就在家楼下。老板人非常好。味道也超级棒。',\n",
              "  array([-2.3338455e-04, -8.3627882e+00], dtype=float32),\n",
              "  'Negaitive'),\n",
              " ('感觉还不错，经常买，可以试试。',\n",
              "  array([-2.9583368e-04, -8.1257095e+00], dtype=float32),\n",
              "  'Negaitive'),\n",
              " ('把顾客当傻子了吧，这家店我经常买，现场买不是这个样子！因为是外卖顾客不能现场挑选，货物不满意也不能现场换，所以专门挑烂的给我是吧。西瓜大家看看钥匙放在现场你们会买么？还有蓝莓盒子上很多汁，还有一股酸臭味、坏的！好的蓝莓大家都知道是干燥的上面还有一层白白的东西，打开全是湿的。我买了两盒两盒都是这样。我晕，以后再也不在这家店买了。',\n",
              "  array([-5.3085318e+00, -4.9614408e-03], dtype=float32),\n",
              "  'Positive'),\n",
              " ('最难吃的干锅，这么难吃也是佩服',\n",
              "  array([-3.6840804e-04, -7.9064269e+00], dtype=float32),\n",
              "  'Negaitive'),\n",
              " ('没诚信，忽悠人，难吃',\n",
              "  array([-3.9079026e-03, -5.5467119e+00], dtype=float32),\n",
              "  'Negaitive'),\n",
              " ('经常来吃，不错',\n",
              "  array([-2.6782742e-04, -8.2253304e+00], dtype=float32),\n",
              "  'Negaitive'),\n",
              " ('味道真心不错，两人来了两份油闷大虾，清蒸的也很好吃，下次一定再来。',\n",
              "  array([-2.5114242e-04, -8.2896681e+00], dtype=float32),\n",
              "  'Negaitive'),\n",
              " ('花生吃了两颗都是坏的  品质不说了  花钱买糟心  希望其他人想好了买',\n",
              "  array([-2.2195385 , -0.11502853], dtype=float32),\n",
              "  'Positive'),\n",
              " ('超级难吃，再也不吃他的烤鱼了',\n",
              "  array([-3.7031469e-04, -7.9013515e+00], dtype=float32),\n",
              "  'Negaitive'),\n",
              " ('菜品很丰富也很好吃，服务员服务态度超级好！老板可以考虑加工资了。',\n",
              "  array([-2.5805482e-04, -8.2626829e+00], dtype=float32),\n",
              "  'Negaitive'),\n",
              " ('太差了，还有蚊子在饭里面',\n",
              "  array([-5.8684139e+00, -2.8313808e-03], dtype=float32),\n",
              "  'Positive'),\n",
              " ('本来已经漏了很多油就算了，没想到吃到一半吃出个蟑螂腿……艹真恶心人，再也不会点了',\n",
              "  array([-5.6067939e+00, -3.6795312e-03], dtype=float32),\n",
              "  'Positive'),\n",
              " ('很不错哦！环境挺好的！价格也棒！石锅拌饭真的好吃好吃！！！超好吃！！！没有排队可能去的时间有点晚～就在从轻轨站出来的楼梯下来的顺边～很容易找到！',\n",
              "  array([-2.8892158e-04, -8.1493673e+00], dtype=float32),\n",
              "  'Negaitive'),\n",
              " ('花甲一点都不新鲜   居然还有臭的   不能忍   第一次点外卖花甲有臭的    跟臭鸡蛋有的比   从来不给人差评的真的今天忍不了  商家自己看看恶不恶心   吃了好几个才看到  好怕拉肚子   扔垃圾桶里之后感觉我整个屋都臭了  ',\n",
              "  array([-6.1863170e+00, -2.0594832e-03], dtype=float32),\n",
              "  'Positive'),\n",
              " ('招待我的小姐姐超级温柔，不会因为是团购态度不好。还给我了建议。打包带回来吃的，还好，很庆幸没有化，这么大的天气。第一次吃千层，虽然奶油很多，但幸好，不伤人，蛮好吃的。我住在南坪，可能在装修，偶然去沙坪坝，就忍不住团了。 #芒果班戟# #芒果千层#',\n",
              "  array([-3.121604e-04, -8.072114e+00], dtype=float32),\n",
              "  'Negaitive'),\n",
              " ('菜品新鲜，味道可以，地置很好找，值得推荐！',\n",
              "  array([-2.745013e-04, -8.200820e+00], dtype=float32),\n",
              "  'Negaitive'),\n",
              " ('非常可以，', array([-2.166990e-04, -8.437308e+00], dtype=float32), 'Negaitive'),\n",
              " ('味道好，老板和服务员的态度也很好，环境不错，吃了几次了。',\n",
              "  array([-3.04295e-04, -8.09762e+00], dtype=float32),\n",
              "  'Negaitive'),\n",
              " ('送你吗接近两个小时才送起来   还少了一半的东西  两份饭只有一份   点的东西给我当一个15套餐送  确实牛批  谁点谁知道  ',\n",
              "  array([-0.01084635, -4.5293436 ], dtype=float32),\n",
              "  'Negaitive'),\n",
              " ('简直不能太好太好太好，真的真的太好我只想说酸奶紫米露真的只是值得品尝的，酸奶紫米露真的很好喝。而且又健康又美味，天的天简直不能忍，喝了还想喝。知名度真的很好喝很好喝，而且每年他们的服务态度也特别特别特别的很，特别，特别特别的值得去品尝，特别特别特别喜欢他们家的他们真的，西而且酸奶紫米露好喝话它们的口感都各有不同，而且都特别特别的爱',\n",
              "  array([-2.524534e-04, -8.284242e+00], dtype=float32),\n",
              "  'Negaitive'),\n",
              " ('好棒好棒！虽然贵但是觉得好值！没有鹅肝有点小遗憾啦…不过质量真的很好，海鲜特别新鲜～扇贝和鳕鱼很好吃，生蚝如果有生的吃就更好啦～鱼生不错，种类也挺多的，反正这是我在重庆吃的最好吃的日料啦！！赞～服务也很热情',\n",
              "  array([-2.8141352e-04, -8.1760111e+00], dtype=float32),\n",
              "  'Negaitive'),\n",
              " ('很好吃，可惜今天没吃到凉面，但是凉皮也好吃，还有饮料，团购很划算。',\n",
              "  array([-2.3743672e-04, -8.3458776e+00], dtype=float32),\n",
              "  'Negaitive'),\n",
              " ('去了很多次，老顾客了。团购超极划算。还有小吃汤园………………',\n",
              "  array([-2.9142425e-04, -8.1409178e+00], dtype=float32),\n",
              "  'Negaitive'),\n",
              " ('超级喜欢香菜牛肉，鸡脆骨，还有血旺，好喜欢好喜欢。下次还要去吃，就是人太多，一定要提前订，不然只有等。',\n",
              "  array([-3.3694788e-04, -7.9956083e+00], dtype=float32),\n",
              "  'Negaitive'),\n",
              " ('鸡排还不错，够大块哈！有点烫人！',\n",
              "  array([-2.8236693e-04, -8.1723146e+00], dtype=float32),\n",
              "  'Negaitive'),\n",
              " ('黑钻奶茶好喝，没有那么腻甜，味道适宜',\n",
              "  array([-3.1728478e-04, -8.0560122e+00], dtype=float32),\n",
              "  'Negaitive'),\n",
              " ('外卖时间太长了，都一个半小时才送到，都睡差不多着了，夜宵才来，虽然开花肠买的是特惠价，但起码你碗里有一个丫，',\n",
              "  array([-0.00662429, -5.02032   ], dtype=float32),\n",
              "  'Negaitive'),\n",
              " ('味道不错，东西都是货真价实的，美女老板也十分热情',\n",
              "  array([-2.7986424e-04, -8.1812172e+00], dtype=float32),\n",
              "  'Negaitive'),\n",
              " ('蛋糕非常好吃，不错不错，很喜欢',\n",
              "  array([-3.345645e-04, -8.002849e+00], dtype=float32),\n",
              "  'Negaitive'),\n",
              " ('饭里面有虫子，而且鱼腥味很重，一点都不新鲜的感觉',\n",
              "  array([-6.0209832e+00, -2.4302255e-03], dtype=float32),\n",
              "  'Positive'),\n",
              " ('环境不错，服务态度也很好，很适合带小孩子来玩',\n",
              "  array([-3.0048148e-04, -8.1101646e+00], dtype=float32),\n",
              "  'Negaitive'),\n",
              " ('无任何食欲可言！',\n",
              "  array([-9.6941675e-04, -6.9392438e+00], dtype=float32),\n",
              "  'Negaitive'),\n",
              " ('空调不足，太热',\n",
              "  array([-3.6793138e-04, -7.9078207e+00], dtype=float32),\n",
              "  'Negaitive'),\n",
              " ('菜品很好，分量很足，服务态度也很好01',\n",
              "  array([-2.8367786e-04, -8.1677408e+00], dtype=float32),\n",
              "  'Negaitive'),\n",
              " ('第一次来，地址在东原新新park儿童节去的，人也不是很多，看了下菜单，价格有些偏贵！味道感觉不差，但也不能很好，还可以吧！希望折扣大一点，现在的价格感觉不实惠！另外服务态度很好！上甜品速度很快！希望越来越号',\n",
              "  array([-2.9202012e-04, -8.1387520e+00], dtype=float32),\n",
              "  'Negaitive'),\n",
              " ('跟朋友一起来吃的，有点多，吃不完',\n",
              "  array([-3.5065223e-04, -7.9560232e+00], dtype=float32),\n",
              "  'Negaitive'),\n",
              " ('菜品多 丰富 味道好吃 速度快',\n",
              "  array([-2.624644e-04, -8.245485e+00], dtype=float32),\n",
              "  'Negaitive'),\n",
              " ('第一次吃还挺好吃的，这次点了一个骨肉相连，结果那肉有点臭了',\n",
              "  array([-5.2000012 , -0.00553184], dtype=float32),\n",
              "  'Positive'),\n",
              " ('两个人吃完都拉肚子  再也不点你们家了',\n",
              "  array([-5.1665177 , -0.00572067], dtype=float32),\n",
              "  'Positive'),\n",
              " ('味道太差，这次最糟糕的一次日本料理，完全浪费了，鳗鱼机会一块没吃',\n",
              "  array([-0.00801336, -4.8306446 ], dtype=float32),\n",
              "  'Negaitive'),\n",
              " ('很好！离家近，味道也不错！值得推荐！',\n",
              "  array([-3.6244976e-04, -7.9226961e+00], dtype=float32),\n",
              "  'Negaitive'),\n",
              " ('味道超级棒，美女老板也很好喔，环境也是没得说，妈妈再也不用担心吃不到梁山鸡了！',\n",
              "  array([-2.971446e-04, -8.121568e+00], dtype=float32),\n",
              "  'Negaitive'),\n",
              " ('不好吃！说好的泡脚鹅掌，几乎没撒子辣椒，没那种味道',\n",
              "  array([-1.1001732e-03, -6.8128834e+00], dtype=float32),\n",
              "  'Negaitive'),\n",
              " ('速度太慢，都饿扁了',\n",
              "  array([-3.849719e-04, -7.862622e+00], dtype=float32),\n",
              "  'Negaitive'),\n",
              " ('味道还不错，就是少了点。环境很好。推荐',\n",
              "  array([-3.9653067e-04, -7.8328524e+00], dtype=float32),\n",
              "  'Negaitive'),\n",
              " ('#精品全家福炒饭（爆款）➕例汤# 加菜加辣，都没有 味道也不好吃',\n",
              "  array([-6.2386598e-04, -7.3798532e+00], dtype=float32),\n",
              "  'Negaitive'),\n",
              " ('身为一个从小吃海鲜长大的沿海人 不得不说这家的鱼肉很棒 鱼汤特别鲜！ 好评没得说(๑Ő௰Ő๑)',\n",
              "  array([-2.6353702e-04, -8.2413416e+00], dtype=float32),\n",
              "  'Negaitive'),\n",
              " ('黑心商家，地沟油吃了拉肚子 配送也不到位 各位宝宝不要再上当',\n",
              "  array([-5.8808284e+00, -2.7964318e-03], dtype=float32),\n",
              "  'Positive'),\n",
              " ('很赞，吃的很饱，服务也不错，下次还会去',\n",
              "  array([-3.2455422e-04, -8.0331688e+00], dtype=float32),\n",
              "  'Negaitive'),\n",
              " ('味道不错，很好喝！店员服务态度也很好',\n",
              "  array([-2.9750212e-04, -8.1203785e+00], dtype=float32),\n",
              "  'Negaitive'),\n",
              " ('除了尖椒鸡外，其他图片与实物完全不符，全是干辣椒，而且土豆片中有葱有蒜台，感觉像是几个菜混合的像是剩菜样',\n",
              "  array([-0.03030569, -3.511533  ], dtype=float32),\n",
              "  'Negaitive'),\n",
              " ('环境不错，菜品也不错，常常去光顾',\n",
              "  array([-1.7009719e-04, -8.6793947e+00], dtype=float32),\n",
              "  'Negaitive'),\n",
              " ('油不好 不卫生 难吃 量太少 ，菜里面还有钢丝球掉的东西，锅真的洗干净了吗？',\n",
              "  array([-5.8558841e+00, -2.8671606e-03], dtype=float32),\n",
              "  'Positive'),\n",
              " ('第二次见姐姐啦 人真的是…简直了!好到爆炸蹦蹦蹦 哈哈哈哈每次见到姐姐很开心 不过有点害羞哈哈哈哈 谢谢姐姐送的小礼物 开心!',\n",
              "  array([-3.5649142e-04, -7.9392138e+00], dtype=float32),\n",
              "  'Negaitive'),\n",
              " ('不干净，打开后还有头发恶心，什么商家',\n",
              "  array([-6.0287199e+00, -2.4114358e-03], dtype=float32),\n",
              "  'Positive'),\n",
              " ('说实话不好吃，没得在店里的好吃，鸭掌还有一股腥味',\n",
              "  array([-0.01027025, -4.58364   ], dtype=float32),\n",
              "  'Negaitive'),\n",
              " ('太难吃，不合重庆人口味',\n",
              "  array([-5.0103030e-04, -7.5991254e+00], dtype=float32),\n",
              "  'Negaitive'),\n",
              " ('很不错，下次还继续来，味道好，',\n",
              "  array([-2.9273517e-04, -8.1363811e+00], dtype=float32),\n",
              "  'Negaitive'),\n",
              " ('#土豆片##藕片#都没有熟，你们这样送来我拉肚子吗，能不能什么都做熟了在发货',\n",
              "  array([-5.222389  , -0.00540901], dtype=float32),\n",
              "  'Positive'),\n",
              " ('分量足，味道好，团购更划算，强烈推荐！',\n",
              "  array([-3.243159e-04, -8.034057e+00], dtype=float32),\n",
              "  'Negaitive'),\n",
              " ('味道非常棒！朋友们都特别喜欢吃。炒蟹的味道最棒！连蟹壳都炸的很香脆。环境也非常好，请客有面子。',\n",
              "  array([-2.3219273e-04, -8.3682489e+00], dtype=float32),\n",
              "  'Negaitive'),\n",
              " ('明明点了三份番茄鸡蛋盖饭   却只有一份   还少送了两份饭   打电话手机关机   第一次看到这样的商家   垃圾  绝对差评',\n",
              "  array([-1.6439746e-03, -6.4114323e+00], dtype=float32),\n",
              "  'Negaitive'),\n",
              " ('一家人去吃的，味道还可以，兔子肉特别嫩，给五分鼓励鼓励。',\n",
              "  array([-2.3457636e-04, -8.3580189e+00], dtype=float32),\n",
              "  'Negaitive'),\n",
              " ('味道还行！菜很多！老店还是不一样！',\n",
              "  array([-3.3313446e-04, -8.0070181e+00], dtype=float32),\n",
              "  'Negaitive'),\n",
              " ('很不好吃，全都扔了，以后不会再买了',\n",
              "  array([-6.1695615e-04, -7.3910241e+00], dtype=float32),\n",
              "  'Negaitive'),\n",
              " ('味道还是相当不错的。。很多人排队。。速度也还可以',\n",
              "  array([-3.3670955e-04, -7.9965544e+00], dtype=float32),\n",
              "  'Negaitive'),\n",
              " ('味道好 紫米很好吃 加冰的更好喝 美容养颜必备佳品',\n",
              "  array([-2.4446836e-04, -8.3166351e+00], dtype=float32),\n",
              "  'Negaitive'),\n",
              " ('量真的少的可怜，不想说什么了别把顾客当傻子！！都是重庆的，我也不想骂人',\n",
              "  array([-7.7396474e-04, -7.1643605e+00], dtype=float32),\n",
              "  'Negaitive'),\n",
              " ('口感很好，老板人也非常好，比较大，老板送货到家，我说自己拿，老板害怕我弄坏了，非要送到指定地点，这次团购非常满意，送货速度也快',\n",
              "  array([-2.4113132e-04, -8.3304987e+00], dtype=float32),\n",
              "  'Negaitive'),\n",
              " ('口味很好，两个人吃中锅量很足，排骨也够吃',\n",
              "  array([-2.8367786e-04, -8.1677523e+00], dtype=float32),\n",
              "  'Negaitive'),\n",
              " ('牛排做得很地',\n",
              "  array([-2.6639728e-04, -8.2307024e+00], dtype=float32),\n",
              "  'Negaitive'),\n",
              " ('不错的额，第二次了，感觉非常不错，性价比超高，以后还会光顾的哟',\n",
              "  array([-3.188340e-04, -8.051116e+00], dtype=float32),\n",
              "  'Negaitive'),\n",
              " ('很棒，来吃过好几次了、今天我们人少 只有七个人，没有吃完，羊肉很细腻，我不太喜欢吃皮，太焦了，味道不错就是觉得沾料的话太咸了！',\n",
              "  array([-3.188340e-04, -8.050835e+00], dtype=float32),\n",
              "  'Negaitive'),\n",
              " ('开始东西送来了 水洒了 可能是我叫配送员没听见吧 然后我就打电话给店里 说是本来就是送的 感觉是送的就该不要你们就开心了对吗 真是搞笑的呢  难道这杯饮料的钱你们没算到这里面一起吗  送的就该你们这种态度吗  差评  再也不会买了 就因为这个导购员 虽然我的力量很小 但是你们总这个态度相信很多人也会像我一样',\n",
              "  array([-0.13675758, -2.0571449 ], dtype=float32),\n",
              "  'Negaitive'),\n",
              " ('味道很好 来了好几次了 非常喜欢',\n",
              "  array([-2.8629974e-04, -8.1584520e+00], dtype=float32),\n",
              "  'Negaitive'),\n",
              " ('很好很好很好  环境也很舒适   服务态度很好',\n",
              "  array([-2.7378625e-04, -8.2032661e+00], dtype=float32),\n",
              "  'Negaitive'),\n",
              " ('这个牛蹄筋真不知道是哪里的肉，都是骨头连起的。味道也一般，没有实体店好吃。',\n",
              "  array([-0.0086716, -4.752037 ], dtype=float32),\n",
              "  'Negaitive'),\n",
              " ('一如既往的好，态度也好，越来越有新意，',\n",
              "  array([-2.4458754e-04, -8.3158827e+00], dtype=float32),\n",
              "  'Negaitive'),\n",
              " ('真的，我是为了这个差评才一直没有忍着退货。真的，***！晚了接近一个小时不说，时间打了四个电话都不接。你不能准时送到你早说啊，你有突**况你打个电话要死啊？不确定取消重新下单快，还是苦苦等着快。真的，商家有毒！你们不信的可以试试，我真是为了这个差评，为了少点人被骗才确认收单。恶心！',\n",
              "  array([-0.01275018, -4.3685803 ], dtype=float32),\n",
              "  'Negaitive'),\n",
              " ('送餐太慢 本来就饿 还花了一个多小时',\n",
              "  array([-3.262226e-04, -8.028269e+00], dtype=float32),\n",
              "  'Negaitive'),\n",
              " ('菜品好，然后服务更好！',\n",
              "  array([-1.9703354e-04, -8.5321159e+00], dtype=float32),\n",
              "  'Negaitive'),\n",
              " ('鱼的味道真的很好，鱼肉鲜嫩入味，面上的花椒香味四溢，确实好吃，是我在外面吃过最好吃的鱼了，而且吃到后面也不腻！菜很多，团购的4人餐，四个人吃没吃完，而且我们的食量都不小，吃得撑撑的！可惜没有拍照，开始端来的时候看起来超级有食欲！',\n",
              "  array([-2.7378625e-04, -8.2033825e+00], dtype=float32),\n",
              "  'Negaitive'),\n",
              " ('味道好环境安逸，就是菜品再多点就完美了',\n",
              "  array([-2.4589853e-04, -8.3105869e+00], dtype=float32),\n",
              "  'Negaitive'),\n",
              " ('差评！等了起码有一个小时啦！',\n",
              "  array([-4.4312194e-04, -7.7218099e+00], dtype=float32),\n",
              "  'Negaitive'),\n",
              " ('来过多次。鱼很嫩。味道不错。配菜也好吃。还有一个炸鸡柳的东西。很好吃。',\n",
              "  array([-2.4768623e-04, -8.3034267e+00], dtype=float32),\n",
              "  'Negaitive'),\n",
              " ('味道很不错，服务也好，已经吃过很多次了，一如既往的好',\n",
              "  array([-2.3731754e-04, -8.3462782e+00], dtype=float32),\n",
              "  'Negaitive'),\n",
              " ('蛋糕很新鲜～很好吃～物廉价美的～',\n",
              "  array([-2.2528018e-04, -8.3981352e+00], dtype=float32),\n",
              "  'Negaitive'),\n",
              " ('食物种类多，海鲜，牛排，面点，热菜凉菜都有。很喜欢自助烤肉，比较有乐趣，可以自己调味，牛排也很好吃，很大一份，煎得比较嫩，还不限量，要打牙祭的朋友们可以来了，水果很新鲜，种类多，店员服务态度很好，还推荐了了一个APP，说是吃了的钱还可以返回来。环境很宽敞，适合朋友聚会，这次是来试一下的，下次会多带一些朋友过来，会给朋友推荐，价格也不贵，物超所值，赞！',\n",
              "  array([-2.714027e-04, -8.212112e+00], dtype=float32),\n",
              "  'Negaitive'),\n",
              " ('头发好几根，肥牛肉是臭的，我吃进了嘴里，简直丧尽天良，几十块钱打水漂了不说，我还饿着肚子，看着一盒发臭的盒饭，气晕了，我看了评价才来的，结果，评价里的人可能没有我这样的遭遇吧，头发我还能忍，肉是臭的，你让我怎么吃，哭晕在厕所。',\n",
              "  array([-6.2359753e+00, -1.9596675e-03], dtype=float32),\n",
              "  'Positive'),\n",
              " ('下回别再骗人了！',\n",
              "  array([-5.3224701e-04, -7.5387063e+00], dtype=float32),\n",
              "  'Negaitive'),\n",
              " ('送来的是冷冻的，而且没有筷子等用具。吃了一个怕拉肚子，直接扔了，再也不会买这家的东西，第一次买就是这样差，大失所望。',\n",
              "  array([-3.3361633 , -0.03622128], dtype=float32),\n",
              "  'Positive'),\n",
              " ('#椒麻鱼##梭边鱼##酸菜鱼##夫妻肺片#可以，好吃，推荐，请客必备，有面子',\n",
              "  array([-2.541219e-04, -8.277770e+00], dtype=float32),\n",
              "  'Negaitive'),\n",
              " ('环境不错，位置还是很好找的。看别人的介绍还不错，去试了一次，的确非常实惠。份量非常足，一份小龙虾，一份螺丝，一个毛豆，一个蒜泥黄瓜。味道不错香辣，2个人吃的话还是很不错的，值得推荐，没去过的可以去试尝下',\n",
              "  array([-2.7938755e-04, -8.1829138e+00], dtype=float32),\n",
              "  'Negaitive'),\n",
              " ('老板亲自送过来，蛋糕蛮好，好评',\n",
              "  array([-2.9011333e-04, -8.1452532e+00], dtype=float32),\n",
              "  'Negaitive'),\n",
              " ('逛街的时候看见好多人在买这个喝 于是自己也买了一杯 果然好喝 哈哈 味道棒棒哒 ( ´･ᴗ･` )',\n",
              "  array([-2.454218e-04, -8.312629e+00], dtype=float32),\n",
              "  'Negaitive'),\n",
              " ('服务特别好！菜品很新鲜，环境也非常的舒适',\n",
              "  array([-3.4314467e-04, -7.9774523e+00], dtype=float32),\n",
              "  'Negaitive'),\n",
              " ('豆腐有异味 变味了',\n",
              "  array([-5.9774246e+00, -2.5385555e-03], dtype=float32),\n",
              "  'Positive'),\n",
              " ('鱿鱼有股味儿，不晓得是太腥了还是臭了',\n",
              "  array([-5.8734860e+00, -2.8169972e-03], dtype=float32),\n",
              "  'Positive'),\n",
              " ('筷子都没得  手抓嘛',\n",
              "  array([-1.7327546e-03, -6.3588963e+00], dtype=float32),\n",
              "  'Negaitive'),\n",
              " ('第一次去，味道不错，菜多，性价比高',\n",
              "  array([-2.362449e-04, -8.350803e+00], dtype=float32),\n",
              "  'Negaitive'),\n",
              " ('真的很好吃！真是棒棒的，经常来了',\n",
              "  array([-2.5090406e-04, -8.2903967e+00], dtype=float32),\n",
              "  'Negaitive'),\n",
              " ('两位美女态度很好，很耐心的教小朋友，两位小朋友开心坏了，吵着下次还要去做蛋糕',\n",
              "  array([-4.4002387e-04, -7.7288942e+00], dtype=float32),\n",
              "  'Negaitive'),\n",
              " ('老顾客了，真心不错，值得分享！',\n",
              "  array([-3.4123796e-04, -7.9830751e+00], dtype=float32),\n",
              "  'Negaitive'),\n",
              " ('除了点的凉粉能吃以外，其它太难吃，茄子一个酸臭味，烧白盐巴酱油不要钱，白肉一个腥臭味，备注说了米饭舀软一点的，全是夹生饭，也是一个酸臭味，包装可以！这是我吃过最难吃的小碗菜！',\n",
              "  array([-6.0250020e+00, -2.4204738e-03], dtype=float32),\n",
              "  'Positive'),\n",
              " ('嗯，可以的。',\n",
              "  array([-2.8856404e-04, -8.1506491e+00], dtype=float32),\n",
              "  'Negaitive'),\n",
              " ('泡椒耗儿鱼很难吃还没卖相 可能只有一条大耗儿鱼的分量 给老板说了两个人 结果她还是只给了一双筷子 花甲味道也一般 感觉不会再来这家店了58就买了一只鱼',\n",
              "  array([-6.848612e-04, -7.286605e+00], dtype=float32),\n",
              "  'Negaitive'),\n",
              " ('反正很好一如既往的好。喜欢去那里比较便宜。很值',\n",
              "  array([-2.7497803e-04, -8.1987553e+00], dtype=float32),\n",
              "  'Negaitive'),\n",
              " ('根本不是鱼香肉丝和宫保鸡丁的味道，点都不好吃，可以说是巨难吃，而且速度特慢，菜品不正宗就不说了，但那个味道差得太远了吧。',\n",
              "  array([-4.3439553e-03, -5.4411397e+00], dtype=float32),\n",
              "  'Negaitive'),\n",
              " ('价钱便宜，味道也不差，米饭还有不同的口味',\n",
              "  array([-4.177413e-04, -7.780902e+00], dtype=float32),\n",
              "  'Negaitive'),\n",
              " ('如此好多次了，好吃，便宜实惠，',\n",
              "  array([-1.9929807e-04, -8.5209064e+00], dtype=float32),\n",
              "  'Negaitive'),\n",
              " ('挺好的，门店小了点，味道还不错。',\n",
              "  array([-3.1752314e-04, -8.0549936e+00], dtype=float32),\n",
              "  'Negaitive'),\n",
              " ('呵呵，已经不想再说什么了，再订直播吃屎',\n",
              "  array([-7.882587e-04, -7.146005e+00], dtype=float32),\n",
              "  'Negaitive'),\n",
              " ('奥尔良鸡翅上面还有毛，这是我吃的最差的一次鸡翅',\n",
              "  array([-6.1850829e+00, -2.0621005e-03], dtype=float32),\n",
              "  'Positive'),\n",
              " ('老板姐姐很和善人很好 味道超级棒 喜欢喜欢喜欢',\n",
              "  array([-2.750972e-04, -8.198425e+00], dtype=float32),\n",
              "  'Negaitive'),\n",
              " ('饭是馊的，你们打饭的时候闻不到吗？打电话给商家，商家说解决，结果就这么不了了之。。。是嘛，大老板卖得好也不差我们这几个顾客',\n",
              "  array([-6.0247302e+00, -2.4211875e-03], dtype=float32),\n",
              "  'Positive'),\n",
              " ('强烈推荐，紫米酸奶很好喝，环境也很好，到店美女热情招呼，整个制作过程也很快，酸奶喝了也很健康，物有所值的一次团购！',\n",
              "  array([-2.473287e-04, -8.304967e+00], dtype=float32),\n",
              "  'Negaitive'),\n",
              " ('牛肉炒刀削只得两片牛肉！有跟头发！差评',\n",
              "  array([-5.4739542e+00, -4.2034136e-03], dtype=float32),\n",
              "  'Positive'),\n",
              " ('很不错，服务态度好，味道什么都不错。',\n",
              "  array([-2.2396917e-04, -8.4041529e+00], dtype=float32),\n",
              "  'Negaitive'),\n",
              " ('再次光顾琳琅录音棚酒吧，服务一流，舒适温馨，专业的录音设备，本人非常满意!',\n",
              "  array([-3.2085992e-04, -8.0447655e+00], dtype=float32),\n",
              "  'Negaitive'),\n",
              " ('这也能叫人吃的吗  肥肠烧糊了  里面的配菜也是湖的  还有肥肠一点儿味儿都没有  各位朋友 我只能说你们千万不要再点了  垃圾',\n",
              "  array([-0.06842636, -2.7160158 ], dtype=float32),\n",
              "  'Negaitive'),\n",
              " ('今天让我再勺皮里面吃到一块胶纸，真的恶心！',\n",
              "  array([-5.133697 , -0.0059122], dtype=float32),\n",
              "  'Positive'),\n",
              " ('味道棒棒哒，就是找地方时找了好久，明明是个很好找的地方我偏偏走了个反方向。。。。',\n",
              "  array([-2.2766383e-04, -8.3876495e+00], dtype=float32),\n",
              "  'Negaitive'),\n",
              " ('这次这个米饭真的是吃过有史以来最难吃的米饭。可能觉得成本原因买的那种特别差的米。老板开饭店米饭也是很重要的。吃起来夹生夹生的。真的说不出的口感。将就吃了点下去就胃疼。给你差评是希望商家可以看看意见。',\n",
              "  array([-5.2174954 , -0.00543569], dtype=float32),\n",
              "  'Positive'),\n",
              " ('老板娘很热情',\n",
              "  array([-3.2395837e-04, -8.0349846e+00], dtype=float32),\n",
              "  'Negaitive'),\n",
              " ('还不错.味道好.服务态度不错，价格小贵',\n",
              "  array([-3.3873544e-04, -7.9906321e+00], dtype=float32),\n",
              "  'Negaitive'),\n",
              " ('不卫生，吃了拉肚子',\n",
              "  array([-6.3289161e+00, -1.7855905e-03], dtype=float32),\n",
              "  'Positive'),\n",
              " ('味道还不错…零嘴吃挺不错的……',\n",
              "  array([-3.8413776e-04, -7.8647528e+00], dtype=float32),\n",
              "  'Negaitive'),\n",
              " ('吃了几次了，味道不错，服务很热情！',\n",
              "  array([-2.6758906e-04, -8.2260494e+00], dtype=float32),\n",
              "  'Negaitive'),\n",
              " ('味道不错，很喜欢，吃过多次。。。',\n",
              "  array([-2.740246e-04, -8.202618e+00], dtype=float32),\n",
              "  'Negaitive'),\n",
              " ('来吃过很多次了，一如既往的好，环境优美，服务热情，赞',\n",
              "  array([-3.0203073e-04, -8.1052942e+00], dtype=float32),\n",
              "  'Negaitive'),\n",
              " ('最喜欢的 哈哈哈 一周几次呢！',\n",
              "  array([-3.3766290e-04, -7.9937315e+00], dtype=float32),\n",
              "  'Negaitive'),\n",
              " ('超划算，而且贝尔麦莎的蛋糕也很好吃，我家女儿大爱。。。',\n",
              "  array([-3.1323294e-04, -8.0687170e+00], dtype=float32),\n",
              "  'Negaitive'),\n",
              " ('真的要认真点评下。因为想吃日料，和老公在两家不同的店点了餐，想考察下住家附近有哪家店的好吃。首先从配送上来说，配送时不停收到配送员的电话，如果是第一次送找不到路可以理解，但是不停的打电话是几个意思，不能自己定个位吗？说小区不让进又是怎么回事？我老公点的餐都已经送到家里了，别人能进怎么你就进不来了。结果还是自己走到小区门口来拿的餐，第一次感受了外卖不能送餐上门。再说下菜品。首先是点了刺身没有一起配送酱油和芥末，还好老公点的那份里面有。放在袋子里的冰袋把八爪鱼刺身冻得像冰一样，咬都咬不动。花之恋里面水扎扎的，',\n",
              "  array([-0.0056767, -5.174214 ], dtype=float32),\n",
              "  'Negaitive'),\n",
              " ('没有餐具～～～～～～～～～～',\n",
              "  array([-3.5196310e-04, -7.9521184e+00], dtype=float32),\n",
              "  'Negaitive'),\n",
              " ('送得太慢 很是不高兴 饿死了怎么办？',\n",
              "  array([-5.2188127e-04, -7.5583754e+00], dtype=float32),\n",
              "  'Negaitive'),\n",
              " ('挺好的，量也合适，去的时候有点晚没有肥肠了～点的里脊和鱿鱼～老板很热情，时不时会加水添饭，就是吃到后面有点咸～其他很好！',\n",
              "  array([-2.1038226e-04, -8.4665766e+00], dtype=float32),\n",
              "  'Negaitive'),\n",
              " ('难吃出新高度……',\n",
              "  array([-9.7084587e-04, -6.9377766e+00], dtype=float32),\n",
              "  'Negaitive'),\n",
              " ('味道都不用说，霸道！这都不知道是第几次来吃了',\n",
              "  array([-2.8069847e-04, -8.1784763e+00], dtype=float32),\n",
              "  'Negaitive'),\n",
              " ('好吃的不要不要的，服务态度也特别好，环境也很干净，东西是真好吃，一直吃了不停，下次一定还会去的',\n",
              "  array([-2.569822e-04, -8.266711e+00], dtype=float32),\n",
              "  'Negaitive'),\n",
              " ('味道不错，环境也好，上菜速度快！！',\n",
              "  array([-2.6508633e-04, -8.2355013e+00], dtype=float32),\n",
              "  'Negaitive'),\n",
              " ('这家店我自己去吃过好多次，还是第一次吃到这么难吃全是糊味，鸡还是馊的的情况。打电话给店家告诉她鸡是馊的她不承认，好吧那只能自认倒霉，结果马上又看到一坨兔子上绑着一条扯都扯不掉的红色线，十公分长，请问我是蚕吗？要吐丝？店家说退我十块钱，呵呵一顿不愉快的饭，图一剩下就是我们没在吃了，你觉得十块钱够补上这顿60的饭吗。',\n",
              "  array([-6.2370377e+00, -1.9575260e-03], dtype=float32),\n",
              "  'Positive'),\n",
              " ('你确定你煮的是刀削面？拉面差不多，味道好难吃',\n",
              "  array([-6.1171415e-04, -7.3995271e+00], dtype=float32),\n",
              "  'Negaitive'),\n",
              " ('挺好吃的，服务也很好，价格很实惠，来了好几次了，以后还会经常光顾的，不错，不错，很满意',\n",
              "  array([-3.2836766e-04, -8.0214310e+00], dtype=float32),\n",
              "  'Negaitive'),\n",
              " ('菜挺好的，我们没有预约就去了，他们也没说什么，火大了怕我们被烫伤，几次问候我们，帮我们关火什么的，服务态度真心不错，环境也不错，挺喜欢的，，还有西瓜吃，我们吃了好多，，不管怎么说，反正我爱上了，#猪血# 很好吃，',\n",
              "  array([-3.1585473e-04, -8.0604286e+00], dtype=float32),\n",
              "  'Negaitive'),\n",
              " ('菜品新鲜，环境好，很满意！',\n",
              "  array([-2.7593144e-04, -8.1954002e+00], dtype=float32),\n",
              "  'Negaitive'),\n",
              " ('味道还不错吧，挺热闹的地方，吃的现杀的活羊.',\n",
              "  array([-2.7581226e-04, -8.1960402e+00], dtype=float32),\n",
              "  'Negaitive'),\n",
              " ('不错不错。不错，来买了几次了',\n",
              "  array([-2.7366707e-04, -8.2039003e+00], dtype=float32),\n",
              "  'Negaitive'),\n",
              " ('老顾客了，尽管店铺不很大，但环境优美，节假日还有歌手助唱！牛排鲜嫩，好吃极了！没去的朋友，可以去尝试一次哟！！赞！！！',\n",
              "  array([-3.3075106e-04, -8.0144777e+00], dtype=float32),\n",
              "  'Negaitive'),\n",
              " ('太难吃，再也不买了，想退钱，我最讨厌吃鸭肉，那个大肉串明显一股死鸭味，吃了一口全扔了，面筋第一次尝试比荤菜好吃，那个鸡翅也是冰冻蜜蜡鸡肉的味道，只有鱿鱼是新鲜的，不知道那么多好评是不是买的，现在那些冰冻串肉红色那种都一个味，真怕是死耗子肉',\n",
              "  array([-4.053686 , -0.0175107], dtype=float32),\n",
              "  'Positive'),\n",
              " ('又一次带朋友来喝茶，朋友都说不错',\n",
              "  array([-3.3885459e-04, -7.9902396e+00], dtype=float32),\n",
              "  'Negaitive'),\n",
              " ('味道很不错哟。 服务态度超好的。 各种周到',\n",
              "  array([-2.237308e-04, -8.405074e+00], dtype=float32),\n",
              "  'Negaitive'),\n",
              " ('味道不错！田螺好吃！下次还要来！',\n",
              "  array([-2.3409964e-04, -8.3600578e+00], dtype=float32),\n",
              "  'Negaitive'),\n",
              " ('选大娘水饺就是看了有牌子卫生！我去，想问一句你这是哪年的水饺！今天一晚上都在拉肚子！',\n",
              "  array([-5.268618e+00, -5.164022e-03], dtype=float32),\n",
              "  'Positive'),\n",
              " ('很不错、第二次来吃了，性价比和服务态度一流哦！牛排意面都很棒！披萨也挺好吃的，芝士很多！果汁也很好喝！真的是愉快的享受',\n",
              "  array([-1.720042e-04, -8.668101e+00], dtype=float32),\n",
              "  'Negaitive'),\n",
              " ('我一共叫了3份，我那份泡椒肉丝闻着有点酸，以为是泡椒的酸味，结果吃完下午拉肚子，以后再不会吃这家的，味道不怎么样。其他两份同事说味道也不行。',\n",
              "  array([-5.029665  , -0.00656247], dtype=float32),\n",
              "  'Positive'),\n",
              " ('三个大人吃！还是不错。味道也可以服务态度很好。',\n",
              "  array([-2.5567124e-04, -8.2715273e+00], dtype=float32),\n",
              "  'Negaitive'),\n",
              " ('月月的服务态度很好 菜品一如既往的好吃 特别推荐烧椒小皮蛋～',\n",
              "  array([-1.990597e-04, -8.521759e+00], dtype=float32),\n",
              "  'Negaitive'),\n",
              " ('味道好  ，服务好。。',\n",
              "  array([-2.5674384e-04, -8.2676601e+00], dtype=float32),\n",
              "  'Negaitive'),\n",
              " ('很好，很合胃口，就是辣',\n",
              "  array([-2.662781e-04, -8.231225e+00], dtype=float32),\n",
              "  'Negaitive'),\n",
              " ('味道不错，老板热情。',\n",
              "  array([-3.052484e-04, -8.094564e+00], dtype=float32),\n",
              "  'Negaitive'),\n",
              " ('太慢了，等这个饭吃，要饿死',\n",
              "  array([-2.7819577e-04, -8.1871309e+00], dtype=float32),\n",
              "  'Negaitive'),\n",
              " ('有个菜我点了，但是没得，差评',\n",
              "  array([-4.2560580e-04, -7.7621927e+00], dtype=float32),\n",
              "  'Negaitive'),\n",
              " ('非常慢，还骗人，跟他再三确认说是送到楼下了，结果还是让我在门口等了好久',\n",
              "  array([-2.907092e-04, -8.143140e+00], dtype=float32),\n",
              "  'Negaitive'),\n",
              " ('今天买的那个臭豆腐 真的有毒 我女朋友都拉肚子好几次了',\n",
              "  array([-6.0364041e+00, -2.3930029e-03], dtype=float32),\n",
              "  'Positive'),\n",
              " ('很好和经常来购买，服务挺到位的，有种酸奶有种儿时的味道吧！',\n",
              "  array([-3.4350218e-04, -7.9765787e+00], dtype=float32),\n",
              "  'Negaitive'),\n",
              " ('老板人非常的不错哈，虾子的味道极其的好，可以去试哈！',\n",
              "  array([-3.1239874e-04, -8.0714884e+00], dtype=float32),\n",
              "  'Negaitive'),\n",
              " ('第二次来，感觉辣味好像没有第一次辣了。建议可以将辣酱单独成碟，顾客自己加。不过这样可能会增加洗碗啊什么的工时，而且客人自己拌可能会不小心倒得到处都是等等，所以各有利弊',\n",
              "  array([-1.1066034e-03, -6.8070006e+00], dtype=float32),\n",
              "  'Negaitive'),\n",
              " ('非常好！上菜非常快，环境很漂亮，服务很周到热心。菜色好看味道也不错。关键价格真的不贵，我们5个人才吃了144元~强烈推荐',\n",
              "  array([-2.497123e-04, -8.295095e+00], dtype=float32),\n",
              "  'Negaitive'),\n",
              " ('说实话，就这个价格来说，已经是相当超值了，位置也好找，就在解放碑大都会6楼，唯一不足的就是，服务员基本上都是阿姨级别的，服务态度绝对热情，反应速度稍慢了点，交流起来有点……总体来说69元，划得来 #烤牛排# #牛排# #北京烤鸭# #鸡蛋布丁# #烤虾# #龙利鱼#',\n",
              "  array([-2.466136e-04, -8.308017e+00], dtype=float32),\n",
              "  'Negaitive'),\n",
              " ('味道一般，还没自己做的好吃',\n",
              "  array([-5.7216006e-04, -7.4664240e+00], dtype=float32),\n",
              "  'Negaitive'),\n",
              " ('非常好 阿姨态度很和蔼 排骨好吃两人绰绰有余 唯一就是环境差点',\n",
              "  array([-2.979788e-04, -8.118479e+00], dtype=float32),\n",
              "  'Negaitive'),\n",
              " ('环境干净，菜品新鲜，服务态度好。',\n",
              "  array([-3.3110857e-04, -8.0132351e+00], dtype=float32),\n",
              "  'Negaitive'),\n",
              " ('这个粥全部都是水吗？一勺舀下去都是稀的，看着都恶心，像馊的，不及店里的三分之一，饺子三个，外卖没有筷子没有勺子没有碗，还收这么贵的配送费？三个菜100，美团第一差评送给你们。谢谢',\n",
              "  array([-6.0651312e+00, -2.3252135e-03], dtype=float32),\n",
              "  'Positive'),\n",
              " ('吃了一个发霉的鸭爪，鸭骨架没问题，味道很好',\n",
              "  array([-5.0168133 , -0.00664762], dtype=float32),\n",
              "  'Positive'),\n",
              " ('老顾客啦 夏天喝尤其安逸 推荐推荐',\n",
              "  array([-2.424423e-04, -8.324719e+00], dtype=float32),\n",
              "  'Negaitive'),\n",
              " ('尼玛第一次订单，吃了就拉肚子20几次，差点死了，尼玛这家店真不卫生，现在还在医院输液。',\n",
              "  array([-5.7917194e+00, -3.0574503e-03], dtype=float32),\n",
              "  'Positive'),\n",
              " ('好，非常好，味道很好，可以选很多口味！',\n",
              "  array([-2.4816295e-04, -8.3013382e+00], dtype=float32),\n",
              "  'Negaitive'),\n",
              " ('味道不错，菜品新鲜，还可以点半份也，适合2人吃，就 可以多吃几个菜了，服务也很好，环境也好',\n",
              "  array([-3.0941944e-04, -8.0810871e+00], dtype=float32),\n",
              "  'Negaitive'),\n",
              " ('味道好，口味棒，辣的爽，吃的安逸，分量多，强烈推荐',\n",
              "  array([-2.5781646e-04, -8.2632217e+00], dtype=float32),\n",
              "  'Negaitive'),\n",
              " ('便宜，味道好，不错！',\n",
              "  array([-3.073935e-04, -8.087393e+00], dtype=float32),\n",
              "  'Negaitive'),\n",
              " ('口味很好 量也够了……就是汤没有之前的好',\n",
              "  array([-2.597233e-04, -8.256000e+00], dtype=float32),\n",
              "  'Negaitive'),\n",
              " ('来吃了好几次了，很喜欢米饼。可惜锅是斜的，看着不舒服',\n",
              "  array([-3.3492202e-04, -8.0017385e+00], dtype=float32),\n",
              "  'Negaitive'),\n",
              " ('味道不摆啦 家常便饭 很完美 十年忠实顾客',\n",
              "  array([-2.1050144e-04, -8.4660635e+00], dtype=float32),\n",
              "  'Negaitive'),\n",
              " ('吃到虫了  厉害厉害',\n",
              "  array([-6.0515332e+00, -2.3569681e-03], dtype=float32),\n",
              "  'Positive'),\n",
              " ('豆干和邵皮都没送', array([-0.00677941, -4.9972587 ], dtype=float32), 'Negaitive'),\n",
              " ('虾很好吃份量也足，唯一就是鸡咸了一点点，朋友超爱土豆丝～能看江景，真要赞一下',\n",
              "  array([-2.3183519e-04, -8.3698530e+00], dtype=float32),\n",
              "  'Negaitive'),\n",
              " ('还是可以，帮朋友定的，现在都、涨价了。去吃过几次了',\n",
              "  array([-3.1406715e-04, -8.0660172e+00], dtype=float32),\n",
              "  'Negaitive'),\n",
              " ('筷子都没得 吃啥',\n",
              "  array([-8.794969e-04, -7.036607e+00], dtype=float32),\n",
              "  'Negaitive'),\n",
              " ('还可以吧！吃过很多次！就是吃了容易饿',\n",
              "  array([-4.2727400e-04, -7.7583547e+00], dtype=float32),\n",
              "  'Negaitive'),\n",
              " ('份量充足.很不错',\n",
              "  array([-3.1406715e-04, -8.0661402e+00], dtype=float32),\n",
              "  'Negaitive'),\n",
              " ('蛋糕非常好，很好吃，也很漂亮。',\n",
              "  array([-3.1621224e-04, -8.0593023e+00], dtype=float32),\n",
              "  'Negaitive'),\n",
              " ('我定的是两份饭，他们却只送了一份饭。',\n",
              "  array([-6.2112586e-04, -7.3842454e+00], dtype=float32),\n",
              "  'Negaitive'),\n",
              " ('一如既往地好，包间够大，味道也好',\n",
              "  array([-3.100153e-04, -8.079017e+00], dtype=float32),\n",
              "  'Negaitive'),\n",
              " ('确实不错，一如既往的好，继续支持。。。。。',\n",
              "  array([-3.073935e-04, -8.087492e+00], dtype=float32),\n",
              "  'Negaitive'),\n",
              " ('甜甜圈味道超级棒，老板也很好～',\n",
              "  array([-2.330270e-04, -8.364454e+00], dtype=float32),\n",
              "  'Negaitive'),\n",
              " ('位置很好找  环境也不错  晚上去的每个人另外加了十块的  菜品很多很新鲜 还有很多海鲜  晚上人挺多的  下次再去#新鲜牛肉##生蚝扇贝##蟹脚##法式髓骨牛排##韩国牛排#',\n",
              "  array([-3.5958976e-04, -7.9307613e+00], dtype=float32),\n",
              "  'Negaitive'),\n",
              " ('很不爽…点了米饭又不送，早说没米饭我就不点了，弄的其他家有米饭的也关门了…',\n",
              "  array([-1.1435167e-03, -6.7741709e+00], dtype=float32),\n",
              "  'Negaitive'),\n",
              " ('已经去过几次了  味道非常好 分量也足  不过饭点人很多  要提前去排队',\n",
              "  array([-2.5769728e-04, -8.2637281e+00], dtype=float32),\n",
              "  'Negaitive'),\n",
              " ('好吃，已经第二次买了，很划算，服务各方面都很好',\n",
              "  array([-3.2932105e-04, -8.0186930e+00], dtype=float32),\n",
              "  'Negaitive'),\n",
              " ('首先位置很好找，其次菜品很新鲜，环境也不错，老板很客气',\n",
              "  array([-3.1561637e-04, -8.0610437e+00], dtype=float32),\n",
              "  'Negaitive'),\n",
              " ('味道很好吃。难得吃到这样好吃的，以后会经常来的',\n",
              "  array([-2.5555206e-04, -8.2720795e+00], dtype=float32),\n",
              "  'Negaitive'),\n",
              " ('听我们同学说这家店上过630的美食非常道，所以今天来尝尝，感觉服务特别好，老板性格很豪爽，味道也不错，非常满意，推荐大家来吃哦！',\n",
              "  array([-2.6151098e-04, -8.2493668e+00], dtype=float32),\n",
              "  'Negaitive'),\n",
              " ('鱼太咸，鱼不新鲜有异味，差评',\n",
              "  array([-5.7902069e+00, -3.0620852e-03], dtype=float32),\n",
              "  'Positive'),\n",
              " ('已经是老顾客，经常推荐朋友买？。团购力度再大点更好',\n",
              "  array([-2.8701479e-04, -8.1560545e+00], dtype=float32),\n",
              "  'Negaitive'),\n",
              " ('配送慢成狗以后再也不会在这点11点点的1点半送到，你们要饿死人？',\n",
              "  array([-2.2386271e-03, -6.1030087e+00], dtype=float32),\n",
              "  'Negaitive'),\n",
              " ('饭像没熟样 好像昨天的剩饭 一点都不好吃',\n",
              "  array([-0.9876466 , -0.46593547], dtype=float32),\n",
              "  'Positive'),\n",
              " ('送货员态度太差，味道难吃',\n",
              "  array([-2.124084e-04, -8.457241e+00], dtype=float32),\n",
              "  'Negaitive'),\n",
              " ('地方好找，味道也很好，下次还会去吃！',\n",
              "  array([-2.3970116e-04, -8.3363123e+00], dtype=float32),\n",
              "  'Negaitive'),\n",
              " ('很好 吃过很多次了 环境和菜品都很不错',\n",
              "  array([-3.7829872e-04, -7.8800530e+00], dtype=float32),\n",
              "  'Negaitive'),\n",
              " ('难吃 难吃 ',\n",
              "  array([-5.0806010e-04, -7.5852237e+00], dtype=float32),\n",
              "  'Negaitive'),\n",
              " ('一如既往的好，吃了无数次了',\n",
              "  array([-3.9247915e-04, -7.8431382e+00], dtype=float32),\n",
              "  'Negaitive'),\n",
              " ('想不到的差，想不到的难吃，第一次给外卖评价',\n",
              "  array([-0.00535198, -5.232971  ], dtype=float32),\n",
              "  'Negaitive'),\n",
              " ('#炒米粉+肉#是糊的',\n",
              "  array([-7.929042e-04, -7.140186e+00], dtype=float32),\n",
              "  'Negaitive'),\n",
              " ('老顾客了，会继续光顾的',\n",
              "  array([-2.1443452e-04, -8.4475031e+00], dtype=float32),\n",
              "  'Negaitive'),\n",
              " ('三文鱼不新鲜，肉质分层了，158元的大份三文鱼（35片）每片4.5元了，28.8元的小份三文鱼（9片）每片3.2元，158元至少是49片，大份少得可怜，不要说什么切大切小，你们每种分量我都点过，绝对没有下次了，太黑心！',\n",
              "  array([-2.6677737 , -0.07193284], dtype=float32),\n",
              "  'Positive'),\n",
              " ('菜非常好吃！性价比非常高，作为外地人也极力推荐！',\n",
              "  array([-3.5982809e-04, -7.9299755e+00], dtype=float32),\n",
              "  'Negaitive'),\n",
              " ('想吃炸熟的苍蝇 可以点一下，掺在薯条里',\n",
              "  array([-5.7309036e+00, -3.2493670e-03], dtype=float32),\n",
              "  'Positive'),\n",
              " ('味道很好，服务质量也好，不错，离家也近，以后还来',\n",
              "  array([-2.752164e-04, -8.198029e+00], dtype=float32),\n",
              "  'Negaitive'),\n",
              " ('吃了N多次，订了N多次，太好吃了',\n",
              "  array([-4.5813556e-04, -7.6886535e+00], dtype=float32),\n",
              "  'Negaitive'),\n",
              " ('说实话虾子确实可以，但是店家能不能在送货前检查一下食物是否坏掉#秘制辣卤鹅翅##辣卤鸭头#这两样东西打开后完全是酸臭了的！！！叫人怎么下口！！！！浪费钱不说，吃出问题才是大事！！！',\n",
              "  array([-5.8650603e+00, -2.8408905e-03], dtype=float32),\n",
              "  'Positive'),\n",
              " ('良心卖家，东西也很不错，最关键的是我留言只是想要一个长得帅的外卖小哥，老板竟然派了吴彦祖那个级别的！希望老板正视自己的错误，拿出企业家的良心把小哥微信私我，我立马改评价。                                                        （好吧，其实你不给我我也会改）',\n",
              "  array([-2.4443767e-03, -6.0151639e+00], dtype=float32),\n",
              "  'Negaitive'),\n",
              " ('一个小时前刚从他们店里点了大盘鸡盖面，然后吃出来了一只虫子，剩下的半碗全扔掉了，关键是店家的态度，太让人生气了，还不承认，还给我说是菜叶子，有见过长脚长眼睛的菜叶子吗？更何况我点的餐就没有菜，如果肯定是菜叶子，干嘛要急着销毁证据，把我的筷子抢过去扔垃圾桶，再说我又没眼瞎着，分不清菜叶还是虫子，这家店的卫生极其不达标，大家以后就餐还是注意点，这份餐是给送餐员点的，今天重庆下大雨，看他们好辛苦，就给他们点了两份饭，今天写出这个评价，是希望大家以后可以擦亮眼，不要让那些不干不净的东西影响了我们的身体健康',\n",
              "  array([-5.6106381e+00, -3.6653972e-03], dtype=float32),\n",
              "  'Positive'),\n",
              " ('第二次去了，价格合适，环境不错，下午茶的好去处',\n",
              "  array([-3.9748396e-04, -7.8306789e+00], dtype=float32),\n",
              "  'Negaitive'),\n",
              " ('老火锅的味道不错，菜品丰富并且量足，都吃不完。#鲜毛肚# #鲜鸭肠#',\n",
              "  array([-2.6329866e-04, -8.2422791e+00], dtype=float32),\n",
              "  'Negaitive'),\n",
              " ('米线里面还有虫太不卫生了',\n",
              "  array([-5.9551477e+00, -2.5958673e-03], dtype=float32),\n",
              "  'Positive'),\n",
              " ('味道不错，越吃越有味道。下次还去',\n",
              "  array([-3.0417583e-04, -8.0978966e+00], dtype=float32),\n",
              "  'Negaitive'),\n",
              " ('太棒了!服务好!好吃!便宜!划算!无可挑剔!堪称完美!量足!三个吃够!',\n",
              "  array([-2.8534632e-04, -8.1620684e+00], dtype=float32),\n",
              "  'Negaitive'),\n",
              " ('可以，分量足，我们六个大人都没吃完的，还打了包回家，呵呵',\n",
              "  array([-2.559096e-04, -8.270953e+00], dtype=float32),\n",
              "  'Negaitive'),\n",
              " ('好吃  巴适。一如既往的好  . 下次还来 !',\n",
              "  array([-3.9414744e-04, -7.8389773e+00], dtype=float32),\n",
              "  'Negaitive'),\n",
              " ('送的好慢，几分钟让我等了差不多半小时',\n",
              "  array([-2.945228e-04, -8.130377e+00], dtype=float32),\n",
              "  'Negaitive'),\n",
              " ('我确实，吃个饭还能吃到钢丝，真的是醉了，再也不吃了',\n",
              "  array([-5.3542104e+00, -4.7393609e-03], dtype=float32),\n",
              "  'Positive'),\n",
              " ('定餐到送达只花20分钟，提前半个小时送到，诧异烤串的速度！都是温热，里脊肉还没熟，签签牛肉上还夹带一根头发，少藕片，我也是醉了。经商量后，商家已退藕片和里脊肉的钱，尽管速度重要，但质量才是第一！尤其是吃进嘴里的食物。以前经常点你们家，觉得还是不错的，这次是换了老板吗？不愉快的一次点餐经历',\n",
              "  array([-5.2520404e+00, -5.2505927e-03], dtype=float32),\n",
              "  'Positive'),\n",
              " ('推荐番茄牛尾粥…原汁排骨好咸不推荐…小炒黄牛还不错…牛肉很嫩~',\n",
              "  array([-3.008390e-04, -8.108981e+00], dtype=float32),\n",
              "  'Negaitive'),\n",
              " ('还可以人比较少 基本没有人 速度还挺快',\n",
              "  array([-3.2479255e-04, -8.0324488e+00], dtype=float32),\n",
              "  'Negaitive'),\n",
              " ('很好吃啊，也很划算。已经来过很多次了',\n",
              "  array([-2.4029706e-04, -8.3337307e+00], dtype=float32),\n",
              "  'Negaitive'),\n",
              " ('还可以，买了很多次了，蛋糕面包都好吃！',\n",
              "  array([-2.8749148e-04, -8.1543474e+00], dtype=float32),\n",
              "  'Negaitive'),\n",
              " ('点你家外卖好几次了，也推荐朋友了，这次肚子非常饥饿的时候点的，没想到送过来，鸡腿是臭的！太失望了，不小心吃了一块，担心一会还要拉肚子',\n",
              "  array([-5.7275529e+00, -3.2602986e-03], dtype=float32),\n",
              "  'Positive'),\n",
              " ('很好吃，吃过几次了，环境也非常好',\n",
              "  array([-3.6340309e-04, -7.9200883e+00], dtype=float32),\n",
              "  'Negaitive'),\n",
              " ('说了辣一点辣一点 都不看的吗？不辣吃起很反胃 ',\n",
              "  array([-3.1448596 , -0.04402814], dtype=float32),\n",
              "  'Positive'),\n",
              " ('挺好喝的。酸奶浓浓的。味道不错',\n",
              "  array([-2.442300e-04, -8.317631e+00], dtype=float32),\n",
              "  'Negaitive'),\n",
              " ('打开就发现一根头发丝，所以扔了几块，其他的口味不错，包装都不错',\n",
              "  array([-5.6604795e+00, -3.4868652e-03], dtype=float32),\n",
              "  'Positive'),\n",
              " ('反正每次路过都会去吃，真的很好吃！几种团购都买过了，奶茶是女儿的最爱，我比较钟意雪糯米！老公爱金桔柠檬，反正每一个口味都很好！美团上购买很划算，买几杯才十来块钱！以后会继续关注！经常用美团会不会给个奖励呀！',\n",
              "  array([-2.8856404e-04, -8.1506395e+00], dtype=float32),\n",
              "  'Negaitive'),\n",
              " ('鱼还是不错的',\n",
              "  array([-2.3552982e-04, -8.3535872e+00], dtype=float32),\n",
              "  'Negaitive'),\n",
              " ('老板 你自己看看 还有蚊子 ',\n",
              "  array([-5.536454e+00, -3.948275e-03], dtype=float32),\n",
              "  'Positive'),\n",
              " ('环境优雅口味不错',\n",
              "  array([-2.1622227e-04, -8.4394207e+00], dtype=float32),\n",
              "  'Negaitive'),\n",
              " ('味道很好 好喝又实惠',\n",
              "  array([-3.0977695e-04, -8.0796242e+00], dtype=float32),\n",
              "  'Negaitive'),\n",
              " ('菜品味道超棒',\n",
              "  array([-3.3349197e-04, -8.0059214e+00], dtype=float32),\n",
              "  'Negaitive'),\n",
              " ('我的天！刚刚打开一只蟑螂从袋里爬到身上。。。。。我能说认真点行吗？还是你们家老顾客了。。有头发都不说了 这次太。。。',\n",
              "  array([-5.6835499e+00, -3.4072697e-03], dtype=float32),\n",
              "  'Positive'),\n",
              " ('难吃，是我吃过最难吃的干锅了，像冷菜一样混在一起，排骨只有两三个还都是骨头，里脊肉也只有几个，再次声明难吃，还没有我自己做的好吃，其他客户最爱别买，真的太难吃了，钱还贵，骗人的给它一颗星都是给送外卖的那个人的。难吃难吃真的很难吃！！！！！！！！！！！',\n",
              "  array([-3.3790123e-04, -7.9928608e+00], dtype=float32),\n",
              "  'Negaitive'),\n",
              " ('大清早点一个外卖，送过来 冷冰冰的  秒懂 就是之前先做好了了的，自己买的 硬着头皮也要吃完，边吃边找有没有其他什么出来，不放心的感觉 你们懂的。',\n",
              "  array([-0.01383912, -4.2871633 ], dtype=float32),\n",
              "  'Negaitive'),\n",
              " ('环境不错 ，服务周到，份量足，味道不错，套餐包括饮料酒水，满意。',\n",
              "  array([-3.819928e-04, -7.870259e+00], dtype=float32),\n",
              "  'Negaitive'),\n",
              " ('老顾客了，还是很不错的，下次还会去',\n",
              "  array([-2.1717574e-04, -8.4347858e+00], dtype=float32),\n",
              "  'Negaitive'),\n",
              " ('头发都在饭里，骑手还不耐烦',\n",
              "  array([-6.1593060e+00, -2.1159896e-03], dtype=float32),\n",
              "  'Positive'),\n",
              " ('味道不错位置很好找就在百盛下面微时代旁边，值得表扬的是服务员太热情了。看到我们都穿的浅色衣服，特地帮我们都拿了围裙。怕我们弄到身上，又亲切的给我们说无线网络密码。顾客不是很多但确实照顾到我们的感受了的，值得推荐。冲这服务我们都该再次',\n",
              "  array([-3.421913e-04, -7.980152e+00], dtype=float32),\n",
              "  'Negaitive'),\n",
              " ('菜品不错，菜量也不少，口味特别好，',\n",
              "  array([-2.790300e-04, -8.184426e+00], dtype=float32),\n",
              "  'Negaitive'),\n",
              " ('这是我吃过最好吃的酥肉，真的很喜欢',\n",
              "  array([-1.9357714e-04, -8.5501032e+00], dtype=float32),\n",
              "  'Negaitive'),\n",
              " ('去过好多次了  一如既往的还好  下次有机会会回去的',\n",
              "  array([-2.945228e-04, -8.130338e+00], dtype=float32),\n",
              "  'Negaitive'),\n",
              " ('菜品足，服务好',\n",
              "  array([-2.883257e-04, -8.151373e+00], dtype=float32),\n",
              "  'Negaitive'),\n",
              " ('觉得好吃，专门后来又去了一次。烤猪蹄也好吃',\n",
              "  array([-2.4685197e-04, -8.3070307e+00], dtype=float32),\n",
              "  'Negaitive'),\n",
              " ('鱿鱼臭的，吃了拉肚子',\n",
              "  array([-6.0005846e+00, -2.4804084e-03], dtype=float32),\n",
              "  'Positive'),\n",
              " ('我超级超级钟爱蟹籽！希望能再多一点蟹籽啊啊啊啊啊啊啊，整体口味都还可以，买过几次了。下次一定要尝试在店里坐着吃，享受～',\n",
              "  array([-2.1908268e-04, -8.4263802e+00], dtype=float32),\n",
              "  'Negaitive'),\n",
              " ('一个人觉得好用又平价商店和她一样了',\n",
              "  array([-2.0478059e-04, -8.4937477e+00], dtype=float32),\n",
              "  'Negaitive'),\n",
              " ('1环境；老板贴心在地址里面说得很清楚，走到里面二号厅电梯（排队进电梯……人太多了……）上楼即到。店内环境很不错，挺有情调的，包间也给我留了，但是因为只有三个人不好意思用老板的大圆桌包间，还是坐的三张桌子的房间，空调很给力，也很舒服。2菜品；跟老板说了请少盐少辣，但是味道还是有一点点重（此次体验唯一的小瑕疵），不过味道挺不错的，摆盘造型也好看，跟大家的评价一样，生死不离这个炒鱼肉是最好吃的，只是可惜下面鱼缸的小金鱼是黑色的，如果是红色会更有卖相。试管装的银耳雪蛤水果羹很好喝。蟹黄豆腐味道很鲜，也是大赞的。每',\n",
              "  array([-2.683041e-04, -8.223388e+00], dtype=float32),\n",
              "  'Negaitive'),\n",
              " ('这个贡茶真的很大杯啊，超级便宜的',\n",
              "  array([-3.0012394e-04, -8.1115332e+00], dtype=float32),\n",
              "  'Negaitive'),\n",
              " ('怎么搞起的，手套都没有',\n",
              "  array([-0.00837304, -4.7869234 ], dtype=float32),\n",
              "  'Negaitive'),\n",
              " ('螃蟹不新鲜…………', array([-5.1569085 , -0.00577614], dtype=float32), 'Positive'),\n",
              " ('一如既往的好。',\n",
              "  array([-2.6055757e-04, -8.2528868e+00], dtype=float32),\n",
              "  'Negaitive'),\n",
              " ('在北碚，这是我吃到味道最好的火锅了，就是人太多等位时间长达1小时，菜品新鲜，三人消费166元，总体满意。',\n",
              "  array([-3.8771264e-04, -7.8553419e+00], dtype=float32),\n",
              "  'Negaitive'),\n",
              " ('菜很不错，有自己的特色。',\n",
              "  array([-2.907092e-04, -8.143407e+00], dtype=float32),\n",
              "  'Negaitive'),\n",
              " ('贡茶的口味很不错，好喝。服务员的态度也好。',\n",
              "  array([-4.4228786e-04, -7.7237120e+00], dtype=float32),\n",
              "  'Negaitive'),\n",
              " ('点了3份土豆却没看到土豆的影子，包装的不好，油汤都倒出来了',\n",
              "  array([-0.007778, -4.860338], dtype=float32),\n",
              "  'Negaitive'),\n",
              " ('菜品多分量足，我们一大家人吃刚刚好。值得一去',\n",
              "  array([-2.7235615e-04, -8.2084503e+00], dtype=float32),\n",
              "  'Negaitive'),\n",
              " ('很不错，老板特别热情，环境也很好',\n",
              "  array([-2.2873646e-04, -8.3827963e+00], dtype=float32),\n",
              "  'Negaitive'),\n",
              " ('味道巴适，服务不错。许久不吃，就会想念。',\n",
              "  array([-4.1035339e-04, -7.7987084e+00], dtype=float32),\n",
              "  'Negaitive'),\n",
              " ('牛排很不错', array([-2.845121e-04, -8.164717e+00], dtype=float32), 'Negaitive'),\n",
              " ('来了好几次了，味道还不错，两个人，吃的好饱，还剩不少',\n",
              "  array([-2.7068765e-04, -8.2145300e+00], dtype=float32),\n",
              "  'Negaitive'),\n",
              " ('真的太难吃了！！！',\n",
              "  array([-2.5519452e-04, -8.2733898e+00], dtype=float32),\n",
              "  'Negaitive'),\n",
              " ('嗯和男朋友一起来吃的 点了一个番茄鸳鸯锅  感觉番茄汤很浓 很好喝 菜品分量也很足  服务也很周到 服务员都是很年轻的小朋友 活力十足。下次还会再来哒',\n",
              "  array([-2.3278865e-04, -8.3654070e+00], dtype=float32),\n",
              "  'Negaitive'),\n",
              " ('送餐太慢啦 ！不想评论！',\n",
              "  array([-2.8653807e-04, -8.1577358e+00], dtype=float32),\n",
              "  'Negaitive'),\n",
              " ('做工太差啦，不好吃',\n",
              "  array([-2.1300431e-04, -8.4543104e+00], dtype=float32),\n",
              "  'Negaitive'),\n",
              " ('老板非常热情，菜也非常好吃，实惠，四个人完全吃不完，好评，下次一定还来，！',\n",
              "  array([-3.2526924e-04, -8.0309658e+00], dtype=float32),\n",
              "  'Negaitive'),\n",
              " ('不知道为什么#平菇肉丝（肉片）盖饭#里面会有尖椒？辣，不能吃辣这两天哎',\n",
              "  array([-1.1388728e-03, -6.7783170e+00], dtype=float32),\n",
              "  'Negaitive'),\n",
              " ('不错，味道很好，送货很快，赞一个',\n",
              "  array([-2.6794657e-04, -8.2246580e+00], dtype=float32),\n",
              "  'Negaitive'),\n",
              " ('味道很好，地方有点偏不好找，团购很划算，赞',\n",
              "  array([-2.553137e-04, -8.273203e+00], dtype=float32),\n",
              "  'Negaitive'),\n",
              " ('差评差评差评！十二点十二分下单 现在一点四十才送过来  问题是距离不到八百米  备注了加辣包结果我呵呵一个鸡腿一对翅膀一共一个调料包 不知道这家是怎么送外卖的  来了也没有一点歉意 建议大家要点外卖的避开这家 就这做生意的态度 趁早倒闭吧',\n",
              "  array([-2.2895331e-03, -6.0805545e+00], dtype=float32),\n",
              "  'Negaitive'),\n",
              " ('味道嘿好，只是番茄丸子米线只有丸子没有番茄，就有点不开心了',\n",
              "  array([-4.9316639e-04, -7.6150274e+00], dtype=float32),\n",
              "  'Negaitive'),\n",
              " ('味道不错，环境很好，就是不预订等很久',\n",
              "  array([-3.4314467e-04, -7.9775801e+00], dtype=float32),\n",
              "  'Negaitive'),\n",
              " ('店面位置好找，场地较小，卫生方面一般，店家的服务整体还算行，接待食客挺热情，验证卷码有规矩，排队挨个验，工作效率还算高，菜品都是半成品当场现加工成成品，点的鸡爪爪，份量由称称，一份有5个，折合下来与价格相比，虽不是很划算，但凭味道来说，还是与价格相对平衡，鸡爪爪的味道说不上有特别的特色与味道，但也挺香而爽口的，软硬度也合适，作为小食品味玩还是挺不错的。',\n",
              "  array([-3.6816971e-04, -7.9071207e+00], dtype=float32),\n",
              "  'Negaitive'),\n",
              " ('难吃，难吃，太难吃了，比在实体店味道差远了。',\n",
              "  array([-2.387477e-04, -8.339996e+00], dtype=float32),\n",
              "  'Negaitive'),\n",
              " ('太难吃了，光顾咸了，还有点',\n",
              "  array([-2.536452e-04, -8.279672e+00], dtype=float32),\n",
              "  'Negaitive'),\n",
              " ('很满意的，味道很好，就在电影院旁边，就是分量不多，但是值得一吃',\n",
              "  array([-3.4088045e-04, -7.9842329e+00], dtype=float32),\n",
              "  'Negaitive'),\n",
              " ('牛肉是坏的，臭的，不能吃，真郁闷',\n",
              "  array([-6.1714807e+00, -2.0902944e-03], dtype=float32),\n",
              "  'Positive'),\n",
              " ('我居然吃到蟑螂了，我好他妈无语，送半天都送不来',\n",
              "  array([-5.992817e+00, -2.499791e-03], dtype=float32),\n",
              "  'Positive'),\n",
              " ('#筒子骨约800g（默认宰断）#不想说了，快被那不晓得放了多少天的筒子骨臭晕了！！算我倒霉！！也就30块钱，算我倒霉！！',\n",
              "  array([-5.915726e+00, -2.700375e-03], dtype=float32),\n",
              "  'Positive'),\n",
              " ('鱼很差。又少不说。鱼还有腥味。无语了',\n",
              "  array([-3.5026639 , -0.03057986], dtype=float32),\n",
              "  'Positive'),\n",
              " ('分量足，挺好的！下次还会去',\n",
              "  array([-2.6151098e-04, -8.2490606e+00], dtype=float32),\n",
              "  'Negaitive'),\n",
              " ('榴莲披萨酸酸的，送了从3点多到5点多，呵呵，送这么久，很6哟',\n",
              "  array([-9.672731e-04, -6.941466e+00], dtype=float32),\n",
              "  'Negaitive'),\n",
              " ('难吃这个词我只说一次，这家店外卖我只点一次，送来菜是温的，颜色像隔夜菜一样，口感也是，份量真的很迷你，我晓得一分价钱一分货，但是我差不多价格之前点的其他很多家都比你们份量好，主要味道也好，炸土豆都是软塌塌的了，肥肠不晓得啷个形容，反正应该不是特别新鲜，我这么懒的人都会花时间来写这么多字，是因为真的不好吃，谨代表个人观点，觉得好吃的多吃点！',\n",
              "  array([-0.02423507, -3.7320473 ], dtype=float32),\n",
              "  'Negaitive'),\n",
              " ('很好吃，经常来吃， 鸡蛋仔比大通冰室的好吃很多',\n",
              "  array([-4.4443266e-04, -7.7189426e+00], dtype=float32),\n",
              "  'Negaitive'),\n",
              " ('一直都在买沁园的蛋糕面包来吃，味道好吃，经常去买，一进店里面店员很热情的推荐了新上市的芝士蛋糕，就正好团了一张来买，吃起确实口感细腻，下次还会再买。',\n",
              "  array([-2.3612572e-04, -8.3513966e+00], dtype=float32),\n",
              "  'Negaitive'),\n",
              " ('敲击好吃，下次还要来尝尝',\n",
              "  array([-3.558956e-04, -7.940999e+00], dtype=float32),\n",
              "  'Negaitive'),\n",
              " ('好吃。速度快。服务好。不错。还会来',\n",
              "  array([-2.3719836e-04, -8.3466272e+00], dtype=float32),\n",
              "  'Negaitive'),\n",
              " ('环境很不错，菜品新鲜分量很充足，服务很好',\n",
              "  array([-2.7950673e-04, -8.1825018e+00], dtype=float32),\n",
              "  'Negaitive'),\n",
              " ('超级好，老板人很好。本来以为是热的，结果是冰的，很意外，哈哈，碰到有人吃了又吃',\n",
              "  array([-3.8413776e-04, -7.8645983e+00], dtype=float32),\n",
              "  'Negaitive'),\n",
              " ('实际与宣传的差距太大，口味不行，这是我在重庆吃过最烂的石锅拌饭',\n",
              "  array([-4.1011506e-04, -7.7992535e+00], dtype=float32),\n",
              "  'Negaitive'),\n",
              " ('店面装修干净整洁，老板是个帅哥人也很好，服务很好，服务员全部白衣白帽的看着就很舒服，味道很好',\n",
              "  array([-2.6532466e-04, -8.2346287e+00], dtype=float32),\n",
              "  'Negaitive'),\n",
              " ('一如既往の好',\n",
              "  array([-3.9462408e-04, -7.8377018e+00], dtype=float32),\n",
              "  'Negaitive'),\n",
              " ('蛋糕很漂亮、味道也非常棒，原材料也很不错、吃起来口感很好额...而且价格又不贵、经济实惠...下次还来这里订蛋糕',\n",
              "  array([-2.7700403e-04, -8.1917267e+00], dtype=float32),\n",
              "  'Negaitive'),\n",
              " ('等了一个多小时，',\n",
              "  array([-4.2763149e-04, -7.7575183e+00], dtype=float32),\n",
              "  'Negaitive'),\n",
              " ('说实话，晚上去的时候没有见到小虎，没有听到小虎唱歌，心里真的很不爽，很失望。。。',\n",
              "  array([-2.4518344e-04, -8.3135929e+00], dtype=float32),\n",
              "  'Negaitive'),\n",
              " ('吃了很多次了，味道好，价格亲民',\n",
              "  array([-3.0858524e-04, -8.0835896e+00], dtype=float32),\n",
              "  'Negaitive'),\n",
              " ('味道好，经常过来吃的，下次还来，大家也可以来尝尝',\n",
              "  array([-2.689000e-04, -8.221146e+00], dtype=float32),\n",
              "  'Negaitive'),\n",
              " ('非常喜欢的，经常来喝的，希望一直好下去',\n",
              "  array([-3.333728e-04, -8.006257e+00], dtype=float32),\n",
              "  'Negaitive'),\n",
              " ('非常好的店，经常来吃，强烈推荐。',\n",
              "  array([-3.129946e-04, -8.069450e+00], dtype=float32),\n",
              "  'Negaitive'),\n",
              " ('吃完拉肚子，其他的不多说',\n",
              "  array([-5.5585189e+00, -3.8619475e-03], dtype=float32),\n",
              "  'Positive'),\n",
              " ('真的无语了，素米线没有了也就算了，盒子都变小了，以前就觉得汤还挺好喝的，今天送来糊都糊了，最恶心的是还翻到个蚊子',\n",
              "  array([-5.3468733e+00, -4.7743609e-03], dtype=float32),\n",
              "  'Positive'),\n",
              " ('味道不错。位置好找。吃的微辣后面也越吃越辣。三个女纸吃的四人餐貌似没吃尽兴，女汉子吖。下次会再去的。',\n",
              "  array([-2.7771908e-04, -8.1888933e+00], dtype=float32),\n",
              "  'Negaitive'),\n",
              " ('地方好找，离我们这里很近，老板娘很热情，味道也好，很可爱，还会去买哦！！',\n",
              "  array([-2.7235615e-04, -8.2086811e+00], dtype=float32),\n",
              "  'Negaitive'),\n",
              " ('嘴馋的我上了这几个菜就开始动了，后面的就没有照了，服务一如既往的好，菜的任然棒棒哒，来南坪逛街我最喜欢的吃饭点',\n",
              "  array([-2.7140271e-04, -8.2118845e+00], dtype=float32),\n",
              "  'Negaitive'),\n",
              " ('老板人很好，其中一份菜分量不够还主动说给我们加一个菜。其实老板不说我也不知道啊 哈哈',\n",
              "  array([-3.411188e-04, -7.983380e+00], dtype=float32),\n",
              "  'Negaitive'),\n",
              " ('好喝。口感很好',\n",
              "  array([-3.5601476e-04, -7.9408493e+00], dtype=float32),\n",
              "  'Negaitive'),\n",
              " ('点了几次了，但这份田螺实在不敢吃。因为前几天才出了福寿螺的新闻，卖福寿螺这在外地是可以举报的。重庆不知道可不可以，田螺不是这个样子，这就是福寿螺，没炒熟的话吃了是会被感染的啊大哥。不知道福寿螺的可以去百度一下，还有分辨田螺和福寿螺的图片。还有你们送来的时候，我一直在说小声点，大半夜家里人都睡了，特别大的声音敲门和说话。。真的无语。',\n",
              "  array([-1.4318557 , -0.27294493], dtype=float32),\n",
              "  'Positive'),\n",
              " ('我从来没吃过这么奇怪又难吃的烧烤！！点了个玉米，点了点素菜，其中包括青椒，结果商家直接给我送来一个奇奇怪怪的麻辣青椒炒玉米，虽然很失望但心想算了青椒炒玉米嘛也不会太难吃，结果吃了一口，真的奇怪的味道，青椒的辣混合着油辣子海椒的辣！于是致电商家，商家说我点了青椒，他以为就是这样弄，因为一般点了青椒和玉米的都是这样想的，我想问哈，你们真的都会这样想吗？还是我不该点青椒！？然后我说这个太难吃了，你把玉米的钱退给我就算了，结果商家死活不干，还说撒子我本来就没点多少钱的菜，这是我点了多少钱菜的问题吗？这是你商家的失',\n",
              "  array([-0.03960883, -3.248443  ], dtype=float32),\n",
              "  'Negaitive'),\n",
              " ('菜品丰富，味道不错，服务也很到位，价格各方面也很公道。下次还会再去！',\n",
              "  array([-3.7984786e-04, -7.8758979e+00], dtype=float32),\n",
              "  'Negaitive'),\n",
              " ('我日嘛啥子几把情况嘛，又不是第一次点了，吃除了一个蚊子大的哪种，还有一个小虫子，还有一根成头发，媳妇直接吃欧了，搞麻批搞',\n",
              "  array([-5.5803394e+00, -3.7784628e-03], dtype=float32),\n",
              "  'Positive'),\n",
              " ('我要是再来这家店我就是傻逼！！！菜和肉只有一点不说，还是臭的。好评都是刷出来的吧！商家要有点良心，纯粹垃圾，实话实说而已。',\n",
              "  array([-5.3569016e+00, -4.7266656e-03], dtype=float32),\n",
              "  'Positive'),\n",
              " ('味道很不错，糍粑特别好吃，下次会再来',\n",
              "  array([-2.7235615e-04, -8.2086411e+00], dtype=float32),\n",
              "  'Negaitive'),\n",
              " ('好喝好喝每天一杯，便宜好喝店员服务好好喝好喝每天一杯，便宜好喝店员服务好好喝好喝每天一杯，便宜好喝店员服务好好喝好喝每天一杯，便宜好喝店员服务好好喝好喝每天一杯，便宜好喝店员服务好好喝好喝每天一杯，便宜好喝店员服务好',\n",
              "  array([-3.8044367e-04, -7.8744917e+00], dtype=float32),\n",
              "  'Negaitive'),\n",
              " ('蛋糕很实惠，卖家送来的也挺快的，下次会再来。',\n",
              "  array([-2.1217002e-04, -8.4582500e+00], dtype=float32),\n",
              "  'Negaitive'),\n",
              " ('太棒了，味道很好，值得朋友聚餐去，真的很麻辣。',\n",
              "  array([-2.2718709e-04, -8.3900995e+00], dtype=float32),\n",
              "  'Negaitive'),\n",
              " ('上菜快，味道好，份量足，服务周到，虽然店面小，但环境安静优雅，梅子酒有点特色，度数低，女士们一起小酌一下还不错。下次还会来的，并且会向朋友推荐。真心好。',\n",
              "  array([-2.6615892e-04, -8.2314825e+00], dtype=float32),\n",
              "  'Negaitive'),\n",
              " ('真的不好吃，全是冰渣，三层厚厚的皮，一层带冰渣的奶油，一小块里只有五六粒芒果，感觉全是皮和冰口感也不好',\n",
              "  array([-0.01247625, -4.3901553 ], dtype=float32),\n",
              "  'Negaitive'),\n",
              " ('位置也比较好找，味道也非常的好吃，分量足，总体来说很开心。',\n",
              "  array([-2.7533554e-04, -8.1976709e+00], dtype=float32),\n",
              "  'Negaitive'),\n",
              " ('好吃，菜品新鲜，分量足',\n",
              "  array([-2.4101214e-04, -8.3305979e+00], dtype=float32),\n",
              "  'Negaitive'),\n",
              " ('服务态度很好，店员非常热情，十分好评！',\n",
              "  array([-2.721178e-04, -8.209343e+00], dtype=float32),\n",
              "  'Negaitive'),\n",
              " ('翻找美团发现这家，抱着试一试的态度过来的，结果真心好好吃，都全部吃完了，很大一条鱼简直是太划算了，老板娘态度也很好。还配了荤菜个素菜，',\n",
              "  array([-3.4350218e-04, -7.9764528e+00], dtype=float32),\n",
              "  'Negaitive'),\n",
              " ('位置：A馆3号门对面直走大概500米，在林妹妹沾水米线旁边！环境：比较简洁，室内为主，室外只有一张桌子！服务：挺不错的，wifi速度杠杠的，团购验证很快，老板娘挺热情的！味道：酱香味确实不错，香辣太辣了！土豆很好吃！下次有机会来试试蟠龙菜～',\n",
              "  array([-2.3231193e-04, -8.3675385e+00], dtype=float32),\n",
              "  'Negaitive'),\n",
              " ('环境和服务都非常好，下午去的比较早，人不多，有一桌打牌的，如果禁止客人在咖啡馆大厅打牌，这样可能显得咖啡馆更宁静，更专业一点。在咖啡馆打牌可能跟本地习俗有关系，再高档的咖啡厅也免不了有人打牌，所以这点上面也不能苛刻要求，总体算不错的。',\n",
              "  array([-3.6697806e-04, -7.9104080e+00], dtype=float32),\n",
              "  'Negaitive'),\n",
              " ('来了好多次了！不错！下次再来！',\n",
              "  array([-2.4399164e-04, -8.3184938e+00], dtype=float32),\n",
              "  'Negaitive'),\n",
              " ('老顾客了 这个套餐相当划算！推荐',\n",
              "  array([-2.5865072e-04, -8.2600679e+00], dtype=float32),\n",
              "  'Negaitive'),\n",
              " ('说的送冰红茶。我怎么没看到！  遁地了没？',\n",
              "  array([-1.5620899e-03, -6.4625044e+00], dtype=float32),\n",
              "  'Negaitive'),\n",
              " ('味道一点都不好吃！里面的菜也没有入味！',\n",
              "  array([-2.7860894e-03, -5.8845167e+00], dtype=float32),\n",
              "  'Negaitive'),\n",
              " ('味道还可以，分量也多足。但是作为资深的小龙虾专业户，我想说你们勒个虾子不是死虾都是放了一到两天的虾子老，虾肉又老又硬，反复加热导致虾子壳壳只有嫩个难拨老。不是新鲜的虾我全部捞出来了，老板你也真的是太没得职业道德了，新鲜虾子少得可怜。另外，不要拿同行污蔑勒些言子来解释老，我确实不是同行！',\n",
              "  array([-0.755501  , -0.63445413], dtype=float32),\n",
              "  'Positive'),\n",
              " ('口感不错，环境也还好，老板很热情，上菜在快一点就好了',\n",
              "  array([-2.2444590e-04, -8.4017725e+00], dtype=float32),\n",
              "  'Negaitive'),\n",
              " ('很好喝，一只酸奶牛加冰了味就淡了，这家加冰味道也很浓，这种热死人的天气喝起确实爽',\n",
              "  array([-6.6603889e-04, -7.3144593e+00], dtype=float32),\n",
              "  'Negaitive'),\n",
              " ('一直喜欢这家店，位于长江江畔，风景优美，味道鲜美，非常适合朋友聚会。',\n",
              "  array([-2.022777e-04, -8.505759e+00], dtype=float32),\n",
              "  'Negaitive'),\n",
              " ('一如既往的好吃，这次一个人去的。',\n",
              "  array([-2.5138078e-04, -8.2885723e+00], dtype=float32),\n",
              "  'Negaitive'),\n",
              " ('来咯歌剧院哈哈哈哈',\n",
              "  array([-2.489972e-04, -8.298086e+00], dtype=float32),\n",
              "  'Negaitive'),\n",
              " ('吃了很多次了味道不错',\n",
              "  array([-3.8532939e-04, -7.8617263e+00], dtype=float32),\n",
              "  'Negaitive'),\n",
              " ('土豆丝太难吃，还有虫子在里面。',\n",
              "  array([-6.1620765e+00, -2.1100417e-03], dtype=float32),\n",
              "  'Positive'),\n",
              " ('来了很多次了，环境很舒服，老板很细心，说天气凉了酒喝太冰对女生肠胃不好，给上一半冰一半不冰，解放碑啤酒口感很不错，而且上面还有很多有趣的重庆言子，最喜欢吃她们店的豆干和牛肉分量足，味道巴适超级下酒，这家店我是认准了',\n",
              "  array([-2.870148e-04, -8.155956e+00], dtype=float32),\n",
              "  'Negaitive'),\n",
              " ('狠不满意，味太差，还吃到头发，投诉',\n",
              "  array([-5.96149e+00, -2.57934e-03], dtype=float32),\n",
              "  'Positive'),\n",
              " ('真不想说啦，看着都没食欲啦，',\n",
              "  array([-4.5718232e-04, -7.6906772e+00], dtype=float32),\n",
              "  'Negaitive'),\n",
              " ('这边的位置好找，两个人吃的，吃的蒜香味，一点也不辣，味道超好吃，不能吃辣椒的，最合适选择蒜香的。分量很多，两个人吃都没吃完，还送了一个小菜，老板的服务态度也很好，强烈推荐大家去品尝，反正我是很满意这次的用餐。',\n",
              "  array([-2.4113132e-04, -8.3301916e+00], dtype=float32),\n",
              "  'Negaitive'),\n",
              " ('饭又硬又冷，菜真的是难吃 猪扒就三块 还薄得跟纸一样薄，咖喱就像土豆泥根本没有咖喱味 下次再也不买这家了 ',\n",
              "  array([-4.614894e-03, -5.380785e+00], dtype=float32),\n",
              "  'Negaitive'),\n",
              " ('很多很多很多次呢，以后还会再去的味道不错',\n",
              "  array([-2.0084748e-04, -8.5131273e+00], dtype=float32),\n",
              "  'Negaitive'),\n",
              " ('好吃，环境好，经常来吃，团购很划算',\n",
              "  array([-3.948624e-04, -7.837220e+00], dtype=float32),\n",
              "  'Negaitive'),\n",
              " ('分量其实挺足的，只是因为是干捞没有汤加上碗大，照出来不明显，味道挺好的，辣油别有一番风味还带了点豆子的香味，米线口感糯的又不失筋道，非常棒',\n",
              "  array([-3.3742457e-04, -7.9943748e+00], dtype=float32),\n",
              "  'Negaitive'),\n",
              " ('评价了好多次了 每次都吃美蛙鱼头 直接团一个这个98的 不管3个人还是4个人 我这边情况是都吃爽了的 3个人会吃不完菜 四个人刚好够 麻辣味好爽 配菜也都很好吃 虽然是路边大排档即视感 但这样才有feel',\n",
              "  array([-3.134713e-04, -8.067777e+00], dtype=float32),\n",
              "  'Negaitive'),\n",
              " ('团购实惠，味道不错，蒸汽煮鱼速度快，只用了4分钟，推荐，下次还来',\n",
              "  array([-3.5780226e-04, -7.9357080e+00], dtype=float32),\n",
              "  'Negaitive'),\n",
              " ('长这么大吃过最好吃的蛋糕…奶油的纯纯的重牛奶味，真的听不下来，蛋糕又不甜，刚好配上奶油的甜而不腻，太棒了。还有配套的工具，太喜欢了，真的太有feel，超级无敌满意，以后会继续购买。送货上门的优质态度，希望你们生意越来越好',\n",
              "  array([-1.948882e-04, -8.543067e+00], dtype=float32),\n",
              "  'Negaitive'),\n",
              " ('这味道确实太差了，一点味道都没有',\n",
              "  array([-8.213722e-04, -7.105015e+00], dtype=float32),\n",
              "  'Negaitive'),\n",
              " ('还不错⊙▽⊙很好吃，服务很好！',\n",
              "  array([-2.7092602e-04, -8.2138739e+00], dtype=float32),\n",
              "  'Negaitive'),\n",
              " ('位置好找就在狮子坪轻轨站，去的时候人不多，菜品新鲜而且品种也很多，火锅和烤肉一起很有特色，牛排也不错就是太小了，还要排队等，酒水的话就是葡萄酒太差啦，感觉就是兑出来的，一点也没有酒味，服务也还好也值这个价格了',\n",
              "  array([-3.0262658e-04, -8.1032267e+00], dtype=float32),\n",
              "  'Negaitive'),\n",
              " ('不好吃味道跟上次完全不一样',\n",
              "  array([-1.6678959e-03, -6.3970556e+00], dtype=float32),\n",
              "  'Negaitive'),\n",
              " ('服务热情周到细致，味道美美的，环境好有免费的水果沙拉，值得去，希望多多做活动，己是常客',\n",
              "  array([-2.9893222e-04, -8.1153812e+00], dtype=float32),\n",
              "  'Negaitive'),\n",
              " ('一如既往的喜欢，就是大家都爱吃虾，店家一次就弄那么一盘，一上来就被抢光了，要排队等很久，扫兴。',\n",
              "  array([-4.1345155e-04, -7.7911367e+00], dtype=float32),\n",
              "  'Negaitive'),\n",
              " ('看到无邪入驻重庆第一时间就去拔草了，对于抹茶控来说简直大爱啊。在龙湖天街2号门口非常显眼，装修风格就是日式的，刚开业人很多，但是服务员特别热情搞得我很紧张啊哈哈哈。四个人每个人点了一个，吃个精光。',\n",
              "  array([-3.0787018e-04, -8.0859957e+00], dtype=float32),\n",
              "  'Negaitive'),\n",
              " ('位置比较好找，环境不错，味道很好',\n",
              "  array([-1.8285033e-04, -8.6070700e+00], dtype=float32),\n",
              "  'Negaitive'),\n",
              " ('新开的，看电影出来饿了',\n",
              "  array([-3.3361115e-04, -8.0057659e+00], dtype=float32),\n",
              "  'Negaitive'),\n",
              " ('油太多了，不好吃！太腻！',\n",
              "  array([-3.2121743e-04, -8.0434713e+00], dtype=float32),\n",
              "  'Negaitive'),\n",
              " ('时间很准确，但是实物质量太差了。不好吃',\n",
              "  array([-2.662781e-04, -8.231085e+00], dtype=float32),\n",
              "  'Negaitive'),\n",
              " ('百分之百有死虾，而且还有臭味，老板开门做生意不是这么做的吧！从来没给任何一个商家差评，你算第一个',\n",
              "  array([-5.7026892e+00, -3.3425197e-03], dtype=float32),\n",
              "  'Positive'),\n",
              " ('第一次吃，感觉味道还不错，服务态度也挺好的，下次还会再来',\n",
              "  array([-2.3421882e-04, -8.3594732e+00], dtype=float32),\n",
              "  'Negaitive'),\n",
              " ('蔬菜已经过期，吃完就拉肚子了',\n",
              "  array([-5.8039417e+00, -3.0202509e-03], dtype=float32),\n",
              "  'Positive'),\n",
              " ('味道不错，就是有点热！！！！！！',\n",
              "  array([-2.8570386e-04, -8.1606770e+00], dtype=float32),\n",
              "  'Negaitive'),\n",
              " ('不错，挺好喝的，下次还会喝',\n",
              "  array([-3.0369914e-04, -8.0995388e+00], dtype=float32),\n",
              "  'Negaitive'),\n",
              " ('经常经过这里，第一次来团，没有失望。我去的时候比较晚，没有排队，美女服务态度也好。味道是我喜欢的就是有点辣，个人口味吧。分量很足，好多肉啊，反正我没有吃完，浪费了！下次和闺蜜一起吃，推荐，价廉物美好味道！棒棒哒！',\n",
              "  array([-3.1073033e-04, -8.0768614e+00], dtype=float32),\n",
              "  'Negaitive'),\n",
              " ('物美价廉，上菜很快，味道也不错',\n",
              "  array([-2.4470672e-04, -8.3157558e+00], dtype=float32),\n",
              "  'Negaitive'),\n",
              " ('贵。不到10 只。就100块也不好吃',\n",
              "  array([-2.3824184e-03, -6.0408392e+00], dtype=float32),\n",
              "  'Negaitive'),\n",
              " ('我们是去重庆旅游的，因为宝贝睡着了，所以我们说找个茶馆休息一下，没想到环境很好，而且服务也很好，把宝贝放在沙发上睡，我们也休息了一下，茶也挺好的，没想到这么便宜的价位还有这么好的地方',\n",
              "  array([-2.4339574e-04, -8.3210363e+00], dtype=float32),\n",
              "  'Negaitive'),\n",
              " ('十分的不错、已经来了很多次了、带起娃儿来很好',\n",
              "  array([-2.1765247e-04, -8.4324980e+00], dtype=float32),\n",
              "  'Negaitive'),\n",
              " ('喜欢，口味很好',\n",
              "  array([-2.6878083e-04, -8.2216616e+00], dtype=float32),\n",
              "  'Negaitive'),\n",
              " ('米线一股酸臭味，牛肉也是。真是一口也没吃。打开盖子就闻到了。',\n",
              "  array([-6.092099e+00, -2.263248e-03], dtype=float32),\n",
              "  'Positive'),\n",
              " ('态度好 服务好 做的蛋糕也不错',\n",
              "  array([-3.2348168e-04, -8.0363741e+00], dtype=float32),\n",
              "  'Negaitive'),\n",
              " ('我们是两个人去吃的，有一个代金劵，位置还是比较好找的，去的时候刚好快开餐，环境很好而且做中间还有节目表演，就是节目少了点服务员很好很热心 由于后来去弄照片去耽误了十几分钟，回来发现桌子的菜全没了，结果被服务员收拾啦。哈哈，说起来我们也有点不好意思呢！不过后来马上又给我们开了一桌，还有那个爬爬虾，排队的人真的很多啊，我们都排了几次，还吃了很多哈根达斯，真的是很不错的，希望店家能多有些优惠活动就好了，',\n",
              "  array([-2.519767e-04, -8.286283e+00], dtype=float32),\n",
              "  'Negaitive'),\n",
              " ('味道不错，服务态度也不错，环境也可以',\n",
              "  array([-2.9011333e-04, -8.1454468e+00], dtype=float32),\n",
              "  'Negaitive'),\n",
              " ('第一次儿子试了香蕉优格，味道挺不错的，以后继续光顾，非常棒！',\n",
              "  array([-2.8939827e-04, -8.1479263e+00], dtype=float32),\n",
              "  'Negaitive'),\n",
              " ('作为北方人真的吃不惯这个南方面食，豆浆还行，包子粥不好吃、全扔了',\n",
              "  array([-2.783593e-03, -5.885396e+00], dtype=float32),\n",
              "  'Negaitive'),\n",
              " ('不知道是第几次来了，这次带了两个朋友，四人餐，分量还是很足，味道依旧好',\n",
              "  array([-3.6530974e-04, -7.9149370e+00], dtype=float32),\n",
              "  'Negaitive'),\n",
              " ('本来很喜欢吃，但是我吃到一根头发，呵呵',\n",
              "  array([-5.8693657e+00, -2.8286467e-03], dtype=float32),\n",
              "  'Positive'),\n",
              " ('挺好的~菜品新鲜.态度很好.味道不错!',\n",
              "  array([-2.473287e-04, -8.304812e+00], dtype=float32),\n",
              "  'Negaitive'),\n",
              " ('居然.有吃到苍蝇。#鱼香肉丝套餐#',\n",
              "  array([-5.7166986e+00, -3.2959445e-03], dtype=float32),\n",
              "  'Positive'),\n",
              " ('一如既往的好 去过几次了 老人小孩都满意',\n",
              "  array([-2.436341e-04, -8.320035e+00], dtype=float32),\n",
              "  'Negaitive'),\n",
              " ('服务特别好，菜品干净，一个星期吃了两次也没有拉肚子，特别棒',\n",
              "  array([-3.5756393e-04, -7.9362144e+00], dtype=float32),\n",
              "  'Negaitive'),\n",
              " ('不错，很划算，强烈推荐，去了两次了',\n",
              "  array([-2.2742547e-04, -8.3887081e+00], dtype=float32),\n",
              "  'Negaitive'),\n",
              " ('菜品很精致很正宗，虾子又干净又大个，良心商家！！！',\n",
              "  array([-2.2516100e-04, -8.3990135e+00], dtype=float32),\n",
              "  'Negaitive'),\n",
              " ('推荐卤肉饭。味道好。而且美团还有优惠。',\n",
              "  array([-1.9155098e-04, -8.5605803e+00], dtype=float32),\n",
              "  'Negaitive'),\n",
              " ('三个人吃的，分量很足，味道也挺好',\n",
              "  array([-2.3016665e-04, -8.3768234e+00], dtype=float32),\n",
              "  'Negaitive'),\n",
              " ('服务员的态度太好了，我儿子说要给她们32个赞，，牛排也好吃，环境好，是个和家人朋友聚餐的好地方，值得推荐。',\n",
              "  array([-1.9798703e-04, -8.5276642e+00], dtype=float32),\n",
              "  'Negaitive'),\n",
              " ('很好吃，很香，味道很纯正，非常不错，性价比太高了，值得推荐',\n",
              "  array([-2.5853154e-04, -8.2604685e+00], dtype=float32),\n",
              "  'Negaitive'),\n",
              " ('一直都喜欢吃，味道一直很好',\n",
              "  array([-2.7938755e-04, -8.1830168e+00], dtype=float32),\n",
              "  'Negaitive'),\n",
              " ('价格合理、老板细心、周到、下次还去',\n",
              "  array([-2.3266947e-04, -8.3661327e+00], dtype=float32),\n",
              "  'Negaitive'),\n",
              " ('量死少，感觉不值50多',\n",
              "  array([-6.9689302e-04, -7.2691875e+00], dtype=float32),\n",
              "  'Negaitive'),\n",
              " ('订的生日蛋糕、味道好、售货员的态度好。好评',\n",
              "  array([-2.7068765e-04, -8.2146339e+00], dtype=float32),\n",
              "  'Negaitive'),\n",
              " ('好好吃的茶餐厅，强烈推荐！服务也很好',\n",
              "  array([-3.147822e-04, -8.063695e+00], dtype=float32),\n",
              "  'Negaitive'),\n",
              " ('鱼很新鲜，美蛙也很好吃，菜品不错',\n",
              "  array([-2.3636408e-04, -8.3502331e+00], dtype=float32),\n",
              "  'Negaitive'),\n",
              " ('一如既往的好，品相好，价廉物美！',\n",
              "  array([-3.0107735e-04, -8.1084471e+00], dtype=float32),\n",
              "  'Negaitive'),\n",
              " ('买的筒子骨都是臭的  真的臭的遭不住 买的绿豆送来的豆芽  补送的现在都还没送来 害我还要走其它店去买筒子骨 钱都这么浪费了',\n",
              "  array([-5.606942e+00, -3.679056e-03], dtype=float32),\n",
              "  'Positive'),\n",
              " ('味道不错、到处都是这样的连锁店、',\n",
              "  array([-3.2836766e-04, -8.0214052e+00], dtype=float32),\n",
              "  'Negaitive'),\n",
              " ('很喜欢，很好吃，分量也足',\n",
              "  array([-2.7473966e-04, -8.1998158e+00], dtype=float32),\n",
              "  'Negaitive'),\n",
              " ('好吃好吃，菜品也很新鲜，下次还会来',\n",
              "  array([-2.124084e-04, -8.457215e+00], dtype=float32),\n",
              "  'Negaitive'),\n",
              " ('好吃又便宜', array([-2.740246e-04, -8.202587e+00], dtype=float32), 'Negaitive'),\n",
              " ('带儿子在沙坪坝吃的，儿子上完课快一点了！点了金柏然同款2人套餐，吃了个精光，儿子特别喜欢苹果木肋眼牛排，还送了40元的券，味道好，超值！',\n",
              "  array([-2.870148e-04, -8.156123e+00], dtype=float32),\n",
              "  'Negaitive'),\n",
              " ('很好吃，和闺蜜来了很多次了，最爱抹茶，老板超好，而且还免费送了我们大福，很好吃！',\n",
              "  array([-2.6913834e-04, -8.2206192e+00], dtype=float32),\n",
              "  'Negaitive'),\n",
              " ('他家团了多次，味道服务都不错，环境一般般',\n",
              "  array([-2.3135847e-04, -8.3714104e+00], dtype=float32),\n",
              "  'Negaitive'),\n",
              " ('菜不新鲜，肉是臭的。骗人我****。',\n",
              "  array([-5.8813190e+00, -2.7950052e-03], dtype=float32),\n",
              "  'Positive'),\n",
              " ('第一次来，味道真心不错，太好吃了，环境好，下次一定还和朋友来',\n",
              "  array([-2.0597244e-04, -8.4881458e+00], dtype=float32),\n",
              "  'Negaitive'),\n",
              " ('首先分量少得可怜，然后，牛肉里面还有腊肉。算是给我加餐吗。',\n",
              "  array([-2.6440206e-03, -5.9367566e+00], dtype=float32),\n",
              "  'Negaitive'),\n",
              " ('到现在还在拉肚子，，，',\n",
              "  array([-5.6590443e+00, -3.4919733e-03], dtype=float32),\n",
              "  'Positive'),\n",
              " ('吃了西瓜拉肚子坏的也拿来卖',\n",
              "  array([-5.8199849e+00, -2.9721155e-03], dtype=float32),\n",
              "  'Positive'),\n",
              " ('喜欢吃那个牛蛙和面条，第二次来了。',\n",
              "  array([-2.7736154e-04, -8.1903839e+00], dtype=float32),\n",
              "  'Negaitive'),\n",
              " ('服务好 菜品很新鲜 也比较多 周末去人比较多',\n",
              "  array([-2.6317948e-04, -8.2429905e+00], dtype=float32),\n",
              "  'Negaitive'),\n",
              " ('味道好，老板态度热情，只是环境稍为差了点',\n",
              "  array([-1.8785619e-04, -8.5801039e+00], dtype=float32),\n",
              "  'Negaitive'),\n",
              " ('很不错啊，四个女生没吃完。带外地同学去吃，反正没让她们失望！！！',\n",
              "  array([-2.8510796e-04, -8.1629019e+00], dtype=float32),\n",
              "  'Negaitive'),\n",
              " ('阿姨叔叔都很热情，坐在了外面还怕晚上没灯会暗，不过还好，味道不错，但是朋友有些吃不惯，吃的人还是蛮多的#凯里酸汤鱼#',\n",
              "  array([-2.2575691e-04, -8.3960657e+00], dtype=float32),\n",
              "  'Negaitive'),\n",
              " ('好吃，鸡排也比较大，价格实惠',\n",
              "  array([-2.168182e-04, -8.436414e+00], dtype=float32),\n",
              "  'Negaitive'),\n",
              " ('吃了好几次 不错！',\n",
              "  array([-2.6067672e-04, -8.2523031e+00], dtype=float32),\n",
              "  'Negaitive'),\n",
              " ('emmmmm我外地刚过来，不知道怎么说，我感觉一股香精味，还有糖太多了，一点都不好喝，巨难受',\n",
              "  array([-0.00671464, -5.0068293 ], dtype=float32),\n",
              "  'Negaitive'),\n",
              " ('牛排问道又香又嫩，环境也很舒服，还可以弹钢琴，呵呵，服务很热情，喜欢下次还来',\n",
              "  array([-2.998856e-04, -8.112427e+00], dtype=float32),\n",
              "  'Negaitive'),\n",
              " ('严重差评。19:01就开始配送，差不多四十分钟才拿到，还是我们主动打电话询问商家联系配送员，打了好几次电话，又过了很久才拿到，食物早已凉透了，实在是太差了。',\n",
              "  array([-4.1466691e-03, -5.4875345e+00], dtype=float32),\n",
              "  'Negaitive'),\n",
              " ('幽雅的环境，小而精致，适合约会，朋友小聚。很不错！我和朋友下午六点半下班来就餐，开始还没有多少人，后面越来越多，基本上把店家都坐满了。有3人，6人座，还有1楼的吧台座位。服务到位，亲切，温暖。菜品精致，味道惊艳。有机会还会来的。',\n",
              "  array([-2.8379704e-04, -8.1675377e+00], dtype=float32),\n",
              "  'Negaitive'),\n",
              " ('可以 味道呢将就吧 价钱也不贵 分量毛肚有点少  团购的菜品总体不是很满意',\n",
              "  array([-3.275335e-04, -8.023973e+00], dtype=float32),\n",
              "  'Negaitive'),\n",
              " ('吃了肚子疼 拉肚子 唉',\n",
              "  array([-5.8883438e+00, -2.7753904e-03], dtype=float32),\n",
              "  'Positive'),\n",
              " ('好吃得很，吃了很多次了，都吃不厌了，配菜也好吃，炒菜，干锅都好吃，最喜欢的店之一',\n",
              "  array([-2.646096e-04, -8.237398e+00], dtype=float32),\n",
              "  'Negaitive'),\n",
              " ('一只酸奶牛的人气太高了。每次都要排好长的队。。我喜欢吃里面的紫米。。总体来讲很不错。酸奶的纯度很高。味道很好，在重庆的分店特别多。可见其知名度的大小，简直不容小觑。美团上团购比实体店买便宜点。还是挺划算的。',\n",
              "  array([-2.5281095e-04, -8.2832212e+00], dtype=float32),\n",
              "  'Negaitive'),\n",
              " ('慢，都快饿死了才送来，电话也打不通',\n",
              "  array([-5.8919709e-04, -7.4371266e+00], dtype=float32),\n",
              "  'Negaitive'),\n",
              " ('味道一如既往地好吃，分量一如既往地足，很好，很满意！！！',\n",
              "  array([-3.2002572e-04, -8.0473452e+00], dtype=float32),\n",
              "  'Negaitive'),\n",
              " ('味道很好，服务也好，就是环境差了一点',\n",
              "  array([-2.8248611e-04, -8.1720181e+00], dtype=float32),\n",
              "  'Negaitive'),\n",
              " ('挺好吃的～～分量挺多 下次还会去',\n",
              "  array([-2.4434918e-04, -8.3169079e+00], dtype=float32),\n",
              "  'Negaitive'),\n",
              " ('配送速度简直太慢了，一个多小时才送到，点杯豆浆不仅是冷的还没吸管',\n",
              "  array([-0.0071355, -4.94623  ], dtype=float32),\n",
              "  'Negaitive'),\n",
              " ('环境挺不错的，适合朋友小聚，去之前最好预定，人特别多，去晚了就要等位啦。6个人团了3张代金券，还补了30元，姐妹聚会有点小激动，还没有找钱拿发票就走了。上菜还是挺快的，味道偏辣，就是感觉桌子有点小。总体还是不错的！',\n",
              "  array([-1.8785619e-04, -8.5799351e+00], dtype=float32),\n",
              "  'Negaitive'),\n",
              " ('很好哦味道不错真的不错好吃惨了',\n",
              "  array([-1.9774865e-04, -8.5288477e+00], dtype=float32),\n",
              "  'Negaitive'),\n",
              " ('送的什么鬼。超难吃！还送错',\n",
              "  array([-9.5691183e-04, -6.9522834e+00], dtype=float32),\n",
              "  'Negaitive'),\n",
              " ('非常感谢店家！服务态度非常好下下雨还亲自送来，非常感谢',\n",
              "  array([-2.7485884e-04, -8.1995831e+00], dtype=float32),\n",
              "  'Negaitive'),\n",
              " ('一如既往的喜欢贡茶，贡茶还是招牌的最好喝',\n",
              "  array([-2.8236693e-04, -8.1722870e+00], dtype=float32),\n",
              "  'Negaitive'),\n",
              " ('口味还可以，就是茶包不要放得太久，太久会很涩，老板的服务也很好',\n",
              "  array([-2.7068765e-04, -8.2146130e+00], dtype=float32),\n",
              "  'Negaitive'),\n",
              " ('这的鱼吃起来很嫩。很好吃',\n",
              "  array([-2.730712e-04, -8.205818e+00], dtype=float32),\n",
              "  'Negaitive'),\n",
              " ('味道很不错，四种口味，就是不能配送到家，不过这个价格还是很实惠了，店家服务很好，让我不出地铁站直接送到站口来的，节约了时间和金钱，赞一个，下次还来。',\n",
              "  array([-2.3123929e-04, -8.3719540e+00], dtype=float32),\n",
              "  'Negaitive'),\n",
              " ('味道很好，离公司又近。分量足，请朋友吃的，很满意',\n",
              "  array([-3.0941944e-04, -8.0808640e+00], dtype=float32),\n",
              "  'Negaitive'),\n",
              " ('这家烤鱼味道确实不错，我刚从北京回来。经朋友推荐来的这家店，我们吃的香辣味，确实鱼很新鲜，份量很足，刚开始没怎么入味建议煮一会儿就入味了，慢慢吃，配点他们家的柠檬水（特注：柠檬水是免费的，还有免费的洋芋饭）。吃的很满足很饱，没有去过的亲可以去试试，他们家位置有点不好找在王少龙火锅店楼上。',\n",
              "  array([-3.0941944e-04, -8.0808868e+00], dtype=float32),\n",
              "  'Negaitive'),\n",
              " ('一如既往的好 ，老板也特别好，以后会常去的',\n",
              "  array([-2.5769728e-04, -8.2639866e+00], dtype=float32),\n",
              "  'Negaitive'),\n",
              " ('味道好，中午人也少，菜新鲜，好',\n",
              "  array([-3.3432618e-04, -8.0034847e+00], dtype=float32),\n",
              "  'Negaitive'),\n",
              " ('很好，不错，环境也可以，经常来吃！',\n",
              "  array([-2.5662468e-04, -8.2682104e+00], dtype=float32),\n",
              "  'Negaitive'),\n",
              " ('地方非常好找，装修也不错，味道不错，没有外面路边摊的煤炭味道。',\n",
              "  array([-4.3561505e-04, -7.7389832e+00], dtype=float32),\n",
              "  'Negaitive'),\n",
              " ('首先 没有因为是美团就态度不一样 其次上菜很快 米线味道很好！有一股药膳的味道 但是味道不是很浓 很合胃口 汤很浓很好喝 米线很有弹性 肉和猪肝的分量很足 还有一个煎蛋 米线下面还有海带和豆芽 另外还有一个蘸碗 可以自己加香菜葱和调料~总之很满意的一次米线！',\n",
              "  array([-2.785533e-04, -8.186117e+00], dtype=float32),\n",
              "  'Negaitive'),\n",
              " ('老顾客，在三峡广场的时候都会去吃#芒果卷#',\n",
              "  array([-1.9429227e-04, -8.5459852e+00], dtype=float32),\n",
              "  'Negaitive'),\n",
              " ('分量足不错',\n",
              "  array([-3.8401858e-04, -7.8650413e+00], dtype=float32),\n",
              "  'Negaitive'),\n",
              " ('不知道是第几次来了x2，一如既往的继续支持',\n",
              "  array([-3.345645e-04, -8.002761e+00], dtype=float32),\n",
              "  'Negaitive'),\n",
              " ('可以不错，经常去买，味道卖相都很好',\n",
              "  array([-2.3600654e-04, -8.3518038e+00], dtype=float32),\n",
              "  'Negaitive'),\n",
              " ('地道重庆味 就是位置比较难找 服务热情 还送了些粽子',\n",
              "  array([-2.8749148e-04, -8.1544733e+00], dtype=float32),\n",
              "  'Negaitive'),\n",
              " ('经常去吃，味道不错',\n",
              "  array([-2.7116438e-04, -8.2130651e+00], dtype=float32),\n",
              "  'Negaitive'),\n",
              " ('一如既往的经济实惠味道也不错。',\n",
              "  array([-2.8427376e-04, -8.1656942e+00], dtype=float32),\n",
              "  'Negaitive'),\n",
              " ('不知道是第几次来了，老板人很好，味道不错，物美价廉',\n",
              "  array([-2.6687398e-04, -8.2287169e+00], dtype=float32),\n",
              "  'Negaitive'),\n",
              " ('食物全馊了，好恶心的商家',\n",
              "  array([-6.1006799e+00, -2.2438606e-03], dtype=float32),\n",
              "  'Positive'),\n",
              " ('味道还可以，上的很快，少冰很好喝',\n",
              "  array([-2.761698e-04, -8.194755e+00], dtype=float32),\n",
              "  'Negaitive'),\n",
              " ('经济实惠，蛋糕新鲜美味又好吃，希望多多推出不同类型团购',\n",
              "  array([-2.3457636e-04, -8.3576708e+00], dtype=float32),\n",
              "  'Negaitive'),\n",
              " ('配送挺快的，但是饭里吃到钢丝，还好看到了，也恶心到了。给老板发了图片也没回我。',\n",
              "  array([-5.453241e+00, -4.291611e-03], dtype=float32),\n",
              "  'Positive'),\n",
              " ('很不错，美味，我們工作歺经常来吃',\n",
              "  array([-3.2801015e-04, -8.0227461e+00], dtype=float32),\n",
              "  'Negaitive'),\n",
              " ('环境很温馨，简洁。菜品的摆盘，口感都还挺不错的，推荐2人一起。',\n",
              "  array([-3.209791e-04, -8.044322e+00], dtype=float32),\n",
              "  'Negaitive'),\n",
              " ('好吃，牛肉入味，老板娘也很热情。',\n",
              "  array([-3.544656e-04, -7.944960e+00], dtype=float32),\n",
              "  'Negaitive'),\n",
              " ('位置好找，老板非常热情！菜品味道不错！环境也非常干净，适合家庭个人聚会！',\n",
              "  array([-2.3409964e-04, -8.3598499e+00], dtype=float32),\n",
              "  'Negaitive'),\n",
              " ('跟闺蜜去吃的，她平时不吃生鱼片这些，但是还是吃了，说很好吃。',\n",
              "  array([-2.6353702e-04, -8.2413616e+00], dtype=float32),\n",
              "  'Negaitive'),\n",
              " ('不错味道还是可以的.........',\n",
              "  array([-3.3098942e-04, -8.0135489e+00], dtype=float32),\n",
              "  'Negaitive'),\n",
              " ('卡布其诺很赞～环境挺小资的，每个店员都很热情，下次一定还会来～',\n",
              "  array([-2.1789085e-04, -8.4314013e+00], dtype=float32),\n",
              "  'Negaitive'),\n",
              " ('只要有鸡肉的，都有味道啦，不知道怎么还拿出来卖！！！！还有这个汉堡，是不是在外边放很久才拿出来卖的呢',\n",
              "  array([-1.0255084e-03, -6.8831306e+00], dtype=float32),\n",
              "  'Negaitive'),\n",
              " ('味道很正宗 好喝 服务态度也很好',\n",
              "  array([-2.4029706e-04, -8.3335524e+00], dtype=float32),\n",
              "  'Negaitive'),\n",
              " ('其实我们经常来，一般聚会请客都来这里吃，每个月都会来几次的。这次家里人吃就团了一个结果遇到下大雨到处都是飞虫，后来给我们换了一桌重新换了一个锅底。虽然很不开心，影响吃东西的心情，一开始我故意要求按团购的菜重新上，不是为了贪小便宜，而是过来解决这个人的态度让我觉得不爽。毕竟是你们做生意不是第一年了，这样的情况还没得处理肯定也是服务不完善，过来处理事情的人那口气好像与她无关似的。不过最后过来解决的人态度还行，就原谅了，毕竟做生意也不容易。',\n",
              "  array([-5.2835965e+00, -5.0870506e-03], dtype=float32),\n",
              "  'Positive'),\n",
              " ('好吃！味道不错！想吃卤菜时都去买！',\n",
              "  array([-2.3898606e-04, -8.3391724e+00], dtype=float32),\n",
              "  'Negaitive'),\n",
              " ('份量有点少，估计用了优惠券就变少了…用了美团一张15元的券，原价30多元点这个绝对有点坑，而且我原本想吃辣的，结果没有选项，以至于后来忘记备注…',\n",
              "  array([-2.6255918e-03, -5.9437561e+00], dtype=float32),\n",
              "  'Negaitive'),\n",
              " ('很划算，好评',\n",
              "  array([-3.2109825e-04, -8.0438833e+00], dtype=float32),\n",
              "  'Negaitive'),\n",
              " ('味道不错，就是稍微辣了点',\n",
              "  array([-3.016732e-04, -8.106189e+00], dtype=float32),\n",
              "  'Negaitive'),\n",
              " ('一只酸奶牛味道好极了，特别是热天喝，一个字爽',\n",
              "  array([-3.3241944e-04, -8.0092592e+00], dtype=float32),\n",
              "  'Negaitive'),\n",
              " ('很不错，很好吃，经常来这里吃，其他的都好',\n",
              "  array([-3.8389943e-04, -7.8652148e+00], dtype=float32),\n",
              "  'Negaitive'),\n",
              " ('东西不好吃&nbsp;价格死贵，商家坑人&nbsp;退款不让&nbsp;大家别人来这家店',\n",
              "  array([-8.2375447e-04, -7.1020756e+00], dtype=float32),\n",
              "  'Negaitive'),\n",
              " ('味道不错，位置也很好找，忘了拍照了',\n",
              "  array([-2.1360023e-04, -8.4514675e+00], dtype=float32),\n",
              "  'Negaitive'),\n",
              " ('很不错，吃的很饱，菜品很棒，分量足，干净卫生，生意好，喜欢的朋友可以去吃吃～～新店，不要错过老板人挺棒的～？～—？～—？—～～—？～？～—？～—？～—？～—～～—？～—～～—？～—～～？～—？～—？～—',\n",
              "  array([-2.3767508e-04, -8.3445530e+00], dtype=float32),\n",
              "  'Negaitive'),\n",
              " ('老板态度不错，而且买了两份，味道很不错，',\n",
              "  array([-3.299169e-04, -8.016785e+00], dtype=float32),\n",
              "  'Negaitive'),\n",
              " ('东西打到了，还要说没问题，让人怎么吃。态度还不好。以后再也不会点这家宁愿饿死也要。',\n",
              "  array([-8.298291e-04, -7.094642e+00], dtype=float32),\n",
              "  'Negaitive'),\n",
              " ('稀饭是冷的，抄手里有虫，卤鸡蛋外皮硬的嚼不动，至于饺子，已经不想打开了。',\n",
              "  array([-6.1602292e+00, -2.1139672e-03], dtype=float32),\n",
              "  'Positive'),\n",
              " ('流了一半#港式奶茶#', array([-0.02142441, -3.853919  ], dtype=float32), 'Negaitive'),\n",
              " ('味道还好，一楼的待客服务很周到，下次用餐还是会选择这里',\n",
              "  array([-3.875935e-04, -7.855743e+00], dtype=float32),\n",
              "  'Negaitive'),\n",
              " ('美团优惠很多，味道不错',\n",
              "  array([-3.2074074e-04, -8.0451412e+00], dtype=float32),\n",
              "  'Negaitive'),\n",
              " ('很不错呀！面包好吃野。',\n",
              "  array([-2.636562e-04, -8.241065e+00], dtype=float32),\n",
              "  'Negaitive'),\n",
              " ('总体不错，很喜欢！',\n",
              "  array([-2.7164107e-04, -8.2112732e+00], dtype=float32),\n",
              "  'Negaitive'),\n",
              " ('味道一如既往的好，作为一个老顾客，必点招牌酸菜肉丝米线 #招牌酸菜肉丝米线/面#',\n",
              "  array([-2.8653807e-04, -8.1575928e+00], dtype=float32),\n",
              "  'Negaitive'),\n",
              " ('味道很好，吃了挺多次了，配菜不一定，每次都不一样',\n",
              "  array([-4.6969348e-04, -7.6636214e+00], dtype=float32),\n",
              "  'Negaitive'),\n",
              " ('除了这家烤鸭店，其他的我基本再也没有去吃过了，因为大部分的烤鸭都是冷冰冰，油腻腻的，吃了胃很难受，只有这家我一直很满意，价格也比其他的实惠很多，以后我还会继续光顾的，并且环境很好，服务态度也不错，总之我都很满意～',\n",
              "  array([-2.2051287e-04, -8.4197836e+00], dtype=float32),\n",
              "  'Negaitive'),\n",
              " ('好吃 经常来 味道很巴适',\n",
              "  array([-3.9164504e-04, -7.8452086e+00], dtype=float32),\n",
              "  'Negaitive'),\n",
              " ('很好，长期在这家吃，味道好极了',\n",
              "  array([-3.4946058e-04, -7.9591527e+00], dtype=float32),\n",
              "  'Negaitive'),\n",
              " ('环境很不错，分量足，我们一家三口都没吃完。',\n",
              "  array([-2.5888905e-04, -8.2593956e+00], dtype=float32),\n",
              "  'Negaitive'),\n",
              " ('口味挺好的，五分',\n",
              "  array([-2.6151098e-04, -8.2489529e+00], dtype=float32),\n",
              "  'Negaitive'),\n",
              " ('土豆都馊了，夏天尤其应该注意的嘛，差评差评',\n",
              "  array([-6.3028007e+00, -1.8328311e-03], dtype=float32),\n",
              "  'Positive'),\n",
              " ('用代金券还是很划算，菜比较丰富新鲜。',\n",
              "  array([-2.8606137e-04, -8.1592979e+00], dtype=float32),\n",
              "  'Negaitive'),\n",
              " ('我是一只酸奶牛的老顾客了，现在在磁器口也可以喝到了，从观音桥的第一家店开到现在的随处可见，可见生意真的是越做越大了！可是价格也是越来越贵了，呜呜呜呜……加冰的紫米露真的是很舒服，一口气喝下去，哇好爽！就是紫米少了些。',\n",
              "  array([-3.8914260e-04, -7.8517656e+00], dtype=float32),\n",
              "  'Negaitive'),\n",
              " ('这是第二次团购这家的汤锅了，第一次去感觉还不错，第二次就继续回购了。位置依旧好找，对于熟悉南坪的人来说就是轻车熟路了，不太了解的可以问一下，位置还是挺当道的，好找。吃腻了火锅什么的，来吃一次汤锅，很舒服。这一次吃的腊排骨，里面配菜有藕还有玉米，我们两个人去吃还有剩下的菜，排骨还是挺多的，汤真的很好喝，两个人吃饱饱的。而且团购价格真的是很实惠。建议去吃的人，选择红椒的拌料，青椒味道还是要差一点，偏辣。值得一提的是红椒真的很好吃，下饭都可以，建议商家可以推出更多的团购套餐哦。',\n",
              "  array([-2.9619123e-04, -8.1248465e+00], dtype=float32),\n",
              "  'Negaitive'),\n",
              " ('分量足，味道不错，环境也挺好的',\n",
              "  array([-2.3386128e-04, -8.3609724e+00], dtype=float32),\n",
              "  'Negaitive'),\n",
              " ('第一次没看评价点了这家，因为图片和价位还蛮吸引人的，吃完没事干给你们来个具体的建议，是真的不好吃！！首先1.包装纸盒，一股l浓烈的酸臭味，这可是餐饮密封装呀，能不用了吗？2.港式套餐除了奥尔良其他的被外卖员路上吃了吗？3.米饭夹生味道真的不好&nbsp;吃&nbsp;ps:&nbsp;好后悔没有认真看评价',\n",
              "  array([-4.9064827 , -0.00742592], dtype=float32),\n",
              "  'Positive'),\n",
              " ('这个披萨真的是7寸吗  我不是小学生',\n",
              "  array([-0.01206352, -4.4235926 ], dtype=float32),\n",
              "  'Negaitive'),\n",
              " ('点的东西少了，居然还有没给我烤的#鸭心#，我反正没看到',\n",
              "  array([-7.750368e-04, -7.163055e+00], dtype=float32),\n",
              "  'Negaitive'),\n",
              " ('菜品不算多。但是很新鲜。麻辣牛肉吃起有点沙哈。其他都不错。饮料也不错不像其他自助餐整些杂牌饮料。这家连矿泉水都走的高端很赞！底料的口感有待于提升。个人觉得有点咸。我听到隔壁桌也说咸。服务态度特别好。特别是有个瘦瘦的小妹特别勤快。还帮我兑奶粉的，长得也很可爱。',\n",
              "  array([-2.0692592e-04, -8.4834614e+00], dtype=float32),\n",
              "  'Negaitive'),\n",
              " ('送外卖给我放到地下，什么态度？放了就走了 ',\n",
              "  array([-0.01505019, -4.203884  ], dtype=float32),\n",
              "  'Negaitive'),\n",
              " ('#水果蛋糕#很好，很喜欢！！！！！！！！！',\n",
              "  array([-3.1573555e-04, -8.0606012e+00], dtype=float32),\n",
              "  'Negaitive'),\n",
              " ('什么情况嘛？辣椒那么辣的，第一次吃到这么辣的东西，我本来都是很能吃辣了，这次这个鱼吃得我辣的一把鼻涕一把泪的，这个辣椒有问题啊朋友',\n",
              "  array([-1.800703e-03, -6.320452e+00], dtype=float32),\n",
              "  'Negaitive'),\n",
              " ('味道挺有特色 很好。推荐...',\n",
              "  array([-2.8343953e-04, -8.1687384e+00], dtype=float32),\n",
              "  'Negaitive'),\n",
              " ('又好吃 又有味 还是老顾客 以后经常会去的#玫瑰诱惑# #午餐肉# #广式香肠#',\n",
              "  array([-4.002247e-04, -7.823552e+00], dtype=float32),\n",
              "  'Negaitive'),\n",
              " ('之前朋友带我来的，感觉不错第2次来',\n",
              "  array([-2.662781e-04, -8.231149e+00], dtype=float32),\n",
              "  'Negaitive'),\n",
              " ('绝对好吃，每次都带好朋友来吃，味道真的很棒，服务态度也很棒！比杨家坪那家好吃，哈哈哈，下次还来！',\n",
              "  array([-2.448259e-04, -8.315209e+00], dtype=float32),\n",
              "  'Negaitive'),\n",
              " ('回头客，菜品不错，价格优惠，菜品丰富',\n",
              "  array([-2.6854247e-04, -8.2226257e+00], dtype=float32),\n",
              "  'Negaitive'),\n",
              " ('菜很含盐巴不要钱',\n",
              "  array([-5.2724290e-04, -7.5480623e+00], dtype=float32),\n",
              "  'Negaitive'),\n",
              " ('经常去喝，和老板很熟了，万达周边独爱这家！',\n",
              "  array([-3.23005e-04, -8.03806e+00], dtype=float32),\n",
              "  'Negaitive'),\n",
              " ('口味很不错，性比价高，特别划算。',\n",
              "  array([-2.512616e-04, -8.289174e+00], dtype=float32),\n",
              "  'Negaitive'),\n",
              " ('最喜欢吃，很划算哟，不错，以后都买',\n",
              "  array([-2.8034096e-04, -8.1796684e+00], dtype=float32),\n",
              "  'Negaitive'),\n",
              " ('强烈推荐，来了很多次了，位子好找，菜品丰富新鲜',\n",
              "  array([-2.3850934e-04, -8.3413343e+00], dtype=float32),\n",
              "  'Negaitive'),\n",
              " ('吃到了小蚊子，昨天室友也吃到了小蚊子，有图为证',\n",
              "  array([-5.9548860e+00, -2.5964617e-03], dtype=float32),\n",
              "  'Positive'),\n",
              " ('真是物美价廉，菜品也丰富，非常满意',\n",
              "  array([-2.6770824e-04, -8.2255278e+00], dtype=float32),\n",
              "  'Negaitive'),\n",
              " ('味道非常好，服务好，环境也不错',\n",
              "  array([-2.3064337e-04, -8.3745518e+00], dtype=float32),\n",
              "  'Negaitive'),\n",
              " ('没味道，除了辣，说了我是孕妇菜烤熟一点，当我没有说，不行，以后不会点了',\n",
              "  array([-0.01178152, -4.4471064 ], dtype=float32),\n",
              "  'Negaitive'),\n",
              " ('很不错。价格也还好。还会来的。老板很热情',\n",
              "  array([-3.0119650e-04, -8.1078205e+00], dtype=float32),\n",
              "  'Negaitive'),\n",
              " ('多次购买，味道好，服务也好，单位团年基本都在这里。',\n",
              "  array([-3.6542892e-04, -7.9147453e+00], dtype=float32),\n",
              "  'Negaitive'),\n",
              " ('速度太慢。送到的时候都要饿死了',\n",
              "  array([-2.4232312e-04, -8.3254204e+00], dtype=float32),\n",
              "  'Negaitive'),\n",
              " ('套餐没有介绍说的那些口味_就是两个手卷切开的。感觉就会死欺骗人的',\n",
              "  array([-0.0118899, -4.438002 ], dtype=float32),\n",
              "  'Negaitive'),\n",
              " ('这个鱿鱼根本没办法吃，像水泡的一样，看起很恶心，这就是鲜虾堡，里面的夹的菜不是一般的黑，还有，骑手态度差还骂人，找不到地方还说什么我又没住这我怎么找得到，吃个外卖气都吃饱了。',\n",
              "  array([-3.4506884 , -0.03223785], dtype=float32),\n",
              "  'Positive'),\n",
              " ('价格适中，味道还可以，在他们家买了好多蛋糕了。团购的款式差不多都试过了。蓝莓和芒果的好吃。',\n",
              "  array([-2.1348105e-04, -8.4518671e+00], dtype=float32),\n",
              "  'Negaitive'),\n",
              " ('姐姐很温柔，炒酸奶很好吃，里面有葡萄干，红豆，黑芝麻，蓝莓酱.....',\n",
              "  array([-2.7795744e-04, -8.1881971e+00], dtype=float32),\n",
              "  'Negaitive'),\n",
              " ('难吃，还特马贵。虾不鲜。肉质超级差。一碗米饭，碗小就算了，你倒是给我装满啊？？？',\n",
              "  array([-0.90142643, -0.52085924], dtype=float32),\n",
              "  'Positive'),\n",
              " ('菜品很不新鲜，感觉是前一天剩下的  位置好找把喜欢那里的汤圆还有洋芋饭',\n",
              "  array([-2.4208308e-03, -6.0248551e+00], dtype=float32),\n",
              "  'Negaitive'),\n",
              " ('很好吃，跟女朋友去重庆玩的时候去的，服务很有特色，解放前的风格。去的时候生意很好，排好长队，味道不错',\n",
              "  array([-2.3934362e-04, -8.3377895e+00], dtype=float32),\n",
              "  'Negaitive'),\n",
              " ('\\u3000这就是#红烧牛肉煲仔饭#真难吃',\n",
              "  array([-3.7067218e-04, -7.9002385e+00], dtype=float32),\n",
              "  'Negaitive'),\n",
              " ('还挺好吃的，下次还光顾 #蛋糕胚#',\n",
              "  array([-2.8808735e-04, -8.1524239e+00], dtype=float32),\n",
              "  'Negaitive'),\n",
              " ('服务很好，鸡排也好吃，，，，，',\n",
              "  array([-2.3338455e-04, -8.3628626e+00], dtype=float32),\n",
              "  'Negaitive'),\n",
              " ('我都吃了那么多次你们家。竟然拿这种长虫的材料给我做粥！刚开始飘面上一只以为自己家的 结果越吃越多 才知道粥有问题   以后不敢点了。接近30一碗粥 卫生都保证不了也是够了',\n",
              "  array([-5.981730e+00, -2.527616e-03], dtype=float32),\n",
              "  'Positive'),\n",
              " ('超级难吃，土豆是炸的，又来煮，一点都不新鲜，菜种类很少，感觉食材不新鲜。',\n",
              "  array([-4.5903234 , -0.01020146], dtype=float32),\n",
              "  'Positive'),\n",
              " ('老板人很好，很好吃的，也会再去的',\n",
              "  array([-2.2671037e-04, -8.3921738e+00], dtype=float32),\n",
              "  'Negaitive'),\n",
              " ('第二次来买，这次上团购便宜好多，介绍给朋友了，另外老板是个美女哈。',\n",
              "  array([-3.0286494e-04, -8.1022081e+00], dtype=float32),\n",
              "  'Negaitive'),\n",
              " ('送个面条一个小时我也是醉了，面块都溶了 还能吃？并且太油太油  味道难以下咽！等了半个小时给商家打电话问怎么还没送过来  反而还被凶 说 还没有煮 还问我要不要 不要都算了  哈子态度 ！后面有将近等了二十多分钟 人都快饿死了 打电话过去 却关机   呵呵呵！垃圾  并且面送到的时候 盖子上面全部是别个点的什么番茄的油水  恶心！  垃圾 再也不在这家吃了！',\n",
              "  array([-0.0299868, -3.521955 ], dtype=float32),\n",
              "  'Negaitive'),\n",
              " ('服务很周到，态度很客气，味道很不错',\n",
              "  array([-2.2003613e-04, -8.4220343e+00], dtype=float32),\n",
              "  'Negaitive'),\n",
              " ('非常值得推荐的餐厅，味道好，人气旺，服务一流，二楼，一楼都爆满，还好有预约哟',\n",
              "  array([-3.3134694e-04, -8.0124207e+00], dtype=float32),\n",
              "  'Negaitive'),\n",
              " ('不实惠，菜太少太贵了！',\n",
              "  array([-3.8080115e-04, -7.8734241e+00], dtype=float32),\n",
              "  'Negaitive'),\n",
              " ('吃的时候只是不好吃，吃完晚上就开始不舒服，想要吐，第二天早上起来就直接开始拉稀',\n",
              "  array([-0.00857422, -4.7632794 ], dtype=float32),\n",
              "  'Negaitive'),\n",
              " ('味道很不错，环境很不错，位置很好找',\n",
              "  array([-2.2802137e-04, -8.3862257e+00], dtype=float32),\n",
              "  'Negaitive'),\n",
              " ('中午时间很紧，必吃林妹妹。以前非要去两路口，现在开的到处都有了。',\n",
              "  array([-4.1809876e-04, -7.7800250e+00], dtype=float32),\n",
              "  'Negaitive'),\n",
              " ('来了好多次了，味道一如既往的好。老板生意兴隆哈',\n",
              "  array([-2.2408835e-04, -8.4038019e+00], dtype=float32),\n",
              "  'Negaitive'),\n",
              " ('不得不说确实分量足，4人餐，两男两女都吃不完 #洪湖藕炖盐排（小）#',\n",
              "  array([-3.0095817e-04, -8.1086006e+00], dtype=float32),\n",
              "  'Negaitive'),\n",
              " ('给差评是因为不卫生 吃起来地沟油的感觉太强烈了.... 果不其然第二天拉肚子 ',\n",
              "  array([-5.794150e+00, -3.049963e-03], dtype=float32),\n",
              "  'Positive'),\n",
              " ('地瓜老火锅味道好，服务态度很好，菜品新鲜，环境一般。',\n",
              "  array([-2.1586473e-04, -8.4410191e+00], dtype=float32),\n",
              "  'Negaitive'),\n",
              " ('很好吃的一家小店哟。。鱼的味道特别好，老板服务热情，菜品份量足，这个套餐我们四个大人一个孩子吃都没有吃完素菜。鱼是吃光了好吃。加了一份豆花一个菜吃的很舒服，比山上好多了。。呵呵，赞一个。太饿了没有拍美食光顾着吃了',\n",
              "  array([-2.4160804e-04, -8.3280849e+00], dtype=float32),\n",
              "  'Negaitive'),\n",
              " ('鸡块居然没熟…………不好吃全扔了#黄金鸡块#',\n",
              "  array([-3.819944, -0.022173], dtype=float32),\n",
              "  'Positive'),\n",
              " ('量少了 而且速度慢 换了菜还不说一声',\n",
              "  array([-4.1905206e-04, -7.7776952e+00], dtype=float32),\n",
              "  'Negaitive'),\n",
              " ('有点不好找，要进去巷子上二楼才到。店铺装修非常小清新，音乐，环境都很适合一两个人听听音乐，上上网，聊聊天，喝喝茶，非常惬意。老板一家人都很不错，没有了还特意现做给我吃，太感动，醪糟汤好喝还能续杯，油茶也比较有味，还可以送一张照片哦',\n",
              "  array([-3.790137e-04, -7.878285e+00], dtype=float32),\n",
              "  'Negaitive'),\n",
              " ('我点的米线  怎么就是煮的土豆粉',\n",
              "  array([-2.2801373e-03, -6.0846720e+00], dtype=float32),\n",
              "  'Negaitive'),\n",
              " ('服务很好，快递给力，性价比较高！',\n",
              "  array([-2.122892e-04, -8.457547e+00], dtype=float32),\n",
              "  'Negaitive'),\n",
              " ('味道还不错，位置非常好找的到的',\n",
              "  array([-2.343380e-04, -8.358969e+00], dtype=float32),\n",
              "  'Negaitive'),\n",
              " ('味道非常好，上菜速度也比较快。',\n",
              "  array([-3.0858524e-04, -8.0837793e+00], dtype=float32),\n",
              "  'Negaitive'),\n",
              " ('服务态度一般', array([-3.214558e-04, -8.042646e+00], dtype=float32), 'Negaitive'),\n",
              " ('很不错啊，老板人也挺好，小鱼好萌的',\n",
              "  array([-2.791492e-04, -8.183856e+00], dtype=float32),\n",
              "  'Negaitive'),\n",
              " ('买的八人套餐 ，很划算，菜量很足，八个人都没吃完，还打了包，沾的酱超好吃，菜好吃，汤很香，而且店面的位置很好着，给她们说美团八人套餐直接找位置坐下，上菜快，服务超棒，态度也很赞，一起的朋友说下次要再来。是个很帮很棒的地方，强烈推荐',\n",
              "  array([-2.0287363e-04, -8.5028925e+00], dtype=float32),\n",
              "  'Negaitive'),\n",
              " ('肉是臭的，今天好难吃',\n",
              "  array([-6.0284986e+00, -2.4120305e-03], dtype=float32),\n",
              "  'Positive'),\n",
              " ('哈哈哈 刨酸奶太好吃了，好评好评',\n",
              "  array([-2.4804377e-04, -8.3020420e+00], dtype=float32),\n",
              "  'Negaitive'),\n",
              " ('一直喜欢每味每客',\n",
              "  array([-3.1716563e-04, -8.0561171e+00], dtype=float32),\n",
              "  'Negaitive'),\n",
              " ('总体来说这个价格还是很不错了，个人觉得饮料很好，加多宝，国宾都是随便喝，菜还可以增加一点点',\n",
              "  array([-2.530493e-04, -8.282179e+00], dtype=float32),\n",
              "  'Negaitive'),\n",
              " ('东西还送少了一样！...太差了！服务差，东西差，快递差，难吃死了，一股恶臭、丢了丢了.....',\n",
              "  array([-5.7056537e+00, -3.3326582e-03], dtype=float32),\n",
              "  'Positive'),\n",
              " ('味道非常非常的好，价格实惠，以后还会再来的。',\n",
              "  array([-2.689000e-04, -8.221445e+00], dtype=float32),\n",
              "  'Negaitive'),\n",
              " ('不错，酸辣粉很好吃，味道很正中，鸡排也好吃，就是奶茶感觉味道不够浓郁',\n",
              "  array([-2.5209587e-04, -8.2858582e+00], dtype=float32),\n",
              "  'Negaitive'),\n",
              " ('时间啊一个小时二十分钟',\n",
              "  array([-1.4693665e-03, -6.5236754e+00], dtype=float32),\n",
              "  'Negaitive'),\n",
              " ('说句实话量不多，一锅芋儿鸡可能只有一只鸡的三分之一，不过味道很好，可惜就是辣了一点。服务还不错。',\n",
              "  array([-2.9666792e-04, -8.1229706e+00], dtype=float32),\n",
              "  'Negaitive'),\n",
              " ('老板态度很好，羊肉粉的味道还不错',\n",
              "  array([-2.412505e-04, -8.329693e+00], dtype=float32),\n",
              "  'Negaitive'),\n",
              " ('这个一吃就晓得是隔夜菜的味道，盐煎肉也是肥得明目张胆，白菜和藕都是生的，是给人吃的吗，我去',\n",
              "  array([-2.0135636 , -0.14330703], dtype=float32),\n",
              "  'Positive'),\n",
              " ('12.26下单 13.56送达 这速度也是没谁了 得亏是天气热 要是冬天油都凝结了',\n",
              "  array([-0.00940323, -4.671406  ], dtype=float32),\n",
              "  'Negaitive'),\n",
              " ('就在理工门口，，来过好几次了。。',\n",
              "  array([-3.6983803e-04, -7.9027462e+00], dtype=float32),\n",
              "  'Negaitive'),\n",
              " ('什么鬼东西，贵又不好吃，排骨没有几块，都是汤和藕，藕切的那么大',\n",
              "  array([-0.23712634, -1.5553836 ], dtype=float32),\n",
              "  'Negaitive'),\n",
              " ('很不错，长期老顾客就是我们，哈哈哈',\n",
              "  array([-2.613918e-04, -8.249805e+00], dtype=float32),\n",
              "  'Negaitive'),\n",
              " ('最慢最差劲收三块钱还拿不要那种盒子装，炒面八九块那种不如，还标十六块，对得起那个价钱吗？打过一次鬼都不敢打下一次',\n",
              "  array([-0.07784879, -2.5916586 ], dtype=float32),\n",
              "  'Negaitive'),\n",
              " ('菜品多，新鲜，干净，服务员态度也好，好得有点懦弱了，居然允许客人牵狗进店吃饭，弄得狗毛满天飞，顿时没了食欲，匆忙离席',\n",
              "  array([-4.0749353e-04, -7.8055682e+00], dtype=float32),\n",
              "  'Negaitive'),\n",
              " ('一打开就是一个蚊子…无语',\n",
              "  array([-6.026929e+00, -2.415836e-03], dtype=float32),\n",
              "  'Positive'),\n",
              " ('我们经常来吃，一个星期要来吃5次，我们自己也是很多女性朋友带来了，你们都会在一起就算再来的时候就会说些须经典语录你说你们是不是觉得自己的心都有自己的人生目标生活方式和生活方式不一样的话就要开始啦。是不是很多！',\n",
              "  array([-5.1580474e-04, -7.5701151e+00], dtype=float32),\n",
              "  'Negaitive'),\n",
              " ('吃出一只苍蝇的时候我想算了吧，继续吃吧。我一共吃出2只。。。补蛋白质也不应这样吧',\n",
              "  array([-5.8550873e+00, -2.8694193e-03], dtype=float32),\n",
              "  'Positive'),\n",
              " ('妈卖批的，不拿牙签，吃锤子个螺丝',\n",
              "  array([-0.03402089, -3.3977442 ], dtype=float32),\n",
              "  'Negaitive'),\n",
              " ('什么东西，送外面的态度极差，什么鸡肉卷里还有头发，搞的我胃口都没有了，我是再也不会在这家店吃东西了，垃圾',\n",
              "  array([-6.0389009e+00, -2.3870566e-03], dtype=float32),\n",
              "  'Positive'),\n",
              " ('不好吃，咖喱不正宗，想吐的味道',\n",
              "  array([-0.02413058, -3.736315  ], dtype=float32),\n",
              "  'Negaitive'),\n",
              " ('我不知道说什么好，包装袋一打开居然有股蟑螂味，这怎么吃',\n",
              "  array([-6.0876465e+00, -2.2733577e-03], dtype=float32),\n",
              "  'Positive'),\n",
              " ('最爱绿豆紫米露，买了好多次了，烈日下跑去买也是挺拼_(:_」∠)_',\n",
              "  array([-3.4910307e-04, -7.9604049e+00], dtype=float32),\n",
              "  'Negaitive'),\n",
              " ('很多次去了！各方面都好，就是太热，老板说人少不开空调。太热了，吃个饭像洗了个澡。',\n",
              "  array([-6.3768553e-04, -7.3579125e+00], dtype=float32),\n",
              "  'Negaitive'),\n",
              " ('死虾没敢吃，唯一好一点就是花甲洗干净了的',\n",
              "  array([-5.6377392e+00, -3.5672858e-03], dtype=float32),\n",
              "  'Positive'),\n",
              " ('菜品很丰富的，而且都很新鲜，去吃了好多次了，每次吃自助都是来这家，真心很好吃，赞一个',\n",
              "  array([-2.7378625e-04, -8.2030859e+00], dtype=float32),\n",
              "  'Negaitive'),\n",
              " ('味道很好吃，上菜速度快，',\n",
              "  array([-2.952378e-04, -8.127801e+00], dtype=float32),\n",
              "  'Negaitive'),\n",
              " ('还可以 比较喜欢偏甜的… 熊猫奶盖 抹茶奶盖不错',\n",
              "  array([-3.0107735e-04, -8.1083183e+00], dtype=float32),\n",
              "  'Negaitive'),\n",
              " ('味道真的不错！是个宴请亲朋好友的地方！还会再去的！',\n",
              "  array([-3.4385966e-04, -7.9752955e+00], dtype=float32),\n",
              "  'Negaitive'),\n",
              " ('味道好，上菜快，环境也好！位置也很好找的',\n",
              "  array([-2.5960413e-04, -8.2563152e+00], dtype=float32),\n",
              "  'Negaitive'),\n",
              " ('汤还不错，但是青椒炒玉米，玉米炒的太老了，特别难吃！还有麻辣鸡，鸡肉贴近骨头的部分都是生的！！还有血！！！！',\n",
              "  array([-3.1370964e-04, -8.0670204e+00], dtype=float32),\n",
              "  'Negaitive'),\n",
              " ('下午茶人少环境不错',\n",
              "  array([-1.9715272e-04, -8.5318756e+00], dtype=float32),\n",
              "  'Negaitive'),\n",
              " ('没有第一次点餐好吃，味道越来越不好了',\n",
              "  array([-3.723405e-04, -7.895826e+00], dtype=float32),\n",
              "  'Negaitive'),\n",
              " ('菜品新鲜，口感不错，环境优雅。',\n",
              "  array([-2.2861728e-04, -8.3834085e+00], dtype=float32),\n",
              "  'Negaitive'),\n",
              " ('味道不错，有这么大，10个人刚刚好，下次还会来',\n",
              "  array([-2.7545472e-04, -8.1974039e+00], dtype=float32),\n",
              "  'Negaitive'),\n",
              " ('很划算  和妈妈两个人吃的很饱',\n",
              "  array([-2.948803e-04, -8.129083e+00], dtype=float32),\n",
              "  'Negaitive'),\n",
              " ('来过几次了 味道不错 ，服务员很热情 虽说我们是团购 c但依然态度很好 分量也很足  环境还可以 有卡座 卫生也很好',\n",
              "  array([-2.7974506e-04, -8.1819754e+00], dtype=float32),\n",
              "  'Negaitive'),\n",
              " ('阿兴记的环境名声在外不用点评，团购后价廉物美，宴请、接待的好地方',\n",
              "  array([-3.5434644e-04, -7.9453187e+00], dtype=float32),\n",
              "  'Negaitive'),\n",
              " ('菜品不错，环境还好，服务不错。总的还可以。。。',\n",
              "  array([-2.972638e-04, -8.120889e+00], dtype=float32),\n",
              "  'Negaitive'),\n",
              " ('服务态度超级好，就是点多了，鱼的分量好大，两个人两个菜就够。',\n",
              "  array([-2.2075123e-04, -8.4187517e+00], dtype=float32),\n",
              "  'Negaitive'),\n",
              " ('第二次来店里吃披萨啦！这次吃的水果披萨，口味感觉很不错，吃完了才发现没有照照片。水果量很多芝士也很多有我喜欢的黄桃。小吃还是一如既往的好吃！鱿鱼圈和薯条都很喜欢！这次去没想到老板还认识我，真是一位有心的老板！无论是美食还是店里的环境和服务，都是值得我再一次去消费的！',\n",
              "  array([-3.3575619e-04, -7.9994135e+00], dtype=float32),\n",
              "  'Negaitive'),\n",
              " ('环境还是可以的口味不错下次还到你们家消费',\n",
              "  array([-3.2812933e-04, -8.0223789e+00], dtype=float32),\n",
              "  'Negaitive'),\n",
              " ('老公在重庆工作，生日的时候在美团上订购的，老公反应说味道好极了，外观也很漂亮，最重要的是很及时的送到了，真心不错！',\n",
              "  array([-2.2301571e-04, -8.4086380e+00], dtype=float32),\n",
              "  'Negaitive'),\n",
              " ('一如既往的好，来吃过好几次了，真心不错',\n",
              "  array([-2.7891083e-04, -8.1848030e+00], dtype=float32),\n",
              "  'Negaitive'),\n",
              " ('怎么不可以上图 这么大个虫吃到最后才发现 你是要毒死我嘛 做餐饮重要就是干净卫生。看来以后再也不敢吃你家的了。现在看到就想吐 不知吃了多少虫进去了',\n",
              "  array([-6.3761501e+00, -1.7031225e-03], dtype=float32),\n",
              "  'Positive'),\n",
              " ('酸奶味道一直很好，值得推荐……',\n",
              "  array([-4.3072959e-04, -7.7501664e+00], dtype=float32),\n",
              "  'Negaitive'),\n",
              " ('服务超级棒！！(*/ω＼*)服务员都好可爱，，吃的也不错 #毛肚# #刘一手香豆腐#',\n",
              "  array([-2.4315738e-04, -8.3221216e+00], dtype=float32),\n",
              "  'Negaitive'),\n",
              " ('味道很好吃，特别是椒麻值得推荐，家人聚餐已经来第三次了，味道一次比一次好，请各位亲朋好友一起组队来吃鱼吧。',\n",
              "  array([-2.541219e-04, -8.277908e+00], dtype=float32),\n",
              "  'Negaitive'),\n",
              " ('一如既往的好吃，还会再来',\n",
              "  array([-3.0882357e-04, -8.0829849e+00], dtype=float32),\n",
              "  'Negaitive'),\n",
              " ('味道挺好的，就是我们吃不了辣，剩了很多',\n",
              "  array([-3.3742457e-04, -7.9942279e+00], dtype=float32),\n",
              "  'Negaitive'),\n",
              " ('饭是臭的，简直了',\n",
              "  array([-6.4008098e+00, -1.6615884e-03], dtype=float32),\n",
              "  'Positive'),\n",
              " ('好吃，经常买来吃，继续保持这个味道',\n",
              "  array([-2.1479207e-04, -8.4457989e+00], dtype=float32),\n",
              "  'Negaitive'),\n",
              " ('很好啊 阿姨很好阿  菜也好啊',\n",
              "  array([-2.356490e-04, -8.353079e+00], dtype=float32),\n",
              "  'Negaitive'),\n",
              " ('一个字，好.，二个字很好，三个字非常好，服务不但好而且菜品新鲜，大力推荐大家去尝尝，我们11人才600多元，太划算了',\n",
              "  array([-2.662781e-04, -8.230945e+00], dtype=float32),\n",
              "  'Negaitive'),\n",
              " ('已经来了很多次了！态度超级好！香辣味的很棒！',\n",
              "  array([-2.911859e-04, -8.141536e+00], dtype=float32),\n",
              "  'Negaitive'),\n",
              " ('猪蹄是臭的 再也不会买',\n",
              "  array([-5.8934765e+00, -2.7611249e-03], dtype=float32),\n",
              "  'Positive'),\n",
              " ('油弄的到处都是，100块钱就买了一点点，分量超级小，骗人的',\n",
              "  array([-6.2660611e-04, -7.3754797e+00], dtype=float32),\n",
              "  'Negaitive'),\n",
              " ('我的哥，外卖送了1个小时40分钟，我昨晚都没吃饭，要饿死我嘛，筷子也没给我',\n",
              "  array([-0.00782934, -4.8537917 ], dtype=float32),\n",
              "  'Negaitive'),\n",
              " ('环境很干净，味道很巴适。值得享用！',\n",
              "  array([-3.1919152e-04, -8.0498056e+00], dtype=float32),\n",
              "  'Negaitive'),\n",
              " ('包装越来越好了  服务非常周到  下次还来',\n",
              "  array([-2.8820653e-04, -8.1521111e+00], dtype=float32),\n",
              "  'Negaitive'),\n",
              " ('越来越差了，手套也不送，奶茶我叫的冷的结果来热的。差评。。。',\n",
              "  array([-1.5764916e-03, -6.4533038e+00], dtype=float32),\n",
              "  'Negaitive'),\n",
              " ('老顾客了！非常好吃！以后走到哪里都要吃！',\n",
              "  array([-2.5328767e-04, -8.2810497e+00], dtype=float32),\n",
              "  'Negaitive'),\n",
              " ('好喝 只是常温的也还是冷',\n",
              "  array([-4.2620159e-04, -7.7608156e+00], dtype=float32),\n",
              "  'Negaitive'),\n",
              " ('#空心菜# 不知道昨天是不是这个空心菜的原因，害得我早上有呕吐现象，还拉肚子。很不卫生，宽粉也没煮的散',\n",
              "  array([-5.928958e+00, -2.664827e-03], dtype=float32),\n",
              "  'Positive'),\n",
              " ('鱼是臭的，申请退款',\n",
              "  array([-6.1529350e+00, -2.1295506e-03], dtype=float32),\n",
              "  'Positive'),\n",
              " ('味道不错，值得推荐，好吃，吃得出重庆的味道！！',\n",
              "  array([-2.4136968e-04, -8.3292379e+00], dtype=float32),\n",
              "  'Negaitive'),\n",
              " ('价格便宜，菜品新鲜，份量足够！！',\n",
              "  array([-3.2395837e-04, -8.0349770e+00], dtype=float32),\n",
              "  'Negaitive'),\n",
              " ('上菜速度快，态度很好热情。菜品味道正宗',\n",
              "  array([-3.444555e-04, -7.973735e+00], dtype=float32),\n",
              "  'Negaitive'),\n",
              " ('个人创业不容易，支持一下，东西不错，服务态度也很好！约了取蛋糕的地点亲自送下来，还把我送到了轻轨站才回去，感动！蛋糕很新鲜，朋友很喜欢，蛋糕虽然不大，但是味道还很不错，大家都很喜欢，希望老板以后再接再厉，可以做更好更漂亮的蛋糕！#6寸蛋糕#',\n",
              "  array([-2.224198e-04, -8.411275e+00], dtype=float32),\n",
              "  'Negaitive'),\n",
              " ('太硬了嚼都嚼不动 像皮鞋样怎么吃嘛 .买了也不是一次两次了这次最难吃 .还有我备注了不要葱是指的两个都不要葱 气死了',\n",
              "  array([-0.07930708, -2.5738199 ], dtype=float32),\n",
              "  'Negaitive'),\n",
              " ('上菜快，菜品真的很好吃特别适合重口味的人',\n",
              "  array([-3.1704645e-04, -8.0566673e+00], dtype=float32),\n",
              "  'Negaitive'),\n",
              " ('味道不错，分量较多，环境比较好，服务较好，下次还会光顾。',\n",
              "  array([-2.454218e-04, -8.312461e+00], dtype=float32),\n",
              "  'Negaitive'),\n",
              " ('这次吃的质量不太好，吃了拉肚子！',\n",
              "  array([-4.621246 , -0.0098893], dtype=float32),\n",
              "  'Positive'),\n",
              " ('差评，我说了两遍加热，是希望你送来的时候还是热的，而你送来的是温的，大冬天的，这么油腻的菜，你不怕别人吃了拉肚子，害我不得不去加热一下。味精味同样很重',\n",
              "  array([-3.0622277 , -0.04791303], dtype=float32),\n",
              "  'Positive'),\n",
              " ('味道很好，量很足，8个人吃完全够了',\n",
              "  array([-4.8327688e-04, -7.6351619e+00], dtype=float32),\n",
              "  'Negaitive'),\n",
              " ('蛋仔超好吃  口感不干不腻  有颜又有料  值得推荐',\n",
              "  array([-2.8355871e-04, -8.1681385e+00], dtype=float32),\n",
              "  'Negaitive'),\n",
              " ('速度太慢，等了一个小时，但态度还是很好。',\n",
              "  array([-3.2610344e-04, -8.0284491e+00], dtype=float32),\n",
              "  'Negaitive'),\n",
              " ('很好，我们是游客。又麻又辣，特别香，才知道其他地方吃的都是假火锅',\n",
              "  array([-2.921393e-04, -8.138331e+00], dtype=float32),\n",
              "  'Negaitive'),\n",
              " ('说了要少加辣椒的可是还是很辣',\n",
              "  array([-3.0381832e-04, -8.0993986e+00], dtype=float32),\n",
              "  'Negaitive'),\n",
              " ('非常不错 在家里预约了  到的时候老板就已经把菜上好了  直接坐下煮一会就可以吃了 味道也非常不错 汤也好喝 还可以看看江景 有经济又实惠',\n",
              "  array([-3.2240915e-04, -8.0397854e+00], dtype=float32),\n",
              "  'Negaitive'),\n",
              " ('我点的五花肉，一点盐都没有，而且肉是臭的',\n",
              "  array([-5.5715370e+00, -3.8118337e-03], dtype=float32),\n",
              "  'Positive'),\n",
              " ('吃了很多次了，味道不错，而且服务态度超级好，经济实惠。还回来，团的68的吃的好胀！',\n",
              "  array([-4.0558696e-04, -7.8103981e+00], dtype=float32),\n",
              "  'Negaitive'),\n",
              " ('不好吃 没有蒜香味 虾子不新鲜 是冰冻虾 哎 ',\n",
              "  array([-4.4363356 , -0.01190992], dtype=float32),\n",
              "  'Positive'),\n",
              " ('吃了就拉肚子，无语',\n",
              "  array([-5.7632489e+00, -3.1458673e-03], dtype=float32),\n",
              "  'Positive'),\n",
              " ('吃的人挺多，分量也多，四人吃完全吃不完，浪费好多',\n",
              "  array([-4.1106835e-04, -7.7969766e+00], dtype=float32),\n",
              "  'Negaitive'),\n",
              " ('整体都不错，服务很好，不用等，上菜快。上一次二人餐，两个人使劲吃都没有吃完，这一次三人餐，也是吃的很撑，吃的很饱了，都没吃完，蘸酱很好吃，我觉得面皮湛江加烤鸭简直就是绝配呀！那个汤锅我喜欢麻辣竹笋的，面皮也不错，好评啦～前两张是三人餐，后两张是两人餐',\n",
              "  array([-2.9142425e-04, -8.1409264e+00], dtype=float32),\n",
              "  'Negaitive'),\n",
              " ('真的很难吃  确实难吃没办法了',\n",
              "  array([-4.0963842e-04, -7.8005166e+00], dtype=float32),\n",
              "  'Negaitive'),\n",
              " ('老板人超超好 味道超好',\n",
              "  array([-3.3706706e-04, -7.9952264e+00], dtype=float32),\n",
              "  'Negaitive'),\n",
              " ('不错，价廉物美，比想的要好。以后还会再去',\n",
              "  array([-2.2742547e-04, -8.3886337e+00], dtype=float32),\n",
              "  'Negaitive'),\n",
              " ('很不错，甜品好吃，鳗鱼饭也很好吃',\n",
              "  array([-2.1586473e-04, -8.4410315e+00], dtype=float32),\n",
              "  'Negaitive'),\n",
              " ('味道不错，服务很好，已经多次来了。',\n",
              "  array([-2.8093683e-04, -8.1776695e+00], dtype=float32),\n",
              "  'Negaitive'),\n",
              " ('下次再也不想买了',\n",
              "  array([-5.4189778e-04, -7.5207796e+00], dtype=float32),\n",
              "  'Negaitive'),\n",
              " ('不错，吃过好多回了，一如既往的好。离家也很近，就在小区门口，走几步就到了。店家态度也非常好，没有因为团购而有歧视，吃饭前还有消毒过的热毛巾擦脸擦手，态度相当好，非常满意！还有免费玉米羹或者醪糟汤圆吃。值得推荐！',\n",
              "  array([-2.1860594e-04, -8.4281969e+00], dtype=float32),\n",
              "  'Negaitive'),\n",
              " ('这家店装潢风格独特，服务员也是穿着偏民族的服饰，我男朋友是维族人，他在四川待了几年，这次和他一起过来，偶然看到这个店，他说简直不要太正宗，特别好吃，赞不绝口！性比价也特别好，服务态度特别好，也有新疆的啤酒，很赞！刚吃没几口，他就给我说下次小长假还要来吃，这次没吃到抓饭，下次补！',\n",
              "  array([-3.2193246e-04, -8.0412960e+00], dtype=float32),\n",
              "  'Negaitive'),\n",
              " ('饭太少了，一碗饭都没，几口就吃完了',\n",
              "  array([-6.299419e-04, -7.370195e+00], dtype=float32),\n",
              "  'Negaitive'),\n",
              " ('再江苏经常喝德，今天点的原味奶盖，红茶半糖的，去冰的，味道和江苏一样的，就是这里不可以茶少点，奶盖多点，但是奶盖上洒了点抹茶粉，这满不错的，适合我的口味，一大杯量足，够两个人喝德，把奶盖拌均匀好喝，不会腻味！',\n",
              "  array([-5.082984e-04, -7.584796e+00], dtype=float32),\n",
              "  'Negaitive'),\n",
              " ('这次送的披萨给蛋挞一样大，呵呵了。',\n",
              "  array([-7.5311906e-04, -7.1916780e+00], dtype=float32),\n",
              "  'Negaitive'),\n",
              " ('味道不错，离我家近，五花肉不错',\n",
              "  array([-4.2369924e-04, -7.7667260e+00], dtype=float32),\n",
              "  'Negaitive'),\n",
              " ('味道很好，服务态度也很好，下次再去',\n",
              "  array([-2.1705656e-04, -8.4355888e+00], dtype=float32),\n",
              "  'Negaitive'),\n",
              " ('味道不错，但真心不要再放芝麻酱了，重庆人吃不了这个！',\n",
              "  array([-2.2659119e-04, -8.3926258e+00], dtype=float32),\n",
              "  'Negaitive'),\n",
              " ('不错的，去过几次了，刚开业的时候最好',\n",
              "  array([-3.109687e-04, -8.075872e+00], dtype=float32),\n",
              "  'Negaitive'),\n",
              " ('经常来吃 强烈推荐  金针菇 豆皮 方便面和虾饺组合',\n",
              "  array([-3.4183380e-04, -7.9814887e+00], dtype=float32),\n",
              "  'Negaitive'),\n",
              " ('送两个小时，我就不说什么了，其他来这家买的酌情考虑',\n",
              "  array([-3.7436630e-04, -7.8905296e+00], dtype=float32),\n",
              "  'Negaitive'),\n",
              " ('猕猴桃都变质了 很软了居然给我？开始没注意 吃的时候有很大的酒味 今天又吃的时候也是很大的酒味 以前在超市买的都没有 呵呵百度一查结果是变质了 吃了对人体特别不好 你们这个店也好意思拿出来卖？？？出门路过你家的店也不会再进来买水果了 没得良心 我还是个孕妇 呵呵 确实可以的 ',\n",
              "  array([-5.7036047e+00, -3.3395493e-03], dtype=float32),\n",
              "  'Positive'),\n",
              " ('方便面没熟，没法吃，竹笋很老咬不动而且很少，菜品也很少',\n",
              "  array([-0.02983419, -3.5269785 ], dtype=float32),\n",
              "  'Negaitive'),\n",
              " ('超级难吃又咸，而且鱼也老，难吃得要死……再也不叫了，这是第一次叫',\n",
              "  array([-1.1129144e-03, -6.8013515e+00], dtype=float32),\n",
              "  'Negaitive'),\n",
              " ('好吃，就是价格贵，份量又少，一家5口人平均一人100元才够。',\n",
              "  array([-2.478054e-04, -8.303161e+00], dtype=float32),\n",
              "  'Negaitive'),\n",
              " ('味道很好  大理的酸奶就是好喝',\n",
              "  array([-3.0977695e-04, -8.0796509e+00], dtype=float32),\n",
              "  'Negaitive'),\n",
              " ('味道不错，上菜也快，分量十足，就是的服务员态度很差，需要提高服务质量。',\n",
              "  array([-2.0799857e-04, -8.4780731e+00], dtype=float32),\n",
              "  'Negaitive'),\n",
              " ('环境还好，味道很好，服务很好，就是价格贵',\n",
              "  array([-2.8427376e-04, -8.1657829e+00], dtype=float32),\n",
              "  'Negaitive'),\n",
              " ('很不错，都团了好多次了，还会去。',\n",
              "  array([-3.246734e-04, -8.032684e+00], dtype=float32),\n",
              "  'Negaitive'),\n",
              " ('味道好，而且便宜。环境也好。32赞',\n",
              "  array([-4.0785101e-04, -7.8049235e+00], dtype=float32),\n",
              "  'Negaitive'),\n",
              " ('菜品很新鲜，值得一去',\n",
              "  array([-3.2538842e-04, -8.0306025e+00], dtype=float32),\n",
              "  'Negaitive'),\n",
              " ('鸭肠是坏的 拉了一晚上！',\n",
              "  array([-1.2335508 , -0.34426168], dtype=float32),\n",
              "  'Positive'),\n",
              " ('份量少好多，55元的菜还不够3个人吃，我们你们家吃了N次，这次少了很多！',\n",
              "  array([-3.6209225e-04, -7.9236875e+00], dtype=float32),\n",
              "  'Negaitive'),\n",
              " ('老顾客了，吃了几十回了，不过服务一般，都习惯了',\n",
              "  array([-2.8141352e-04, -8.1757393e+00], dtype=float32),\n",
              "  'Negaitive'),\n",
              " ('味道还不错~~~分量非常足 ！本来三个人吃想团四人餐，但是看到评论都说三个人吃两人餐都足够就没有团四人的~~~~~想着不够再点~~~但是………居然没吃完！老板说鱼都是整条上，有的不止两斤半~~~良心商家啊~~',\n",
              "  array([-3.4755390e-04, -7.9648647e+00], dtype=float32),\n",
              "  'Negaitive'),\n",
              " ('味道非常好。种类是很多样的。你很不错。',\n",
              "  array([-2.8510796e-04, -8.1628294e+00], dtype=float32),\n",
              "  'Negaitive'),\n",
              " ('送货速度很快哦，而且服务态度好，芒果千层好好吃的说，一点都不腻，性价比很高了，赞赞赞，迫不及待来评价',\n",
              "  array([-2.8904076e-04, -8.1489592e+00], dtype=float32),\n",
              "  'Negaitive'),\n",
              " ('服务很好，很到位，老板人不错。很好吃，很过瘾，下次还要去',\n",
              "  array([-2.6115344e-04, -8.2504377e+00], dtype=float32),\n",
              "  'Negaitive'),\n",
              " ('#莴笋头# #鲜毛肚# #红汤锅底# #南瓜饼# #手工老肉片# #珺花# #黄瓜条#',\n",
              "  array([-4.1678801e-04, -7.7830014e+00], dtype=float32),\n",
              "  'Negaitive'),\n",
              " ('上午10点过去的，黑米家服务小哥正在准备食材准备开工，我前面已经有几个人在等了，还好等了两分钟就开始正式开始做手卷了。做的过程看着很干净卫生，也很快~手卷拿到了就开吃，木有拍照，不过味道真心很好，在等的时候也有很多人来，很多回头客，32个赞~\\\\\\\\(≧▽≦)/~',\n",
              "  array([-2.7795744e-04, -8.1882305e+00], dtype=float32),\n",
              "  'Negaitive'),\n",
              " ('嗯，去吃了以后感觉非常不错，分量也比较多，我们4个人去吃了，还没有吃完还剩了很多，比较经济便宜实惠。',\n",
              "  array([-2.512616e-04, -8.289362e+00], dtype=float32),\n",
              "  'Negaitive'),\n",
              " ('什么鬼，蛋呢，这是炒饭？',\n",
              "  array([-0.90170753, -0.5206674 ], dtype=float32),\n",
              "  'Positive'),\n",
              " ('今天店家怎么了？心情不好吗？',\n",
              "  array([-6.8593334e-04, -7.2850080e+00], dtype=float32),\n",
              "  'Negaitive'),\n",
              " ('不错，挺多，味道不错',\n",
              "  array([-2.8320117e-04, -8.1694937e+00], dtype=float32),\n",
              "  'Negaitive'),\n",
              " ('环境好 服务态度好 菜品丰富 味道也很不错，商务餐好去处！赞一个',\n",
              "  array([-2.1419614e-04, -8.4488401e+00], dtype=float32),\n",
              "  'Negaitive'),\n",
              " ('评价来迟了，蛋糕很好吃的，到店里面看到师傅做的，做得也很快',\n",
              "  array([-2.1205084e-04, -8.4589787e+00], dtype=float32),\n",
              "  'Negaitive'),\n",
              " ('我点的宫保鸡丁、这确定是鸡丁么？全是肉丝！没有宫保鸡丁不知道说啊！欺骗人么？',\n",
              "  array([-0.01037974, -4.573081  ], dtype=float32),\n",
              "  'Negaitive'),\n",
              " ('想吐，银耳汤杯盖上面有一颗老鼠屎，而且还黏在上面了',\n",
              "  array([-5.5882025e+00, -3.7487724e-03], dtype=float32),\n",
              "  'Positive'),\n",
              " ('还是一如既往的好，来了这里不下10次了。每次都有不一样的感觉，而且每次都要吃她们的黑椒意大利面也很好吃。',\n",
              "  array([-3.159739e-04, -8.060192e+00], dtype=float32),\n",
              "  'Negaitive'),\n",
              " ('菜品还不错，不错。感觉有点点小贵。嘿嘿！服务态度这些还不错。',\n",
              "  array([-2.926160e-04, -8.136848e+00], dtype=float32),\n",
              "  'Negaitive'),\n",
              " ('菜品很有特色，环境也不错，味道也好，特别是吊烧鸡和传奇牛肉非常好吃，下次还来。',\n",
              "  array([-3.0667847e-04, -8.0899143e+00], dtype=float32),\n",
              "  'Negaitive'),\n",
              " ('#只只酸奶牛#酸奶臭了。馊的',\n",
              "  array([-5.7654514e+00, -3.1388560e-03], dtype=float32),\n",
              "  'Positive'),\n",
              " ('最最糟糕的一次外卖，没有更糟糕！！！食品全部是死的，估计明天要拉肚子，不知道冻了多久，反正再也不会点他家的了，老板，做食品生意，食材真的很重要，不要自己把自己做挎掉！#蒜蓉生蚝##蒜蓉大元贝5赠1##香辣小龙虾#',\n",
              "  array([-4.6311717 , -0.00979109], dtype=float32),\n",
              "  'Positive'),\n",
              " ('可乐没有，鸡肉卷有，就不知道可乐跑哪里去了',\n",
              "  array([-3.3824395e-03, -5.6908584e+00], dtype=float32),\n",
              "  'Negaitive'),\n",
              " ('好吃好吃 我最喜欢吃这家的盐酥鸡和带骨鸡排了',\n",
              "  array([-2.9738297e-04, -8.1204624e+00], dtype=float32),\n",
              "  'Negaitive'),\n",
              " ('太干，不润，，没有丝，，不正宗。',\n",
              "  array([-1.3510395e-03, -6.6075921e+00], dtype=float32),\n",
              "  'Negaitive'),\n",
              " ('稀饭炖的不好吃。不香，饭也不糯。不值得这个价钱。',\n",
              "  array([-0.00551133, -5.2037086 ], dtype=float32),\n",
              "  'Negaitive'),\n",
              " ('三个小时吃到饭，很难受',\n",
              "  array([-2.9142425e-04, -8.1407642e+00], dtype=float32),\n",
              "  'Negaitive'),\n",
              " ('太咸了，饭是凉的，太难吃。',\n",
              "  array([-5.1783025e-04, -7.5661368e+00], dtype=float32),\n",
              "  'Negaitive'),\n",
              " ('去过几次了，不管是味道还是服务都很满意而且在家附近会常来的！',\n",
              "  array([-4.3251697e-04, -7.7462220e+00], dtype=float32),\n",
              "  'Negaitive'),\n",
              " ('超过了预计时间一个小时',\n",
              "  array([-1.0172913e-03, -6.8911505e+00], dtype=float32),\n",
              "  'Negaitive'),\n",
              " ('环境不错，上菜也比较快，菜的分量还是可以的，我们三个人吃都吃撑了，汤的味道很好，一锅汤加了几次，都喝完了，强烈推荐，还有自助的水果和饮料，服务员的态度赞一个，一点也不会因为是团购就不好，美女都很漂亮哦！',\n",
              "  array([-2.5090406e-04, -8.2904654e+00], dtype=float32),\n",
              "  'Negaitive'),\n",
              " ('总体来说还不错，牛肉精到，口感也好',\n",
              "  array([-2.9392692e-04, -8.1321287e+00], dtype=float32),\n",
              "  'Negaitive'),\n",
              " ('还可以，应该都会喜欢吧，重庆口味。',\n",
              "  array([-2.2456508e-04, -8.4017067e+00], dtype=float32),\n",
              "  'Negaitive'),\n",
              " ('#尖椒兔套饭#肉都是臭的！',\n",
              "  array([-5.7050257e+00, -3.3347970e-03], dtype=float32),\n",
              "  'Positive'),\n",
              " ('我生日的时候老公给我买的，超级好吃，是我吃过最好吃的蛋糕，水果也多，还新鲜',\n",
              "  array([-3.2395837e-04, -8.0350046e+00], dtype=float32),\n",
              "  'Negaitive'),\n",
              " ('可以，商家服务态度也很好，下次还会再来的， #红汤锅底# #绿色毛肚# #鲜鸭肠# #油碟#',\n",
              "  array([-3.1645058e-04, -8.0584049e+00], dtype=float32),\n",
              "  'Negaitive'),\n",
              " ('来了很多次了可以',\n",
              "  array([-4.2167355e-04, -7.7713861e+00], dtype=float32),\n",
              "  'Negaitive'),\n",
              " ('菜品还不错！分量也足，完全吃不完！',\n",
              "  array([-2.6949588e-04, -8.2190218e+00], dtype=float32),\n",
              "  'Negaitive'),\n",
              " ('分量很小 卖得偏贵 感觉东西不卫生 第二天拉肚子了吃了',\n",
              "  array([-5.3206263e+00, -4.9016550e-03], dtype=float32),\n",
              "  'Positive'),\n",
              " ('差评，我要的部分微辣，没有叫他减，既然全部给我减成了一盒，真的黑冒火',\n",
              "  array([-0.00568345, -5.1730323 ], dtype=float32),\n",
              "  'Negaitive'),\n",
              " ('蛋糕好可爱的，蛋糕的味道也很不错，就是上面的水果看着漂亮，但猕猴桃还是生的，浪费了，商家可以换成别的，买了个面包也好吃，下次还是会去的',\n",
              "  array([-5.5071444e-04, -7.5046482e+00], dtype=float32),\n",
              "  'Negaitive'),\n",
              " ('里脊肉吃起有股味道，应该不是新鲜的吧！我们没去店里买就是相信他们店里的食材都是新鲜的 以为我们是网上买的就可以欺骗消费者？？？藕片也是放了很久的吧？和以往相比  食材越来越不新鲜 吃了这些会拉肚子的！不要一味的为了钱 就这样对待消费者！！',\n",
              "  array([-5.3516068e+00, -4.7518187e-03], dtype=float32),\n",
              "  'Positive'),\n",
              " ('14块饭少，也就是一般加点杂碎，随便抄抄而已。',\n",
              "  array([-7.0034771e-04, -7.2642293e+00], dtype=float32),\n",
              "  'Negaitive'),\n",
              " ('首先青椒没炒熟，其次，肉量很少，并且不像炒的，而像是煮的，一份小炒肉全是生的青椒，怎么吃啊',\n",
              "  array([-4.455606  , -0.01168125], dtype=float32),\n",
              "  'Positive'),\n",
              " ('选了一种非常辣的，老板服务态度相当好！',\n",
              "  array([-1.9977482e-04, -8.5183640e+00], dtype=float32),\n",
              "  'Negaitive'),\n",
              " ('一般。态度还好。菜品少。❤️总体还行',\n",
              "  array([-2.8820653e-04, -8.1519508e+00], dtype=float32),\n",
              "  'Negaitive'),\n",
              " ('不错！服务态度十分满意！下次聚会或者年终聚会还来！',\n",
              "  array([-2.630603e-04, -8.243221e+00], dtype=float32),\n",
              "  'Negaitive'),\n",
              " ('全是豆芽，肉去哪里了', array([-0.00908645, -4.7055106 ], dtype=float32), 'Negaitive'),\n",
              " ('真是难吃，还不如路边摊',\n",
              "  array([-4.4276449e-04, -7.7226043e+00], dtype=float32),\n",
              "  'Negaitive'),\n",
              " ('味道不错，环境也好，服务也还好，总之还不错啦',\n",
              "  array([-2.6973424e-04, -8.2181206e+00], dtype=float32),\n",
              "  'Negaitive'),\n",
              " ('老顾客了，没什么好挑剔的。。。',\n",
              "  array([-2.9154343e-04, -8.1405859e+00], dtype=float32),\n",
              "  'Negaitive'),\n",
              " ('不是一般的难吃    ',\n",
              "  array([-8.120815e-04, -7.116264e+00], dtype=float32),\n",
              "  'Negaitive'),\n",
              " ('送过来都是冷的，怎么吃？',\n",
              "  array([-1.6801540e-03, -6.3896885e+00], dtype=float32),\n",
              "  'Negaitive'),\n",
              " ('味道好 服务好 又便宜哈哈哈哈哈好得很',\n",
              "  array([-2.3922442e-04, -8.3380690e+00], dtype=float32),\n",
              "  'Negaitive'),\n",
              " ('夏天吃这个不上火，味道很好，物美价廉。',\n",
              "  array([-3.333728e-04, -8.006251e+00], dtype=float32),\n",
              "  'Negaitive'),\n",
              " ('#椒盐皮皮虾#没肉，而且咸的发苦，巨咸无比！吃了一只剩下的全部都浪费了#香辣耗儿鱼#一个字“咸”而且特别干，跟鱼干差不多。。。反正超级难吃！',\n",
              "  array([-4.0921769e-03, -5.5007176e+00], dtype=float32),\n",
              "  'Negaitive'),\n",
              " ('送了半天，量太少，不好吃，',\n",
              "  array([-4.6790618e-04, -7.6675496e+00], dtype=float32),\n",
              "  'Negaitive'),\n",
              " ('第一次有点失望，荤的有臭味',\n",
              "  array([-6.3813319e+00, -1.6943159e-03], dtype=float32),\n",
              "  'Positive'),\n",
              " ('每次都去这家，父母也觉得不错图。',\n",
              "  array([-3.8401858e-04, -7.8649492e+00], dtype=float32),\n",
              "  'Negaitive'),\n",
              " ('吃光了，味道很好吃，下次买个大份的',\n",
              "  array([-2.5900823e-04, -8.2588987e+00], dtype=float32),\n",
              "  'Negaitive'),\n",
              " ('有虫子，好恶心，清洁卫生怎么回事，太不地道了呀，工商局管不管这事，商家看到请联系我，很气愤',\n",
              "  array([-5.8432775e+00, -2.9035336e-03], dtype=float32),\n",
              "  'Positive'),\n",
              " ('味道很不错，而且分量足，还送了份凉面，好评！',\n",
              "  array([-2.7497803e-04, -8.1989059e+00], dtype=float32),\n",
              "  'Negaitive'),\n",
              " ('一如既往地好，好吃好吃美味美味',\n",
              "  array([-3.1156454e-04, -8.0741119e+00], dtype=float32),\n",
              "  'Negaitive'),\n",
              " ('味道好，我喜欢原味。服务可以，欢迎大家来尝试',\n",
              "  array([-4.1309407e-04, -7.7919474e+00], dtype=float32),\n",
              "  'Negaitive'),\n",
              " ('谁还会放心吃你家的？',\n",
              "  array([-6.2410423e-04, -7.3795342e+00], dtype=float32),\n",
              "  'Negaitive'),\n",
              " ('上次路过，吃过一次，服务热情好吃。这次附近逛街，特意又团了单，遇到手机没电关机无法验证，商家先煮了面，很体贴周到。会经常光顾~',\n",
              "  array([-2.4458754e-04, -8.3158274e+00], dtype=float32),\n",
              "  'Negaitive'),\n",
              " ('不错，汤头好喝，蘸酱很好吃，怎么搭配都很好吃，不错。',\n",
              "  array([-3.7627292e-04, -7.8853989e+00], dtype=float32),\n",
              "  'Negaitive'),\n",
              " ('好喝，每周喝两次',\n",
              "  array([-2.4494508e-04, -8.3146725e+00], dtype=float32),\n",
              "  'Negaitive'),\n",
              " ('都馊了还拿出来卖，不是缺德么',\n",
              "  array([-6.1160903e+00, -2.2094857e-03], dtype=float32),\n",
              "  'Positive'),\n",
              " ('味道差的要死，几块鸡，没香味，吃了还拉肚子，不会再买了',\n",
              "  array([-5.392991e+00, -4.558766e-03], dtype=float32),\n",
              "  'Positive'),\n",
              " ('可以可以的 味道不错哦 你值得一试',\n",
              "  array([-2.3958198e-04, -8.3366308e+00], dtype=float32),\n",
              "  'Negaitive'),\n",
              " ('老顾客了，很好吃的火锅～尤其是鳕鱼',\n",
              "  array([-3.1418633e-04, -8.0655212e+00], dtype=float32),\n",
              "  'Negaitive'),\n",
              " ('很喜欢去吃，味道也一直都很不错',\n",
              "  array([-2.724753e-04, -8.208276e+00], dtype=float32),\n",
              "  'Negaitive'),\n",
              " ('服务很好 焦糖布丁很好吃 奶茶也很好喝 下次会继续来吃',\n",
              "  array([-2.873723e-04, -8.154810e+00], dtype=float32),\n",
              "  'Negaitive'),\n",
              " ('服务一般，菜的味道不错！就是份量有点少',\n",
              "  array([-2.10859e-04, -8.46445e+00], dtype=float32),\n",
              "  'Negaitive'),\n",
              " ('老板请你告诉我你确定这是3.5斤的鱼？严重参假我连鱼都看不到！全是菜！！！！！很气',\n",
              "  array([-8.9902984e-04, -7.0146856e+00], dtype=float32),\n",
              "  'Negaitive'),\n",
              " ('太难吃了，戚风蛋糕就跟一两元蛋糕一样、、椰蓉蛋糕干瘪的像放了N天、还有那个黄金片硬的咬掉牙…好评是刷出来的吗？',\n",
              "  array([-0.9579483 , -0.48398775], dtype=float32),\n",
              "  'Positive'),\n",
              " ('奶茶苦的，不好喝。', array([-0.0250905, -3.6977856], dtype=float32), 'Negaitive'),\n",
              " ('对于一个吃货来说，这估计是我吃过最难吃烧烤了，最重要的是下单后过了七分钟点退货，老板立马打电话说已经烤好了，拒绝退款，尼玛，从拿菜品到烤再到扮佐料打包，七分钟够？结果等了五十分钟才送来，这就是七分钟烤好了？送个餐要五十分钟？还离得不远。果断差评，还难吃，点这家烧烤的需慎重',\n",
              "  array([-0.00789261, -4.8457685 ], dtype=float32),\n",
              "  'Negaitive'),\n",
              " ('不错，今天多收了餐费都打电话给我退还给我的。口感还不错，下次还来',\n",
              "  array([-2.4530262e-04, -8.3132915e+00], dtype=float32),\n",
              "  'Negaitive'),\n",
              " ('这个味道怎么和之前吃的完全不一样了啊？ 换老板了吗？ 味道好淡。 时间也迟到这么久',\n",
              "  array([-6.9117494e-04, -7.2775054e+00], dtype=float32),\n",
              "  'Negaitive'),\n",
              " ('味道很好，分量很足，锅巴最香了',\n",
              "  array([-3.3051273e-04, -8.0151472e+00], dtype=float32),\n",
              "  'Negaitive'),\n",
              " ('联系卖家时，知道汤都臭了还送。吃过这么多外卖没吃过这么糟糕的。炒饭炒粉都有股臭味。不敢吃，都扔了。也不是正宗的沙县。各位食客请慎重订餐。用美团这么久，就算点的饭菜不合口味都给好评，但是饭菜臭的不能忍。第一次差评。',\n",
              "  array([-5.7291198e+00, -3.2551894e-03], dtype=float32),\n",
              "  'Positive'),\n",
              " ('服务员小哥态度很好，也很细心，棒棒的。味道也不错',\n",
              "  array([-3.3682873e-04, -7.9961152e+00], dtype=float32),\n",
              "  'Negaitive'),\n",
              " ('还是需要加菜', array([-2.740246e-04, -8.202235e+00], dtype=float32), 'Negaitive'),\n",
              " ('吃到个蟑螂…好恶心',\n",
              "  array([-6.0399795e+00, -2.3844403e-03], dtype=float32),\n",
              "  'Positive'),\n",
              " ('还说了多拿番茄酱 结果没有番茄酱 ！！！',\n",
              "  array([-4.2703570e-04, -7.7589455e+00], dtype=float32),\n",
              "  'Negaitive'),\n",
              " ('牛肉都扔了肉都是臭的里面菜也没有再也不会点这家',\n",
              "  array([-6.1431575e+00, -2.1504867e-03], dtype=float32),\n",
              "  'Positive'),\n",
              " ('没人接配送也不说一声，打了n个电话给商家都没人接，等了一个半小时，我真是呵呵了……送来的粥里面有蚊虫，包子里面还有锡箔纸，该怎么吃！很少差评！第一次都给你了！',\n",
              "  array([-5.574424e+00, -3.800908e-03], dtype=float32),\n",
              "  'Positive'),\n",
              " ('小面的味道意外的不错，份量也足。',\n",
              "  array([-3.0060063e-04, -8.1097813e+00], dtype=float32),\n",
              "  'Negaitive'),\n",
              " ('很好，很久就想吃铁锅门了，以前读书的时候就喜欢吃。今天正好看到，终于满足了！一如既往，虾也很大，刚好吃了一百，一张代金券就够了！',\n",
              "  array([-3.6292642e-04, -7.9214768e+00], dtype=float32),\n",
              "  'Negaitive'),\n",
              " ('不管是环境，服务还是菜品，都很满意。菜品新鲜，店员也很亲切，进门就听见大声的迎宾语位置很好找，就在大融城背后的星天广场3楼的美食街里面，中午去的，人很多，不过上菜速度很快，没等多久就好了，味道特别好吃',\n",
              "  array([-2.750972e-04, -8.198530e+00], dtype=float32),\n",
              "  'Negaitive'),\n",
              " ('吃出只苍蝇是怎样',\n",
              "  array([-5.6981869e+00, -3.3577273e-03], dtype=float32),\n",
              "  'Positive'),\n",
              " ('价格合适，服务周到，吃的种类很多，去几次了',\n",
              "  array([-2.5388357e-04, -8.2788553e+00], dtype=float32),\n",
              "  'Negaitive'),\n",
              " ('来重庆第二次来了，味道很棒，价格很合理。很推荐',\n",
              "  array([-2.7187943e-04, -8.2104454e+00], dtype=float32),\n",
              "  'Negaitive'),\n",
              " ('第一吃铁板烧 量多  两个人吃不完 辣椒好',\n",
              "  array([-4.5742063e-04, -7.6900277e+00], dtype=float32),\n",
              "  'Negaitive'),\n",
              " ('超级好，食材新鲜，服务又好！最爱海胆和牡丹虾。',\n",
              "  array([-2.9059002e-04, -8.1437416e+00], dtype=float32),\n",
              "  'Negaitive'),\n",
              " ('还没有吃就看到，饭表面就有个虫，怎么吃啊！',\n",
              "  array([-6.4250150e+00, -1.6218378e-03], dtype=float32),\n",
              "  'Positive'),\n",
              " ('味道不错，老板人很好~喜欢吃的都可以去尝试一下',\n",
              "  array([-2.9654874e-04, -8.1233063e+00], dtype=float32),\n",
              "  'Negaitive'),\n",
              " ('来了好多次 老板人很好。下午得猪脚好吃些上午的没有入味。下午去还是棒棒哒',\n",
              "  array([-3.246734e-04, -8.032855e+00], dtype=float32),\n",
              "  'Negaitive'),\n",
              " ('可以！这里每次都是排队！',\n",
              "  array([-3.091811e-04, -8.081718e+00], dtype=float32),\n",
              "  'Negaitive'),\n",
              " ('第三回去了，这次是临时决定去的，马上手机团购了就去的，下午六点多了，没有电话预约以为去要等位，还好去了还有位置，服务员还是一如既往的很热情，六人餐六个人吃得都很满意，那里蛋炒饭和免费脐橙相当的好吃，醪糟汤圆也很不错，这次唯一的缺憾就是那一盘豆干有些变味了，估计是放得有点久了，希望商家以后注意，总体还是值得再推荐给大家！',\n",
              "  array([-2.442300e-04, -8.317394e+00], dtype=float32),\n",
              "  'Negaitive'),\n",
              " ('东西真的不怎样，快递还是不错的',\n",
              "  array([-3.007198e-04, -8.109593e+00], dtype=float32),\n",
              "  'Negaitive'),\n",
              " ('特别不卫生千万不要吃了，点了#秘制烤翅（2块）#鸡腿糊了也没怎么在意，妹妹说糊得咬不动我就让她扔了，还点了一只#蜜汁手扒鸡#送来了，我打开给我妹妹吃，打开了就感觉味道怪怪的，扒了一只鸡腿臭味就散发出来了，点了那么多次还是第一次遇到这种情况！',\n",
              "  array([-5.670185e+00, -3.453127e-03], dtype=float32),\n",
              "  'Positive'),\n",
              " ('味道棒 很甜',\n",
              "  array([-3.0787018e-04, -8.0860186e+00], dtype=float32),\n",
              "  'Negaitive'),\n",
              " ('送个外卖从3个多小时才到',\n",
              "  array([-1.9199287e-03, -6.2564273e+00], dtype=float32),\n",
              "  'Negaitive'),\n",
              " ('吃过最难吃的开胃粉，从没点过这么难吃的东西，根本吃不下，全扔了',\n",
              "  array([-9.904961e-04, -6.917840e+00], dtype=float32),\n",
              "  'Negaitive'),\n",
              " ('才开业的店，环境很好，紫米露好大一杯，味道还不错，态度特别好，还送了我两张3元的优惠券',\n",
              "  array([-3.8699768e-04, -7.8572283e+00], dtype=float32),\n",
              "  'Negaitive'),\n",
              " ('离住的地方不远，鱼现杀的，很新鲜，鱼也很肥妹，老板人很好',\n",
              "  array([-2.8987497e-04, -8.1461630e+00], dtype=float32),\n",
              "  'Negaitive'),\n",
              " ('味道极好，脆皮也足够脆，而且还不油',\n",
              "  array([-2.7021096e-04, -8.2165136e+00], dtype=float32),\n",
              "  'Negaitive'),\n",
              " ('还不错 就在车站那 只有那家店能用 重百店里的不能用 订了蛋糕 团购划算',\n",
              "  array([-4.4288364e-04, -7.7224045e+00], dtype=float32),\n",
              "  'Negaitive'),\n",
              " ('味道 服务都不错 下次还去',\n",
              "  array([-3.052484e-04, -8.094492e+00], dtype=float32),\n",
              "  'Negaitive'),\n",
              " ('点了牛肉串根本就没有，放在一起根本看不出来，没有把牛肉串放进去，真的可怕',\n",
              "  array([-2.6799261e-03, -5.9233212e+00], dtype=float32),\n",
              "  'Negaitive'),\n",
              " ('真的超好吃，想吃正宗火锅的，选这家，没错啦',\n",
              "  array([-3.1359046e-04, -8.0677404e+00], dtype=float32),\n",
              "  'Negaitive'),\n",
              " ('居然不加饭！差评(*｀Ω´*)v',\n",
              "  array([-1.0389651e-03, -6.8700728e+00], dtype=float32),\n",
              "  'Negaitive'),\n",
              " ('味道不错，很好吃，以后经常来很独特',\n",
              "  array([-2.805793e-04, -8.178720e+00], dtype=float32),\n",
              "  'Negaitive'),\n",
              " ('白米饭很好吃，很划算，一元买了很大一盒。水煮肉片就算了吧。先不说口味一般的问题，大半碗都是豆芽菜，肉片很少，怎么吃？不如直接叫水煮豆芽好了。名字取的好听，图片拍得漂亮只是吸引新顾客罢了，吃过一次的人，知道这种事实还会再来吗？老顾客还会有吗？做餐饮讲的是良心，是诚信，这几点根本都没有，怎么得人心。但米饭确实好吃又便宜，我甚至觉得卖家有点亏。水煮肉片的话...可能赚了不少吧。',\n",
              "  array([-4.4729240e-04, -7.7125487e+00], dtype=float32),\n",
              "  'Negaitive'),\n",
              " ('环境不错，九十分钟转一圈，可以看到整个解放碑全景，请外地朋友吃饭特别合适；上菜速度也快，味道也不错！就是水煮牛肉有些太肥了，瘦点就好了。。特别温馨的是餐前送了每人一小碗红糖冰粉，冰凉爽口，谢谢店家，其他挺好',\n",
              "  array([-2.9047084e-04, -8.1441870e+00], dtype=float32),\n",
              "  'Negaitive'),\n",
              " ('位置挺好找的，门面也很宽敞，环境不错，干净大气，我定的晚上七点多的位置，店里人蛮多的，店家还是预留了一桌，还是有些小感动，没有排队等，直接就上桌了，上菜的速度也很快，菜品丰富，份量很足，还有水果和炒饭，都蛮好吃的，好评！',\n",
              "  array([-3.008390e-04, -8.108895e+00], dtype=float32),\n",
              "  'Negaitive'),\n",
              " ('很好吃，牛肉比较多，非常实惠，就是位置不太好找，强烈推荐，全五分',\n",
              "  array([-3.2681847e-04, -8.0261927e+00], dtype=float32),\n",
              "  'Negaitive'),\n",
              " ('一如既往的好喝 喜欢放牛斑 希望多点座位',\n",
              "  array([-2.9559535e-04, -8.1267185e+00], dtype=float32),\n",
              "  'Negaitive'),\n",
              " ('菜品种类很多 饮料也挺多的 还有烧烤真的很赞 本人喜欢鸡瓜  真的不错',\n",
              "  array([-3.2252833e-04, -8.0396204e+00], dtype=float32),\n",
              "  'Negaitive'),\n",
              " ('点了三两，估计最多2两，最多，',\n",
              "  array([-3.709105e-04, -7.899804e+00], dtype=float32),\n",
              "  'Negaitive'),\n",
              " ('不想说什么了难吃到吐！红烧茄子不烧焦一点怎么吃？放点油下锅衮一圈就弄起来了？还有送到的时候已经基本完全冷了！我已经无语！我只想说你怎么不把一个茄子直接抄？切怎么大还不如不切！什么玩意？',\n",
              "  array([-0.10887366, -2.2715101 ], dtype=float32),\n",
              "  'Negaitive'),\n",
              " ('离家近，味道不错，环境很好，下次还会再来光顾的。',\n",
              "  array([-3.3468366e-04, -8.0026131e+00], dtype=float32),\n",
              "  'Negaitive'),\n",
              " ('服务很满意', array([-2.740246e-04, -8.202223e+00], dtype=float32), 'Negaitive'),\n",
              " ('去的比较晚，菜什么的都比较少了，所以大家还是早点儿去～嗯，去了几次了，总体还可以吧',\n",
              "  array([-4.5158202e-04, -7.7029424e+00], dtype=float32),\n",
              "  'Negaitive'),\n",
              " ('可以味道不错，经常来喝，商家也不错',\n",
              "  array([-3.780604e-04, -7.880716e+00], dtype=float32),\n",
              "  'Negaitive'),\n",
              " ('吃了N次了，很不错',\n",
              "  array([-2.530493e-04, -8.281930e+00], dtype=float32),\n",
              "  'Negaitive'),\n",
              " ('毛豆难吃就算了，关键说满28送金猴福袋，我专门点够了，居然根本没有送？呵呵了，什么风味也不过阿骗人的？',\n",
              "  array([-2.5942025e-03, -5.9557819e+00], dtype=float32),\n",
              "  'Negaitive'),\n",
              " ('没有第一次好吃，鱿鱼腥味很大，没得价格单子，说好送加多宝也没有，',\n",
              "  array([-9.7036950e-04, -6.9382606e+00], dtype=float32),\n",
              "  'Negaitive'),\n",
              " ('味道很不错 老板娘服务态度很好 很有亲和力 下次吃鸡还会去',\n",
              "  array([-2.8379704e-04, -8.1674576e+00], dtype=float32),\n",
              "  'Negaitive'),\n",
              " ('送来放到门口，连个电话都不打！全部冷了 根本没法吃！真的很差',\n",
              "  array([-1.5584002e-03, -6.4649105e+00], dtype=float32),\n",
              "  'Negaitive'),\n",
              " ('快递小哥不错 电梯上不来 爬楼梯五楼送到 真心不错   外卖就算了 重来没吃过这么难吃的烧烤 一点味都没有 我想请问店家 你是没钱买盐吗',\n",
              "  array([-6.507901e-04, -7.337586e+00], dtype=float32),\n",
              "  'Negaitive'),\n",
              " ('一个人尝了一口确认它是真的臭了，其他的东西也是难吃的一逼，难吃就算了，能理解，竟然卖变质的东西，真的不能忍',\n",
              "  array([-5.8346949e+00, -2.9286137e-03], dtype=float32),\n",
              "  'Positive'),\n",
              " ('送得太慢了，送来算是冷的，不会再点这家了',\n",
              "  array([-2.771232e-04, -8.191006e+00], dtype=float32),\n",
              "  'Negaitive'),\n",
              " ('好吃，吐血推荐，味道极赞，汤汁味道浓厚',\n",
              "  array([-3.5160559e-04, -7.9532266e+00], dtype=float32),\n",
              "  'Negaitive'),\n",
              " ('味道不错～老板人还是多好的，就算是有点远也及时送到了',\n",
              "  array([-3.1859567e-04, -8.0517139e+00], dtype=float32),\n",
              "  'Negaitive'),\n",
              " ('吃了很多次了 很划算 味道很好 面和米饭都好吃',\n",
              "  array([-3.1776147e-04, -8.0543537e+00], dtype=float32),\n",
              "  'Negaitive'),\n",
              " ('鸡腿生的会拉肚子的',\n",
              "  array([-5.5949540e+00, -3.7234756e-03], dtype=float32),\n",
              "  'Positive'),\n",
              " ('吃了很多次了 每次来万象城必点 特别喜欢它家的薯霸王 地址 万象城b1西西弗书店那个大门进去就看到 它家生意挺好的 人流量挺多服务 是自助打印团购券的 打印小票后就可以领餐了 没有过多的服务 其实最好是在团购兑券处安排一个人 好方便顾客的操作速度 打印券后 把小票给服务员后就可以等着领餐了 速度还是蛮快的环境 和肯德基和麦当劳吃起来 喜欢它家环境一些要更现代一些 没有那么多小孩纸和供小孩玩耍的器具感觉更清净一些味道 团购的一个薯霸王套餐 里面包括超打薯霸王和一杯气泡水  没有超大的薯条包装给了两个大薯条 ',\n",
              "  array([-3.5124808e-04, -7.9541411e+00], dtype=float32),\n",
              "  'Negaitive'),\n",
              " ('牛奶送过来都臭了我去，有点过分了',\n",
              "  array([-5.8459964e+00, -2.8956886e-03], dtype=float32),\n",
              "  'Positive'),\n",
              " ('非常好吃，味道也很好！',\n",
              "  array([-2.624644e-04, -8.245339e+00], dtype=float32),\n",
              "  'Negaitive'),\n",
              " ('除了以前那个像金丝一样的酥点味道不及以前，其他都很赞，菜品新鲜，还会再去',\n",
              "  array([-7.0106244e-04, -7.2633295e+00], dtype=float32),\n",
              "  'Negaitive'),\n",
              " ('味道不错，第二次来了，就是价格偏贵。对了，小刘服务挺好的，热情，好评。',\n",
              "  array([-2.4530262e-04, -8.3131847e+00], dtype=float32),\n",
              "  'Negaitive'),\n",
              " ('老板人特别好，点心也特别好吃，每次都要吃好多点心呢',\n",
              "  array([-2.8999415e-04, -8.1456127e+00], dtype=float32),\n",
              "  'Negaitive'),\n",
              " ('老板态度很好，而且价格很实惠，下次再来',\n",
              "  array([-2.4625607e-04, -8.3093729e+00], dtype=float32),\n",
              "  'Negaitive'),\n",
              " ('6啊6的刨酸奶，一碗就吃饱了，分量足。',\n",
              "  array([-3.8973842e-04, -7.8503017e+00], dtype=float32),\n",
              "  'Negaitive'),\n",
              " ('味道不错，经济实惠，强烈推荐！',\n",
              "  array([-3.5065223e-04, -7.9557519e+00], dtype=float32),\n",
              "  'Negaitive'),\n",
              " ('味道不错分量也很足   吃饭的环境比较舒适  适合大家聚餐什么的',\n",
              "  array([-2.4577935e-04, -8.3113031e+00], dtype=float32),\n",
              "  'Negaitive'),\n",
              " ('与朋友一起去的，和一切一样的好',\n",
              "  array([-2.953570e-04, -8.127541e+00], dtype=float32),\n",
              "  'Negaitive'),\n",
              " ('奶味超足呀～小姐姐小哥哥人都很好，紫米刚蒸出来的香喷喷，以后会经常吃哒 包装超可爱*^o^*',\n",
              "  array([-2.217047e-04, -8.414433e+00], dtype=float32),\n",
              "  'Negaitive'),\n",
              " ('很好喝，不错，新鲜，来了几次了',\n",
              "  array([-2.840354e-04, -8.166496e+00], dtype=float32),\n",
              "  'Negaitive'),\n",
              " ('可乐送成奶茶 热的',\n",
              "  array([-4.1111722e-03, -5.4960995e+00], dtype=float32),\n",
              "  'Negaitive'),\n",
              " ('味道还不错，就是那个锅有一点辣，东西还挺多的，小吃很好～ nice',\n",
              "  array([-3.6971885e-04, -7.9028640e+00], dtype=float32),\n",
              "  'Negaitive'),\n",
              " ('味道好，鱼新鲜。我跟我老公都喜欢',\n",
              "  array([-3.1621224e-04, -8.0594225e+00], dtype=float32),\n",
              "  'Negaitive'),\n",
              " ('很好 很喜欢 会再去',\n",
              "  array([-2.1693738e-04, -8.4360189e+00], dtype=float32),\n",
              "  'Negaitive'),\n",
              " ('肉多份量多，完全吃不完，不错，地方也还好找',\n",
              "  array([-2.9702543e-04, -8.1217890e+00], dtype=float32),\n",
              "  'Negaitive'),\n",
              " ('完全不新鲜，千万别去吃。有苍蝇，有头发，啥都有',\n",
              "  array([-5.9461689e+00, -2.6192903e-03], dtype=float32),\n",
              "  'Positive'),\n",
              " ('经常来吃这家，服务什么都挺好就是菜品没时代天街多，音乐声音真心大。关小点能给人更好的就餐环境',\n",
              "  array([-2.8141352e-04, -8.1757383e+00], dtype=float32),\n",
              "  'Negaitive'),\n",
              " ('各位，骗人的店。偷工减料的，好少，有些菜还没有。烂店一个。。烂，烂，烂。。。。',\n",
              "  array([-3.2217082e-04, -8.0405025e+00], dtype=float32),\n",
              "  'Negaitive'),\n",
              " ('草莓和石头似的且发苦！西瓜变质了！桔子都是酸苦！这种水果也卖？我也是醉了！无良商家！',\n",
              "  array([-5.9652209e+00, -2.5698277e-03], dtype=float32),\n",
              "  'Positive'),\n",
              " ('已经是很多次去吃了，位置好找，因为人多菜品换新快，同时新货也上的快！',\n",
              "  array([-1.8904806e-04, -8.5736341e+00], dtype=float32),\n",
              "  'Negaitive'),\n",
              " ('最差的一次外卖体验。好不好吃是一回事，点的多荤少素的套餐全是素菜，套餐外单点的脆皮肠和鸡心吃完了都没看到。下午两点的订单，饭点高峰期都过了别扯你很忙。建议以后走点心吧',\n",
              "  array([-1.8350920e-03, -6.3015957e+00], dtype=float32),\n",
              "  'Negaitive'),\n",
              " ('比平时面包店买的小',\n",
              "  array([-6.786666e-04, -7.295796e+00], dtype=float32),\n",
              "  'Negaitive'),\n",
              " ('风格特别好', array([-2.944036e-04, -8.130799e+00], dtype=float32), 'Negaitive'),\n",
              " ('鱼香肉丝很甜很酸',\n",
              "  array([-2.6985342e-04, -8.2178774e+00], dtype=float32),\n",
              "  'Negaitive'),\n",
              " ('点两瓶荔枝爽只送了一瓶可乐  牛肉点了两次都没得',\n",
              "  array([-5.9300958e-04, -7.4306526e+00], dtype=float32),\n",
              "  'Negaitive'),\n",
              " ('很满意，还会再来',\n",
              "  array([-2.892791e-04, -8.148437e+00], dtype=float32),\n",
              "  'Negaitive'),\n",
              " ('分量也太少了撒，',\n",
              "  array([-2.4768623e-04, -8.3035536e+00], dtype=float32),\n",
              "  'Negaitive'),\n",
              " ('味道很好，只是我是第二次叫烤鱼外卖，回头客，食材和烤鱼都缩水了，相当严重的缩水。感觉以后不会再光顾了。呵呵。',\n",
              "  array([-8.3804765e-04, -7.0849195e+00], dtype=float32),\n",
              "  'Negaitive'),\n",
              " ('粥都馊了，点的鲜肉包送的酱肉包，搞什么',\n",
              "  array([-5.7152658e+00, -3.3006971e-03], dtype=float32),\n",
              "  'Positive'),\n",
              " ('分量可以，味道很好。不错值得推荐。',\n",
              "  array([-1.9608006e-04, -8.5370770e+00], dtype=float32),\n",
              "  'Negaitive'),\n",
              " ('鸡肉饭很好吃的，店里面其他的饭都很好吃也不贵，照片是之前打包的鳗鱼饭，山贼牛肉饭也很赞，推荐大家去尝一下真的很nice！',\n",
              "  array([-3.118029e-04, -8.073209e+00], dtype=float32),\n",
              "  'Negaitive'),\n",
              " ('位置:学林街路口进来向上几家，就能很清楚的看到招牌，绝味干锅',\n",
              "  array([-2.934502e-04, -8.133908e+00], dtype=float32),\n",
              "  'Negaitive'),\n",
              " ('无语了，吃了一半。蟑螂腿',\n",
              "  array([-5.4872003e+00, -4.1479748e-03], dtype=float32),\n",
              "  'Positive'),\n",
              " ('味道还可以，环境比较好，感觉比沙坪坝其他家都要好些',\n",
              "  array([-2.3409964e-04, -8.3600178e+00], dtype=float32),\n",
              "  'Negaitive'),\n",
              " ('味道不错，老板很好很帅，很绅士的帮我们加菜，菜品很新鲜，鸭肠很脆，嫩牛肉，香菜丸子也是很棒，好吃，环境也不错，推荐。',\n",
              "  array([-3.2348168e-04, -8.0366421e+00], dtype=float32),\n",
              "  'Negaitive'),\n",
              " ('观音桥不夜城下面',\n",
              "  array([-2.6336766e-03, -5.9407048e+00], dtype=float32),\n",
              "  'Negaitive'),\n",
              " ('确实特别出乎意料！！！！！',\n",
              "  array([-2.9356938e-04, -8.1336174e+00], dtype=float32),\n",
              "  'Negaitive'),\n",
              " ('很好，两盆鱼，端上来还觉得是隔壁的',\n",
              "  array([-2.840354e-04, -8.166685e+00], dtype=float32),\n",
              "  'Negaitive'),\n",
              " ('味道真的很不错，老公也喜欢',\n",
              "  array([-2.0716428e-04, -8.4820242e+00], dtype=float32),\n",
              "  'Negaitive'),\n",
              " ('不好吃…味道一般般',\n",
              "  array([-4.402622e-04, -7.728288e+00], dtype=float32),\n",
              "  'Negaitive'),\n",
              " ('#蜜汁烤全鸡#难吃就两字，我只说一次！',\n",
              "  array([-1.8618645e-03, -6.2871242e+00], dtype=float32),\n",
              "  'Negaitive'),\n",
              " ('环境挺好，服务态度很好，味道还可以，小吃也很多，下次还会光顾。',\n",
              "  array([-3.1073033e-04, -8.0767069e+00], dtype=float32),\n",
              "  'Negaitive'),\n",
              " ('超级喜欢这个面，清淡有嚼劲。店里干净整洁，服务态度超级好。',\n",
              "  array([-3.4636221e-04, -7.9683704e+00], dtype=float32),\n",
              "  'Negaitive'),\n",
              " ('很好吃，麻辣口味和蒜香口味都挺好的！',\n",
              "  array([-3.3075106e-04, -8.0143471e+00], dtype=float32),\n",
              "  'Negaitive'),\n",
              " ('环境很好，味道好，也很好找地方，牛排味道很不错，几十块钱值了。',\n",
              "  array([-2.9511866e-04, -8.1282930e+00], dtype=float32),\n",
              "  'Negaitive'),\n",
              " ('很不错的餐厅，菜品很新鲜，口味份量很足，好评。',\n",
              "  array([-3.0787018e-04, -8.0860434e+00], dtype=float32),\n",
              "  'Negaitive'),\n",
              " ('不不摆了，吃了肚子好疼，我和老公都拉肚子，估计是那个油是潲水油，以后不吃外卖了，太脏了……',\n",
              "  array([-5.4438257e+00, -4.3323236e-03], dtype=float32),\n",
              "  'Positive'),\n",
              " ('还不错，服务好，味道将就，就是稍微有点咸，可能是我们吃的淡。',\n",
              "  array([-1.9512657e-04, -8.5416613e+00], dtype=float32),\n",
              "  'Negaitive'),\n",
              " ('味道不错，就是分量不是很多，服务态度很好！',\n",
              "  array([-2.710452e-04, -8.213296e+00], dtype=float32),\n",
              "  'Negaitive'),\n",
              " ('味道不错，很香，很实惠啊！',\n",
              "  array([-3.3599453e-04, -7.9984508e+00], dtype=float32),\n",
              "  'Negaitive'),\n",
              " ('吃了拉肚子，太坑了。',\n",
              "  array([-5.9580145e+00, -2.5883764e-03], dtype=float32),\n",
              "  'Positive'),\n",
              " ('菜品很足，也很合口味！值得推荐',\n",
              "  array([-4.2417587e-04, -7.7655497e+00], dtype=float32),\n",
              "  'Negaitive'),\n",
              " ('环境非常不错。包间里面商务谈事情高端大气。只不过要收服务会！消费的15%茶水都要钱的！',\n",
              "  array([-3.237200e-04, -8.035878e+00], dtype=float32),\n",
              "  'Negaitive'),\n",
              " ('备注不理？ 客人要求不看',\n",
              "  array([-2.7016827e-03, -5.9152441e+00], dtype=float32),\n",
              "  'Negaitive'),\n",
              " ('不错  态度也很好 一共团了八张',\n",
              "  array([-3.5065223e-04, -7.9557309e+00], dtype=float32),\n",
              "  'Negaitive'),\n",
              " ('竟然还能吃出虫子……真的怀疑是饭店卫生过关吗……建议大家不要去这家吃……卫生真的差',\n",
              "  array([-5.6898680e+00, -3.3857662e-03], dtype=float32),\n",
              "  'Positive'),\n",
              " ('很好的味道，服务好，干净卫生。',\n",
              "  array([-2.541219e-04, -8.277755e+00], dtype=float32),\n",
              "  'Negaitive'),\n",
              " ('好喝，现做，用藓柠檬榨的汁，比勾兑的好喝多了，买了好多次了，喜欢的不要不要的',\n",
              "  array([-3.6304558e-04, -7.9210901e+00], dtype=float32),\n",
              "  'Negaitive'),\n",
              " ('特别好吃，已经吃过好几次了，下次还会去的',\n",
              "  array([-3.2312417e-04, -8.0377378e+00], dtype=float32),\n",
              "  'Negaitive'),\n",
              " ('环境不错，味道挺不错 ，美团点餐价格也很划算。',\n",
              "  array([-2.2110878e-04, -8.4168367e+00], dtype=float32),\n",
              "  'Negaitive'),\n",
              " ('味道很不错已经不是第一次光顾了',\n",
              "  array([-3.3349197e-04, -8.0059690e+00], dtype=float32),\n",
              "  'Negaitive'),\n",
              " ('环境不错   遇到一个新服务员服务   老服务员在带   速度有点慢   不过可以理解',\n",
              "  array([-3.2836766e-04, -8.0215101e+00], dtype=float32),\n",
              "  'Negaitive'),\n",
              " ('态度好。味道不错。特好吃。！！！！！！！！',\n",
              "  array([-3.0679765e-04, -8.0896168e+00], dtype=float32),\n",
              "  'Negaitive'),\n",
              " ('好吃好吃好吃，也很划算，不错的。',\n",
              "  array([-3.255076e-04, -8.030208e+00], dtype=float32),\n",
              "  'Negaitive'),\n",
              " ('根本就不是瓦罐汤，店家你也太会骗人了，骗人是骗不长久的',\n",
              "  array([-1.9275434e-03, -6.2524672e+00], dtype=float32),\n",
              "  'Negaitive'),\n",
              " ('味道非常好 菜品都很新鲜 团购也很划算 份量也很足 下次还会再来的',\n",
              "  array([-2.6484797e-04, -8.2366114e+00], dtype=float32),\n",
              "  'Negaitive'),\n",
              " ('很划算。。。。比直接买单便宜10块',\n",
              "  array([-2.5614796e-04, -8.2699556e+00], dtype=float32),\n",
              "  'Negaitive'),\n",
              " ('第三次来了，味道好，强烈推荐给大家，都可以来位置也好。',\n",
              "  array([-2.8713394e-04, -8.1557550e+00], dtype=float32),\n",
              "  'Negaitive'),\n",
              " ('还可以，环境和味道都不错！！！',\n",
              "  array([-3.0310327e-04, -8.1016865e+00], dtype=float32),\n",
              "  'Negaitive'),\n",
              " ('慢就不说了  我点的鸡块呢？送半天送外太空去了？',\n",
              "  array([-1.0715940e-03, -6.8391366e+00], dtype=float32),\n",
              "  'Negaitive'),\n",
              " ('老板人不错，份量很足，味道巴实，绝对有物有所值。',\n",
              "  array([-2.5626714e-04, -8.2694197e+00], dtype=float32),\n",
              "  'Negaitive'),\n",
              " ('味道不错，分量足，团购性价比高',\n",
              "  array([-2.8486963e-04, -8.1634455e+00], dtype=float32),\n",
              "  'Negaitive'),\n",
              " ('无语，配送慢，找不到路，味道一般',\n",
              "  array([-5.053197e-04, -7.590504e+00], dtype=float32),\n",
              "  'Negaitive'),\n",
              " ('菜品佳，分量足，服务不错，味道不错，推荐来吃！',\n",
              "  array([-3.5065223e-04, -7.9557824e+00], dtype=float32),\n",
              "  'Negaitive'),\n",
              " ('品种很多，还很新鲜，环境味道都很好，推荐！',\n",
              "  array([-3.1037282e-04, -8.0779953e+00], dtype=float32),\n",
              "  'Negaitive'),\n",
              " ('一如既往的好吃，都大学四年了，每年都要吃几十次，味道很好，又便宜',\n",
              "  array([-2.7092602e-04, -8.2136765e+00], dtype=float32),\n",
              "  'Negaitive'),\n",
              " ('店里的价格说实话真的很贵，就算是全果汁不加水也还是很贵，团购价格还说比较划算的，味道就是原味，不添加任何调味剂，这一点很好很放心',\n",
              "  array([-4.5932710e-04, -7.6859713e+00], dtype=float32),\n",
              "  'Negaitive'),\n",
              " ('没放盐！吃毛线！！！！',\n",
              "  array([-1.0612338e-03, -6.8488812e+00], dtype=float32),\n",
              "  'Negaitive'),\n",
              " ('我很喜欢这家的酸奶牛，味道不错，常客了！',\n",
              "  array([-2.484013e-04, -8.300458e+00], dtype=float32),\n",
              "  'Negaitive'),\n",
              " ('位置好，口味好，菜品新鲜，喜欢吃什么就吃什么',\n",
              "  array([-3.3349197e-04, -8.0061617e+00], dtype=float32),\n",
              "  'Negaitive'),\n",
              " ('之冒火！根本不看备注，三样东西，15%的主食，85%全是莴笋叶子！你家是卖菜的？点干拌来个汤的，关键是之尼玛难吃，店家还一再找借口，有必要？直接上图，你还找借口？',\n",
              "  array([-0.01357902, -4.3060107 ], dtype=float32),\n",
              "  'Negaitive'),\n",
              " ('真的无语了……两份的量还没人家店一份多',\n",
              "  array([-1.4704379e-03, -6.5229301e+00], dtype=float32),\n",
              "  'Negaitive'),\n",
              " ('一如既往，没萨说的，星光店上菜速度比较慢，不过可以接受。',\n",
              "  array([-3.5041390e-04, -7.9566226e+00], dtype=float32),\n",
              "  'Negaitive'),\n",
              " ('西瓜品质太差#西瓜2.5kg/份##红萝卜500g#萝卜里面都康了  差评',\n",
              "  array([-2.4886134e-03, -5.9972625e+00], dtype=float32),\n",
              "  'Negaitive'),\n",
              " ('朋友生日，给她订了送过去的，就是迟到了一小下，口味据说不错',\n",
              "  array([-2.9392692e-04, -8.1323605e+00], dtype=float32),\n",
              "  'Negaitive'),\n",
              " ('大赞！重庆经典，美味至极！食品干净卫生！油而不腻，百吃不厌！价格公道，多次光顾了！谁去谁知道！绝不后悔！一定要去星光时代店哈，万达店服务不周到，环境一般，而且星光时代广场感觉也要比万达广场好很多，万达看着就憋屈，在星光时代吃完，你还可以去金逸影城去MAX一下，美好的生活哇(>﹏',\n",
              "  array([-3.1633142e-04, -8.0588131e+00], dtype=float32),\n",
              "  'Negaitive'),\n",
              " ('味道好，有水果，小吃送，下次再来',\n",
              "  array([-3.0381832e-04, -8.0994263e+00], dtype=float32),\n",
              "  'Negaitive'),\n",
              " ('米线泡容了我本来就不高兴了，居然还有个虫，早知到还是该点饭',\n",
              "  array([-5.9585476e+00, -2.5869496e-03], dtype=float32),\n",
              "  'Positive'),\n",
              " ('味道很不错，而且服务超级好。昨天定的有些晚了，但是店家依然准时送到了。好评啊！',\n",
              "  array([-3.5732560e-04, -7.9371114e+00], dtype=float32),\n",
              "  'Negaitive'),\n",
              " ('觉得还可以，经济实惠价格也不贵',\n",
              "  array([-2.101439e-04, -8.467992e+00], dtype=float32),\n",
              "  'Negaitive'),\n",
              " ('味道不错，就是有点贵',\n",
              "  array([-2.2408835e-04, -8.4034433e+00], dtype=float32),\n",
              "  'Negaitive'),\n",
              " ('我要的鱿鱼干锅结果全是洋葱豆芽菜，花钱不值，以后不会再吃了，豆皮也不正宗好难吃',\n",
              "  array([-2.3434102e-03, -6.0573435e+00], dtype=float32),\n",
              "  'Negaitive'),\n",
              " ('很好的饮品，口感非常好，店里的员工服务热情',\n",
              "  array([-2.6973424e-04, -8.2181444e+00], dtype=float32),\n",
              "  'Negaitive'),\n",
              " ('卫生条件不好，有虫子，',\n",
              "  array([-6.1597834e+00, -2.1149190e-03], dtype=float32),\n",
              "  'Positive'),\n",
              " ('挺实惠的，味道也不错',\n",
              "  array([-3.6376057e-04, -7.9193168e+00], dtype=float32),\n",
              "  'Negaitive'),\n",
              " ('菜品和味道都很好，老板为人也很好',\n",
              "  array([-3.356370e-04, -7.999795e+00], dtype=float32),\n",
              "  'Negaitive'),\n",
              " ('饭硬像冷饭难吃就算了，茄子还是酸的，而且连筷子都没有，凉拌个豆干也太随意了吧好难吃',\n",
              "  array([-3.2841815e-03, -5.7202635e+00], dtype=float32),\n",
              "  'Negaitive'),\n",
              " ('强烈推荐，有机会都回来的，在商场里面还是很实惠，味道也很不错',\n",
              "  array([-2.903517e-04, -8.144508e+00], dtype=float32),\n",
              "  'Negaitive'),\n",
              " ('适合朋友小聚，环境清雅。味道也还好',\n",
              "  array([-2.8808735e-04, -8.1525621e+00], dtype=float32),\n",
              "  'Negaitive'),\n",
              " ('吃水煮肉除了肉就是豆芽还少分量我也是醉了能不能在坑点',\n",
              "  array([-0.00843474, -4.77961   ], dtype=float32),\n",
              "  'Negaitive'),\n",
              " ('味道不错环境也可以团了两桌菜品分量十足',\n",
              "  array([-3.7817957e-04, -7.8803921e+00], dtype=float32),\n",
              "  'Negaitive'),\n",
              " ('很不错  好吃 味道好 分量很足  服务也不错',\n",
              "  array([-3.4278716e-04, -7.9786263e+00], dtype=float32),\n",
              "  'Negaitive'),\n",
              " ('这次分量不如之前',\n",
              "  array([-5.4535299e-04, -7.5143967e+00], dtype=float32),\n",
              "  'Negaitive'),\n",
              " ('老板人特别好，环境很棒，很有风格！下次会再来的',\n",
              "  array([-2.765273e-04, -8.193365e+00], dtype=float32),\n",
              "  'Negaitive'),\n",
              " ('直接给卖家换了商品',\n",
              "  array([-1.4341318e-03, -6.5478859e+00], dtype=float32),\n",
              "  'Negaitive'),\n",
              " ('美女老板 服务热情  蛋糕味道不错  就是太大了吃不完',\n",
              "  array([-2.5567124e-04, -8.2718277e+00], dtype=float32),\n",
              "  'Negaitive'),\n",
              " ('味道很好，去了很多次了，就是位置不是很好，。',\n",
              "  array([-3.302744e-04, -8.015849e+00], dtype=float32),\n",
              "  'Negaitive'),\n",
              " ('价格公道，便宜，吃腻了沁园这些了！！！！！',\n",
              "  array([-2.2277735e-04, -8.4092150e+00], dtype=float32),\n",
              "  'Negaitive'),\n",
              " ('送朋友的，做得很漂亮，很喜欢，最重要的是味道特别好，奶油很细',\n",
              "  array([-2.2992828e-04, -8.3776789e+00], dtype=float32),\n",
              "  'Negaitive'),\n",
              " ('口味很棒，服务态度很不错，很干净',\n",
              "  array([-2.4196558e-04, -8.3265991e+00], dtype=float32),\n",
              "  'Negaitive'),\n",
              " ('味道特别好，喜欢麻和辣 #钵钵鸡# #热# #好吃#',\n",
              "  array([-3.8616353e-04, -7.8594284e+00], dtype=float32),\n",
              "  'Negaitive'),\n",
              " ('位置很好找，就在家门口的滋味街。环境干净典雅，菜品新鲜，服务热情红油锅底免费，火锅底料是特制的，有logo，吃过不上火。菜量丰盛，每盘量都很足，餐位费5元，包括油碟和水果，新鲜好吃。代金券不分日期和时间随时使用，但小吃和酒水不包括在内。',\n",
              "  array([-3.196682e-04, -8.048547e+00], dtype=float32),\n",
              "  'Negaitive'),\n",
              " ('预定单 这么早送来',\n",
              "  array([-7.6681771e-04, -7.1736484e+00], dtype=float32),\n",
              "  'Negaitive'),\n",
              " ('味道很好，物廉价美，必须去吃，吃了还想吃，新鲜',\n",
              "  array([-2.1801003e-04, -8.4308081e+00], dtype=float32),\n",
              "  'Negaitive'),\n",
              " ('味道不错，地方也好找，平时人很多',\n",
              "  array([-3.1799983e-04, -8.0537701e+00], dtype=float32),\n",
              "  'Negaitive'),\n",
              " ('饭里面还有米虫，有虫就算了嘛，能不能把虫选干净，眼不见心不烦！确实是羊肉汤已经和我在别家吃的不一样！',\n",
              "  array([-6.3223066e+00, -1.7973712e-03], dtype=float32),\n",
              "  'Positive'),\n",
              " ('装修得很好。看起很有档次。我点了一个药膳鹅掌。味道很好。美味下次还去。老板非常热情送了饮料和水果。多实惠的',\n",
              "  array([-2.9583368e-04, -8.1257010e+00], dtype=float32),\n",
              "  'Negaitive'),\n",
              " ('环境非常不错，位置也比较好找，味道也挺不错的，朋友都吃得挺开心的。',\n",
              "  array([-2.473287e-04, -8.304910e+00], dtype=float32),\n",
              "  'Negaitive'),\n",
              " ('我只能给菜品差评了，没办法，我点的藕片去哪里了？雪花肉去哪里了？肥肠还有个味道，菜品也不新鲜，什么鬼？都没怎么吃，扔掉了，我只能说没有下次了……',\n",
              "  array([-4.3208723 , -0.01337732], dtype=float32),\n",
              "  'Positive'),\n",
              " ('来了几次了，有点餐也有团购，服务态度一如既往的好啊',\n",
              "  array([-2.1801003e-04, -8.4312353e+00], dtype=float32),\n",
              "  'Negaitive'),\n",
              " ('牛排很好，姐姐们服务也很好，不过那天人很多我等了好久的，不过还是很好的',\n",
              "  array([-2.237308e-04, -8.404995e+00], dtype=float32),\n",
              "  'Negaitive'),\n",
              " ('回头客，一直都喜欢这个，好吃，赞赞赞',\n",
              "  array([-3.4397884e-04, -7.9751163e+00], dtype=float32),\n",
              "  'Negaitive'),\n",
              " ('水果过期了，吃了拉肚子',\n",
              "  array([-6.0075521e+00, -2.4631657e-03], dtype=float32),\n",
              "  'Positive'),\n",
              " ('性价比很高，值得推荐',\n",
              "  array([-4.0892346e-04, -7.8022718e+00], dtype=float32),\n",
              "  'Negaitive'),\n",
              " ('点个外卖筷子都没有。真心难受',\n",
              "  array([-3.643564e-04, -7.917506e+00], dtype=float32),\n",
              "  'Negaitive'),\n",
              " ('云南的口感，没有放醋，秘制的酸菜味，不错！',\n",
              "  array([-3.4135714e-04, -7.9828725e+00], dtype=float32),\n",
              "  'Negaitive'),\n",
              " ('服务很好     味道也不错   我外省的   吃不了太多辣子   不过吃起来确实爽',\n",
              "  array([-2.519767e-04, -8.286169e+00], dtype=float32),\n",
              "  'Negaitive'),\n",
              " ('老板帅，口味好，撑死了～～～我去的时候是下午，然后老板还挺忙的，嗯可能，重，重庆得，火锅都是晚上比较火热吧',\n",
              "  array([-2.7009178e-04, -8.2170706e+00], dtype=float32),\n",
              "  'Negaitive'),\n",
              " ('#炸鸡翅#好吃，实惠。店里面要10块，这里只需要4.9',\n",
              "  array([-3.7686876e-04, -7.8837337e+00], dtype=float32),\n",
              "  'Negaitive'),\n",
              " ('味道完全没有香辣味，全是酱油味，而且蟹很不新鲜，一股腥味。吃过最难吃的蟹',\n",
              "  array([-3.2994878 , -0.03760018], dtype=float32),\n",
              "  'Positive'),\n",
              " ('我觉得这份单里面，最好吃的东西，是饭上面的榨菜。',\n",
              "  array([-4.8137043e-04, -7.6391802e+00], dtype=float32),\n",
              "  'Negaitive'),\n",
              " ('良心商家，点赞',\n",
              "  array([-2.479246e-04, -8.302511e+00], dtype=float32),\n",
              "  'Negaitive'),\n",
              " ('真难吃，真肥，恶心死我了', array([-0.0092765, -4.684907 ], dtype=float32), 'Negaitive'),\n",
              " ('环境可以，4个人够吃，菜品新鲜，上菜速度快，味道不错',\n",
              "  array([-2.7092602e-04, -8.2136383e+00], dtype=float32),\n",
              "  'Negaitive'),\n",
              " ('很好吃的披萨，价格合适味道好，孩子很喜欢。就是他又把青椒挑出来，挑食没办法啊。',\n",
              "  array([-2.786725e-04, -8.185479e+00], dtype=float32),\n",
              "  'Negaitive'),\n",
              " ('整体很不错，比较新鲜',\n",
              "  array([-3.9581570e-04, -7.8347235e+00], dtype=float32),\n",
              "  'Negaitive'),\n",
              " ('不错不错，还是一如既往下次在带朋友去吃，性价比还可以',\n",
              "  array([-3.1025364e-04, -8.0782995e+00], dtype=float32),\n",
              "  'Negaitive'),\n",
              " ('很好吃，每次都要跑这么远的地方来吃羊肉粉，我也是醉了，怎么就那么喜欢',\n",
              "  array([-4.0487197e-04, -7.8122888e+00], dtype=float32),\n",
              "  'Negaitive'),\n",
              " ('菜品新鲜，服务不错，价格实惠，环境好，值得推荐。',\n",
              "  array([-1.8702188e-04, -8.5846500e+00], dtype=float32),\n",
              "  'Negaitive'),\n",
              " ('十三只就这么点，龙虾小的基本没肉，没刷干净，虾线没挑，里面是黑的，有异味，虾头也没剪！从没吃到过这么差的龙虾，这个价格太不值了！！绝不会点第二次',\n",
              "  array([-4.4758434 , -0.01144593], dtype=float32),\n",
              "  'Positive'),\n",
              " ('一如既往的好吃！希望可以再脆一些！',\n",
              "  array([-2.0883286e-04, -8.4739885e+00], dtype=float32),\n",
              "  'Negaitive'),\n",
              " ('态度很好，我们很喜欢来吃',\n",
              "  array([-2.237308e-04, -8.405256e+00], dtype=float32),\n",
              "  'Negaitive'),\n",
              " ('分量明显不足了，粉都快煮化了！！！',\n",
              "  array([-2.9094756e-04, -8.1425934e+00], dtype=float32),\n",
              "  'Negaitive'),\n",
              " ('鱼真的好吃，整体都不错，亲可以试试哦。',\n",
              "  array([-3.4731554e-04, -7.9653301e+00], dtype=float32),\n",
              "  'Negaitive'),\n",
              " ('味道不错哦，服务员和老板也很好，就是菜品有点少，尤其是荤菜。但是菜都还是蛮新鲜。',\n",
              "  array([-2.9333105e-04, -8.1343184e+00], dtype=float32),\n",
              "  'Negaitive'),\n",
              " ('点的猪扒饭、味道很不错哦，价格不贵，性价比高、环境服务态度让人满意！服务员姐姐太热情了！让怪不好意思的！',\n",
              "  array([-2.4399164e-04, -8.3184462e+00], dtype=float32),\n",
              "  'Negaitive'),\n",
              " ('味道挺好的，老板服务也错的下次还会去',\n",
              "  array([-2.4649443e-04, -8.3082457e+00], dtype=float32),\n",
              "  'Negaitive'),\n",
              " ('味道一般，时间太长',\n",
              "  array([-2.721178e-04, -8.209275e+00], dtype=float32),\n",
              "  'Negaitive'),\n",
              " ('第一映像就是装修特别吸引我，很大气！然后端上来的时候真的惊艳到了，好大一锅，色相味俱全！性价比特别高，一定要吃排骨，感觉一个人可以吃一份！太安逸了',\n",
              "  array([-3.1192205e-04, -8.0727777e+00], dtype=float32),\n",
              "  'Negaitive'),\n",
              " ('我没吃过这么难吃的饺子 肉不晓得是什么过期肉 饺子不知道包了好久 一股馊味 建议大家谨慎点餐 还不如速冻饺子干净卫生',\n",
              "  array([-5.7592063e+00, -3.1585826e-03], dtype=float32),\n",
              "  'Positive'),\n",
              " ('点的温柔锅，没敢尝试火爆辣，作为重庆本地人觉得温柔锅也够味。锅底不错，现炸酥肉也好吃，两个人吃了204，感觉吃得很饱！晚上六点过到的，停车停的好远，建议就停在枇杷园上面走路下来！我',\n",
              "  array([-2.418464e-04, -8.327486e+00], dtype=float32),\n",
              "  'Negaitive'),\n",
              " ...]"
            ]
          },
          "metadata": {
            "tags": []
          },
          "execution_count": 17
        }
      ]
    },
    {
      "cell_type": "code",
      "metadata": {
        "id": "-Mn6l5uKgch-",
        "colab_type": "code",
        "colab": {}
      },
      "source": [
        "target['label'] = None\n",
        "for row in range(len(predictions)):\n",
        "    if predictions[row][2] == 'Positive':\n",
        "        target.loc[row, 'label'] = 1\n",
        "    else:\n",
        "        target.loc[row, 'label'] = 0    "
      ],
      "execution_count": 0,
      "outputs": []
    },
    {
      "cell_type": "code",
      "metadata": {
        "id": "qE3zgxJ-iBt2",
        "colab_type": "code",
        "outputId": "60e9cc40-a7ca-458f-82fd-b1c0c1989565",
        "colab": {
          "base_uri": "https://localhost:8080/",
          "height": 204
        }
      },
      "source": [
        "target.head()"
      ],
      "execution_count": 19,
      "outputs": [
        {
          "output_type": "execute_result",
          "data": {
            "text/html": [
              "<div>\n",
              "<style scoped>\n",
              "    .dataframe tbody tr th:only-of-type {\n",
              "        vertical-align: middle;\n",
              "    }\n",
              "\n",
              "    .dataframe tbody tr th {\n",
              "        vertical-align: top;\n",
              "    }\n",
              "\n",
              "    .dataframe thead th {\n",
              "        text-align: right;\n",
              "    }\n",
              "</style>\n",
              "<table border=\"1\" class=\"dataframe\">\n",
              "  <thead>\n",
              "    <tr style=\"text-align: right;\">\n",
              "      <th></th>\n",
              "      <th>id</th>\n",
              "      <th>comment</th>\n",
              "      <th>label</th>\n",
              "    </tr>\n",
              "  </thead>\n",
              "  <tbody>\n",
              "    <tr>\n",
              "      <th>0</th>\n",
              "      <td>0011f384-9e54-4fb4-a272-330a6cab6804</td>\n",
              "      <td>糯米团是我小时候的记忆了，吃起还是好吃，只是小时候的油条没有这么硬！油茶也还好！可以试试</td>\n",
              "      <td>0</td>\n",
              "    </tr>\n",
              "    <tr>\n",
              "      <th>1</th>\n",
              "      <td>00223e4f-47e1-4fc8-9657-06444a7de9a5</td>\n",
              "      <td>满满的五星好评，口味好，服务好，特别喜欢，昨天第一次买，今天就回购了，买的刨奶，店长问我加腰...</td>\n",
              "      <td>0</td>\n",
              "    </tr>\n",
              "    <tr>\n",
              "      <th>2</th>\n",
              "      <td>00225350-c169-435c-84cf-970068df5b12</td>\n",
              "      <td>好喝！经常会再去买来喝！就是排队的人太多了</td>\n",
              "      <td>0</td>\n",
              "    </tr>\n",
              "    <tr>\n",
              "      <th>3</th>\n",
              "      <td>00a3190c-90c1-44c3-b809-7a9b1314cd27</td>\n",
              "      <td>三个人订的四人餐，菜量大没吃完，问道不错。</td>\n",
              "      <td>0</td>\n",
              "    </tr>\n",
              "    <tr>\n",
              "      <th>4</th>\n",
              "      <td>00b3f76e-fda3-42cd-8884-25e03a5dba64</td>\n",
              "      <td>好的一如既往，真真爱上了自助炒饭自助八宝粥自助冰粉！！！喜欢所有菜和肉，两女一男吃两份两人餐...</td>\n",
              "      <td>0</td>\n",
              "    </tr>\n",
              "  </tbody>\n",
              "</table>\n",
              "</div>"
            ],
            "text/plain": [
              "                                     id  ... label\n",
              "0  0011f384-9e54-4fb4-a272-330a6cab6804  ...     0\n",
              "1  00223e4f-47e1-4fc8-9657-06444a7de9a5  ...     0\n",
              "2  00225350-c169-435c-84cf-970068df5b12  ...     0\n",
              "3  00a3190c-90c1-44c3-b809-7a9b1314cd27  ...     0\n",
              "4  00b3f76e-fda3-42cd-8884-25e03a5dba64  ...     0\n",
              "\n",
              "[5 rows x 3 columns]"
            ]
          },
          "metadata": {
            "tags": []
          },
          "execution_count": 19
        }
      ]
    },
    {
      "cell_type": "code",
      "metadata": {
        "id": "_3BolWIoiECk",
        "colab_type": "code",
        "colab": {}
      },
      "source": [
        "target_o = target[['id', 'label']]\n",
        "target_o.to_csv('output_BERT.csv', index=False)"
      ],
      "execution_count": 0,
      "outputs": []
    },
    {
      "cell_type": "code",
      "metadata": {
        "id": "jOjHq1j_jI6P",
        "colab_type": "code",
        "colab": {}
      },
      "source": [
        ""
      ],
      "execution_count": 0,
      "outputs": []
    }
  ]
}