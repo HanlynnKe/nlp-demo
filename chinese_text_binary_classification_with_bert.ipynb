{
  "nbformat": 4,
  "nbformat_minor": 0,
  "metadata": {
    "colab": {
      "name": "chinese-text-binary-classification-with-bert.ipynb",
      "provenance": [],
      "collapsed_sections": [],
      "include_colab_link": true
    },
    "kernelspec": {
      "name": "python3",
      "display_name": "Python 3"
    },
    "accelerator": "GPU"
  },
  "cells": [
    {
      "cell_type": "markdown",
      "metadata": {
        "id": "view-in-github",
        "colab_type": "text"
      },
      "source": [
        "<a href=\"https://colab.research.google.com/github/HanlynnKe/nlp-demo/blob/master/chinese_text_binary_classification_with_bert.ipynb\" target=\"_parent\"><img src=\"https://colab.research.google.com/assets/colab-badge.svg\" alt=\"Open In Colab\"/></a>"
      ]
    },
    {
      "cell_type": "markdown",
      "metadata": {
        "id": "GBbAMqZ6IZuw",
        "colab_type": "text"
      },
      "source": [
        "Base code borrowed from [this Google Colab Notebook](https://colab.research.google.com/github/google-research/bert/blob/master/predicting_movie_reviews_with_bert_on_tf_hub.ipynb).\n",
        "\n",
        "Refactored by [Hanlynn Ke](https://github.com/HanlynnKe)\n",
        "\n",
        "Credit to [Shuyi Wang](https://www.linkedin.com/in/shuyi-wang-b3955026/)\n",
        "\n",
        "Please refer to [this GitHub repository](https://github.com/wshuyi/demo-chinese-text-binary-classification-with-bert) for the tutorial on how to do binary classification on Chinese text data.\n",
        "\n"
      ]
    },
    {
      "cell_type": "code",
      "metadata": {
        "id": "jviywGyWyKsA",
        "colab_type": "code",
        "trusted": true,
        "outputId": "628eea79-bf8b-4126-bd44-7a15bf9c7feb",
        "colab": {
          "base_uri": "https://localhost:8080/",
          "height": 51
        }
      },
      "source": [
        "!pip install bert-tensorflow"
      ],
      "execution_count": 0,
      "outputs": [
        {
          "output_type": "stream",
          "text": [
            "Requirement already satisfied: bert-tensorflow in /usr/local/lib/python3.6/dist-packages (1.0.1)\n",
            "Requirement already satisfied: six in /usr/local/lib/python3.6/dist-packages (from bert-tensorflow) (1.12.0)\n"
          ],
          "name": "stdout"
        }
      ]
    },
    {
      "cell_type": "code",
      "metadata": {
        "id": "hsZvic2YxnTz",
        "colab_type": "code",
        "trusted": true,
        "outputId": "8f2cb4fd-6748-4200-f3de-2f0b79a41dd2",
        "colab": {
          "base_uri": "https://localhost:8080/",
          "height": 71
        }
      },
      "source": [
        "import pandas as pd\n",
        "import tensorflow as tf\n",
        "import tensorflow_hub as hub\n",
        "import pickle\n",
        "import bert\n",
        "from bert import run_classifier\n",
        "from bert import optimization\n",
        "from bert import tokenization"
      ],
      "execution_count": 0,
      "outputs": [
        {
          "output_type": "stream",
          "text": [
            "WARNING:tensorflow:From /usr/local/lib/python3.6/dist-packages/bert/optimization.py:87: The name tf.train.Optimizer is deprecated. Please use tf.compat.v1.train.Optimizer instead.\n",
            "\n"
          ],
          "name": "stdout"
        }
      ]
    },
    {
      "cell_type": "code",
      "metadata": {
        "colab_type": "code",
        "id": "NZM71PjIOF_I",
        "colab": {}
      },
      "source": [
        "def pretty_print(result):\n",
        "    df = pd.DataFrame([result]).T\n",
        "    df.columns = [\"values\"]\n",
        "    return df"
      ],
      "execution_count": 0,
      "outputs": []
    },
    {
      "cell_type": "code",
      "metadata": {
        "trusted": true,
        "id": "ZCYOL8HbIZu2",
        "colab_type": "code",
        "colab": {}
      },
      "source": [
        "def create_tokenizer_from_hub_module(bert_model_hub):\n",
        "  \"\"\"Get the vocab file and casing info from the Hub module.\"\"\"\n",
        "  with tf.Graph().as_default():\n",
        "    bert_module = hub.Module(bert_model_hub)\n",
        "    tokenization_info = bert_module(signature=\"tokenization_info\", as_dict=True)\n",
        "    with tf.Session() as sess:\n",
        "      vocab_file, do_lower_case = sess.run([tokenization_info[\"vocab_file\"],\n",
        "                                            tokenization_info[\"do_lower_case\"]])\n",
        "      \n",
        "  return bert.tokenization.FullTokenizer(\n",
        "      vocab_file=vocab_file, do_lower_case=do_lower_case)\n",
        "\n",
        "def make_features(dataset, label_list, MAX_SEQ_LENGTH, tokenizer, DATA_COLUMN, LABEL_COLUMN):\n",
        "    input_example = dataset.apply(lambda x: bert.run_classifier.InputExample(guid=None, \n",
        "                                                                   text_a = x[DATA_COLUMN], \n",
        "                                                                   text_b = None, \n",
        "                                                                   label = x[LABEL_COLUMN]), axis = 1)\n",
        "    features = bert.run_classifier.convert_examples_to_features(input_example, label_list, MAX_SEQ_LENGTH, tokenizer)\n",
        "    return features\n",
        "\n",
        "def create_model(bert_model_hub, is_predicting, input_ids, input_mask, segment_ids, labels,\n",
        "                 num_labels):\n",
        "  \"\"\"Creates a classification model.\"\"\"\n",
        "\n",
        "  bert_module = hub.Module(\n",
        "      bert_model_hub,\n",
        "      trainable=True)\n",
        "  bert_inputs = dict(\n",
        "      input_ids=input_ids,\n",
        "      input_mask=input_mask,\n",
        "      segment_ids=segment_ids)\n",
        "  bert_outputs = bert_module(\n",
        "      inputs=bert_inputs,\n",
        "      signature=\"tokens\",\n",
        "      as_dict=True)\n",
        "\n",
        "  # Use \"pooled_output\" for classification tasks on an entire sentence.\n",
        "  # Use \"sequence_outputs\" for token-level output.\n",
        "  output_layer = bert_outputs[\"pooled_output\"]\n",
        "\n",
        "  hidden_size = output_layer.shape[-1].value\n",
        "\n",
        "  # Create our own layer to tune for politeness data.\n",
        "  output_weights = tf.get_variable(\n",
        "      \"output_weights\", [num_labels, hidden_size],\n",
        "      initializer=tf.truncated_normal_initializer(stddev=0.02))\n",
        "\n",
        "  output_bias = tf.get_variable(\n",
        "      \"output_bias\", [num_labels], initializer=tf.zeros_initializer())\n",
        "\n",
        "  with tf.variable_scope(\"loss\"):\n",
        "\n",
        "    # Dropout helps prevent overfitting\n",
        "    output_layer = tf.nn.dropout(output_layer, keep_prob=0.9)\n",
        "\n",
        "    logits = tf.matmul(output_layer, output_weights, transpose_b=True)\n",
        "    logits = tf.nn.bias_add(logits, output_bias)\n",
        "    log_probs = tf.nn.log_softmax(logits, axis=-1)\n",
        "\n",
        "    # Convert labels into one-hot encoding\n",
        "    one_hot_labels = tf.one_hot(labels, depth=num_labels, dtype=tf.float32)\n",
        "\n",
        "    predicted_labels = tf.squeeze(tf.argmax(log_probs, axis=-1, output_type=tf.int32))\n",
        "    # If we're predicting, we want predicted labels and the probabiltiies.\n",
        "    if is_predicting:\n",
        "      return (predicted_labels, log_probs)\n",
        "\n",
        "    # If we're train/eval, compute loss between predicted and actual label\n",
        "    per_example_loss = -tf.reduce_sum(one_hot_labels * log_probs, axis=-1)\n",
        "    loss = tf.reduce_mean(per_example_loss)\n",
        "    return (loss, predicted_labels, log_probs)\n",
        "\n",
        "# model_fn_builder actually creates our model function\n",
        "# using the passed parameters for num_labels, learning_rate, etc.\n",
        "def model_fn_builder(bert_model_hub, num_labels, learning_rate, num_train_steps,\n",
        "                     num_warmup_steps):\n",
        "  \"\"\"Returns `model_fn` closure for TPUEstimator.\"\"\"\n",
        "  def model_fn(features, labels, mode, params):  # pylint: disable=unused-argument\n",
        "    \"\"\"The `model_fn` for TPUEstimator.\"\"\"\n",
        "\n",
        "    input_ids = features[\"input_ids\"]\n",
        "    input_mask = features[\"input_mask\"]\n",
        "    segment_ids = features[\"segment_ids\"]\n",
        "    label_ids = features[\"label_ids\"]\n",
        "\n",
        "    is_predicting = (mode == tf.estimator.ModeKeys.PREDICT)\n",
        "    \n",
        "    # TRAIN and EVAL\n",
        "    if not is_predicting:\n",
        "\n",
        "      (loss, predicted_labels, log_probs) = create_model(\n",
        "        bert_model_hub, is_predicting, input_ids, input_mask, segment_ids, label_ids, num_labels)\n",
        "\n",
        "      train_op = bert.optimization.create_optimizer(\n",
        "          loss, learning_rate, num_train_steps, num_warmup_steps, use_tpu=False)\n",
        "\n",
        "      # Calculate evaluation metrics. \n",
        "      def metric_fn(label_ids, predicted_labels):\n",
        "        accuracy = tf.metrics.accuracy(label_ids, predicted_labels)\n",
        "        f1_score = tf.contrib.metrics.f1_score(\n",
        "            label_ids,\n",
        "            predicted_labels)\n",
        "        auc = tf.metrics.auc(\n",
        "            label_ids,\n",
        "            predicted_labels)\n",
        "        recall = tf.metrics.recall(\n",
        "            label_ids,\n",
        "            predicted_labels)\n",
        "        precision = tf.metrics.precision(\n",
        "            label_ids,\n",
        "            predicted_labels) \n",
        "        true_pos = tf.metrics.true_positives(\n",
        "            label_ids,\n",
        "            predicted_labels)\n",
        "        true_neg = tf.metrics.true_negatives(\n",
        "            label_ids,\n",
        "            predicted_labels)   \n",
        "        false_pos = tf.metrics.false_positives(\n",
        "            label_ids,\n",
        "            predicted_labels)  \n",
        "        false_neg = tf.metrics.false_negatives(\n",
        "            label_ids,\n",
        "            predicted_labels)\n",
        "        return {\n",
        "            \"eval_accuracy\": accuracy,\n",
        "            \"f1_score\": f1_score,\n",
        "            \"auc\": auc,\n",
        "            \"precision\": precision,\n",
        "            \"recall\": recall,\n",
        "            \"true_positives\": true_pos,\n",
        "            \"true_negatives\": true_neg,\n",
        "            \"false_positives\": false_pos,\n",
        "            \"false_negatives\": false_neg\n",
        "        }\n",
        "\n",
        "      eval_metrics = metric_fn(label_ids, predicted_labels)\n",
        "\n",
        "      if mode == tf.estimator.ModeKeys.TRAIN:\n",
        "        return tf.estimator.EstimatorSpec(mode=mode,\n",
        "          loss=loss,\n",
        "          train_op=train_op)\n",
        "      else:\n",
        "          return tf.estimator.EstimatorSpec(mode=mode,\n",
        "            loss=loss,\n",
        "            eval_metric_ops=eval_metrics)\n",
        "    else:\n",
        "      (predicted_labels, log_probs) = create_model(\n",
        "        bert_model_hub, is_predicting, input_ids, input_mask, segment_ids, label_ids, num_labels)\n",
        "\n",
        "      predictions = {\n",
        "          'probabilities': log_probs,\n",
        "          'labels': predicted_labels\n",
        "      }\n",
        "      return tf.estimator.EstimatorSpec(mode, predictions=predictions)\n",
        "\n",
        "  # Return the actual model function in the closure\n",
        "  return model_fn\n",
        "\n",
        "def estimator_builder(bert_model_hub, OUTPUT_DIR, SAVE_SUMMARY_STEPS, SAVE_CHECKPOINTS_STEPS, label_list, LEARNING_RATE, num_train_steps, num_warmup_steps, BATCH_SIZE):\n",
        "\n",
        "    # Specify outpit directory and number of checkpoint steps to save\n",
        "    run_config = tf.estimator.RunConfig(\n",
        "        model_dir=OUTPUT_DIR,\n",
        "        save_summary_steps=SAVE_SUMMARY_STEPS,\n",
        "        save_checkpoints_steps=SAVE_CHECKPOINTS_STEPS)\n",
        "\n",
        "    model_fn = model_fn_builder(\n",
        "      bert_model_hub = bert_model_hub,\n",
        "      num_labels=len(label_list),\n",
        "      learning_rate=LEARNING_RATE,\n",
        "      num_train_steps=num_train_steps,\n",
        "      num_warmup_steps=num_warmup_steps)\n",
        "\n",
        "    estimator = tf.estimator.Estimator(\n",
        "      model_fn=model_fn,\n",
        "      config=run_config,\n",
        "      params={\"batch_size\": BATCH_SIZE})\n",
        "    return estimator, model_fn, run_config\n"
      ],
      "execution_count": 0,
      "outputs": []
    },
    {
      "cell_type": "code",
      "metadata": {
        "id": "IuMOGwFui4it",
        "colab_type": "code",
        "trusted": true,
        "colab": {}
      },
      "source": [
        "def run_on_dfs(train, test, DATA_COLUMN, LABEL_COLUMN, \n",
        "               MAX_SEQ_LENGTH = 128,\n",
        "              BATCH_SIZE = 32,\n",
        "              LEARNING_RATE = 2e-5,\n",
        "              NUM_TRAIN_EPOCHS = 3.0,\n",
        "              WARMUP_PROPORTION = 0.1,\n",
        "              SAVE_SUMMARY_STEPS = 100,\n",
        "               SAVE_CHECKPOINTS_STEPS = 10000,\n",
        "              bert_model_hub = \"https://tfhub.dev/google/bert_uncased_L-12_H-768_A-12/1\"):\n",
        "\n",
        "    label_list = train[LABEL_COLUMN].unique().tolist()\n",
        "    \n",
        "    tokenizer = create_tokenizer_from_hub_module(bert_model_hub)\n",
        "\n",
        "    train_features = make_features(train, label_list, MAX_SEQ_LENGTH, tokenizer, DATA_COLUMN, LABEL_COLUMN)\n",
        "    test_features = make_features(test, label_list, MAX_SEQ_LENGTH, tokenizer, DATA_COLUMN, LABEL_COLUMN)\n",
        "\n",
        "    num_train_steps = int(len(train_features) / BATCH_SIZE * NUM_TRAIN_EPOCHS)\n",
        "    num_warmup_steps = int(num_train_steps * WARMUP_PROPORTION)\n",
        "\n",
        "    estimator, model_fn, run_config = estimator_builder(\n",
        "                                  bert_model_hub, \n",
        "                                  OUTPUT_DIR, \n",
        "                                  SAVE_SUMMARY_STEPS, \n",
        "                                  SAVE_CHECKPOINTS_STEPS, \n",
        "                                  label_list, \n",
        "                                  LEARNING_RATE, \n",
        "                                  num_train_steps, \n",
        "                                  num_warmup_steps, \n",
        "                                  BATCH_SIZE)\n",
        "\n",
        "    train_input_fn = bert.run_classifier.input_fn_builder(\n",
        "        features=train_features,\n",
        "        seq_length=MAX_SEQ_LENGTH,\n",
        "        is_training=True,\n",
        "        drop_remainder=False)\n",
        "\n",
        "    estimator.train(input_fn=train_input_fn, max_steps=num_train_steps)\n",
        "\n",
        "    test_input_fn = run_classifier.input_fn_builder(\n",
        "        features=test_features,\n",
        "        seq_length=MAX_SEQ_LENGTH,\n",
        "        is_training=False,\n",
        "        drop_remainder=False)\n",
        "\n",
        "    result_dict = estimator.evaluate(input_fn=test_input_fn, steps=None)\n",
        "    return result_dict, estimator\n",
        "    "
      ],
      "execution_count": 0,
      "outputs": []
    },
    {
      "cell_type": "code",
      "metadata": {
        "trusted": true,
        "id": "wpUHTA8LIZu_",
        "colab_type": "code",
        "colab": {}
      },
      "source": [
        "import random\n",
        "random.seed(10)"
      ],
      "execution_count": 0,
      "outputs": []
    },
    {
      "cell_type": "code",
      "metadata": {
        "trusted": true,
        "id": "qmP8MBvjIZvB",
        "colab_type": "code",
        "colab": {}
      },
      "source": [
        "OUTPUT_DIR = 'output'"
      ],
      "execution_count": 0,
      "outputs": []
    },
    {
      "cell_type": "markdown",
      "metadata": {
        "id": "UV3ExI2JJMhd",
        "colab_type": "text"
      },
      "source": [
        "----- you just need to focus from here ------"
      ]
    },
    {
      "cell_type": "markdown",
      "metadata": {
        "id": "XSUjVoFtJVEO",
        "colab_type": "text"
      },
      "source": [
        "## Get your data"
      ]
    },
    {
      "cell_type": "code",
      "metadata": {
        "id": "pe6HHONmOwEs",
        "colab_type": "code",
        "outputId": "8a29f12f-a43d-40a6-f2db-26a153e5af8a",
        "colab": {
          "base_uri": "https://localhost:8080/",
          "height": 309
        }
      },
      "source": [
        "!wget https://github.com/wshuyi/demo-chinese-text-binary-classification-with-bert/raw/master/dianping_train_test.pickle"
      ],
      "execution_count": 0,
      "outputs": [
        {
          "output_type": "stream",
          "text": [
            "--2019-10-21 16:52:15--  https://github.com/wshuyi/demo-chinese-text-binary-classification-with-bert/raw/master/dianping_train_test.pickle\n",
            "Resolving github.com (github.com)... 140.82.118.3\n",
            "Connecting to github.com (github.com)|140.82.118.3|:443... connected.\n",
            "HTTP request sent, awaiting response... 302 Found\n",
            "Location: https://raw.githubusercontent.com/wshuyi/demo-chinese-text-binary-classification-with-bert/master/dianping_train_test.pickle [following]\n",
            "--2019-10-21 16:52:15--  https://raw.githubusercontent.com/wshuyi/demo-chinese-text-binary-classification-with-bert/master/dianping_train_test.pickle\n",
            "Resolving raw.githubusercontent.com (raw.githubusercontent.com)... 151.101.0.133, 151.101.64.133, 151.101.128.133, ...\n",
            "Connecting to raw.githubusercontent.com (raw.githubusercontent.com)|151.101.0.133|:443... connected.\n",
            "HTTP request sent, awaiting response... 200 OK\n",
            "Length: 561978 (549K) [application/octet-stream]\n",
            "Saving to: ‘dianping_train_test.pickle’\n",
            "\n",
            "\r          dianping_   0%[                    ]       0  --.-KB/s               \rdianping_train_test 100%[===================>] 548.81K  --.-KB/s    in 0.03s   \n",
            "\n",
            "2019-10-21 16:52:15 (19.4 MB/s) - ‘dianping_train_test.pickle’ saved [561978/561978]\n",
            "\n"
          ],
          "name": "stdout"
        }
      ]
    },
    {
      "cell_type": "code",
      "metadata": {
        "trusted": true,
        "id": "XFBwDlmnIZvD",
        "colab_type": "code",
        "colab": {}
      },
      "source": [
        "with open(\"safety_train_valid.pickle\", 'rb') as f:\n",
        "    train, test = pickle.load(f)"
      ],
      "execution_count": 0,
      "outputs": []
    },
    {
      "cell_type": "code",
      "metadata": {
        "trusted": true,
        "id": "Tju0c4dqIZvK",
        "colab_type": "code",
        "colab": {}
      },
      "source": [
        "train = train.sample(len(train))"
      ],
      "execution_count": 0,
      "outputs": []
    },
    {
      "cell_type": "code",
      "metadata": {
        "id": "p9BAxyKhKirc",
        "colab_type": "code",
        "outputId": "01c7d6e7-6af2-4815-e075-ebf74a32b399",
        "colab": {
          "base_uri": "https://localhost:8080/",
          "height": 204
        }
      },
      "source": [
        "train.head()"
      ],
      "execution_count": 0,
      "outputs": [
        {
          "output_type": "execute_result",
          "data": {
            "text/html": [
              "<div>\n",
              "<style scoped>\n",
              "    .dataframe tbody tr th:only-of-type {\n",
              "        vertical-align: middle;\n",
              "    }\n",
              "\n",
              "    .dataframe tbody tr th {\n",
              "        vertical-align: top;\n",
              "    }\n",
              "\n",
              "    .dataframe thead th {\n",
              "        text-align: right;\n",
              "    }\n",
              "</style>\n",
              "<table border=\"1\" class=\"dataframe\">\n",
              "  <thead>\n",
              "    <tr style=\"text-align: right;\">\n",
              "      <th></th>\n",
              "      <th>label</th>\n",
              "      <th>comment</th>\n",
              "    </tr>\n",
              "  </thead>\n",
              "  <tbody>\n",
              "    <tr>\n",
              "      <th>5811</th>\n",
              "      <td>1</td>\n",
              "      <td>牛肉咸得没法吃。半夜还胃肚子疼。</td>\n",
              "    </tr>\n",
              "    <tr>\n",
              "      <th>3387</th>\n",
              "      <td>0</td>\n",
              "      <td>菜太少了，并且水果都是坏的</td>\n",
              "    </tr>\n",
              "    <tr>\n",
              "      <th>608</th>\n",
              "      <td>0</td>\n",
              "      <td>菜品还是一如既往的好，与同事工作餐常常来，现在有了团购亲民价，更划算了！特别推荐韭菜煎饼丶蛋...</td>\n",
              "    </tr>\n",
              "    <tr>\n",
              "      <th>6105</th>\n",
              "      <td>0</td>\n",
              "      <td>非常好吃的柴火鸡，味道棒棒的！老板很热情，服务很周到！</td>\n",
              "    </tr>\n",
              "    <tr>\n",
              "      <th>8738</th>\n",
              "      <td>0</td>\n",
              "      <td>偷工减料，死难吃，还这么贵</td>\n",
              "    </tr>\n",
              "  </tbody>\n",
              "</table>\n",
              "</div>"
            ],
            "text/plain": [
              "      label                                            comment\n",
              "5811      1                                   牛肉咸得没法吃。半夜还胃肚子疼。\n",
              "3387      0                                      菜太少了，并且水果都是坏的\n",
              "608       0  菜品还是一如既往的好，与同事工作餐常常来，现在有了团购亲民价，更划算了！特别推荐韭菜煎饼丶蛋...\n",
              "6105      0                        非常好吃的柴火鸡，味道棒棒的！老板很热情，服务很周到！\n",
              "8738      0                                      偷工减料，死难吃，还这么贵"
            ]
          },
          "metadata": {
            "tags": []
          },
          "execution_count": 10
        }
      ]
    },
    {
      "cell_type": "code",
      "metadata": {
        "id": "hM8M7k0gKk5H",
        "colab_type": "code",
        "colab": {}
      },
      "source": [
        "myparam = {\n",
        "        \"DATA_COLUMN\": \"comment\",\n",
        "        \"LABEL_COLUMN\": \"label\",\n",
        "        \"LEARNING_RATE\": 2e-5,\n",
        "        \"NUM_TRAIN_EPOCHS\":3,\n",
        "        \"bert_model_hub\":\"https://tfhub.dev/google/bert_chinese_L-12_H-768_A-12/1\"\n",
        "    }"
      ],
      "execution_count": 0,
      "outputs": []
    },
    {
      "cell_type": "code",
      "metadata": {
        "colab_type": "code",
        "id": "Dg2apeXpMqG-",
        "outputId": "1c1ca97e-6a0c-42a0-e061-555e2fbddfa4",
        "colab": {
          "base_uri": "https://localhost:8080/",
          "height": 1000
        }
      },
      "source": [
        "result, estimator = run_on_dfs(train, test, **myparam)"
      ],
      "execution_count": 0,
      "outputs": [
        {
          "output_type": "stream",
          "text": [
            "INFO:tensorflow:Saver not created because there are no variables in the graph to restore\n"
          ],
          "name": "stdout"
        },
        {
          "output_type": "stream",
          "text": [
            "INFO:tensorflow:Saver not created because there are no variables in the graph to restore\n"
          ],
          "name": "stderr"
        },
        {
          "output_type": "stream",
          "text": [
            "WARNING:tensorflow:From /usr/local/lib/python3.6/dist-packages/bert/tokenization.py:125: The name tf.gfile.GFile is deprecated. Please use tf.io.gfile.GFile instead.\n",
            "\n"
          ],
          "name": "stdout"
        },
        {
          "output_type": "stream",
          "text": [
            "WARNING:tensorflow:From /usr/local/lib/python3.6/dist-packages/bert/tokenization.py:125: The name tf.gfile.GFile is deprecated. Please use tf.io.gfile.GFile instead.\n",
            "\n"
          ],
          "name": "stderr"
        },
        {
          "output_type": "stream",
          "text": [
            "WARNING:tensorflow:From /usr/local/lib/python3.6/dist-packages/bert/run_classifier.py:774: The name tf.logging.info is deprecated. Please use tf.compat.v1.logging.info instead.\n",
            "\n"
          ],
          "name": "stdout"
        },
        {
          "output_type": "stream",
          "text": [
            "WARNING:tensorflow:From /usr/local/lib/python3.6/dist-packages/bert/run_classifier.py:774: The name tf.logging.info is deprecated. Please use tf.compat.v1.logging.info instead.\n",
            "\n"
          ],
          "name": "stderr"
        },
        {
          "output_type": "stream",
          "text": [
            "INFO:tensorflow:Writing example 0 of 8000\n"
          ],
          "name": "stdout"
        },
        {
          "output_type": "stream",
          "text": [
            "INFO:tensorflow:Writing example 0 of 8000\n"
          ],
          "name": "stderr"
        },
        {
          "output_type": "stream",
          "text": [
            "INFO:tensorflow:*** Example ***\n"
          ],
          "name": "stdout"
        },
        {
          "output_type": "stream",
          "text": [
            "INFO:tensorflow:*** Example ***\n"
          ],
          "name": "stderr"
        },
        {
          "output_type": "stream",
          "text": [
            "INFO:tensorflow:guid: None\n"
          ],
          "name": "stdout"
        },
        {
          "output_type": "stream",
          "text": [
            "INFO:tensorflow:guid: None\n"
          ],
          "name": "stderr"
        },
        {
          "output_type": "stream",
          "text": [
            "INFO:tensorflow:tokens: [CLS] 牛 肉 咸 得 没 法 吃 。 半 夜 还 胃 肚 子 疼 。 [SEP]\n"
          ],
          "name": "stdout"
        },
        {
          "output_type": "stream",
          "text": [
            "INFO:tensorflow:tokens: [CLS] 牛 肉 咸 得 没 法 吃 。 半 夜 还 胃 肚 子 疼 。 [SEP]\n"
          ],
          "name": "stderr"
        },
        {
          "output_type": "stream",
          "text": [
            "INFO:tensorflow:input_ids: 101 4281 5489 1496 2533 3766 3791 1391 511 1288 1915 6820 5517 5496 2094 4563 511 102 0 0 0 0 0 0 0 0 0 0 0 0 0 0 0 0 0 0 0 0 0 0 0 0 0 0 0 0 0 0 0 0 0 0 0 0 0 0 0 0 0 0 0 0 0 0 0 0 0 0 0 0 0 0 0 0 0 0 0 0 0 0 0 0 0 0 0 0 0 0 0 0 0 0 0 0 0 0 0 0 0 0 0 0 0 0 0 0 0 0 0 0 0 0 0 0 0 0 0 0 0 0 0 0 0 0 0 0 0 0\n"
          ],
          "name": "stdout"
        },
        {
          "output_type": "stream",
          "text": [
            "INFO:tensorflow:input_ids: 101 4281 5489 1496 2533 3766 3791 1391 511 1288 1915 6820 5517 5496 2094 4563 511 102 0 0 0 0 0 0 0 0 0 0 0 0 0 0 0 0 0 0 0 0 0 0 0 0 0 0 0 0 0 0 0 0 0 0 0 0 0 0 0 0 0 0 0 0 0 0 0 0 0 0 0 0 0 0 0 0 0 0 0 0 0 0 0 0 0 0 0 0 0 0 0 0 0 0 0 0 0 0 0 0 0 0 0 0 0 0 0 0 0 0 0 0 0 0 0 0 0 0 0 0 0 0 0 0 0 0 0 0 0 0\n"
          ],
          "name": "stderr"
        },
        {
          "output_type": "stream",
          "text": [
            "INFO:tensorflow:input_mask: 1 1 1 1 1 1 1 1 1 1 1 1 1 1 1 1 1 1 0 0 0 0 0 0 0 0 0 0 0 0 0 0 0 0 0 0 0 0 0 0 0 0 0 0 0 0 0 0 0 0 0 0 0 0 0 0 0 0 0 0 0 0 0 0 0 0 0 0 0 0 0 0 0 0 0 0 0 0 0 0 0 0 0 0 0 0 0 0 0 0 0 0 0 0 0 0 0 0 0 0 0 0 0 0 0 0 0 0 0 0 0 0 0 0 0 0 0 0 0 0 0 0 0 0 0 0 0 0\n"
          ],
          "name": "stdout"
        },
        {
          "output_type": "stream",
          "text": [
            "INFO:tensorflow:input_mask: 1 1 1 1 1 1 1 1 1 1 1 1 1 1 1 1 1 1 0 0 0 0 0 0 0 0 0 0 0 0 0 0 0 0 0 0 0 0 0 0 0 0 0 0 0 0 0 0 0 0 0 0 0 0 0 0 0 0 0 0 0 0 0 0 0 0 0 0 0 0 0 0 0 0 0 0 0 0 0 0 0 0 0 0 0 0 0 0 0 0 0 0 0 0 0 0 0 0 0 0 0 0 0 0 0 0 0 0 0 0 0 0 0 0 0 0 0 0 0 0 0 0 0 0 0 0 0 0\n"
          ],
          "name": "stderr"
        },
        {
          "output_type": "stream",
          "text": [
            "INFO:tensorflow:segment_ids: 0 0 0 0 0 0 0 0 0 0 0 0 0 0 0 0 0 0 0 0 0 0 0 0 0 0 0 0 0 0 0 0 0 0 0 0 0 0 0 0 0 0 0 0 0 0 0 0 0 0 0 0 0 0 0 0 0 0 0 0 0 0 0 0 0 0 0 0 0 0 0 0 0 0 0 0 0 0 0 0 0 0 0 0 0 0 0 0 0 0 0 0 0 0 0 0 0 0 0 0 0 0 0 0 0 0 0 0 0 0 0 0 0 0 0 0 0 0 0 0 0 0 0 0 0 0 0 0\n"
          ],
          "name": "stdout"
        },
        {
          "output_type": "stream",
          "text": [
            "INFO:tensorflow:segment_ids: 0 0 0 0 0 0 0 0 0 0 0 0 0 0 0 0 0 0 0 0 0 0 0 0 0 0 0 0 0 0 0 0 0 0 0 0 0 0 0 0 0 0 0 0 0 0 0 0 0 0 0 0 0 0 0 0 0 0 0 0 0 0 0 0 0 0 0 0 0 0 0 0 0 0 0 0 0 0 0 0 0 0 0 0 0 0 0 0 0 0 0 0 0 0 0 0 0 0 0 0 0 0 0 0 0 0 0 0 0 0 0 0 0 0 0 0 0 0 0 0 0 0 0 0 0 0 0 0\n"
          ],
          "name": "stderr"
        },
        {
          "output_type": "stream",
          "text": [
            "INFO:tensorflow:label: 1 (id = 0)\n"
          ],
          "name": "stdout"
        },
        {
          "output_type": "stream",
          "text": [
            "INFO:tensorflow:label: 1 (id = 0)\n"
          ],
          "name": "stderr"
        },
        {
          "output_type": "stream",
          "text": [
            "INFO:tensorflow:*** Example ***\n"
          ],
          "name": "stdout"
        },
        {
          "output_type": "stream",
          "text": [
            "INFO:tensorflow:*** Example ***\n"
          ],
          "name": "stderr"
        },
        {
          "output_type": "stream",
          "text": [
            "INFO:tensorflow:guid: None\n"
          ],
          "name": "stdout"
        },
        {
          "output_type": "stream",
          "text": [
            "INFO:tensorflow:guid: None\n"
          ],
          "name": "stderr"
        },
        {
          "output_type": "stream",
          "text": [
            "INFO:tensorflow:tokens: [CLS] 菜 太 少 了 ， 并 且 水 果 都 是 坏 的 [SEP]\n"
          ],
          "name": "stdout"
        },
        {
          "output_type": "stream",
          "text": [
            "INFO:tensorflow:tokens: [CLS] 菜 太 少 了 ， 并 且 水 果 都 是 坏 的 [SEP]\n"
          ],
          "name": "stderr"
        },
        {
          "output_type": "stream",
          "text": [
            "INFO:tensorflow:input_ids: 101 5831 1922 2208 749 8024 2400 684 3717 3362 6963 3221 1776 4638 102 0 0 0 0 0 0 0 0 0 0 0 0 0 0 0 0 0 0 0 0 0 0 0 0 0 0 0 0 0 0 0 0 0 0 0 0 0 0 0 0 0 0 0 0 0 0 0 0 0 0 0 0 0 0 0 0 0 0 0 0 0 0 0 0 0 0 0 0 0 0 0 0 0 0 0 0 0 0 0 0 0 0 0 0 0 0 0 0 0 0 0 0 0 0 0 0 0 0 0 0 0 0 0 0 0 0 0 0 0 0 0 0 0\n"
          ],
          "name": "stdout"
        },
        {
          "output_type": "stream",
          "text": [
            "INFO:tensorflow:input_ids: 101 5831 1922 2208 749 8024 2400 684 3717 3362 6963 3221 1776 4638 102 0 0 0 0 0 0 0 0 0 0 0 0 0 0 0 0 0 0 0 0 0 0 0 0 0 0 0 0 0 0 0 0 0 0 0 0 0 0 0 0 0 0 0 0 0 0 0 0 0 0 0 0 0 0 0 0 0 0 0 0 0 0 0 0 0 0 0 0 0 0 0 0 0 0 0 0 0 0 0 0 0 0 0 0 0 0 0 0 0 0 0 0 0 0 0 0 0 0 0 0 0 0 0 0 0 0 0 0 0 0 0 0 0\n"
          ],
          "name": "stderr"
        },
        {
          "output_type": "stream",
          "text": [
            "INFO:tensorflow:input_mask: 1 1 1 1 1 1 1 1 1 1 1 1 1 1 1 0 0 0 0 0 0 0 0 0 0 0 0 0 0 0 0 0 0 0 0 0 0 0 0 0 0 0 0 0 0 0 0 0 0 0 0 0 0 0 0 0 0 0 0 0 0 0 0 0 0 0 0 0 0 0 0 0 0 0 0 0 0 0 0 0 0 0 0 0 0 0 0 0 0 0 0 0 0 0 0 0 0 0 0 0 0 0 0 0 0 0 0 0 0 0 0 0 0 0 0 0 0 0 0 0 0 0 0 0 0 0 0 0\n"
          ],
          "name": "stdout"
        },
        {
          "output_type": "stream",
          "text": [
            "INFO:tensorflow:input_mask: 1 1 1 1 1 1 1 1 1 1 1 1 1 1 1 0 0 0 0 0 0 0 0 0 0 0 0 0 0 0 0 0 0 0 0 0 0 0 0 0 0 0 0 0 0 0 0 0 0 0 0 0 0 0 0 0 0 0 0 0 0 0 0 0 0 0 0 0 0 0 0 0 0 0 0 0 0 0 0 0 0 0 0 0 0 0 0 0 0 0 0 0 0 0 0 0 0 0 0 0 0 0 0 0 0 0 0 0 0 0 0 0 0 0 0 0 0 0 0 0 0 0 0 0 0 0 0 0\n"
          ],
          "name": "stderr"
        },
        {
          "output_type": "stream",
          "text": [
            "INFO:tensorflow:segment_ids: 0 0 0 0 0 0 0 0 0 0 0 0 0 0 0 0 0 0 0 0 0 0 0 0 0 0 0 0 0 0 0 0 0 0 0 0 0 0 0 0 0 0 0 0 0 0 0 0 0 0 0 0 0 0 0 0 0 0 0 0 0 0 0 0 0 0 0 0 0 0 0 0 0 0 0 0 0 0 0 0 0 0 0 0 0 0 0 0 0 0 0 0 0 0 0 0 0 0 0 0 0 0 0 0 0 0 0 0 0 0 0 0 0 0 0 0 0 0 0 0 0 0 0 0 0 0 0 0\n"
          ],
          "name": "stdout"
        },
        {
          "output_type": "stream",
          "text": [
            "INFO:tensorflow:segment_ids: 0 0 0 0 0 0 0 0 0 0 0 0 0 0 0 0 0 0 0 0 0 0 0 0 0 0 0 0 0 0 0 0 0 0 0 0 0 0 0 0 0 0 0 0 0 0 0 0 0 0 0 0 0 0 0 0 0 0 0 0 0 0 0 0 0 0 0 0 0 0 0 0 0 0 0 0 0 0 0 0 0 0 0 0 0 0 0 0 0 0 0 0 0 0 0 0 0 0 0 0 0 0 0 0 0 0 0 0 0 0 0 0 0 0 0 0 0 0 0 0 0 0 0 0 0 0 0 0\n"
          ],
          "name": "stderr"
        },
        {
          "output_type": "stream",
          "text": [
            "INFO:tensorflow:label: 0 (id = 1)\n"
          ],
          "name": "stdout"
        },
        {
          "output_type": "stream",
          "text": [
            "INFO:tensorflow:label: 0 (id = 1)\n"
          ],
          "name": "stderr"
        },
        {
          "output_type": "stream",
          "text": [
            "INFO:tensorflow:*** Example ***\n"
          ],
          "name": "stdout"
        },
        {
          "output_type": "stream",
          "text": [
            "INFO:tensorflow:*** Example ***\n"
          ],
          "name": "stderr"
        },
        {
          "output_type": "stream",
          "text": [
            "INFO:tensorflow:guid: None\n"
          ],
          "name": "stdout"
        },
        {
          "output_type": "stream",
          "text": [
            "INFO:tensorflow:guid: None\n"
          ],
          "name": "stderr"
        },
        {
          "output_type": "stream",
          "text": [
            "INFO:tensorflow:tokens: [CLS] 菜 品 还 是 一 如 既 往 的 好 ， 与 同 事 工 作 餐 常 常 来 ， 现 在 有 了 团 购 亲 民 价 ， 更 划 算 了 ！ 特 别 推 荐 韭 菜 煎 饼 丶 蛋 煎 糍 粑 丶 酸 菜 面 块 丶 鱼 香 肉 丝 饭 丶 腊 味 什 锦 锅 丶 红 烧 牛 肉 面 丶 玉 米 蹄 花 汤 ， 铁 板 黑 椒 牛 肉 ！ ！ 就 是 限 量 了 的 团 购 ， 一 个 人 只 能 买 两 张 ! 若 是 开 放 任 意 购 就 好 了 ！ [SEP]\n"
          ],
          "name": "stdout"
        },
        {
          "output_type": "stream",
          "text": [
            "INFO:tensorflow:tokens: [CLS] 菜 品 还 是 一 如 既 往 的 好 ， 与 同 事 工 作 餐 常 常 来 ， 现 在 有 了 团 购 亲 民 价 ， 更 划 算 了 ！ 特 别 推 荐 韭 菜 煎 饼 丶 蛋 煎 糍 粑 丶 酸 菜 面 块 丶 鱼 香 肉 丝 饭 丶 腊 味 什 锦 锅 丶 红 烧 牛 肉 面 丶 玉 米 蹄 花 汤 ， 铁 板 黑 椒 牛 肉 ！ ！ 就 是 限 量 了 的 团 购 ， 一 个 人 只 能 买 两 张 ! 若 是 开 放 任 意 购 就 好 了 ！ [SEP]\n"
          ],
          "name": "stderr"
        },
        {
          "output_type": "stream",
          "text": [
            "INFO:tensorflow:input_ids: 101 5831 1501 6820 3221 671 1963 3188 2518 4638 1962 8024 680 1398 752 2339 868 7623 2382 2382 3341 8024 4385 1762 3300 749 1730 6579 779 3696 817 8024 3291 1153 5050 749 8013 4294 1166 2972 5773 7508 5831 4203 7660 708 6028 4203 5129 5107 708 7000 5831 7481 1779 708 7824 7676 5489 692 7649 708 5572 1456 784 7239 7222 708 5273 4173 4281 5489 7481 708 4373 5101 6686 5709 3739 8024 7188 3352 7946 3492 4281 5489 8013 8013 2218 3221 7361 7030 749 4638 1730 6579 8024 671 702 782 1372 5543 743 697 2476 106 5735 3221 2458 3123 818 2692 6579 2218 1962 749 8013 102 0 0 0 0 0 0 0 0 0 0\n"
          ],
          "name": "stdout"
        },
        {
          "output_type": "stream",
          "text": [
            "INFO:tensorflow:input_ids: 101 5831 1501 6820 3221 671 1963 3188 2518 4638 1962 8024 680 1398 752 2339 868 7623 2382 2382 3341 8024 4385 1762 3300 749 1730 6579 779 3696 817 8024 3291 1153 5050 749 8013 4294 1166 2972 5773 7508 5831 4203 7660 708 6028 4203 5129 5107 708 7000 5831 7481 1779 708 7824 7676 5489 692 7649 708 5572 1456 784 7239 7222 708 5273 4173 4281 5489 7481 708 4373 5101 6686 5709 3739 8024 7188 3352 7946 3492 4281 5489 8013 8013 2218 3221 7361 7030 749 4638 1730 6579 8024 671 702 782 1372 5543 743 697 2476 106 5735 3221 2458 3123 818 2692 6579 2218 1962 749 8013 102 0 0 0 0 0 0 0 0 0 0\n"
          ],
          "name": "stderr"
        },
        {
          "output_type": "stream",
          "text": [
            "INFO:tensorflow:input_mask: 1 1 1 1 1 1 1 1 1 1 1 1 1 1 1 1 1 1 1 1 1 1 1 1 1 1 1 1 1 1 1 1 1 1 1 1 1 1 1 1 1 1 1 1 1 1 1 1 1 1 1 1 1 1 1 1 1 1 1 1 1 1 1 1 1 1 1 1 1 1 1 1 1 1 1 1 1 1 1 1 1 1 1 1 1 1 1 1 1 1 1 1 1 1 1 1 1 1 1 1 1 1 1 1 1 1 1 1 1 1 1 1 1 1 1 1 1 1 0 0 0 0 0 0 0 0 0 0\n"
          ],
          "name": "stdout"
        },
        {
          "output_type": "stream",
          "text": [
            "INFO:tensorflow:input_mask: 1 1 1 1 1 1 1 1 1 1 1 1 1 1 1 1 1 1 1 1 1 1 1 1 1 1 1 1 1 1 1 1 1 1 1 1 1 1 1 1 1 1 1 1 1 1 1 1 1 1 1 1 1 1 1 1 1 1 1 1 1 1 1 1 1 1 1 1 1 1 1 1 1 1 1 1 1 1 1 1 1 1 1 1 1 1 1 1 1 1 1 1 1 1 1 1 1 1 1 1 1 1 1 1 1 1 1 1 1 1 1 1 1 1 1 1 1 1 0 0 0 0 0 0 0 0 0 0\n"
          ],
          "name": "stderr"
        },
        {
          "output_type": "stream",
          "text": [
            "INFO:tensorflow:segment_ids: 0 0 0 0 0 0 0 0 0 0 0 0 0 0 0 0 0 0 0 0 0 0 0 0 0 0 0 0 0 0 0 0 0 0 0 0 0 0 0 0 0 0 0 0 0 0 0 0 0 0 0 0 0 0 0 0 0 0 0 0 0 0 0 0 0 0 0 0 0 0 0 0 0 0 0 0 0 0 0 0 0 0 0 0 0 0 0 0 0 0 0 0 0 0 0 0 0 0 0 0 0 0 0 0 0 0 0 0 0 0 0 0 0 0 0 0 0 0 0 0 0 0 0 0 0 0 0 0\n"
          ],
          "name": "stdout"
        },
        {
          "output_type": "stream",
          "text": [
            "INFO:tensorflow:segment_ids: 0 0 0 0 0 0 0 0 0 0 0 0 0 0 0 0 0 0 0 0 0 0 0 0 0 0 0 0 0 0 0 0 0 0 0 0 0 0 0 0 0 0 0 0 0 0 0 0 0 0 0 0 0 0 0 0 0 0 0 0 0 0 0 0 0 0 0 0 0 0 0 0 0 0 0 0 0 0 0 0 0 0 0 0 0 0 0 0 0 0 0 0 0 0 0 0 0 0 0 0 0 0 0 0 0 0 0 0 0 0 0 0 0 0 0 0 0 0 0 0 0 0 0 0 0 0 0 0\n"
          ],
          "name": "stderr"
        },
        {
          "output_type": "stream",
          "text": [
            "INFO:tensorflow:label: 0 (id = 1)\n"
          ],
          "name": "stdout"
        },
        {
          "output_type": "stream",
          "text": [
            "INFO:tensorflow:label: 0 (id = 1)\n"
          ],
          "name": "stderr"
        },
        {
          "output_type": "stream",
          "text": [
            "INFO:tensorflow:*** Example ***\n"
          ],
          "name": "stdout"
        },
        {
          "output_type": "stream",
          "text": [
            "INFO:tensorflow:*** Example ***\n"
          ],
          "name": "stderr"
        },
        {
          "output_type": "stream",
          "text": [
            "INFO:tensorflow:guid: None\n"
          ],
          "name": "stdout"
        },
        {
          "output_type": "stream",
          "text": [
            "INFO:tensorflow:guid: None\n"
          ],
          "name": "stderr"
        },
        {
          "output_type": "stream",
          "text": [
            "INFO:tensorflow:tokens: [CLS] 非 常 好 吃 的 柴 火 鸡 ， 味 道 棒 棒 的 ！ 老 板 很 热 情 ， 服 务 很 周 到 ！ [SEP]\n"
          ],
          "name": "stdout"
        },
        {
          "output_type": "stream",
          "text": [
            "INFO:tensorflow:tokens: [CLS] 非 常 好 吃 的 柴 火 鸡 ， 味 道 棒 棒 的 ！ 老 板 很 热 情 ， 服 务 很 周 到 ！ [SEP]\n"
          ],
          "name": "stderr"
        },
        {
          "output_type": "stream",
          "text": [
            "INFO:tensorflow:input_ids: 101 7478 2382 1962 1391 4638 3395 4125 7883 8024 1456 6887 3472 3472 4638 8013 5439 3352 2523 4178 2658 8024 3302 1218 2523 1453 1168 8013 102 0 0 0 0 0 0 0 0 0 0 0 0 0 0 0 0 0 0 0 0 0 0 0 0 0 0 0 0 0 0 0 0 0 0 0 0 0 0 0 0 0 0 0 0 0 0 0 0 0 0 0 0 0 0 0 0 0 0 0 0 0 0 0 0 0 0 0 0 0 0 0 0 0 0 0 0 0 0 0 0 0 0 0 0 0 0 0 0 0 0 0 0 0 0 0 0 0 0 0\n"
          ],
          "name": "stdout"
        },
        {
          "output_type": "stream",
          "text": [
            "INFO:tensorflow:input_ids: 101 7478 2382 1962 1391 4638 3395 4125 7883 8024 1456 6887 3472 3472 4638 8013 5439 3352 2523 4178 2658 8024 3302 1218 2523 1453 1168 8013 102 0 0 0 0 0 0 0 0 0 0 0 0 0 0 0 0 0 0 0 0 0 0 0 0 0 0 0 0 0 0 0 0 0 0 0 0 0 0 0 0 0 0 0 0 0 0 0 0 0 0 0 0 0 0 0 0 0 0 0 0 0 0 0 0 0 0 0 0 0 0 0 0 0 0 0 0 0 0 0 0 0 0 0 0 0 0 0 0 0 0 0 0 0 0 0 0 0 0 0\n"
          ],
          "name": "stderr"
        },
        {
          "output_type": "stream",
          "text": [
            "INFO:tensorflow:input_mask: 1 1 1 1 1 1 1 1 1 1 1 1 1 1 1 1 1 1 1 1 1 1 1 1 1 1 1 1 1 0 0 0 0 0 0 0 0 0 0 0 0 0 0 0 0 0 0 0 0 0 0 0 0 0 0 0 0 0 0 0 0 0 0 0 0 0 0 0 0 0 0 0 0 0 0 0 0 0 0 0 0 0 0 0 0 0 0 0 0 0 0 0 0 0 0 0 0 0 0 0 0 0 0 0 0 0 0 0 0 0 0 0 0 0 0 0 0 0 0 0 0 0 0 0 0 0 0 0\n"
          ],
          "name": "stdout"
        },
        {
          "output_type": "stream",
          "text": [
            "INFO:tensorflow:input_mask: 1 1 1 1 1 1 1 1 1 1 1 1 1 1 1 1 1 1 1 1 1 1 1 1 1 1 1 1 1 0 0 0 0 0 0 0 0 0 0 0 0 0 0 0 0 0 0 0 0 0 0 0 0 0 0 0 0 0 0 0 0 0 0 0 0 0 0 0 0 0 0 0 0 0 0 0 0 0 0 0 0 0 0 0 0 0 0 0 0 0 0 0 0 0 0 0 0 0 0 0 0 0 0 0 0 0 0 0 0 0 0 0 0 0 0 0 0 0 0 0 0 0 0 0 0 0 0 0\n"
          ],
          "name": "stderr"
        },
        {
          "output_type": "stream",
          "text": [
            "INFO:tensorflow:segment_ids: 0 0 0 0 0 0 0 0 0 0 0 0 0 0 0 0 0 0 0 0 0 0 0 0 0 0 0 0 0 0 0 0 0 0 0 0 0 0 0 0 0 0 0 0 0 0 0 0 0 0 0 0 0 0 0 0 0 0 0 0 0 0 0 0 0 0 0 0 0 0 0 0 0 0 0 0 0 0 0 0 0 0 0 0 0 0 0 0 0 0 0 0 0 0 0 0 0 0 0 0 0 0 0 0 0 0 0 0 0 0 0 0 0 0 0 0 0 0 0 0 0 0 0 0 0 0 0 0\n"
          ],
          "name": "stdout"
        },
        {
          "output_type": "stream",
          "text": [
            "INFO:tensorflow:segment_ids: 0 0 0 0 0 0 0 0 0 0 0 0 0 0 0 0 0 0 0 0 0 0 0 0 0 0 0 0 0 0 0 0 0 0 0 0 0 0 0 0 0 0 0 0 0 0 0 0 0 0 0 0 0 0 0 0 0 0 0 0 0 0 0 0 0 0 0 0 0 0 0 0 0 0 0 0 0 0 0 0 0 0 0 0 0 0 0 0 0 0 0 0 0 0 0 0 0 0 0 0 0 0 0 0 0 0 0 0 0 0 0 0 0 0 0 0 0 0 0 0 0 0 0 0 0 0 0 0\n"
          ],
          "name": "stderr"
        },
        {
          "output_type": "stream",
          "text": [
            "INFO:tensorflow:label: 0 (id = 1)\n"
          ],
          "name": "stdout"
        },
        {
          "output_type": "stream",
          "text": [
            "INFO:tensorflow:label: 0 (id = 1)\n"
          ],
          "name": "stderr"
        },
        {
          "output_type": "stream",
          "text": [
            "INFO:tensorflow:*** Example ***\n"
          ],
          "name": "stdout"
        },
        {
          "output_type": "stream",
          "text": [
            "INFO:tensorflow:*** Example ***\n"
          ],
          "name": "stderr"
        },
        {
          "output_type": "stream",
          "text": [
            "INFO:tensorflow:guid: None\n"
          ],
          "name": "stdout"
        },
        {
          "output_type": "stream",
          "text": [
            "INFO:tensorflow:guid: None\n"
          ],
          "name": "stderr"
        },
        {
          "output_type": "stream",
          "text": [
            "INFO:tensorflow:tokens: [CLS] 偷 工 减 料 ， 死 难 吃 ， 还 这 么 贵 [SEP]\n"
          ],
          "name": "stdout"
        },
        {
          "output_type": "stream",
          "text": [
            "INFO:tensorflow:tokens: [CLS] 偷 工 减 料 ， 死 难 吃 ， 还 这 么 贵 [SEP]\n"
          ],
          "name": "stderr"
        },
        {
          "output_type": "stream",
          "text": [
            "INFO:tensorflow:input_ids: 101 982 2339 1121 3160 8024 3647 7410 1391 8024 6820 6821 720 6586 102 0 0 0 0 0 0 0 0 0 0 0 0 0 0 0 0 0 0 0 0 0 0 0 0 0 0 0 0 0 0 0 0 0 0 0 0 0 0 0 0 0 0 0 0 0 0 0 0 0 0 0 0 0 0 0 0 0 0 0 0 0 0 0 0 0 0 0 0 0 0 0 0 0 0 0 0 0 0 0 0 0 0 0 0 0 0 0 0 0 0 0 0 0 0 0 0 0 0 0 0 0 0 0 0 0 0 0 0 0 0 0 0 0\n"
          ],
          "name": "stdout"
        },
        {
          "output_type": "stream",
          "text": [
            "INFO:tensorflow:input_ids: 101 982 2339 1121 3160 8024 3647 7410 1391 8024 6820 6821 720 6586 102 0 0 0 0 0 0 0 0 0 0 0 0 0 0 0 0 0 0 0 0 0 0 0 0 0 0 0 0 0 0 0 0 0 0 0 0 0 0 0 0 0 0 0 0 0 0 0 0 0 0 0 0 0 0 0 0 0 0 0 0 0 0 0 0 0 0 0 0 0 0 0 0 0 0 0 0 0 0 0 0 0 0 0 0 0 0 0 0 0 0 0 0 0 0 0 0 0 0 0 0 0 0 0 0 0 0 0 0 0 0 0 0 0\n"
          ],
          "name": "stderr"
        },
        {
          "output_type": "stream",
          "text": [
            "INFO:tensorflow:input_mask: 1 1 1 1 1 1 1 1 1 1 1 1 1 1 1 0 0 0 0 0 0 0 0 0 0 0 0 0 0 0 0 0 0 0 0 0 0 0 0 0 0 0 0 0 0 0 0 0 0 0 0 0 0 0 0 0 0 0 0 0 0 0 0 0 0 0 0 0 0 0 0 0 0 0 0 0 0 0 0 0 0 0 0 0 0 0 0 0 0 0 0 0 0 0 0 0 0 0 0 0 0 0 0 0 0 0 0 0 0 0 0 0 0 0 0 0 0 0 0 0 0 0 0 0 0 0 0 0\n"
          ],
          "name": "stdout"
        },
        {
          "output_type": "stream",
          "text": [
            "INFO:tensorflow:input_mask: 1 1 1 1 1 1 1 1 1 1 1 1 1 1 1 0 0 0 0 0 0 0 0 0 0 0 0 0 0 0 0 0 0 0 0 0 0 0 0 0 0 0 0 0 0 0 0 0 0 0 0 0 0 0 0 0 0 0 0 0 0 0 0 0 0 0 0 0 0 0 0 0 0 0 0 0 0 0 0 0 0 0 0 0 0 0 0 0 0 0 0 0 0 0 0 0 0 0 0 0 0 0 0 0 0 0 0 0 0 0 0 0 0 0 0 0 0 0 0 0 0 0 0 0 0 0 0 0\n"
          ],
          "name": "stderr"
        },
        {
          "output_type": "stream",
          "text": [
            "INFO:tensorflow:segment_ids: 0 0 0 0 0 0 0 0 0 0 0 0 0 0 0 0 0 0 0 0 0 0 0 0 0 0 0 0 0 0 0 0 0 0 0 0 0 0 0 0 0 0 0 0 0 0 0 0 0 0 0 0 0 0 0 0 0 0 0 0 0 0 0 0 0 0 0 0 0 0 0 0 0 0 0 0 0 0 0 0 0 0 0 0 0 0 0 0 0 0 0 0 0 0 0 0 0 0 0 0 0 0 0 0 0 0 0 0 0 0 0 0 0 0 0 0 0 0 0 0 0 0 0 0 0 0 0 0\n"
          ],
          "name": "stdout"
        },
        {
          "output_type": "stream",
          "text": [
            "INFO:tensorflow:segment_ids: 0 0 0 0 0 0 0 0 0 0 0 0 0 0 0 0 0 0 0 0 0 0 0 0 0 0 0 0 0 0 0 0 0 0 0 0 0 0 0 0 0 0 0 0 0 0 0 0 0 0 0 0 0 0 0 0 0 0 0 0 0 0 0 0 0 0 0 0 0 0 0 0 0 0 0 0 0 0 0 0 0 0 0 0 0 0 0 0 0 0 0 0 0 0 0 0 0 0 0 0 0 0 0 0 0 0 0 0 0 0 0 0 0 0 0 0 0 0 0 0 0 0 0 0 0 0 0 0\n"
          ],
          "name": "stderr"
        },
        {
          "output_type": "stream",
          "text": [
            "INFO:tensorflow:label: 0 (id = 1)\n"
          ],
          "name": "stdout"
        },
        {
          "output_type": "stream",
          "text": [
            "INFO:tensorflow:label: 0 (id = 1)\n"
          ],
          "name": "stderr"
        },
        {
          "output_type": "stream",
          "text": [
            "INFO:tensorflow:Writing example 0 of 2000\n"
          ],
          "name": "stdout"
        },
        {
          "output_type": "stream",
          "text": [
            "INFO:tensorflow:Writing example 0 of 2000\n"
          ],
          "name": "stderr"
        },
        {
          "output_type": "stream",
          "text": [
            "INFO:tensorflow:*** Example ***\n"
          ],
          "name": "stdout"
        },
        {
          "output_type": "stream",
          "text": [
            "INFO:tensorflow:*** Example ***\n"
          ],
          "name": "stderr"
        },
        {
          "output_type": "stream",
          "text": [
            "INFO:tensorflow:guid: None\n"
          ],
          "name": "stdout"
        },
        {
          "output_type": "stream",
          "text": [
            "INFO:tensorflow:guid: None\n"
          ],
          "name": "stderr"
        },
        {
          "output_type": "stream",
          "text": [
            "INFO:tensorflow:tokens: [CLS] 这 家 店 特 别 坑 ， 坑 爹 的 坑 ， 大 家 千 万 别 点 ， 又 难 吃 ， 请 问 你 两 荤 两 素 值 八 十 吗 ？ 昏 素 套 餐 打 个 原 价 八 十 来 折 半 价 骗 人 ， 还 没 有 鱼 ， 误 导 消 费 者 ， 我 点 了 你 的 折 扣 的 套 餐 就 给 我 送 来 了 半 盒 菜 ， 当 我 们 是 傻 逼 么 ？ 有 种 打 对 折 促 销 就 大 方 点 别 这 样 忽 悠 人 ， 怪 我 自 己 没 看 清 ， 我 点 烤 鱼 只 包 鱼 点 太 [SEP]\n"
          ],
          "name": "stdout"
        },
        {
          "output_type": "stream",
          "text": [
            "INFO:tensorflow:tokens: [CLS] 这 家 店 特 别 坑 ， 坑 爹 的 坑 ， 大 家 千 万 别 点 ， 又 难 吃 ， 请 问 你 两 荤 两 素 值 八 十 吗 ？ 昏 素 套 餐 打 个 原 价 八 十 来 折 半 价 骗 人 ， 还 没 有 鱼 ， 误 导 消 费 者 ， 我 点 了 你 的 折 扣 的 套 餐 就 给 我 送 来 了 半 盒 菜 ， 当 我 们 是 傻 逼 么 ？ 有 种 打 对 折 促 销 就 大 方 点 别 这 样 忽 悠 人 ， 怪 我 自 己 没 看 清 ， 我 点 烤 鱼 只 包 鱼 点 太 [SEP]\n"
          ],
          "name": "stderr"
        },
        {
          "output_type": "stream",
          "text": [
            "INFO:tensorflow:input_ids: 101 6821 2157 2421 4294 1166 1778 8024 1778 4269 4638 1778 8024 1920 2157 1283 674 1166 4157 8024 1348 7410 1391 8024 6435 7309 872 697 5784 697 5162 966 1061 1282 1408 8043 3210 5162 1947 7623 2802 702 1333 817 1061 1282 3341 2835 1288 817 7745 782 8024 6820 3766 3300 7824 8024 6428 2193 3867 6589 5442 8024 2769 4157 749 872 4638 2835 2807 4638 1947 7623 2218 5314 2769 6843 3341 749 1288 4665 5831 8024 2496 2769 812 3221 1004 6873 720 8043 3300 4905 2802 2190 2835 914 7218 2218 1920 3175 4157 1166 6821 3416 2575 2641 782 8024 2597 2769 5632 2346 3766 4692 3926 8024 2769 4157 4171 7824 1372 1259 7824 4157 1922 102\n"
          ],
          "name": "stdout"
        },
        {
          "output_type": "stream",
          "text": [
            "INFO:tensorflow:input_ids: 101 6821 2157 2421 4294 1166 1778 8024 1778 4269 4638 1778 8024 1920 2157 1283 674 1166 4157 8024 1348 7410 1391 8024 6435 7309 872 697 5784 697 5162 966 1061 1282 1408 8043 3210 5162 1947 7623 2802 702 1333 817 1061 1282 3341 2835 1288 817 7745 782 8024 6820 3766 3300 7824 8024 6428 2193 3867 6589 5442 8024 2769 4157 749 872 4638 2835 2807 4638 1947 7623 2218 5314 2769 6843 3341 749 1288 4665 5831 8024 2496 2769 812 3221 1004 6873 720 8043 3300 4905 2802 2190 2835 914 7218 2218 1920 3175 4157 1166 6821 3416 2575 2641 782 8024 2597 2769 5632 2346 3766 4692 3926 8024 2769 4157 4171 7824 1372 1259 7824 4157 1922 102\n"
          ],
          "name": "stderr"
        },
        {
          "output_type": "stream",
          "text": [
            "INFO:tensorflow:input_mask: 1 1 1 1 1 1 1 1 1 1 1 1 1 1 1 1 1 1 1 1 1 1 1 1 1 1 1 1 1 1 1 1 1 1 1 1 1 1 1 1 1 1 1 1 1 1 1 1 1 1 1 1 1 1 1 1 1 1 1 1 1 1 1 1 1 1 1 1 1 1 1 1 1 1 1 1 1 1 1 1 1 1 1 1 1 1 1 1 1 1 1 1 1 1 1 1 1 1 1 1 1 1 1 1 1 1 1 1 1 1 1 1 1 1 1 1 1 1 1 1 1 1 1 1 1 1 1 1\n"
          ],
          "name": "stdout"
        },
        {
          "output_type": "stream",
          "text": [
            "INFO:tensorflow:input_mask: 1 1 1 1 1 1 1 1 1 1 1 1 1 1 1 1 1 1 1 1 1 1 1 1 1 1 1 1 1 1 1 1 1 1 1 1 1 1 1 1 1 1 1 1 1 1 1 1 1 1 1 1 1 1 1 1 1 1 1 1 1 1 1 1 1 1 1 1 1 1 1 1 1 1 1 1 1 1 1 1 1 1 1 1 1 1 1 1 1 1 1 1 1 1 1 1 1 1 1 1 1 1 1 1 1 1 1 1 1 1 1 1 1 1 1 1 1 1 1 1 1 1 1 1 1 1 1 1\n"
          ],
          "name": "stderr"
        },
        {
          "output_type": "stream",
          "text": [
            "INFO:tensorflow:segment_ids: 0 0 0 0 0 0 0 0 0 0 0 0 0 0 0 0 0 0 0 0 0 0 0 0 0 0 0 0 0 0 0 0 0 0 0 0 0 0 0 0 0 0 0 0 0 0 0 0 0 0 0 0 0 0 0 0 0 0 0 0 0 0 0 0 0 0 0 0 0 0 0 0 0 0 0 0 0 0 0 0 0 0 0 0 0 0 0 0 0 0 0 0 0 0 0 0 0 0 0 0 0 0 0 0 0 0 0 0 0 0 0 0 0 0 0 0 0 0 0 0 0 0 0 0 0 0 0 0\n"
          ],
          "name": "stdout"
        },
        {
          "output_type": "stream",
          "text": [
            "INFO:tensorflow:segment_ids: 0 0 0 0 0 0 0 0 0 0 0 0 0 0 0 0 0 0 0 0 0 0 0 0 0 0 0 0 0 0 0 0 0 0 0 0 0 0 0 0 0 0 0 0 0 0 0 0 0 0 0 0 0 0 0 0 0 0 0 0 0 0 0 0 0 0 0 0 0 0 0 0 0 0 0 0 0 0 0 0 0 0 0 0 0 0 0 0 0 0 0 0 0 0 0 0 0 0 0 0 0 0 0 0 0 0 0 0 0 0 0 0 0 0 0 0 0 0 0 0 0 0 0 0 0 0 0 0\n"
          ],
          "name": "stderr"
        },
        {
          "output_type": "stream",
          "text": [
            "INFO:tensorflow:label: 0 (id = 1)\n"
          ],
          "name": "stdout"
        },
        {
          "output_type": "stream",
          "text": [
            "INFO:tensorflow:label: 0 (id = 1)\n"
          ],
          "name": "stderr"
        },
        {
          "output_type": "stream",
          "text": [
            "INFO:tensorflow:*** Example ***\n"
          ],
          "name": "stdout"
        },
        {
          "output_type": "stream",
          "text": [
            "INFO:tensorflow:*** Example ***\n"
          ],
          "name": "stderr"
        },
        {
          "output_type": "stream",
          "text": [
            "INFO:tensorflow:guid: None\n"
          ],
          "name": "stdout"
        },
        {
          "output_type": "stream",
          "text": [
            "INFO:tensorflow:guid: None\n"
          ],
          "name": "stderr"
        },
        {
          "output_type": "stream",
          "text": [
            "INFO:tensorflow:tokens: [CLS] 不 评 价 了 ， 沒 有 第 二 单 ！ [SEP]\n"
          ],
          "name": "stdout"
        },
        {
          "output_type": "stream",
          "text": [
            "INFO:tensorflow:tokens: [CLS] 不 评 价 了 ， 沒 有 第 二 单 ！ [SEP]\n"
          ],
          "name": "stderr"
        },
        {
          "output_type": "stream",
          "text": [
            "INFO:tensorflow:input_ids: 101 679 6397 817 749 8024 3760 3300 5018 753 1296 8013 102 0 0 0 0 0 0 0 0 0 0 0 0 0 0 0 0 0 0 0 0 0 0 0 0 0 0 0 0 0 0 0 0 0 0 0 0 0 0 0 0 0 0 0 0 0 0 0 0 0 0 0 0 0 0 0 0 0 0 0 0 0 0 0 0 0 0 0 0 0 0 0 0 0 0 0 0 0 0 0 0 0 0 0 0 0 0 0 0 0 0 0 0 0 0 0 0 0 0 0 0 0 0 0 0 0 0 0 0 0 0 0 0 0 0 0\n"
          ],
          "name": "stdout"
        },
        {
          "output_type": "stream",
          "text": [
            "INFO:tensorflow:input_ids: 101 679 6397 817 749 8024 3760 3300 5018 753 1296 8013 102 0 0 0 0 0 0 0 0 0 0 0 0 0 0 0 0 0 0 0 0 0 0 0 0 0 0 0 0 0 0 0 0 0 0 0 0 0 0 0 0 0 0 0 0 0 0 0 0 0 0 0 0 0 0 0 0 0 0 0 0 0 0 0 0 0 0 0 0 0 0 0 0 0 0 0 0 0 0 0 0 0 0 0 0 0 0 0 0 0 0 0 0 0 0 0 0 0 0 0 0 0 0 0 0 0 0 0 0 0 0 0 0 0 0 0\n"
          ],
          "name": "stderr"
        },
        {
          "output_type": "stream",
          "text": [
            "INFO:tensorflow:input_mask: 1 1 1 1 1 1 1 1 1 1 1 1 1 0 0 0 0 0 0 0 0 0 0 0 0 0 0 0 0 0 0 0 0 0 0 0 0 0 0 0 0 0 0 0 0 0 0 0 0 0 0 0 0 0 0 0 0 0 0 0 0 0 0 0 0 0 0 0 0 0 0 0 0 0 0 0 0 0 0 0 0 0 0 0 0 0 0 0 0 0 0 0 0 0 0 0 0 0 0 0 0 0 0 0 0 0 0 0 0 0 0 0 0 0 0 0 0 0 0 0 0 0 0 0 0 0 0 0\n"
          ],
          "name": "stdout"
        },
        {
          "output_type": "stream",
          "text": [
            "INFO:tensorflow:input_mask: 1 1 1 1 1 1 1 1 1 1 1 1 1 0 0 0 0 0 0 0 0 0 0 0 0 0 0 0 0 0 0 0 0 0 0 0 0 0 0 0 0 0 0 0 0 0 0 0 0 0 0 0 0 0 0 0 0 0 0 0 0 0 0 0 0 0 0 0 0 0 0 0 0 0 0 0 0 0 0 0 0 0 0 0 0 0 0 0 0 0 0 0 0 0 0 0 0 0 0 0 0 0 0 0 0 0 0 0 0 0 0 0 0 0 0 0 0 0 0 0 0 0 0 0 0 0 0 0\n"
          ],
          "name": "stderr"
        },
        {
          "output_type": "stream",
          "text": [
            "INFO:tensorflow:segment_ids: 0 0 0 0 0 0 0 0 0 0 0 0 0 0 0 0 0 0 0 0 0 0 0 0 0 0 0 0 0 0 0 0 0 0 0 0 0 0 0 0 0 0 0 0 0 0 0 0 0 0 0 0 0 0 0 0 0 0 0 0 0 0 0 0 0 0 0 0 0 0 0 0 0 0 0 0 0 0 0 0 0 0 0 0 0 0 0 0 0 0 0 0 0 0 0 0 0 0 0 0 0 0 0 0 0 0 0 0 0 0 0 0 0 0 0 0 0 0 0 0 0 0 0 0 0 0 0 0\n"
          ],
          "name": "stdout"
        },
        {
          "output_type": "stream",
          "text": [
            "INFO:tensorflow:segment_ids: 0 0 0 0 0 0 0 0 0 0 0 0 0 0 0 0 0 0 0 0 0 0 0 0 0 0 0 0 0 0 0 0 0 0 0 0 0 0 0 0 0 0 0 0 0 0 0 0 0 0 0 0 0 0 0 0 0 0 0 0 0 0 0 0 0 0 0 0 0 0 0 0 0 0 0 0 0 0 0 0 0 0 0 0 0 0 0 0 0 0 0 0 0 0 0 0 0 0 0 0 0 0 0 0 0 0 0 0 0 0 0 0 0 0 0 0 0 0 0 0 0 0 0 0 0 0 0 0\n"
          ],
          "name": "stderr"
        },
        {
          "output_type": "stream",
          "text": [
            "INFO:tensorflow:label: 0 (id = 1)\n"
          ],
          "name": "stdout"
        },
        {
          "output_type": "stream",
          "text": [
            "INFO:tensorflow:label: 0 (id = 1)\n"
          ],
          "name": "stderr"
        },
        {
          "output_type": "stream",
          "text": [
            "INFO:tensorflow:*** Example ***\n"
          ],
          "name": "stdout"
        },
        {
          "output_type": "stream",
          "text": [
            "INFO:tensorflow:*** Example ***\n"
          ],
          "name": "stderr"
        },
        {
          "output_type": "stream",
          "text": [
            "INFO:tensorflow:guid: None\n"
          ],
          "name": "stdout"
        },
        {
          "output_type": "stream",
          "text": [
            "INFO:tensorflow:guid: None\n"
          ],
          "name": "stderr"
        },
        {
          "output_type": "stream",
          "text": [
            "INFO:tensorflow:tokens: [CLS] ， 味 道 不 错 ， 吃 到 后 来 越 来 越 辣 越 来 越 香 ， 菜 品 还 是 多 ， 都 没 吃 完 还 打 了 包 。 [SEP]\n"
          ],
          "name": "stdout"
        },
        {
          "output_type": "stream",
          "text": [
            "INFO:tensorflow:tokens: [CLS] ， 味 道 不 错 ， 吃 到 后 来 越 来 越 辣 越 来 越 香 ， 菜 品 还 是 多 ， 都 没 吃 完 还 打 了 包 。 [SEP]\n"
          ],
          "name": "stderr"
        },
        {
          "output_type": "stream",
          "text": [
            "INFO:tensorflow:input_ids: 101 8024 1456 6887 679 7231 8024 1391 1168 1400 3341 6632 3341 6632 6793 6632 3341 6632 7676 8024 5831 1501 6820 3221 1914 8024 6963 3766 1391 2130 6820 2802 749 1259 511 102 0 0 0 0 0 0 0 0 0 0 0 0 0 0 0 0 0 0 0 0 0 0 0 0 0 0 0 0 0 0 0 0 0 0 0 0 0 0 0 0 0 0 0 0 0 0 0 0 0 0 0 0 0 0 0 0 0 0 0 0 0 0 0 0 0 0 0 0 0 0 0 0 0 0 0 0 0 0 0 0 0 0 0 0 0 0 0 0 0 0 0 0\n"
          ],
          "name": "stdout"
        },
        {
          "output_type": "stream",
          "text": [
            "INFO:tensorflow:input_ids: 101 8024 1456 6887 679 7231 8024 1391 1168 1400 3341 6632 3341 6632 6793 6632 3341 6632 7676 8024 5831 1501 6820 3221 1914 8024 6963 3766 1391 2130 6820 2802 749 1259 511 102 0 0 0 0 0 0 0 0 0 0 0 0 0 0 0 0 0 0 0 0 0 0 0 0 0 0 0 0 0 0 0 0 0 0 0 0 0 0 0 0 0 0 0 0 0 0 0 0 0 0 0 0 0 0 0 0 0 0 0 0 0 0 0 0 0 0 0 0 0 0 0 0 0 0 0 0 0 0 0 0 0 0 0 0 0 0 0 0 0 0 0 0\n"
          ],
          "name": "stderr"
        },
        {
          "output_type": "stream",
          "text": [
            "INFO:tensorflow:input_mask: 1 1 1 1 1 1 1 1 1 1 1 1 1 1 1 1 1 1 1 1 1 1 1 1 1 1 1 1 1 1 1 1 1 1 1 1 0 0 0 0 0 0 0 0 0 0 0 0 0 0 0 0 0 0 0 0 0 0 0 0 0 0 0 0 0 0 0 0 0 0 0 0 0 0 0 0 0 0 0 0 0 0 0 0 0 0 0 0 0 0 0 0 0 0 0 0 0 0 0 0 0 0 0 0 0 0 0 0 0 0 0 0 0 0 0 0 0 0 0 0 0 0 0 0 0 0 0 0\n"
          ],
          "name": "stdout"
        },
        {
          "output_type": "stream",
          "text": [
            "INFO:tensorflow:input_mask: 1 1 1 1 1 1 1 1 1 1 1 1 1 1 1 1 1 1 1 1 1 1 1 1 1 1 1 1 1 1 1 1 1 1 1 1 0 0 0 0 0 0 0 0 0 0 0 0 0 0 0 0 0 0 0 0 0 0 0 0 0 0 0 0 0 0 0 0 0 0 0 0 0 0 0 0 0 0 0 0 0 0 0 0 0 0 0 0 0 0 0 0 0 0 0 0 0 0 0 0 0 0 0 0 0 0 0 0 0 0 0 0 0 0 0 0 0 0 0 0 0 0 0 0 0 0 0 0\n"
          ],
          "name": "stderr"
        },
        {
          "output_type": "stream",
          "text": [
            "INFO:tensorflow:segment_ids: 0 0 0 0 0 0 0 0 0 0 0 0 0 0 0 0 0 0 0 0 0 0 0 0 0 0 0 0 0 0 0 0 0 0 0 0 0 0 0 0 0 0 0 0 0 0 0 0 0 0 0 0 0 0 0 0 0 0 0 0 0 0 0 0 0 0 0 0 0 0 0 0 0 0 0 0 0 0 0 0 0 0 0 0 0 0 0 0 0 0 0 0 0 0 0 0 0 0 0 0 0 0 0 0 0 0 0 0 0 0 0 0 0 0 0 0 0 0 0 0 0 0 0 0 0 0 0 0\n"
          ],
          "name": "stdout"
        },
        {
          "output_type": "stream",
          "text": [
            "INFO:tensorflow:segment_ids: 0 0 0 0 0 0 0 0 0 0 0 0 0 0 0 0 0 0 0 0 0 0 0 0 0 0 0 0 0 0 0 0 0 0 0 0 0 0 0 0 0 0 0 0 0 0 0 0 0 0 0 0 0 0 0 0 0 0 0 0 0 0 0 0 0 0 0 0 0 0 0 0 0 0 0 0 0 0 0 0 0 0 0 0 0 0 0 0 0 0 0 0 0 0 0 0 0 0 0 0 0 0 0 0 0 0 0 0 0 0 0 0 0 0 0 0 0 0 0 0 0 0 0 0 0 0 0 0\n"
          ],
          "name": "stderr"
        },
        {
          "output_type": "stream",
          "text": [
            "INFO:tensorflow:label: 0 (id = 1)\n"
          ],
          "name": "stdout"
        },
        {
          "output_type": "stream",
          "text": [
            "INFO:tensorflow:label: 0 (id = 1)\n"
          ],
          "name": "stderr"
        },
        {
          "output_type": "stream",
          "text": [
            "INFO:tensorflow:*** Example ***\n"
          ],
          "name": "stdout"
        },
        {
          "output_type": "stream",
          "text": [
            "INFO:tensorflow:*** Example ***\n"
          ],
          "name": "stderr"
        },
        {
          "output_type": "stream",
          "text": [
            "INFO:tensorflow:guid: None\n"
          ],
          "name": "stdout"
        },
        {
          "output_type": "stream",
          "text": [
            "INFO:tensorflow:guid: None\n"
          ],
          "name": "stderr"
        },
        {
          "output_type": "stream",
          "text": [
            "INFO:tensorflow:tokens: [CLS] 来 过 几 次 了 ， 物 美 价 廉 ， 不 因 为 是 团 购 而 怠 慢 ， 点 个 赞 [SEP]\n"
          ],
          "name": "stdout"
        },
        {
          "output_type": "stream",
          "text": [
            "INFO:tensorflow:tokens: [CLS] 来 过 几 次 了 ， 物 美 价 廉 ， 不 因 为 是 团 购 而 怠 慢 ， 点 个 赞 [SEP]\n"
          ],
          "name": "stderr"
        },
        {
          "output_type": "stream",
          "text": [
            "INFO:tensorflow:input_ids: 101 3341 6814 1126 3613 749 8024 4289 5401 817 2442 8024 679 1728 711 3221 1730 6579 5445 2591 2714 8024 4157 702 6614 102 0 0 0 0 0 0 0 0 0 0 0 0 0 0 0 0 0 0 0 0 0 0 0 0 0 0 0 0 0 0 0 0 0 0 0 0 0 0 0 0 0 0 0 0 0 0 0 0 0 0 0 0 0 0 0 0 0 0 0 0 0 0 0 0 0 0 0 0 0 0 0 0 0 0 0 0 0 0 0 0 0 0 0 0 0 0 0 0 0 0 0 0 0 0 0 0 0 0 0 0 0 0\n"
          ],
          "name": "stdout"
        },
        {
          "output_type": "stream",
          "text": [
            "INFO:tensorflow:input_ids: 101 3341 6814 1126 3613 749 8024 4289 5401 817 2442 8024 679 1728 711 3221 1730 6579 5445 2591 2714 8024 4157 702 6614 102 0 0 0 0 0 0 0 0 0 0 0 0 0 0 0 0 0 0 0 0 0 0 0 0 0 0 0 0 0 0 0 0 0 0 0 0 0 0 0 0 0 0 0 0 0 0 0 0 0 0 0 0 0 0 0 0 0 0 0 0 0 0 0 0 0 0 0 0 0 0 0 0 0 0 0 0 0 0 0 0 0 0 0 0 0 0 0 0 0 0 0 0 0 0 0 0 0 0 0 0 0 0\n"
          ],
          "name": "stderr"
        },
        {
          "output_type": "stream",
          "text": [
            "INFO:tensorflow:input_mask: 1 1 1 1 1 1 1 1 1 1 1 1 1 1 1 1 1 1 1 1 1 1 1 1 1 1 0 0 0 0 0 0 0 0 0 0 0 0 0 0 0 0 0 0 0 0 0 0 0 0 0 0 0 0 0 0 0 0 0 0 0 0 0 0 0 0 0 0 0 0 0 0 0 0 0 0 0 0 0 0 0 0 0 0 0 0 0 0 0 0 0 0 0 0 0 0 0 0 0 0 0 0 0 0 0 0 0 0 0 0 0 0 0 0 0 0 0 0 0 0 0 0 0 0 0 0 0 0\n"
          ],
          "name": "stdout"
        },
        {
          "output_type": "stream",
          "text": [
            "INFO:tensorflow:input_mask: 1 1 1 1 1 1 1 1 1 1 1 1 1 1 1 1 1 1 1 1 1 1 1 1 1 1 0 0 0 0 0 0 0 0 0 0 0 0 0 0 0 0 0 0 0 0 0 0 0 0 0 0 0 0 0 0 0 0 0 0 0 0 0 0 0 0 0 0 0 0 0 0 0 0 0 0 0 0 0 0 0 0 0 0 0 0 0 0 0 0 0 0 0 0 0 0 0 0 0 0 0 0 0 0 0 0 0 0 0 0 0 0 0 0 0 0 0 0 0 0 0 0 0 0 0 0 0 0\n"
          ],
          "name": "stderr"
        },
        {
          "output_type": "stream",
          "text": [
            "INFO:tensorflow:segment_ids: 0 0 0 0 0 0 0 0 0 0 0 0 0 0 0 0 0 0 0 0 0 0 0 0 0 0 0 0 0 0 0 0 0 0 0 0 0 0 0 0 0 0 0 0 0 0 0 0 0 0 0 0 0 0 0 0 0 0 0 0 0 0 0 0 0 0 0 0 0 0 0 0 0 0 0 0 0 0 0 0 0 0 0 0 0 0 0 0 0 0 0 0 0 0 0 0 0 0 0 0 0 0 0 0 0 0 0 0 0 0 0 0 0 0 0 0 0 0 0 0 0 0 0 0 0 0 0 0\n"
          ],
          "name": "stdout"
        },
        {
          "output_type": "stream",
          "text": [
            "INFO:tensorflow:segment_ids: 0 0 0 0 0 0 0 0 0 0 0 0 0 0 0 0 0 0 0 0 0 0 0 0 0 0 0 0 0 0 0 0 0 0 0 0 0 0 0 0 0 0 0 0 0 0 0 0 0 0 0 0 0 0 0 0 0 0 0 0 0 0 0 0 0 0 0 0 0 0 0 0 0 0 0 0 0 0 0 0 0 0 0 0 0 0 0 0 0 0 0 0 0 0 0 0 0 0 0 0 0 0 0 0 0 0 0 0 0 0 0 0 0 0 0 0 0 0 0 0 0 0 0 0 0 0 0 0\n"
          ],
          "name": "stderr"
        },
        {
          "output_type": "stream",
          "text": [
            "INFO:tensorflow:label: 0 (id = 1)\n"
          ],
          "name": "stdout"
        },
        {
          "output_type": "stream",
          "text": [
            "INFO:tensorflow:label: 0 (id = 1)\n"
          ],
          "name": "stderr"
        },
        {
          "output_type": "stream",
          "text": [
            "INFO:tensorflow:*** Example ***\n"
          ],
          "name": "stdout"
        },
        {
          "output_type": "stream",
          "text": [
            "INFO:tensorflow:*** Example ***\n"
          ],
          "name": "stderr"
        },
        {
          "output_type": "stream",
          "text": [
            "INFO:tensorflow:guid: None\n"
          ],
          "name": "stdout"
        },
        {
          "output_type": "stream",
          "text": [
            "INFO:tensorflow:guid: None\n"
          ],
          "name": "stderr"
        },
        {
          "output_type": "stream",
          "text": [
            "INFO:tensorflow:tokens: [CLS] 第 一 次 被 女 儿 带 去 ， 蛋 糕 真 心 好 吃 ， 价 格 实 惠 ， 以 前 一 直 不 晓 得 ！ [SEP]\n"
          ],
          "name": "stdout"
        },
        {
          "output_type": "stream",
          "text": [
            "INFO:tensorflow:tokens: [CLS] 第 一 次 被 女 儿 带 去 ， 蛋 糕 真 心 好 吃 ， 价 格 实 惠 ， 以 前 一 直 不 晓 得 ！ [SEP]\n"
          ],
          "name": "stderr"
        },
        {
          "output_type": "stream",
          "text": [
            "INFO:tensorflow:input_ids: 101 5018 671 3613 6158 1957 1036 2372 1343 8024 6028 5130 4696 2552 1962 1391 8024 817 3419 2141 2669 8024 809 1184 671 4684 679 3236 2533 8013 102 0 0 0 0 0 0 0 0 0 0 0 0 0 0 0 0 0 0 0 0 0 0 0 0 0 0 0 0 0 0 0 0 0 0 0 0 0 0 0 0 0 0 0 0 0 0 0 0 0 0 0 0 0 0 0 0 0 0 0 0 0 0 0 0 0 0 0 0 0 0 0 0 0 0 0 0 0 0 0 0 0 0 0 0 0 0 0 0 0 0 0 0 0 0 0 0 0\n"
          ],
          "name": "stdout"
        },
        {
          "output_type": "stream",
          "text": [
            "INFO:tensorflow:input_ids: 101 5018 671 3613 6158 1957 1036 2372 1343 8024 6028 5130 4696 2552 1962 1391 8024 817 3419 2141 2669 8024 809 1184 671 4684 679 3236 2533 8013 102 0 0 0 0 0 0 0 0 0 0 0 0 0 0 0 0 0 0 0 0 0 0 0 0 0 0 0 0 0 0 0 0 0 0 0 0 0 0 0 0 0 0 0 0 0 0 0 0 0 0 0 0 0 0 0 0 0 0 0 0 0 0 0 0 0 0 0 0 0 0 0 0 0 0 0 0 0 0 0 0 0 0 0 0 0 0 0 0 0 0 0 0 0 0 0 0 0\n"
          ],
          "name": "stderr"
        },
        {
          "output_type": "stream",
          "text": [
            "INFO:tensorflow:input_mask: 1 1 1 1 1 1 1 1 1 1 1 1 1 1 1 1 1 1 1 1 1 1 1 1 1 1 1 1 1 1 1 0 0 0 0 0 0 0 0 0 0 0 0 0 0 0 0 0 0 0 0 0 0 0 0 0 0 0 0 0 0 0 0 0 0 0 0 0 0 0 0 0 0 0 0 0 0 0 0 0 0 0 0 0 0 0 0 0 0 0 0 0 0 0 0 0 0 0 0 0 0 0 0 0 0 0 0 0 0 0 0 0 0 0 0 0 0 0 0 0 0 0 0 0 0 0 0 0\n"
          ],
          "name": "stdout"
        },
        {
          "output_type": "stream",
          "text": [
            "INFO:tensorflow:input_mask: 1 1 1 1 1 1 1 1 1 1 1 1 1 1 1 1 1 1 1 1 1 1 1 1 1 1 1 1 1 1 1 0 0 0 0 0 0 0 0 0 0 0 0 0 0 0 0 0 0 0 0 0 0 0 0 0 0 0 0 0 0 0 0 0 0 0 0 0 0 0 0 0 0 0 0 0 0 0 0 0 0 0 0 0 0 0 0 0 0 0 0 0 0 0 0 0 0 0 0 0 0 0 0 0 0 0 0 0 0 0 0 0 0 0 0 0 0 0 0 0 0 0 0 0 0 0 0 0\n"
          ],
          "name": "stderr"
        },
        {
          "output_type": "stream",
          "text": [
            "INFO:tensorflow:segment_ids: 0 0 0 0 0 0 0 0 0 0 0 0 0 0 0 0 0 0 0 0 0 0 0 0 0 0 0 0 0 0 0 0 0 0 0 0 0 0 0 0 0 0 0 0 0 0 0 0 0 0 0 0 0 0 0 0 0 0 0 0 0 0 0 0 0 0 0 0 0 0 0 0 0 0 0 0 0 0 0 0 0 0 0 0 0 0 0 0 0 0 0 0 0 0 0 0 0 0 0 0 0 0 0 0 0 0 0 0 0 0 0 0 0 0 0 0 0 0 0 0 0 0 0 0 0 0 0 0\n"
          ],
          "name": "stdout"
        },
        {
          "output_type": "stream",
          "text": [
            "INFO:tensorflow:segment_ids: 0 0 0 0 0 0 0 0 0 0 0 0 0 0 0 0 0 0 0 0 0 0 0 0 0 0 0 0 0 0 0 0 0 0 0 0 0 0 0 0 0 0 0 0 0 0 0 0 0 0 0 0 0 0 0 0 0 0 0 0 0 0 0 0 0 0 0 0 0 0 0 0 0 0 0 0 0 0 0 0 0 0 0 0 0 0 0 0 0 0 0 0 0 0 0 0 0 0 0 0 0 0 0 0 0 0 0 0 0 0 0 0 0 0 0 0 0 0 0 0 0 0 0 0 0 0 0 0\n"
          ],
          "name": "stderr"
        },
        {
          "output_type": "stream",
          "text": [
            "INFO:tensorflow:label: 0 (id = 1)\n"
          ],
          "name": "stdout"
        },
        {
          "output_type": "stream",
          "text": [
            "INFO:tensorflow:label: 0 (id = 1)\n"
          ],
          "name": "stderr"
        },
        {
          "output_type": "stream",
          "text": [
            "INFO:tensorflow:Using config: {'_model_dir': 'output', '_tf_random_seed': None, '_save_summary_steps': 100, '_save_checkpoints_steps': 10000, '_save_checkpoints_secs': None, '_session_config': allow_soft_placement: true\n",
            "graph_options {\n",
            "  rewrite_options {\n",
            "    meta_optimizer_iterations: ONE\n",
            "  }\n",
            "}\n",
            ", '_keep_checkpoint_max': 5, '_keep_checkpoint_every_n_hours': 10000, '_log_step_count_steps': 100, '_train_distribute': None, '_device_fn': None, '_protocol': None, '_eval_distribute': None, '_experimental_distribute': None, '_experimental_max_worker_delay_secs': None, '_session_creation_timeout_secs': 7200, '_service': None, '_cluster_spec': <tensorflow.python.training.server_lib.ClusterSpec object at 0x7f245c0caa20>, '_task_type': 'worker', '_task_id': 0, '_global_id_in_cluster': 0, '_master': '', '_evaluation_master': '', '_is_chief': True, '_num_ps_replicas': 0, '_num_worker_replicas': 1}\n"
          ],
          "name": "stdout"
        },
        {
          "output_type": "stream",
          "text": [
            "INFO:tensorflow:Using config: {'_model_dir': 'output', '_tf_random_seed': None, '_save_summary_steps': 100, '_save_checkpoints_steps': 10000, '_save_checkpoints_secs': None, '_session_config': allow_soft_placement: true\n",
            "graph_options {\n",
            "  rewrite_options {\n",
            "    meta_optimizer_iterations: ONE\n",
            "  }\n",
            "}\n",
            ", '_keep_checkpoint_max': 5, '_keep_checkpoint_every_n_hours': 10000, '_log_step_count_steps': 100, '_train_distribute': None, '_device_fn': None, '_protocol': None, '_eval_distribute': None, '_experimental_distribute': None, '_experimental_max_worker_delay_secs': None, '_session_creation_timeout_secs': 7200, '_service': None, '_cluster_spec': <tensorflow.python.training.server_lib.ClusterSpec object at 0x7f245c0caa20>, '_task_type': 'worker', '_task_id': 0, '_global_id_in_cluster': 0, '_master': '', '_evaluation_master': '', '_is_chief': True, '_num_ps_replicas': 0, '_num_worker_replicas': 1}\n"
          ],
          "name": "stderr"
        },
        {
          "output_type": "stream",
          "text": [
            "WARNING:tensorflow:From /usr/local/lib/python3.6/dist-packages/tensorflow_core/python/training/training_util.py:236: Variable.initialized_value (from tensorflow.python.ops.variables) is deprecated and will be removed in a future version.\n",
            "Instructions for updating:\n",
            "Use Variable.read_value. Variables in 2.X are initialized automatically both in eager and graph (inside tf.defun) contexts.\n"
          ],
          "name": "stdout"
        },
        {
          "output_type": "stream",
          "text": [
            "WARNING:tensorflow:From /usr/local/lib/python3.6/dist-packages/tensorflow_core/python/training/training_util.py:236: Variable.initialized_value (from tensorflow.python.ops.variables) is deprecated and will be removed in a future version.\n",
            "Instructions for updating:\n",
            "Use Variable.read_value. Variables in 2.X are initialized automatically both in eager and graph (inside tf.defun) contexts.\n"
          ],
          "name": "stderr"
        },
        {
          "output_type": "stream",
          "text": [
            "INFO:tensorflow:Calling model_fn.\n"
          ],
          "name": "stdout"
        },
        {
          "output_type": "stream",
          "text": [
            "INFO:tensorflow:Calling model_fn.\n"
          ],
          "name": "stderr"
        },
        {
          "output_type": "stream",
          "text": [
            "INFO:tensorflow:Saver not created because there are no variables in the graph to restore\n"
          ],
          "name": "stdout"
        },
        {
          "output_type": "stream",
          "text": [
            "INFO:tensorflow:Saver not created because there are no variables in the graph to restore\n"
          ],
          "name": "stderr"
        },
        {
          "output_type": "stream",
          "text": [
            "WARNING:tensorflow:From <ipython-input-4-84c7ede190b1>:54: calling dropout (from tensorflow.python.ops.nn_ops) with keep_prob is deprecated and will be removed in a future version.\n",
            "Instructions for updating:\n",
            "Please use `rate` instead of `keep_prob`. Rate should be set to `rate = 1 - keep_prob`.\n"
          ],
          "name": "stdout"
        },
        {
          "output_type": "stream",
          "text": [
            "WARNING:tensorflow:From <ipython-input-4-84c7ede190b1>:54: calling dropout (from tensorflow.python.ops.nn_ops) with keep_prob is deprecated and will be removed in a future version.\n",
            "Instructions for updating:\n",
            "Please use `rate` instead of `keep_prob`. Rate should be set to `rate = 1 - keep_prob`.\n"
          ],
          "name": "stderr"
        },
        {
          "output_type": "stream",
          "text": [
            "WARNING:tensorflow:From /usr/local/lib/python3.6/dist-packages/bert/optimization.py:27: The name tf.train.get_or_create_global_step is deprecated. Please use tf.compat.v1.train.get_or_create_global_step instead.\n",
            "\n"
          ],
          "name": "stdout"
        },
        {
          "output_type": "stream",
          "text": [
            "WARNING:tensorflow:From /usr/local/lib/python3.6/dist-packages/bert/optimization.py:27: The name tf.train.get_or_create_global_step is deprecated. Please use tf.compat.v1.train.get_or_create_global_step instead.\n",
            "\n"
          ],
          "name": "stderr"
        },
        {
          "output_type": "stream",
          "text": [
            "WARNING:tensorflow:From /usr/local/lib/python3.6/dist-packages/bert/optimization.py:32: The name tf.train.polynomial_decay is deprecated. Please use tf.compat.v1.train.polynomial_decay instead.\n",
            "\n"
          ],
          "name": "stdout"
        },
        {
          "output_type": "stream",
          "text": [
            "WARNING:tensorflow:From /usr/local/lib/python3.6/dist-packages/bert/optimization.py:32: The name tf.train.polynomial_decay is deprecated. Please use tf.compat.v1.train.polynomial_decay instead.\n",
            "\n"
          ],
          "name": "stderr"
        },
        {
          "output_type": "stream",
          "text": [
            "WARNING:tensorflow:From /usr/local/lib/python3.6/dist-packages/bert/optimization.py:70: The name tf.trainable_variables is deprecated. Please use tf.compat.v1.trainable_variables instead.\n",
            "\n"
          ],
          "name": "stdout"
        },
        {
          "output_type": "stream",
          "text": [
            "WARNING:tensorflow:From /usr/local/lib/python3.6/dist-packages/bert/optimization.py:70: The name tf.trainable_variables is deprecated. Please use tf.compat.v1.trainable_variables instead.\n",
            "\n"
          ],
          "name": "stderr"
        },
        {
          "output_type": "stream",
          "text": [
            "WARNING:tensorflow:From /usr/local/lib/python3.6/dist-packages/tensorflow_core/python/ops/math_grad.py:1375: where (from tensorflow.python.ops.array_ops) is deprecated and will be removed in a future version.\n",
            "Instructions for updating:\n",
            "Use tf.where in 2.0, which has the same broadcast rule as np.where\n"
          ],
          "name": "stdout"
        },
        {
          "output_type": "stream",
          "text": [
            "WARNING:tensorflow:From /usr/local/lib/python3.6/dist-packages/tensorflow_core/python/ops/math_grad.py:1375: where (from tensorflow.python.ops.array_ops) is deprecated and will be removed in a future version.\n",
            "Instructions for updating:\n",
            "Use tf.where in 2.0, which has the same broadcast rule as np.where\n",
            "/usr/local/lib/python3.6/dist-packages/tensorflow_core/python/framework/indexed_slices.py:424: UserWarning: Converting sparse IndexedSlices to a dense Tensor of unknown shape. This may consume a large amount of memory.\n",
            "  \"Converting sparse IndexedSlices to a dense Tensor of unknown shape. \"\n"
          ],
          "name": "stderr"
        },
        {
          "output_type": "stream",
          "text": [
            "WARNING:tensorflow:\n",
            "The TensorFlow contrib module will not be included in TensorFlow 2.0.\n",
            "For more information, please see:\n",
            "  * https://github.com/tensorflow/community/blob/master/rfcs/20180907-contrib-sunset.md\n",
            "  * https://github.com/tensorflow/addons\n",
            "  * https://github.com/tensorflow/io (for I/O related ops)\n",
            "If you depend on functionality not listed there, please file an issue.\n",
            "\n"
          ],
          "name": "stdout"
        },
        {
          "output_type": "stream",
          "text": [
            "WARNING:tensorflow:\n",
            "The TensorFlow contrib module will not be included in TensorFlow 2.0.\n",
            "For more information, please see:\n",
            "  * https://github.com/tensorflow/community/blob/master/rfcs/20180907-contrib-sunset.md\n",
            "  * https://github.com/tensorflow/addons\n",
            "  * https://github.com/tensorflow/io (for I/O related ops)\n",
            "If you depend on functionality not listed there, please file an issue.\n",
            "\n"
          ],
          "name": "stderr"
        },
        {
          "output_type": "stream",
          "text": [
            "WARNING:tensorflow:From /usr/local/lib/python3.6/dist-packages/tensorflow_core/contrib/metrics/python/metrics/classification.py:162: div (from tensorflow.python.ops.math_ops) is deprecated and will be removed in a future version.\n",
            "Instructions for updating:\n",
            "Deprecated in favor of operator or tf.math.divide.\n"
          ],
          "name": "stdout"
        },
        {
          "output_type": "stream",
          "text": [
            "WARNING:tensorflow:From /usr/local/lib/python3.6/dist-packages/tensorflow_core/contrib/metrics/python/metrics/classification.py:162: div (from tensorflow.python.ops.math_ops) is deprecated and will be removed in a future version.\n",
            "Instructions for updating:\n",
            "Deprecated in favor of operator or tf.math.divide.\n"
          ],
          "name": "stderr"
        },
        {
          "output_type": "stream",
          "text": [
            "INFO:tensorflow:Done calling model_fn.\n"
          ],
          "name": "stdout"
        },
        {
          "output_type": "stream",
          "text": [
            "INFO:tensorflow:Done calling model_fn.\n"
          ],
          "name": "stderr"
        },
        {
          "output_type": "stream",
          "text": [
            "INFO:tensorflow:Create CheckpointSaverHook.\n"
          ],
          "name": "stdout"
        },
        {
          "output_type": "stream",
          "text": [
            "INFO:tensorflow:Create CheckpointSaverHook.\n"
          ],
          "name": "stderr"
        },
        {
          "output_type": "stream",
          "text": [
            "INFO:tensorflow:Graph was finalized.\n"
          ],
          "name": "stdout"
        },
        {
          "output_type": "stream",
          "text": [
            "INFO:tensorflow:Graph was finalized.\n"
          ],
          "name": "stderr"
        },
        {
          "output_type": "stream",
          "text": [
            "INFO:tensorflow:Restoring parameters from output/model.ckpt-0\n"
          ],
          "name": "stdout"
        },
        {
          "output_type": "stream",
          "text": [
            "INFO:tensorflow:Restoring parameters from output/model.ckpt-0\n"
          ],
          "name": "stderr"
        },
        {
          "output_type": "stream",
          "text": [
            "WARNING:tensorflow:From /usr/local/lib/python3.6/dist-packages/tensorflow_core/python/training/saver.py:1069: get_checkpoint_mtimes (from tensorflow.python.training.checkpoint_management) is deprecated and will be removed in a future version.\n",
            "Instructions for updating:\n",
            "Use standard file utilities to get mtimes.\n"
          ],
          "name": "stdout"
        },
        {
          "output_type": "stream",
          "text": [
            "WARNING:tensorflow:From /usr/local/lib/python3.6/dist-packages/tensorflow_core/python/training/saver.py:1069: get_checkpoint_mtimes (from tensorflow.python.training.checkpoint_management) is deprecated and will be removed in a future version.\n",
            "Instructions for updating:\n",
            "Use standard file utilities to get mtimes.\n"
          ],
          "name": "stderr"
        },
        {
          "output_type": "stream",
          "text": [
            "INFO:tensorflow:Running local_init_op.\n"
          ],
          "name": "stdout"
        },
        {
          "output_type": "stream",
          "text": [
            "INFO:tensorflow:Running local_init_op.\n"
          ],
          "name": "stderr"
        },
        {
          "output_type": "stream",
          "text": [
            "INFO:tensorflow:Done running local_init_op.\n"
          ],
          "name": "stdout"
        },
        {
          "output_type": "stream",
          "text": [
            "INFO:tensorflow:Done running local_init_op.\n"
          ],
          "name": "stderr"
        },
        {
          "output_type": "stream",
          "text": [
            "INFO:tensorflow:Saving checkpoints for 0 into output/model.ckpt.\n"
          ],
          "name": "stdout"
        },
        {
          "output_type": "stream",
          "text": [
            "INFO:tensorflow:Saving checkpoints for 0 into output/model.ckpt.\n"
          ],
          "name": "stderr"
        },
        {
          "output_type": "stream",
          "text": [
            "INFO:tensorflow:loss = 0.5822313, step = 0\n"
          ],
          "name": "stdout"
        },
        {
          "output_type": "stream",
          "text": [
            "INFO:tensorflow:loss = 0.5822313, step = 0\n"
          ],
          "name": "stderr"
        },
        {
          "output_type": "stream",
          "text": [
            "INFO:tensorflow:global_step/sec: 0.556237\n"
          ],
          "name": "stdout"
        },
        {
          "output_type": "stream",
          "text": [
            "INFO:tensorflow:global_step/sec: 0.556237\n"
          ],
          "name": "stderr"
        },
        {
          "output_type": "stream",
          "text": [
            "INFO:tensorflow:loss = 0.10883025, step = 100 (179.781 sec)\n"
          ],
          "name": "stdout"
        },
        {
          "output_type": "stream",
          "text": [
            "INFO:tensorflow:loss = 0.10883025, step = 100 (179.781 sec)\n"
          ],
          "name": "stderr"
        },
        {
          "output_type": "stream",
          "text": [
            "INFO:tensorflow:global_step/sec: 0.616879\n"
          ],
          "name": "stdout"
        },
        {
          "output_type": "stream",
          "text": [
            "INFO:tensorflow:global_step/sec: 0.616879\n"
          ],
          "name": "stderr"
        },
        {
          "output_type": "stream",
          "text": [
            "INFO:tensorflow:loss = 0.1476025, step = 200 (162.107 sec)\n"
          ],
          "name": "stdout"
        },
        {
          "output_type": "stream",
          "text": [
            "INFO:tensorflow:loss = 0.1476025, step = 200 (162.107 sec)\n"
          ],
          "name": "stderr"
        },
        {
          "output_type": "stream",
          "text": [
            "INFO:tensorflow:global_step/sec: 0.617648\n"
          ],
          "name": "stdout"
        },
        {
          "output_type": "stream",
          "text": [
            "INFO:tensorflow:global_step/sec: 0.617648\n"
          ],
          "name": "stderr"
        },
        {
          "output_type": "stream",
          "text": [
            "INFO:tensorflow:loss = 0.00417759, step = 300 (161.905 sec)\n"
          ],
          "name": "stdout"
        },
        {
          "output_type": "stream",
          "text": [
            "INFO:tensorflow:loss = 0.00417759, step = 300 (161.905 sec)\n"
          ],
          "name": "stderr"
        },
        {
          "output_type": "stream",
          "text": [
            "INFO:tensorflow:global_step/sec: 0.617595\n"
          ],
          "name": "stdout"
        },
        {
          "output_type": "stream",
          "text": [
            "INFO:tensorflow:global_step/sec: 0.617595\n"
          ],
          "name": "stderr"
        },
        {
          "output_type": "stream",
          "text": [
            "INFO:tensorflow:loss = 0.0080673285, step = 400 (161.922 sec)\n"
          ],
          "name": "stdout"
        },
        {
          "output_type": "stream",
          "text": [
            "INFO:tensorflow:loss = 0.0080673285, step = 400 (161.922 sec)\n"
          ],
          "name": "stderr"
        },
        {
          "output_type": "stream",
          "text": [
            "INFO:tensorflow:global_step/sec: 0.617449\n"
          ],
          "name": "stdout"
        },
        {
          "output_type": "stream",
          "text": [
            "INFO:tensorflow:global_step/sec: 0.617449\n"
          ],
          "name": "stderr"
        },
        {
          "output_type": "stream",
          "text": [
            "INFO:tensorflow:loss = 0.0016346495, step = 500 (161.956 sec)\n"
          ],
          "name": "stdout"
        },
        {
          "output_type": "stream",
          "text": [
            "INFO:tensorflow:loss = 0.0016346495, step = 500 (161.956 sec)\n"
          ],
          "name": "stderr"
        },
        {
          "output_type": "stream",
          "text": [
            "INFO:tensorflow:global_step/sec: 0.618368\n"
          ],
          "name": "stdout"
        },
        {
          "output_type": "stream",
          "text": [
            "INFO:tensorflow:global_step/sec: 0.618368\n"
          ],
          "name": "stderr"
        },
        {
          "output_type": "stream",
          "text": [
            "INFO:tensorflow:loss = 0.00081700436, step = 600 (161.713 sec)\n"
          ],
          "name": "stdout"
        },
        {
          "output_type": "stream",
          "text": [
            "INFO:tensorflow:loss = 0.00081700436, step = 600 (161.713 sec)\n"
          ],
          "name": "stderr"
        },
        {
          "output_type": "stream",
          "text": [
            "INFO:tensorflow:global_step/sec: 0.618049\n"
          ],
          "name": "stdout"
        },
        {
          "output_type": "stream",
          "text": [
            "INFO:tensorflow:global_step/sec: 0.618049\n"
          ],
          "name": "stderr"
        },
        {
          "output_type": "stream",
          "text": [
            "INFO:tensorflow:loss = 0.016845454, step = 700 (161.799 sec)\n"
          ],
          "name": "stdout"
        },
        {
          "output_type": "stream",
          "text": [
            "INFO:tensorflow:loss = 0.016845454, step = 700 (161.799 sec)\n"
          ],
          "name": "stderr"
        },
        {
          "output_type": "stream",
          "text": [
            "INFO:tensorflow:Saving checkpoints for 750 into output/model.ckpt.\n"
          ],
          "name": "stdout"
        },
        {
          "output_type": "stream",
          "text": [
            "INFO:tensorflow:Saving checkpoints for 750 into output/model.ckpt.\n"
          ],
          "name": "stderr"
        },
        {
          "output_type": "stream",
          "text": [
            "INFO:tensorflow:Loss for final step: 0.0035017766.\n"
          ],
          "name": "stdout"
        },
        {
          "output_type": "stream",
          "text": [
            "INFO:tensorflow:Loss for final step: 0.0035017766.\n"
          ],
          "name": "stderr"
        },
        {
          "output_type": "stream",
          "text": [
            "INFO:tensorflow:Calling model_fn.\n"
          ],
          "name": "stdout"
        },
        {
          "output_type": "stream",
          "text": [
            "INFO:tensorflow:Calling model_fn.\n"
          ],
          "name": "stderr"
        },
        {
          "output_type": "stream",
          "text": [
            "INFO:tensorflow:Saver not created because there are no variables in the graph to restore\n"
          ],
          "name": "stdout"
        },
        {
          "output_type": "stream",
          "text": [
            "INFO:tensorflow:Saver not created because there are no variables in the graph to restore\n",
            "/usr/local/lib/python3.6/dist-packages/tensorflow_core/python/framework/indexed_slices.py:424: UserWarning: Converting sparse IndexedSlices to a dense Tensor of unknown shape. This may consume a large amount of memory.\n",
            "  \"Converting sparse IndexedSlices to a dense Tensor of unknown shape. \"\n"
          ],
          "name": "stderr"
        },
        {
          "output_type": "stream",
          "text": [
            "INFO:tensorflow:Done calling model_fn.\n"
          ],
          "name": "stdout"
        },
        {
          "output_type": "stream",
          "text": [
            "INFO:tensorflow:Done calling model_fn.\n"
          ],
          "name": "stderr"
        },
        {
          "output_type": "stream",
          "text": [
            "INFO:tensorflow:Starting evaluation at 2019-10-21T17:59:09Z\n"
          ],
          "name": "stdout"
        },
        {
          "output_type": "stream",
          "text": [
            "INFO:tensorflow:Starting evaluation at 2019-10-21T17:59:09Z\n"
          ],
          "name": "stderr"
        },
        {
          "output_type": "stream",
          "text": [
            "INFO:tensorflow:Graph was finalized.\n"
          ],
          "name": "stdout"
        },
        {
          "output_type": "stream",
          "text": [
            "INFO:tensorflow:Graph was finalized.\n"
          ],
          "name": "stderr"
        },
        {
          "output_type": "stream",
          "text": [
            "INFO:tensorflow:Restoring parameters from output/model.ckpt-750\n"
          ],
          "name": "stdout"
        },
        {
          "output_type": "stream",
          "text": [
            "INFO:tensorflow:Restoring parameters from output/model.ckpt-750\n"
          ],
          "name": "stderr"
        },
        {
          "output_type": "stream",
          "text": [
            "INFO:tensorflow:Running local_init_op.\n"
          ],
          "name": "stdout"
        },
        {
          "output_type": "stream",
          "text": [
            "INFO:tensorflow:Running local_init_op.\n"
          ],
          "name": "stderr"
        },
        {
          "output_type": "stream",
          "text": [
            "INFO:tensorflow:Done running local_init_op.\n"
          ],
          "name": "stdout"
        },
        {
          "output_type": "stream",
          "text": [
            "INFO:tensorflow:Done running local_init_op.\n"
          ],
          "name": "stderr"
        },
        {
          "output_type": "stream",
          "text": [
            "INFO:tensorflow:Finished evaluation at 2019-10-21-17:59:51\n"
          ],
          "name": "stdout"
        },
        {
          "output_type": "stream",
          "text": [
            "INFO:tensorflow:Finished evaluation at 2019-10-21-17:59:51\n"
          ],
          "name": "stderr"
        },
        {
          "output_type": "stream",
          "text": [
            "INFO:tensorflow:Saving dict for global step 750: auc = 0.94679004, eval_accuracy = 0.9725, f1_score = 0.9839789, false_negatives = 30.0, false_positives = 25.0, global_step = 750, loss = 0.12782931, precision = 0.9854142, recall = 0.982548, true_negatives = 256.0, true_positives = 1689.0\n"
          ],
          "name": "stdout"
        },
        {
          "output_type": "stream",
          "text": [
            "INFO:tensorflow:Saving dict for global step 750: auc = 0.94679004, eval_accuracy = 0.9725, f1_score = 0.9839789, false_negatives = 30.0, false_positives = 25.0, global_step = 750, loss = 0.12782931, precision = 0.9854142, recall = 0.982548, true_negatives = 256.0, true_positives = 1689.0\n"
          ],
          "name": "stderr"
        },
        {
          "output_type": "stream",
          "text": [
            "INFO:tensorflow:Saving 'checkpoint_path' summary for global step 750: output/model.ckpt-750\n"
          ],
          "name": "stdout"
        },
        {
          "output_type": "stream",
          "text": [
            "INFO:tensorflow:Saving 'checkpoint_path' summary for global step 750: output/model.ckpt-750\n"
          ],
          "name": "stderr"
        }
      ]
    },
    {
      "cell_type": "code",
      "metadata": {
        "id": "YLOvtveTMqwp",
        "colab_type": "code",
        "outputId": "2c0fe456-d009-49a0-e36e-e1dfaef772f9",
        "colab": {
          "base_uri": "https://localhost:8080/",
          "height": 390
        }
      },
      "source": [
        "pretty_print(result)"
      ],
      "execution_count": 0,
      "outputs": [
        {
          "output_type": "execute_result",
          "data": {
            "text/html": [
              "<div>\n",
              "<style scoped>\n",
              "    .dataframe tbody tr th:only-of-type {\n",
              "        vertical-align: middle;\n",
              "    }\n",
              "\n",
              "    .dataframe tbody tr th {\n",
              "        vertical-align: top;\n",
              "    }\n",
              "\n",
              "    .dataframe thead th {\n",
              "        text-align: right;\n",
              "    }\n",
              "</style>\n",
              "<table border=\"1\" class=\"dataframe\">\n",
              "  <thead>\n",
              "    <tr style=\"text-align: right;\">\n",
              "      <th></th>\n",
              "      <th>values</th>\n",
              "    </tr>\n",
              "  </thead>\n",
              "  <tbody>\n",
              "    <tr>\n",
              "      <th>auc</th>\n",
              "      <td>0.946790</td>\n",
              "    </tr>\n",
              "    <tr>\n",
              "      <th>eval_accuracy</th>\n",
              "      <td>0.972500</td>\n",
              "    </tr>\n",
              "    <tr>\n",
              "      <th>f1_score</th>\n",
              "      <td>0.983979</td>\n",
              "    </tr>\n",
              "    <tr>\n",
              "      <th>false_negatives</th>\n",
              "      <td>30.000000</td>\n",
              "    </tr>\n",
              "    <tr>\n",
              "      <th>false_positives</th>\n",
              "      <td>25.000000</td>\n",
              "    </tr>\n",
              "    <tr>\n",
              "      <th>global_step</th>\n",
              "      <td>750.000000</td>\n",
              "    </tr>\n",
              "    <tr>\n",
              "      <th>loss</th>\n",
              "      <td>0.127829</td>\n",
              "    </tr>\n",
              "    <tr>\n",
              "      <th>precision</th>\n",
              "      <td>0.985414</td>\n",
              "    </tr>\n",
              "    <tr>\n",
              "      <th>recall</th>\n",
              "      <td>0.982548</td>\n",
              "    </tr>\n",
              "    <tr>\n",
              "      <th>true_negatives</th>\n",
              "      <td>256.000000</td>\n",
              "    </tr>\n",
              "    <tr>\n",
              "      <th>true_positives</th>\n",
              "      <td>1689.000000</td>\n",
              "    </tr>\n",
              "  </tbody>\n",
              "</table>\n",
              "</div>"
            ],
            "text/plain": [
              "                      values\n",
              "auc                 0.946790\n",
              "eval_accuracy       0.972500\n",
              "f1_score            0.983979\n",
              "false_negatives    30.000000\n",
              "false_positives    25.000000\n",
              "global_step       750.000000\n",
              "loss                0.127829\n",
              "precision           0.985414\n",
              "recall              0.982548\n",
              "true_negatives    256.000000\n",
              "true_positives   1689.000000"
            ]
          },
          "metadata": {
            "tags": []
          },
          "execution_count": 13
        }
      ]
    },
    {
      "cell_type": "code",
      "metadata": {
        "id": "D0OPTDcGMsJw",
        "colab_type": "code",
        "colab": {}
      },
      "source": [
        "def getPrediction(in_sentences, estimator):\n",
        "  labels = [\"Negaitive\", \"Positive\"]\n",
        "  label_list = train['label'].unique().tolist()\n",
        "  MAX_SEQ_LENGTH = 128\n",
        "  bert_model_hub = \"https://tfhub.dev/google/bert_uncased_L-12_H-768_A-12/1\"\n",
        "  \n",
        "  tokenizer = create_tokenizer_from_hub_module(bert_model_hub)\n",
        "  input_examples = [bert.run_classifier.InputExample(guid=\"\", \n",
        "                                                     text_a = x, \n",
        "                                                     text_b = None, \n",
        "                                                     label = 0) \n",
        "                    for x in in_sentences]\n",
        "  input_features = bert.run_classifier.convert_examples_to_features(input_examples, \n",
        "                                                                    label_list, \n",
        "                                                                    MAX_SEQ_LENGTH, \n",
        "                                                                    tokenizer)\n",
        "  predict_input_fn = bert.run_classifier.input_fn_builder(\n",
        "      features=input_features, \n",
        "      seq_length=MAX_SEQ_LENGTH, \n",
        "      is_training=False, \n",
        "      drop_remainder=False)\n",
        "  predictions = estimator.predict(predict_input_fn)\n",
        "  return [(sentence, prediction['probabilities'], labels[prediction['labels']]) for sentence, prediction in zip(in_sentences, predictions)]"
      ],
      "execution_count": 0,
      "outputs": []
    },
    {
      "cell_type": "code",
      "metadata": {
        "id": "PK8PlJ_3dl3a",
        "colab_type": "code",
        "outputId": "9f970710-bfbe-424b-add5-b2cbf9c34512",
        "colab": {
          "base_uri": "https://localhost:8080/",
          "height": 1000
        }
      },
      "source": [
        "target = pd.read_csv('test_new.csv')\n",
        "pred_sentences = target['comment'].values.tolist()\n",
        "predictions = getPrediction(pred_sentences, estimator)"
      ],
      "execution_count": 0,
      "outputs": [
        {
          "output_type": "stream",
          "text": [
            "INFO:tensorflow:Saver not created because there are no variables in the graph to restore\n"
          ],
          "name": "stdout"
        },
        {
          "output_type": "stream",
          "text": [
            "INFO:tensorflow:Saver not created because there are no variables in the graph to restore\n"
          ],
          "name": "stderr"
        },
        {
          "output_type": "stream",
          "text": [
            "INFO:tensorflow:Writing example 0 of 2000\n"
          ],
          "name": "stdout"
        },
        {
          "output_type": "stream",
          "text": [
            "INFO:tensorflow:Writing example 0 of 2000\n"
          ],
          "name": "stderr"
        },
        {
          "output_type": "stream",
          "text": [
            "INFO:tensorflow:*** Example ***\n"
          ],
          "name": "stdout"
        },
        {
          "output_type": "stream",
          "text": [
            "INFO:tensorflow:*** Example ***\n"
          ],
          "name": "stderr"
        },
        {
          "output_type": "stream",
          "text": [
            "INFO:tensorflow:guid: None\n"
          ],
          "name": "stdout"
        },
        {
          "output_type": "stream",
          "text": [
            "INFO:tensorflow:guid: None\n"
          ],
          "name": "stderr"
        },
        {
          "output_type": "stream",
          "text": [
            "INFO:tensorflow:tokens: [CLS] [UNK] [UNK] [UNK] [UNK] 我 小 [UNK] [UNK] 的 [UNK] [UNK] [UNK] ， [UNK] [UNK] [UNK] [UNK] [UNK] [UNK] ， [UNK] [UNK] 小 [UNK] [UNK] 的 [UNK] [UNK] [UNK] 有 [UNK] [UNK] [UNK] ！ [UNK] [UNK] 也 [UNK] [UNK] ！ [UNK] [UNK] [UNK] [UNK] [SEP]\n"
          ],
          "name": "stdout"
        },
        {
          "output_type": "stream",
          "text": [
            "INFO:tensorflow:tokens: [CLS] [UNK] [UNK] [UNK] [UNK] 我 小 [UNK] [UNK] 的 [UNK] [UNK] [UNK] ， [UNK] [UNK] [UNK] [UNK] [UNK] [UNK] ， [UNK] [UNK] 小 [UNK] [UNK] 的 [UNK] [UNK] [UNK] 有 [UNK] [UNK] [UNK] ！ [UNK] [UNK] 也 [UNK] [UNK] ！ [UNK] [UNK] [UNK] [UNK] [SEP]\n"
          ],
          "name": "stderr"
        },
        {
          "output_type": "stream",
          "text": [
            "INFO:tensorflow:input_ids: 101 100 100 100 100 1855 1829 100 100 1916 100 100 100 1989 100 100 100 100 100 100 1989 100 100 1829 100 100 1916 100 100 100 1873 100 100 100 1986 100 100 1750 100 100 1986 100 100 100 100 102 0 0 0 0 0 0 0 0 0 0 0 0 0 0 0 0 0 0 0 0 0 0 0 0 0 0 0 0 0 0 0 0 0 0 0 0 0 0 0 0 0 0 0 0 0 0 0 0 0 0 0 0 0 0 0 0 0 0 0 0 0 0 0 0 0 0 0 0 0 0 0 0 0 0 0 0 0 0 0 0 0 0\n"
          ],
          "name": "stdout"
        },
        {
          "output_type": "stream",
          "text": [
            "INFO:tensorflow:input_ids: 101 100 100 100 100 1855 1829 100 100 1916 100 100 100 1989 100 100 100 100 100 100 1989 100 100 1829 100 100 1916 100 100 100 1873 100 100 100 1986 100 100 1750 100 100 1986 100 100 100 100 102 0 0 0 0 0 0 0 0 0 0 0 0 0 0 0 0 0 0 0 0 0 0 0 0 0 0 0 0 0 0 0 0 0 0 0 0 0 0 0 0 0 0 0 0 0 0 0 0 0 0 0 0 0 0 0 0 0 0 0 0 0 0 0 0 0 0 0 0 0 0 0 0 0 0 0 0 0 0 0 0 0 0\n"
          ],
          "name": "stderr"
        },
        {
          "output_type": "stream",
          "text": [
            "INFO:tensorflow:input_mask: 1 1 1 1 1 1 1 1 1 1 1 1 1 1 1 1 1 1 1 1 1 1 1 1 1 1 1 1 1 1 1 1 1 1 1 1 1 1 1 1 1 1 1 1 1 1 0 0 0 0 0 0 0 0 0 0 0 0 0 0 0 0 0 0 0 0 0 0 0 0 0 0 0 0 0 0 0 0 0 0 0 0 0 0 0 0 0 0 0 0 0 0 0 0 0 0 0 0 0 0 0 0 0 0 0 0 0 0 0 0 0 0 0 0 0 0 0 0 0 0 0 0 0 0 0 0 0 0\n"
          ],
          "name": "stdout"
        },
        {
          "output_type": "stream",
          "text": [
            "INFO:tensorflow:input_mask: 1 1 1 1 1 1 1 1 1 1 1 1 1 1 1 1 1 1 1 1 1 1 1 1 1 1 1 1 1 1 1 1 1 1 1 1 1 1 1 1 1 1 1 1 1 1 0 0 0 0 0 0 0 0 0 0 0 0 0 0 0 0 0 0 0 0 0 0 0 0 0 0 0 0 0 0 0 0 0 0 0 0 0 0 0 0 0 0 0 0 0 0 0 0 0 0 0 0 0 0 0 0 0 0 0 0 0 0 0 0 0 0 0 0 0 0 0 0 0 0 0 0 0 0 0 0 0 0\n"
          ],
          "name": "stderr"
        },
        {
          "output_type": "stream",
          "text": [
            "INFO:tensorflow:segment_ids: 0 0 0 0 0 0 0 0 0 0 0 0 0 0 0 0 0 0 0 0 0 0 0 0 0 0 0 0 0 0 0 0 0 0 0 0 0 0 0 0 0 0 0 0 0 0 0 0 0 0 0 0 0 0 0 0 0 0 0 0 0 0 0 0 0 0 0 0 0 0 0 0 0 0 0 0 0 0 0 0 0 0 0 0 0 0 0 0 0 0 0 0 0 0 0 0 0 0 0 0 0 0 0 0 0 0 0 0 0 0 0 0 0 0 0 0 0 0 0 0 0 0 0 0 0 0 0 0\n"
          ],
          "name": "stdout"
        },
        {
          "output_type": "stream",
          "text": [
            "INFO:tensorflow:segment_ids: 0 0 0 0 0 0 0 0 0 0 0 0 0 0 0 0 0 0 0 0 0 0 0 0 0 0 0 0 0 0 0 0 0 0 0 0 0 0 0 0 0 0 0 0 0 0 0 0 0 0 0 0 0 0 0 0 0 0 0 0 0 0 0 0 0 0 0 0 0 0 0 0 0 0 0 0 0 0 0 0 0 0 0 0 0 0 0 0 0 0 0 0 0 0 0 0 0 0 0 0 0 0 0 0 0 0 0 0 0 0 0 0 0 0 0 0 0 0 0 0 0 0 0 0 0 0 0 0\n"
          ],
          "name": "stderr"
        },
        {
          "output_type": "stream",
          "text": [
            "INFO:tensorflow:label: 0 (id = 1)\n"
          ],
          "name": "stdout"
        },
        {
          "output_type": "stream",
          "text": [
            "INFO:tensorflow:label: 0 (id = 1)\n"
          ],
          "name": "stderr"
        },
        {
          "output_type": "stream",
          "text": [
            "INFO:tensorflow:*** Example ***\n"
          ],
          "name": "stdout"
        },
        {
          "output_type": "stream",
          "text": [
            "INFO:tensorflow:*** Example ***\n"
          ],
          "name": "stderr"
        },
        {
          "output_type": "stream",
          "text": [
            "INFO:tensorflow:guid: None\n"
          ],
          "name": "stdout"
        },
        {
          "output_type": "stream",
          "text": [
            "INFO:tensorflow:guid: None\n"
          ],
          "name": "stderr"
        },
        {
          "output_type": "stream",
          "text": [
            "INFO:tensorflow:tokens: [CLS] [UNK] [UNK] 的 五 星 [UNK] [UNK] ， 口 [UNK] [UNK] ， [UNK] [UNK] [UNK] ， [UNK] [UNK] [UNK] [UNK] ， [UNK] 天 [UNK] 一 [UNK] [UNK] ， [UNK] 天 [UNK] [UNK] [UNK] [UNK] ， [UNK] 的 [UNK] [UNK] ， [UNK] [UNK] [UNK] 我 加 [UNK] [UNK] [UNK] [UNK] [UNK] [UNK] ， 我 [UNK] [UNK] [UNK] ， [UNK] [UNK] [UNK] 我 [UNK] [UNK] [UNK] [UNK] [UNK] ， 我 [UNK] 都 [UNK] [UNK] ， [UNK] [UNK] ， [UNK] [UNK] 的 [UNK] [UNK] 都 [UNK] 我 加 [UNK] ， [UNK] [UNK] [SEP]\n"
          ],
          "name": "stdout"
        },
        {
          "output_type": "stream",
          "text": [
            "INFO:tensorflow:tokens: [CLS] [UNK] [UNK] 的 五 星 [UNK] [UNK] ， 口 [UNK] [UNK] ， [UNK] [UNK] [UNK] ， [UNK] [UNK] [UNK] [UNK] ， [UNK] 天 [UNK] 一 [UNK] [UNK] ， [UNK] 天 [UNK] [UNK] [UNK] [UNK] ， [UNK] 的 [UNK] [UNK] ， [UNK] [UNK] [UNK] 我 加 [UNK] [UNK] [UNK] [UNK] [UNK] [UNK] ， 我 [UNK] [UNK] [UNK] ， [UNK] [UNK] [UNK] 我 [UNK] [UNK] [UNK] [UNK] [UNK] ， 我 [UNK] 都 [UNK] [UNK] ， [UNK] [UNK] ， [UNK] [UNK] 的 [UNK] [UNK] 都 [UNK] 我 加 [UNK] ， [UNK] [UNK] [SEP]\n"
          ],
          "name": "stderr"
        },
        {
          "output_type": "stream",
          "text": [
            "INFO:tensorflow:input_ids: 101 100 100 1916 1753 1866 100 100 1989 1788 100 100 1989 100 100 100 1989 100 100 100 100 1989 100 1811 100 1740 100 100 1989 100 1811 100 100 100 100 1989 100 1916 100 100 1989 100 100 100 1855 1779 100 100 100 100 100 100 1989 1855 100 100 100 1989 100 100 100 1855 100 100 100 100 100 1989 1855 100 1961 100 100 1989 100 100 1989 100 100 1916 100 100 1961 100 1855 1779 100 1989 100 100 102 0 0 0 0 0 0 0 0 0 0 0 0 0 0 0 0 0 0 0 0 0 0 0 0 0 0 0 0 0 0 0 0 0 0 0 0 0\n"
          ],
          "name": "stdout"
        },
        {
          "output_type": "stream",
          "text": [
            "INFO:tensorflow:input_ids: 101 100 100 1916 1753 1866 100 100 1989 1788 100 100 1989 100 100 100 1989 100 100 100 100 1989 100 1811 100 1740 100 100 1989 100 1811 100 100 100 100 1989 100 1916 100 100 1989 100 100 100 1855 1779 100 100 100 100 100 100 1989 1855 100 100 100 1989 100 100 100 1855 100 100 100 100 100 1989 1855 100 1961 100 100 1989 100 100 1989 100 100 1916 100 100 1961 100 1855 1779 100 1989 100 100 102 0 0 0 0 0 0 0 0 0 0 0 0 0 0 0 0 0 0 0 0 0 0 0 0 0 0 0 0 0 0 0 0 0 0 0 0 0\n"
          ],
          "name": "stderr"
        },
        {
          "output_type": "stream",
          "text": [
            "INFO:tensorflow:input_mask: 1 1 1 1 1 1 1 1 1 1 1 1 1 1 1 1 1 1 1 1 1 1 1 1 1 1 1 1 1 1 1 1 1 1 1 1 1 1 1 1 1 1 1 1 1 1 1 1 1 1 1 1 1 1 1 1 1 1 1 1 1 1 1 1 1 1 1 1 1 1 1 1 1 1 1 1 1 1 1 1 1 1 1 1 1 1 1 1 1 1 1 0 0 0 0 0 0 0 0 0 0 0 0 0 0 0 0 0 0 0 0 0 0 0 0 0 0 0 0 0 0 0 0 0 0 0 0 0\n"
          ],
          "name": "stdout"
        },
        {
          "output_type": "stream",
          "text": [
            "INFO:tensorflow:input_mask: 1 1 1 1 1 1 1 1 1 1 1 1 1 1 1 1 1 1 1 1 1 1 1 1 1 1 1 1 1 1 1 1 1 1 1 1 1 1 1 1 1 1 1 1 1 1 1 1 1 1 1 1 1 1 1 1 1 1 1 1 1 1 1 1 1 1 1 1 1 1 1 1 1 1 1 1 1 1 1 1 1 1 1 1 1 1 1 1 1 1 1 0 0 0 0 0 0 0 0 0 0 0 0 0 0 0 0 0 0 0 0 0 0 0 0 0 0 0 0 0 0 0 0 0 0 0 0 0\n"
          ],
          "name": "stderr"
        },
        {
          "output_type": "stream",
          "text": [
            "INFO:tensorflow:segment_ids: 0 0 0 0 0 0 0 0 0 0 0 0 0 0 0 0 0 0 0 0 0 0 0 0 0 0 0 0 0 0 0 0 0 0 0 0 0 0 0 0 0 0 0 0 0 0 0 0 0 0 0 0 0 0 0 0 0 0 0 0 0 0 0 0 0 0 0 0 0 0 0 0 0 0 0 0 0 0 0 0 0 0 0 0 0 0 0 0 0 0 0 0 0 0 0 0 0 0 0 0 0 0 0 0 0 0 0 0 0 0 0 0 0 0 0 0 0 0 0 0 0 0 0 0 0 0 0 0\n"
          ],
          "name": "stdout"
        },
        {
          "output_type": "stream",
          "text": [
            "INFO:tensorflow:segment_ids: 0 0 0 0 0 0 0 0 0 0 0 0 0 0 0 0 0 0 0 0 0 0 0 0 0 0 0 0 0 0 0 0 0 0 0 0 0 0 0 0 0 0 0 0 0 0 0 0 0 0 0 0 0 0 0 0 0 0 0 0 0 0 0 0 0 0 0 0 0 0 0 0 0 0 0 0 0 0 0 0 0 0 0 0 0 0 0 0 0 0 0 0 0 0 0 0 0 0 0 0 0 0 0 0 0 0 0 0 0 0 0 0 0 0 0 0 0 0 0 0 0 0 0 0 0 0 0 0\n"
          ],
          "name": "stderr"
        },
        {
          "output_type": "stream",
          "text": [
            "INFO:tensorflow:label: 0 (id = 1)\n"
          ],
          "name": "stdout"
        },
        {
          "output_type": "stream",
          "text": [
            "INFO:tensorflow:label: 0 (id = 1)\n"
          ],
          "name": "stderr"
        },
        {
          "output_type": "stream",
          "text": [
            "INFO:tensorflow:*** Example ***\n"
          ],
          "name": "stdout"
        },
        {
          "output_type": "stream",
          "text": [
            "INFO:tensorflow:*** Example ***\n"
          ],
          "name": "stderr"
        },
        {
          "output_type": "stream",
          "text": [
            "INFO:tensorflow:guid: None\n"
          ],
          "name": "stdout"
        },
        {
          "output_type": "stream",
          "text": [
            "INFO:tensorflow:guid: None\n"
          ],
          "name": "stderr"
        },
        {
          "output_type": "stream",
          "text": [
            "INFO:tensorflow:tokens: [CLS] [UNK] [UNK] ！ [UNK] [UNK] 会 [UNK] [UNK] [UNK] [UNK] [UNK] ！ [UNK] [UNK] [UNK] [UNK] 的 人 太 [UNK] [UNK] [SEP]\n"
          ],
          "name": "stdout"
        },
        {
          "output_type": "stream",
          "text": [
            "INFO:tensorflow:tokens: [CLS] [UNK] [UNK] ！ [UNK] [UNK] 会 [UNK] [UNK] [UNK] [UNK] [UNK] ！ [UNK] [UNK] [UNK] [UNK] 的 人 太 [UNK] [UNK] [SEP]\n"
          ],
          "name": "stderr"
        },
        {
          "output_type": "stream",
          "text": [
            "INFO:tensorflow:input_ids: 101 100 100 1986 100 100 1763 100 100 100 100 100 1986 100 100 100 100 1916 1756 1812 100 100 102 0 0 0 0 0 0 0 0 0 0 0 0 0 0 0 0 0 0 0 0 0 0 0 0 0 0 0 0 0 0 0 0 0 0 0 0 0 0 0 0 0 0 0 0 0 0 0 0 0 0 0 0 0 0 0 0 0 0 0 0 0 0 0 0 0 0 0 0 0 0 0 0 0 0 0 0 0 0 0 0 0 0 0 0 0 0 0 0 0 0 0 0 0 0 0 0 0 0 0 0 0 0 0 0 0\n"
          ],
          "name": "stdout"
        },
        {
          "output_type": "stream",
          "text": [
            "INFO:tensorflow:input_ids: 101 100 100 1986 100 100 1763 100 100 100 100 100 1986 100 100 100 100 1916 1756 1812 100 100 102 0 0 0 0 0 0 0 0 0 0 0 0 0 0 0 0 0 0 0 0 0 0 0 0 0 0 0 0 0 0 0 0 0 0 0 0 0 0 0 0 0 0 0 0 0 0 0 0 0 0 0 0 0 0 0 0 0 0 0 0 0 0 0 0 0 0 0 0 0 0 0 0 0 0 0 0 0 0 0 0 0 0 0 0 0 0 0 0 0 0 0 0 0 0 0 0 0 0 0 0 0 0 0 0 0\n"
          ],
          "name": "stderr"
        },
        {
          "output_type": "stream",
          "text": [
            "INFO:tensorflow:input_mask: 1 1 1 1 1 1 1 1 1 1 1 1 1 1 1 1 1 1 1 1 1 1 1 0 0 0 0 0 0 0 0 0 0 0 0 0 0 0 0 0 0 0 0 0 0 0 0 0 0 0 0 0 0 0 0 0 0 0 0 0 0 0 0 0 0 0 0 0 0 0 0 0 0 0 0 0 0 0 0 0 0 0 0 0 0 0 0 0 0 0 0 0 0 0 0 0 0 0 0 0 0 0 0 0 0 0 0 0 0 0 0 0 0 0 0 0 0 0 0 0 0 0 0 0 0 0 0 0\n"
          ],
          "name": "stdout"
        },
        {
          "output_type": "stream",
          "text": [
            "INFO:tensorflow:input_mask: 1 1 1 1 1 1 1 1 1 1 1 1 1 1 1 1 1 1 1 1 1 1 1 0 0 0 0 0 0 0 0 0 0 0 0 0 0 0 0 0 0 0 0 0 0 0 0 0 0 0 0 0 0 0 0 0 0 0 0 0 0 0 0 0 0 0 0 0 0 0 0 0 0 0 0 0 0 0 0 0 0 0 0 0 0 0 0 0 0 0 0 0 0 0 0 0 0 0 0 0 0 0 0 0 0 0 0 0 0 0 0 0 0 0 0 0 0 0 0 0 0 0 0 0 0 0 0 0\n"
          ],
          "name": "stderr"
        },
        {
          "output_type": "stream",
          "text": [
            "INFO:tensorflow:segment_ids: 0 0 0 0 0 0 0 0 0 0 0 0 0 0 0 0 0 0 0 0 0 0 0 0 0 0 0 0 0 0 0 0 0 0 0 0 0 0 0 0 0 0 0 0 0 0 0 0 0 0 0 0 0 0 0 0 0 0 0 0 0 0 0 0 0 0 0 0 0 0 0 0 0 0 0 0 0 0 0 0 0 0 0 0 0 0 0 0 0 0 0 0 0 0 0 0 0 0 0 0 0 0 0 0 0 0 0 0 0 0 0 0 0 0 0 0 0 0 0 0 0 0 0 0 0 0 0 0\n"
          ],
          "name": "stdout"
        },
        {
          "output_type": "stream",
          "text": [
            "INFO:tensorflow:segment_ids: 0 0 0 0 0 0 0 0 0 0 0 0 0 0 0 0 0 0 0 0 0 0 0 0 0 0 0 0 0 0 0 0 0 0 0 0 0 0 0 0 0 0 0 0 0 0 0 0 0 0 0 0 0 0 0 0 0 0 0 0 0 0 0 0 0 0 0 0 0 0 0 0 0 0 0 0 0 0 0 0 0 0 0 0 0 0 0 0 0 0 0 0 0 0 0 0 0 0 0 0 0 0 0 0 0 0 0 0 0 0 0 0 0 0 0 0 0 0 0 0 0 0 0 0 0 0 0 0\n"
          ],
          "name": "stderr"
        },
        {
          "output_type": "stream",
          "text": [
            "INFO:tensorflow:label: 0 (id = 1)\n"
          ],
          "name": "stdout"
        },
        {
          "output_type": "stream",
          "text": [
            "INFO:tensorflow:label: 0 (id = 1)\n"
          ],
          "name": "stderr"
        },
        {
          "output_type": "stream",
          "text": [
            "INFO:tensorflow:*** Example ***\n"
          ],
          "name": "stdout"
        },
        {
          "output_type": "stream",
          "text": [
            "INFO:tensorflow:*** Example ***\n"
          ],
          "name": "stderr"
        },
        {
          "output_type": "stream",
          "text": [
            "INFO:tensorflow:guid: None\n"
          ],
          "name": "stdout"
        },
        {
          "output_type": "stream",
          "text": [
            "INFO:tensorflow:guid: None\n"
          ],
          "name": "stderr"
        },
        {
          "output_type": "stream",
          "text": [
            "INFO:tensorflow:tokens: [CLS] 三 [UNK] 人 [UNK] 的 四 人 [UNK] ， [UNK] [UNK] 大 [UNK] [UNK] [UNK] ， [UNK] 道 不 [UNK] 。 [SEP]\n"
          ],
          "name": "stdout"
        },
        {
          "output_type": "stream",
          "text": [
            "INFO:tensorflow:tokens: [CLS] 三 [UNK] 人 [UNK] 的 四 人 [UNK] ， [UNK] [UNK] 大 [UNK] [UNK] [UNK] ， [UNK] 道 不 [UNK] 。 [SEP]\n"
          ],
          "name": "stderr"
        },
        {
          "output_type": "stream",
          "text": [
            "INFO:tensorflow:input_ids: 101 1741 100 1756 100 1916 1798 1756 100 1989 100 100 1810 100 100 100 1989 100 1957 1744 100 1636 102 0 0 0 0 0 0 0 0 0 0 0 0 0 0 0 0 0 0 0 0 0 0 0 0 0 0 0 0 0 0 0 0 0 0 0 0 0 0 0 0 0 0 0 0 0 0 0 0 0 0 0 0 0 0 0 0 0 0 0 0 0 0 0 0 0 0 0 0 0 0 0 0 0 0 0 0 0 0 0 0 0 0 0 0 0 0 0 0 0 0 0 0 0 0 0 0 0 0 0 0 0 0 0 0 0\n"
          ],
          "name": "stdout"
        },
        {
          "output_type": "stream",
          "text": [
            "INFO:tensorflow:input_ids: 101 1741 100 1756 100 1916 1798 1756 100 1989 100 100 1810 100 100 100 1989 100 1957 1744 100 1636 102 0 0 0 0 0 0 0 0 0 0 0 0 0 0 0 0 0 0 0 0 0 0 0 0 0 0 0 0 0 0 0 0 0 0 0 0 0 0 0 0 0 0 0 0 0 0 0 0 0 0 0 0 0 0 0 0 0 0 0 0 0 0 0 0 0 0 0 0 0 0 0 0 0 0 0 0 0 0 0 0 0 0 0 0 0 0 0 0 0 0 0 0 0 0 0 0 0 0 0 0 0 0 0 0 0\n"
          ],
          "name": "stderr"
        },
        {
          "output_type": "stream",
          "text": [
            "INFO:tensorflow:input_mask: 1 1 1 1 1 1 1 1 1 1 1 1 1 1 1 1 1 1 1 1 1 1 1 0 0 0 0 0 0 0 0 0 0 0 0 0 0 0 0 0 0 0 0 0 0 0 0 0 0 0 0 0 0 0 0 0 0 0 0 0 0 0 0 0 0 0 0 0 0 0 0 0 0 0 0 0 0 0 0 0 0 0 0 0 0 0 0 0 0 0 0 0 0 0 0 0 0 0 0 0 0 0 0 0 0 0 0 0 0 0 0 0 0 0 0 0 0 0 0 0 0 0 0 0 0 0 0 0\n"
          ],
          "name": "stdout"
        },
        {
          "output_type": "stream",
          "text": [
            "INFO:tensorflow:input_mask: 1 1 1 1 1 1 1 1 1 1 1 1 1 1 1 1 1 1 1 1 1 1 1 0 0 0 0 0 0 0 0 0 0 0 0 0 0 0 0 0 0 0 0 0 0 0 0 0 0 0 0 0 0 0 0 0 0 0 0 0 0 0 0 0 0 0 0 0 0 0 0 0 0 0 0 0 0 0 0 0 0 0 0 0 0 0 0 0 0 0 0 0 0 0 0 0 0 0 0 0 0 0 0 0 0 0 0 0 0 0 0 0 0 0 0 0 0 0 0 0 0 0 0 0 0 0 0 0\n"
          ],
          "name": "stderr"
        },
        {
          "output_type": "stream",
          "text": [
            "INFO:tensorflow:segment_ids: 0 0 0 0 0 0 0 0 0 0 0 0 0 0 0 0 0 0 0 0 0 0 0 0 0 0 0 0 0 0 0 0 0 0 0 0 0 0 0 0 0 0 0 0 0 0 0 0 0 0 0 0 0 0 0 0 0 0 0 0 0 0 0 0 0 0 0 0 0 0 0 0 0 0 0 0 0 0 0 0 0 0 0 0 0 0 0 0 0 0 0 0 0 0 0 0 0 0 0 0 0 0 0 0 0 0 0 0 0 0 0 0 0 0 0 0 0 0 0 0 0 0 0 0 0 0 0 0\n"
          ],
          "name": "stdout"
        },
        {
          "output_type": "stream",
          "text": [
            "INFO:tensorflow:segment_ids: 0 0 0 0 0 0 0 0 0 0 0 0 0 0 0 0 0 0 0 0 0 0 0 0 0 0 0 0 0 0 0 0 0 0 0 0 0 0 0 0 0 0 0 0 0 0 0 0 0 0 0 0 0 0 0 0 0 0 0 0 0 0 0 0 0 0 0 0 0 0 0 0 0 0 0 0 0 0 0 0 0 0 0 0 0 0 0 0 0 0 0 0 0 0 0 0 0 0 0 0 0 0 0 0 0 0 0 0 0 0 0 0 0 0 0 0 0 0 0 0 0 0 0 0 0 0 0 0\n"
          ],
          "name": "stderr"
        },
        {
          "output_type": "stream",
          "text": [
            "INFO:tensorflow:label: 0 (id = 1)\n"
          ],
          "name": "stdout"
        },
        {
          "output_type": "stream",
          "text": [
            "INFO:tensorflow:label: 0 (id = 1)\n"
          ],
          "name": "stderr"
        },
        {
          "output_type": "stream",
          "text": [
            "INFO:tensorflow:*** Example ***\n"
          ],
          "name": "stdout"
        },
        {
          "output_type": "stream",
          "text": [
            "INFO:tensorflow:*** Example ***\n"
          ],
          "name": "stderr"
        },
        {
          "output_type": "stream",
          "text": [
            "INFO:tensorflow:guid: None\n"
          ],
          "name": "stdout"
        },
        {
          "output_type": "stream",
          "text": [
            "INFO:tensorflow:guid: None\n"
          ],
          "name": "stderr"
        },
        {
          "output_type": "stream",
          "text": [
            "INFO:tensorflow:tokens: [CLS] [UNK] 的 一 [UNK] [UNK] [UNK] ， 真 真 [UNK] 上 [UNK] [UNK] [UNK] [UNK] [UNK] [UNK] [UNK] 八 [UNK] [UNK] [UNK] [UNK] [UNK] [UNK] ！ ！ ！ [UNK] [UNK] [UNK] 有 [UNK] 和 [UNK] ， [UNK] 女 一 男 [UNK] [UNK] [UNK] [UNK] 人 [UNK] [UNK] [UNK] [UNK] ， [UNK] [UNK] 也 不 [UNK] ！ 有 空 [UNK] [UNK] [UNK] ！ [SEP]\n"
          ],
          "name": "stdout"
        },
        {
          "output_type": "stream",
          "text": [
            "INFO:tensorflow:tokens: [CLS] [UNK] 的 一 [UNK] [UNK] [UNK] ， 真 真 [UNK] 上 [UNK] [UNK] [UNK] [UNK] [UNK] [UNK] [UNK] 八 [UNK] [UNK] [UNK] [UNK] [UNK] [UNK] ！ ！ ！ [UNK] [UNK] [UNK] 有 [UNK] 和 [UNK] ， [UNK] 女 一 男 [UNK] [UNK] [UNK] [UNK] 人 [UNK] [UNK] [UNK] [UNK] ， [UNK] [UNK] 也 不 [UNK] ！ 有 空 [UNK] [UNK] [UNK] ！ [SEP]\n"
          ],
          "name": "stderr"
        },
        {
          "output_type": "stream",
          "text": [
            "INFO:tensorflow:input_ids: 101 100 1916 1740 100 100 100 1989 1921 1921 100 1742 100 100 100 100 100 100 100 1771 100 100 100 100 100 100 1986 1986 1986 100 100 100 1873 100 1796 100 1989 100 1815 1740 1912 100 100 100 100 1756 100 100 100 100 1989 100 100 1750 1744 100 1986 1873 1930 100 100 100 1986 102 0 0 0 0 0 0 0 0 0 0 0 0 0 0 0 0 0 0 0 0 0 0 0 0 0 0 0 0 0 0 0 0 0 0 0 0 0 0 0 0 0 0 0 0 0 0 0 0 0 0 0 0 0 0 0 0 0 0 0 0 0 0 0 0\n"
          ],
          "name": "stdout"
        },
        {
          "output_type": "stream",
          "text": [
            "INFO:tensorflow:input_ids: 101 100 1916 1740 100 100 100 1989 1921 1921 100 1742 100 100 100 100 100 100 100 1771 100 100 100 100 100 100 1986 1986 1986 100 100 100 1873 100 1796 100 1989 100 1815 1740 1912 100 100 100 100 1756 100 100 100 100 1989 100 100 1750 1744 100 1986 1873 1930 100 100 100 1986 102 0 0 0 0 0 0 0 0 0 0 0 0 0 0 0 0 0 0 0 0 0 0 0 0 0 0 0 0 0 0 0 0 0 0 0 0 0 0 0 0 0 0 0 0 0 0 0 0 0 0 0 0 0 0 0 0 0 0 0 0 0 0 0 0\n"
          ],
          "name": "stderr"
        },
        {
          "output_type": "stream",
          "text": [
            "INFO:tensorflow:input_mask: 1 1 1 1 1 1 1 1 1 1 1 1 1 1 1 1 1 1 1 1 1 1 1 1 1 1 1 1 1 1 1 1 1 1 1 1 1 1 1 1 1 1 1 1 1 1 1 1 1 1 1 1 1 1 1 1 1 1 1 1 1 1 1 1 0 0 0 0 0 0 0 0 0 0 0 0 0 0 0 0 0 0 0 0 0 0 0 0 0 0 0 0 0 0 0 0 0 0 0 0 0 0 0 0 0 0 0 0 0 0 0 0 0 0 0 0 0 0 0 0 0 0 0 0 0 0 0 0\n"
          ],
          "name": "stdout"
        },
        {
          "output_type": "stream",
          "text": [
            "INFO:tensorflow:input_mask: 1 1 1 1 1 1 1 1 1 1 1 1 1 1 1 1 1 1 1 1 1 1 1 1 1 1 1 1 1 1 1 1 1 1 1 1 1 1 1 1 1 1 1 1 1 1 1 1 1 1 1 1 1 1 1 1 1 1 1 1 1 1 1 1 0 0 0 0 0 0 0 0 0 0 0 0 0 0 0 0 0 0 0 0 0 0 0 0 0 0 0 0 0 0 0 0 0 0 0 0 0 0 0 0 0 0 0 0 0 0 0 0 0 0 0 0 0 0 0 0 0 0 0 0 0 0 0 0\n"
          ],
          "name": "stderr"
        },
        {
          "output_type": "stream",
          "text": [
            "INFO:tensorflow:segment_ids: 0 0 0 0 0 0 0 0 0 0 0 0 0 0 0 0 0 0 0 0 0 0 0 0 0 0 0 0 0 0 0 0 0 0 0 0 0 0 0 0 0 0 0 0 0 0 0 0 0 0 0 0 0 0 0 0 0 0 0 0 0 0 0 0 0 0 0 0 0 0 0 0 0 0 0 0 0 0 0 0 0 0 0 0 0 0 0 0 0 0 0 0 0 0 0 0 0 0 0 0 0 0 0 0 0 0 0 0 0 0 0 0 0 0 0 0 0 0 0 0 0 0 0 0 0 0 0 0\n"
          ],
          "name": "stdout"
        },
        {
          "output_type": "stream",
          "text": [
            "INFO:tensorflow:segment_ids: 0 0 0 0 0 0 0 0 0 0 0 0 0 0 0 0 0 0 0 0 0 0 0 0 0 0 0 0 0 0 0 0 0 0 0 0 0 0 0 0 0 0 0 0 0 0 0 0 0 0 0 0 0 0 0 0 0 0 0 0 0 0 0 0 0 0 0 0 0 0 0 0 0 0 0 0 0 0 0 0 0 0 0 0 0 0 0 0 0 0 0 0 0 0 0 0 0 0 0 0 0 0 0 0 0 0 0 0 0 0 0 0 0 0 0 0 0 0 0 0 0 0 0 0 0 0 0 0\n"
          ],
          "name": "stderr"
        },
        {
          "output_type": "stream",
          "text": [
            "INFO:tensorflow:label: 0 (id = 1)\n"
          ],
          "name": "stdout"
        },
        {
          "output_type": "stream",
          "text": [
            "INFO:tensorflow:label: 0 (id = 1)\n"
          ],
          "name": "stderr"
        },
        {
          "output_type": "stream",
          "text": [
            "INFO:tensorflow:Calling model_fn.\n"
          ],
          "name": "stdout"
        },
        {
          "output_type": "stream",
          "text": [
            "INFO:tensorflow:Calling model_fn.\n"
          ],
          "name": "stderr"
        },
        {
          "output_type": "stream",
          "text": [
            "INFO:tensorflow:Saver not created because there are no variables in the graph to restore\n"
          ],
          "name": "stdout"
        },
        {
          "output_type": "stream",
          "text": [
            "INFO:tensorflow:Saver not created because there are no variables in the graph to restore\n"
          ],
          "name": "stderr"
        },
        {
          "output_type": "stream",
          "text": [
            "INFO:tensorflow:Done calling model_fn.\n"
          ],
          "name": "stdout"
        },
        {
          "output_type": "stream",
          "text": [
            "INFO:tensorflow:Done calling model_fn.\n"
          ],
          "name": "stderr"
        },
        {
          "output_type": "stream",
          "text": [
            "INFO:tensorflow:Graph was finalized.\n"
          ],
          "name": "stdout"
        },
        {
          "output_type": "stream",
          "text": [
            "INFO:tensorflow:Graph was finalized.\n"
          ],
          "name": "stderr"
        },
        {
          "output_type": "stream",
          "text": [
            "INFO:tensorflow:Restoring parameters from output/model.ckpt-750\n"
          ],
          "name": "stdout"
        },
        {
          "output_type": "stream",
          "text": [
            "INFO:tensorflow:Restoring parameters from output/model.ckpt-750\n"
          ],
          "name": "stderr"
        },
        {
          "output_type": "stream",
          "text": [
            "INFO:tensorflow:Running local_init_op.\n"
          ],
          "name": "stdout"
        },
        {
          "output_type": "stream",
          "text": [
            "INFO:tensorflow:Running local_init_op.\n"
          ],
          "name": "stderr"
        },
        {
          "output_type": "stream",
          "text": [
            "INFO:tensorflow:Done running local_init_op.\n"
          ],
          "name": "stdout"
        },
        {
          "output_type": "stream",
          "text": [
            "INFO:tensorflow:Done running local_init_op.\n"
          ],
          "name": "stderr"
        }
      ]
    },
    {
      "cell_type": "code",
      "metadata": {
        "id": "ZMfB-mxBeaDA",
        "colab_type": "code",
        "outputId": "2722c925-6e3b-413b-c3a0-cecd6b11c2a5",
        "colab": {
          "base_uri": "https://localhost:8080/",
          "height": 1000
        }
      },
      "source": [
        "predictions"
      ],
      "execution_count": 0,
      "outputs": [
        {
          "output_type": "execute_result",
          "data": {
            "text/plain": [
              "[('糯米团是我小时候的记忆了，吃起还是好吃，只是小时候的油条没有这么硬！油茶也还好！可以试试',\n",
              "  array([-5.7411075e+00, -3.2163339e-03], dtype=float32),\n",
              "  'Positive'),\n",
              " ('满满的五星好评，口味好，服务好，特别喜欢，昨天第一次买，今天就回购了，买的刨奶，店长问我加腰果还是核桃，我说随便，他又问我喜欢吃什么，我说都喜欢，然后，帅帅的店长都给我加了，超赞',\n",
              "  array([-4.0965037 , -0.01677057], dtype=float32),\n",
              "  'Positive'),\n",
              " ('好喝！经常会再去买来喝！就是排队的人太多了',\n",
              "  array([-6.0376778e+00, -2.3899106e-03], dtype=float32),\n",
              "  'Positive'),\n",
              " ('三个人订的四人餐，菜量大没吃完，问道不错。',\n",
              "  array([-5.563033e+00, -3.844491e-03], dtype=float32),\n",
              "  'Positive'),\n",
              " ('好的一如既往，真真爱上了自助炒饭自助八宝粥自助冰粉！！！喜欢所有菜和肉，两女一男吃两份两人餐没吃完，饮料也不错！有空就要来！',\n",
              "  array([-5.4171085e+00, -4.4498234e-03], dtype=float32),\n",
              "  'Positive'),\n",
              " ('太tmd的难吃了跟狗屎一样草',\n",
              "  array([-6.0111504e+00, -2.4542469e-03], dtype=float32),\n",
              "  'Positive'),\n",
              " ('火锅味的味道比渝李记那个火锅米线的味道好吃，更有一种老火锅的感觉，很划算，但是有韭菜叶的就好了，更喜欢吃韭菜叶的面',\n",
              "  array([-3.4267354 , -0.03303249], dtype=float32),\n",
              "  'Positive'),\n",
              " ('今天肯定是走着来的，饿坏宝宝了',\n",
              "  array([-5.9085054e+00, -2.7199914e-03], dtype=float32),\n",
              "  'Positive'),\n",
              " ('差评。  饭是馊的！根本吃不下，再也不会点了！菜没问题，但是不可能不吃饭啊，被迫去买了方便面下菜.............',\n",
              "  array([-5.9156361e+00, -2.7006129e-03], dtype=float32),\n",
              "  'Positive'),\n",
              " ('分量足，态度没得说！原来吃了，今天看到刚上团购，又来了！经理人很帅，还送了一砸果籽',\n",
              "  array([-5.6190124e+00, -3.6348719e-03], dtype=float32),\n",
              "  'Positive'),\n",
              " ('一如既往的好，菜品好，服务更好！',\n",
              "  array([-5.8614602e+00, -2.8511134e-03], dtype=float32),\n",
              "  'Positive'),\n",
              " ('真的很不错呦，味道非常鲜美，吃的柠檬的，有点带酸，而且米线是有颜色的，总感觉怪怪的，感觉了可能原味的会更鲜更好吃，下次好想试试原味的，不过我回一趟大学城太远了，另外掉了一个黑椒牛肉乌冬面，也很不错，，，',\n",
              "  array([-3.5527916 , -0.02906283], dtype=float32),\n",
              "  'Positive'),\n",
              " ('在重庆吃的最满意的一家日料！服务满分！味道满分！还送吃西瓜！之前元宵节还送吃汤圆！',\n",
              "  array([-4.408538  , -0.01224771], dtype=float32),\n",
              "  'Positive'),\n",
              " ('天下最难吃的东西！',\n",
              "  array([-5.8323469e+00, -2.9355076e-03], dtype=float32),\n",
              "  'Positive'),\n",
              " ('里面有虫子 太恶心了 吐死了',\n",
              "  array([-6.8035331e+00, -1.1104138e-03], dtype=float32),\n",
              "  'Positive'),\n",
              " ('炒苕尖太难吃了又老基本上没有吃',\n",
              "  array([-5.9192634e+00, -2.6907451e-03], dtype=float32),\n",
              "  'Positive'),\n",
              " ('奶茶味道不错，鸡蛋仔要现做，需要等，脆脆的，很好吃',\n",
              "  array([-5.295108e+00, -5.028696e-03], dtype=float32),\n",
              "  'Positive'),\n",
              " ('天，还有蚊子，份量太太太太少了，老大你这个好几十哦，全是西海椒和芹菜，老板这样做生意不好哦',\n",
              "  array([-4.9294353 , -0.00725682], dtype=float32),\n",
              "  'Positive'),\n",
              " ('没得筷子，害的我买叉叉',\n",
              "  array([-6.1309137e+00, -2.1770129e-03], dtype=float32),\n",
              "  'Positive'),\n",
              " ('我们点了蒜蓉、香辣两个口味的小龙虾，虾太小，几乎没啥肉，味道很是一般，没有配菜，另外我们还点了蛋炒饭，下单前看到评论里说蛋炒饭是亮点，很好吃，结果……，惨不忍睹。。。。深度怀疑历史好评是不是水军。。。。如果说一定要找个亮点出来，勉强就算包装和送的两罐加多宝吧。。。。。呵呵。。。。。',\n",
              "  array([-4.999806  , -0.00676212], dtype=float32),\n",
              "  'Positive'),\n",
              " ('这是第二次去了，第一次去晚了，忘了预约，等了好久，这次早早就跑过去，一如既往的好吃，服务也超赞，俩人点的两人份都没吃完，还打了包，哈哈哈哈，强烈推荐',\n",
              "  array([-3.9645033 , -0.01915984], dtype=float32),\n",
              "  'Positive'),\n",
              " ('味道很赞。', array([-5.7353225e+00, -3.2351082e-03], dtype=float32), 'Positive'),\n",
              " ('看着就很好吃的样子 ',\n",
              "  array([-5.8182836e+00, -2.9771077e-03], dtype=float32),\n",
              "  'Positive'),\n",
              " ('烤鸭非常好吃，价格实惠',\n",
              "  array([-5.6607628e+00, -3.4859148e-03], dtype=float32),\n",
              "  'Positive'),\n",
              " ('就在家楼下。老板人非常好。味道也超级棒。',\n",
              "  array([-5.7445383e+00, -3.2054018e-03], dtype=float32),\n",
              "  'Positive'),\n",
              " ('感觉还不错，经常买，可以试试。',\n",
              "  array([-5.6679215e+00, -3.4609677e-03], dtype=float32),\n",
              "  'Positive'),\n",
              " ('把顾客当傻子了吧，这家店我经常买，现场买不是这个样子！因为是外卖顾客不能现场挑选，货物不满意也不能现场换，所以专门挑烂的给我是吧。西瓜大家看看钥匙放在现场你们会买么？还有蓝莓盒子上很多汁，还有一股酸臭味、坏的！好的蓝莓大家都知道是干燥的上面还有一层白白的东西，打开全是湿的。我买了两盒两盒都是这样。我晕，以后再也不在这家店买了。',\n",
              "  array([-4.9129176 , -0.00737811], dtype=float32),\n",
              "  'Positive'),\n",
              " ('最难吃的干锅，这么难吃也是佩服',\n",
              "  array([-5.9654894e+00, -2.5691143e-03], dtype=float32),\n",
              "  'Positive'),\n",
              " ('没诚信，忽悠人，难吃',\n",
              "  array([-5.5676475e+00, -3.8267968e-03], dtype=float32),\n",
              "  'Positive'),\n",
              " ('经常来吃，不错',\n",
              "  array([-6.0154619e+00, -2.4436633e-03], dtype=float32),\n",
              "  'Positive'),\n",
              " ('味道真心不错，两人来了两份油闷大虾，清蒸的也很好吃，下次一定再来。',\n",
              "  array([-4.5640645 , -0.01047423], dtype=float32),\n",
              "  'Positive'),\n",
              " ('花生吃了两颗都是坏的  品质不说了  花钱买糟心  希望其他人想好了买',\n",
              "  array([-6.3574352e+00, -1.7352537e-03], dtype=float32),\n",
              "  'Positive'),\n",
              " ('超级难吃，再也不吃他的烤鱼了',\n",
              "  array([-5.6859298e+00, -3.3991912e-03], dtype=float32),\n",
              "  'Positive'),\n",
              " ('菜品很丰富也很好吃，服务员服务态度超级好！老板可以考虑加工资了。',\n",
              "  array([-5.4914417e+00, -4.1304044e-03], dtype=float32),\n",
              "  'Positive'),\n",
              " ('太差了，还有蚊子在饭里面',\n",
              "  array([-5.9617367e+00, -2.5787454e-03], dtype=float32),\n",
              "  'Positive'),\n",
              " ('本来已经漏了很多油就算了，没想到吃到一半吃出个蟑螂腿……艹真恶心人，再也不会点了',\n",
              "  array([-4.8804617 , -0.00762244], dtype=float32),\n",
              "  'Positive'),\n",
              " ('很不错哦！环境挺好的！价格也棒！石锅拌饭真的好吃好吃！！！超好吃！！！没有排队可能去的时间有点晚～就在从轻轨站出来的楼梯下来的顺边～很容易找到！',\n",
              "  array([-5.4133763e+00, -4.4665574e-03], dtype=float32),\n",
              "  'Positive'),\n",
              " ('花甲一点都不新鲜   居然还有臭的   不能忍   第一次点外卖花甲有臭的    跟臭鸡蛋有的比   从来不给人差评的真的今天忍不了  商家自己看看恶不恶心   吃了好几个才看到  好怕拉肚子   扔垃圾桶里之后感觉我整个屋都臭了  ',\n",
              "  array([-5.6224132e+00, -3.6224003e-03], dtype=float32),\n",
              "  'Positive'),\n",
              " ('招待我的小姐姐超级温柔，不会因为是团购态度不好。还给我了建议。打包带回来吃的，还好，很庆幸没有化，这么大的天气。第一次吃千层，虽然奶油很多，但幸好，不伤人，蛮好吃的。我住在南坪，可能在装修，偶然去沙坪坝，就忍不住团了。 #芒果班戟# #芒果千层#',\n",
              "  array([-4.7771935 , -0.00845519], dtype=float32),\n",
              "  'Positive'),\n",
              " ('菜品新鲜，味道可以，地置很好找，值得推荐！',\n",
              "  array([-5.9091349e+00, -2.7182081e-03], dtype=float32),\n",
              "  'Positive'),\n",
              " ('非常可以，', array([-5.573265e+00, -3.805302e-03], dtype=float32), 'Positive'),\n",
              " ('味道好，老板和服务员的态度也很好，环境不错，吃了几次了。',\n",
              "  array([-5.986866e+00, -2.514655e-03], dtype=float32),\n",
              "  'Positive'),\n",
              " ('送你吗接近两个小时才送起来   还少了一半的东西  两份饭只有一份   点的东西给我当一个15套餐送  确实牛批  谁点谁知道  ',\n",
              "  array([-5.3934274e+00, -4.5567486e-03], dtype=float32),\n",
              "  'Positive'),\n",
              " ('简直不能太好太好太好，真的真的太好我只想说酸奶紫米露真的只是值得品尝的，酸奶紫米露真的很好喝。而且又健康又美味，天的天简直不能忍，喝了还想喝。知名度真的很好喝很好喝，而且每年他们的服务态度也特别特别特别的很，特别，特别特别的值得去品尝，特别特别特别喜欢他们家的他们真的，西而且酸奶紫米露好喝话它们的口感都各有不同，而且都特别特别的爱',\n",
              "  array([-4.4810524 , -0.01138606], dtype=float32),\n",
              "  'Positive'),\n",
              " ('好棒好棒！虽然贵但是觉得好值！没有鹅肝有点小遗憾啦…不过质量真的很好，海鲜特别新鲜～扇贝和鳕鱼很好吃，生蚝如果有生的吃就更好啦～鱼生不错，种类也挺多的，反正这是我在重庆吃的最好吃的日料啦！！赞～服务也很热情',\n",
              "  array([-6.0770087e+00, -2.2976210e-03], dtype=float32),\n",
              "  'Positive'),\n",
              " ('很好吃，可惜今天没吃到凉面，但是凉皮也好吃，还有饮料，团购很划算。',\n",
              "  array([-5.4285269e+00, -4.3992647e-03], dtype=float32),\n",
              "  'Positive'),\n",
              " ('去了很多次，老顾客了。团购超极划算。还有小吃汤园………………',\n",
              "  array([-5.6316590e+00, -3.5890231e-03], dtype=float32),\n",
              "  'Positive'),\n",
              " ('超级喜欢香菜牛肉，鸡脆骨，还有血旺，好喜欢好喜欢。下次还要去吃，就是人太多，一定要提前订，不然只有等。',\n",
              "  array([-4.135293  , -0.01612737], dtype=float32),\n",
              "  'Positive'),\n",
              " ('鸡排还不错，够大块哈！有点烫人！',\n",
              "  array([-6.1057453e+00, -2.2325609e-03], dtype=float32),\n",
              "  'Positive'),\n",
              " ('黑钻奶茶好喝，没有那么腻甜，味道适宜',\n",
              "  array([-5.674837e+00, -3.437089e-03], dtype=float32),\n",
              "  'Positive'),\n",
              " ('外卖时间太长了，都一个半小时才送到，都睡差不多着了，夜宵才来，虽然开花肠买的是特惠价，但起码你碗里有一个丫，',\n",
              "  array([-5.249572  , -0.00526364], dtype=float32),\n",
              "  'Positive'),\n",
              " ('味道不错，东西都是货真价实的，美女老板也十分热情',\n",
              "  array([-5.12189   , -0.00598259], dtype=float32),\n",
              "  'Positive'),\n",
              " ('蛋糕非常好吃，不错不错，很喜欢',\n",
              "  array([-5.5245042e+00, -3.9957697e-03], dtype=float32),\n",
              "  'Positive'),\n",
              " ('饭里面有虫子，而且鱼腥味很重，一点都不新鲜的感觉',\n",
              "  array([-6.3877206e+00, -1.6834863e-03], dtype=float32),\n",
              "  'Positive'),\n",
              " ('环境不错，服务态度也很好，很适合带小孩子来玩',\n",
              "  array([-5.892833e+00, -2.762908e-03], dtype=float32),\n",
              "  'Positive'),\n",
              " ('无任何食欲可言！',\n",
              "  array([-5.4201093e+00, -4.4365311e-03], dtype=float32),\n",
              "  'Positive'),\n",
              " ('空调不足，太热', array([-4.8464737 , -0.00788705], dtype=float32), 'Positive'),\n",
              " ('菜品很好，分量很足，服务态度也很好01',\n",
              "  array([-5.2796793e+00, -5.1070945e-03], dtype=float32),\n",
              "  'Positive'),\n",
              " ('第一次来，地址在东原新新park儿童节去的，人也不是很多，看了下菜单，价格有些偏贵！味道感觉不差，但也不能很好，还可以吧！希望折扣大一点，现在的价格感觉不实惠！另外服务态度很好！上甜品速度很快！希望越来越号',\n",
              "  array([-5.9872437e+00, -2.5137037e-03], dtype=float32),\n",
              "  'Positive'),\n",
              " ('跟朋友一起来吃的，有点多，吃不完',\n",
              "  array([-5.4132557e+00, -4.4670319e-03], dtype=float32),\n",
              "  'Positive'),\n",
              " ('菜品多 丰富 味道好吃 速度快',\n",
              "  array([-5.6875806e+00, -3.3934885e-03], dtype=float32),\n",
              "  'Positive'),\n",
              " ('第一次吃还挺好吃的，这次点了一个骨肉相连，结果那肉有点臭了',\n",
              "  array([-5.4689064e+00, -4.2247809e-03], dtype=float32),\n",
              "  'Positive'),\n",
              " ('两个人吃完都拉肚子  再也不点你们家了',\n",
              "  array([-5.842513e+00, -2.905792e-03], dtype=float32),\n",
              "  'Positive'),\n",
              " ('味道太差，这次最糟糕的一次日本料理，完全浪费了，鳗鱼机会一块没吃',\n",
              "  array([-4.9255476 , -0.00728522], dtype=float32),\n",
              "  'Positive'),\n",
              " ('很好！离家近，味道也不错！值得推荐！',\n",
              "  array([-5.075836 , -0.0062654], dtype=float32),\n",
              "  'Positive'),\n",
              " ('味道超级棒，美女老板也很好喔，环境也是没得说，妈妈再也不用担心吃不到梁山鸡了！',\n",
              "  array([-4.1600223 , -0.01573034], dtype=float32),\n",
              "  'Positive'),\n",
              " ('不好吃！说好的泡脚鹅掌，几乎没撒子辣椒，没那种味道',\n",
              "  array([-5.6132503e+00, -3.6558954e-03], dtype=float32),\n",
              "  'Positive'),\n",
              " ('速度太慢，都饿扁了',\n",
              "  array([-5.6748266e+00, -3.4372080e-03], dtype=float32),\n",
              "  'Positive'),\n",
              " ('味道还不错，就是少了点。环境很好。推荐',\n",
              "  array([-5.9750991e+00, -2.5445009e-03], dtype=float32),\n",
              "  'Positive'),\n",
              " ('#精品全家福炒饭（爆款）➕例汤# 加菜加辣，都没有 味道也不好吃',\n",
              "  array([-4.817875  , -0.00811683], dtype=float32),\n",
              "  'Positive'),\n",
              " ('身为一个从小吃海鲜长大的沿海人 不得不说这家的鱼肉很棒 鱼汤特别鲜！ 好评没得说(๑Ő௰Ő๑)',\n",
              "  array([-5.8150492e+00, -2.9867347e-03], dtype=float32),\n",
              "  'Positive'),\n",
              " ('黑心商家，地沟油吃了拉肚子 配送也不到位 各位宝宝不要再上当',\n",
              "  array([-5.9474840e+00, -2.6158423e-03], dtype=float32),\n",
              "  'Positive'),\n",
              " ('很赞，吃的很饱，服务也不错，下次还会去',\n",
              "  array([-5.0527    , -0.00641253], dtype=float32),\n",
              "  'Positive'),\n",
              " ('味道不错，很好喝！店员服务态度也很好',\n",
              "  array([-5.8466024e+00, -2.8939056e-03], dtype=float32),\n",
              "  'Positive'),\n",
              " ('除了尖椒鸡外，其他图片与实物完全不符，全是干辣椒，而且土豆片中有葱有蒜台，感觉像是几个菜混合的像是剩菜样',\n",
              "  array([-5.7962098e+00, -3.0436642e-03], dtype=float32),\n",
              "  'Positive'),\n",
              " ('环境不错，菜品也不错，常常去光顾',\n",
              "  array([-5.170577  , -0.00569744], dtype=float32),\n",
              "  'Positive'),\n",
              " ('油不好 不卫生 难吃 量太少 ，菜里面还有钢丝球掉的东西，锅真的洗干净了吗？',\n",
              "  array([-5.8512435e+00, -2.8804739e-03], dtype=float32),\n",
              "  'Positive'),\n",
              " ('第二次见姐姐啦 人真的是…简直了!好到爆炸蹦蹦蹦 哈哈哈哈每次见到姐姐很开心 不过有点害羞哈哈哈哈 谢谢姐姐送的小礼物 开心!',\n",
              "  array([-5.3731637e+00, -4.6502538e-03], dtype=float32),\n",
              "  'Positive'),\n",
              " ('不干净，打开后还有头发恶心，什么商家',\n",
              "  array([-5.553237e+00, -3.882372e-03], dtype=float32),\n",
              "  'Positive'),\n",
              " ('说实话不好吃，没得在店里的好吃，鸭掌还有一股腥味',\n",
              "  array([-6.208814e+00, -2.013681e-03], dtype=float32),\n",
              "  'Positive'),\n",
              " ('太难吃，不合重庆人口味',\n",
              "  array([-5.6792016e+00, -3.4221201e-03], dtype=float32),\n",
              "  'Positive'),\n",
              " ('很不错，下次还继续来，味道好，',\n",
              "  array([-5.5047660e+00, -4.0756743e-03], dtype=float32),\n",
              "  'Positive'),\n",
              " ('#土豆片##藕片#都没有熟，你们这样送来我拉肚子吗，能不能什么都做熟了在发货',\n",
              "  array([-5.6640739e+00, -3.4743918e-03], dtype=float32),\n",
              "  'Positive'),\n",
              " ('分量足，味道好，团购更划算，强烈推荐！',\n",
              "  array([-5.8348832e+00, -2.9280193e-03], dtype=float32),\n",
              "  'Positive'),\n",
              " ('味道非常棒！朋友们都特别喜欢吃。炒蟹的味道最棒！连蟹壳都炸的很香脆。环境也非常好，请客有面子。',\n",
              "  array([-5.8426013e+00, -2.9055544e-03], dtype=float32),\n",
              "  'Positive'),\n",
              " ('明明点了三份番茄鸡蛋盖饭   却只有一份   还少送了两份饭   打电话手机关机   第一次看到这样的商家   垃圾  绝对差评',\n",
              "  array([-5.8950396e+00, -2.7568452e-03], dtype=float32),\n",
              "  'Positive'),\n",
              " ('一家人去吃的，味道还可以，兔子肉特别嫩，给五分鼓励鼓励。',\n",
              "  array([-4.4626837 , -0.01159842], dtype=float32),\n",
              "  'Positive'),\n",
              " ('味道还行！菜很多！老店还是不一样！',\n",
              "  array([-5.4955101e+00, -4.1136653e-03], dtype=float32),\n",
              "  'Positive'),\n",
              " ('很不好吃，全都扔了，以后不会再买了',\n",
              "  array([-5.8034215e+00, -3.0217960e-03], dtype=float32),\n",
              "  'Positive'),\n",
              " ('味道还是相当不错的。。很多人排队。。速度也还可以',\n",
              "  array([-5.762735e+00, -3.147412e-03], dtype=float32),\n",
              "  'Positive'),\n",
              " ('味道好 紫米很好吃 加冰的更好喝 美容养颜必备佳品',\n",
              "  array([-5.5696626e+00, -3.8190777e-03], dtype=float32),\n",
              "  'Positive'),\n",
              " ('量真的少的可怜，不想说什么了别把顾客当傻子！！都是重庆的，我也不想骂人',\n",
              "  array([-4.8929167, -0.0075278], dtype=float32),\n",
              "  'Positive'),\n",
              " ('口感很好，老板人也非常好，比较大，老板送货到家，我说自己拿，老板害怕我弄坏了，非要送到指定地点，这次团购非常满意，送货速度也快',\n",
              "  array([-4.805586  , -0.00821757], dtype=float32),\n",
              "  'Positive'),\n",
              " ('口味很好，两个人吃中锅量很足，排骨也够吃',\n",
              "  array([-5.9180193e+00, -2.6941928e-03], dtype=float32),\n",
              "  'Positive'),\n",
              " ('牛排做得很地',\n",
              "  array([-6.5548692e+00, -1.4241325e-03], dtype=float32),\n",
              "  'Positive'),\n",
              " ('不错的额，第二次了，感觉非常不错，性价比超高，以后还会光顾的哟',\n",
              "  array([-4.691236  , -0.00921768], dtype=float32),\n",
              "  'Positive'),\n",
              " ('很棒，来吃过好几次了、今天我们人少 只有七个人，没有吃完，羊肉很细腻，我不太喜欢吃皮，太焦了，味道不错就是觉得沾料的话太咸了！',\n",
              "  array([-4.580802  , -0.01029951], dtype=float32),\n",
              "  'Positive'),\n",
              " ('开始东西送来了 水洒了 可能是我叫配送员没听见吧 然后我就打电话给店里 说是本来就是送的 感觉是送的就该不要你们就开心了对吗 真是搞笑的呢  难道这杯饮料的钱你们没算到这里面一起吗  送的就该你们这种态度吗  差评  再也不会买了 就因为这个导购员 虽然我的力量很小 但是你们总这个态度相信很多人也会像我一样',\n",
              "  array([-5.8882747e+00, -2.7756281e-03], dtype=float32),\n",
              "  'Positive'),\n",
              " ('味道很好 来了好几次了 非常喜欢',\n",
              "  array([-5.7395487e+00, -3.2214434e-03], dtype=float32),\n",
              "  'Positive'),\n",
              " ('很好很好很好  环境也很舒适   服务态度很好',\n",
              "  array([-6.1636829e+00, -2.1067108e-03], dtype=float32),\n",
              "  'Positive'),\n",
              " ('这个牛蹄筋真不知道是哪里的肉，都是骨头连起的。味道也一般，没有实体店好吃。',\n",
              "  array([-6.203214e+00, -2.024983e-03], dtype=float32),\n",
              "  'Positive'),\n",
              " ('一如既往的好，态度也好，越来越有新意，',\n",
              "  array([-6.0751777e+00, -2.3019025e-03], dtype=float32),\n",
              "  'Positive'),\n",
              " ('真的，我是为了这个差评才一直没有忍着退货。真的，***！晚了接近一个小时不说，时间打了四个电话都不接。你不能准时送到你早说啊，你有突**况你打个电话要死啊？不确定取消重新下单快，还是苦苦等着快。真的，商家有毒！你们不信的可以试试，我真是为了这个差评，为了少点人被骗才确认收单。恶心！',\n",
              "  array([-4.8452606 , -0.00789663], dtype=float32),\n",
              "  'Positive'),\n",
              " ('送餐太慢 本来就饿 还花了一个多小时',\n",
              "  array([-6.0710230e+00, -2.3115363e-03], dtype=float32),\n",
              "  'Positive'),\n",
              " ('菜品好，然后服务更好！',\n",
              "  array([-5.6570826e+00, -3.4988634e-03], dtype=float32),\n",
              "  'Positive'),\n",
              " ('鱼的味道真的很好，鱼肉鲜嫩入味，面上的花椒香味四溢，确实好吃，是我在外面吃过最好吃的鱼了，而且吃到后面也不腻！菜很多，团购的4人餐，四个人吃没吃完，而且我们的食量都不小，吃得撑撑的！可惜没有拍照，开始端来的时候看起来超级有食欲！',\n",
              "  array([-4.156709  , -0.01578291], dtype=float32),\n",
              "  'Positive'),\n",
              " ('味道好环境安逸，就是菜品再多点就完美了',\n",
              "  array([-5.5367556e+00, -3.9470876e-03], dtype=float32),\n",
              "  'Positive'),\n",
              " ('差评！等了起码有一个小时啦！',\n",
              "  array([-6.5194416e+00, -1.4755563e-03], dtype=float32),\n",
              "  'Positive'),\n",
              " ('来过多次。鱼很嫩。味道不错。配菜也好吃。还有一个炸鸡柳的东西。很好吃。',\n",
              "  array([-5.0360417 , -0.00652066], dtype=float32),\n",
              "  'Positive'),\n",
              " ('味道很不错，服务也好，已经吃过很多次了，一如既往的好',\n",
              "  array([-5.0735674 , -0.00627974], dtype=float32),\n",
              "  'Positive'),\n",
              " ('蛋糕很新鲜～很好吃～物廉价美的～',\n",
              "  array([-6.3177748e+00, -1.8055817e-03], dtype=float32),\n",
              "  'Positive'),\n",
              " ('食物种类多，海鲜，牛排，面点，热菜凉菜都有。很喜欢自助烤肉，比较有乐趣，可以自己调味，牛排也很好吃，很大一份，煎得比较嫩，还不限量，要打牙祭的朋友们可以来了，水果很新鲜，种类多，店员服务态度很好，还推荐了了一个APP，说是吃了的钱还可以返回来。环境很宽敞，适合朋友聚会，这次是来试一下的，下次会多带一些朋友过来，会给朋友推荐，价格也不贵，物超所值，赞！',\n",
              "  array([-4.682801  , -0.00929611], dtype=float32),\n",
              "  'Positive'),\n",
              " ('头发好几根，肥牛肉是臭的，我吃进了嘴里，简直丧尽天良，几十块钱打水漂了不说，我还饿着肚子，看着一盒发臭的盒饭，气晕了，我看了评价才来的，结果，评价里的人可能没有我这样的遭遇吧，头发我还能忍，肉是臭的，你让我怎么吃，哭晕在厕所。',\n",
              "  array([-5.055246  , -0.00639618], dtype=float32),\n",
              "  'Positive'),\n",
              " ('下回别再骗人了！',\n",
              "  array([-5.9488611e+00, -2.6122753e-03], dtype=float32),\n",
              "  'Positive'),\n",
              " ('送来的是冷冻的，而且没有筷子等用具。吃了一个怕拉肚子，直接扔了，再也不会买这家的东西，第一次买就是这样差，大失所望。',\n",
              "  array([-4.687192  , -0.00925524], dtype=float32),\n",
              "  'Positive'),\n",
              " ('#椒麻鱼##梭边鱼##酸菜鱼##夫妻肺片#可以，好吃，推荐，请客必备，有面子',\n",
              "  array([-4.4938717 , -0.01124025], dtype=float32),\n",
              "  'Positive'),\n",
              " ('环境不错，位置还是很好找的。看别人的介绍还不错，去试了一次，的确非常实惠。份量非常足，一份小龙虾，一份螺丝，一个毛豆，一个蒜泥黄瓜。味道不错香辣，2个人吃的话还是很不错的，值得推荐，没去过的可以去试尝下',\n",
              "  array([-4.495877  , -0.01121762], dtype=float32),\n",
              "  'Positive'),\n",
              " ('老板亲自送过来，蛋糕蛮好，好评',\n",
              "  array([-5.5433011e+00, -3.9213207e-03], dtype=float32),\n",
              "  'Positive'),\n",
              " ('逛街的时候看见好多人在买这个喝 于是自己也买了一杯 果然好喝 哈哈 味道棒棒哒 ( ´･ᴗ･` )',\n",
              "  array([-5.1714354 , -0.00569258], dtype=float32),\n",
              "  'Positive'),\n",
              " ('服务特别好！菜品很新鲜，环境也非常的舒适',\n",
              "  array([-6.2303882e+00, -1.9706131e-03], dtype=float32),\n",
              "  'Positive'),\n",
              " ('豆腐有异味 变味了',\n",
              "  array([-6.4904141e+00, -1.5191216e-03], dtype=float32),\n",
              "  'Positive'),\n",
              " ('鱿鱼有股味儿，不晓得是太腥了还是臭了',\n",
              "  array([-5.7702136e+00, -3.1240014e-03], dtype=float32),\n",
              "  'Positive'),\n",
              " ('筷子都没得  手抓嘛',\n",
              "  array([-5.6784935e+00, -3.4246151e-03], dtype=float32),\n",
              "  'Positive'),\n",
              " ('第一次去，味道不错，菜多，性价比高',\n",
              "  array([-3.9759946, -0.0189389], dtype=float32),\n",
              "  'Positive'),\n",
              " ('真的很好吃！真是棒棒的，经常来了',\n",
              "  array([-5.4368453e+00, -4.3627084e-03], dtype=float32),\n",
              "  'Positive'),\n",
              " ('两位美女态度很好，很耐心的教小朋友，两位小朋友开心坏了，吵着下次还要去做蛋糕',\n",
              "  array([-5.8151293e+00, -2.9864970e-03], dtype=float32),\n",
              "  'Positive'),\n",
              " ('老顾客了，真心不错，值得分享！',\n",
              "  array([-5.4411893e+00, -4.3437178e-03], dtype=float32),\n",
              "  'Positive'),\n",
              " ('除了点的凉粉能吃以外，其它太难吃，茄子一个酸臭味，烧白盐巴酱油不要钱，白肉一个腥臭味，备注说了米饭舀软一点的，全是夹生饭，也是一个酸臭味，包装可以！这是我吃过最难吃的小碗菜！',\n",
              "  array([-4.3296304 , -0.01325992], dtype=float32),\n",
              "  'Positive'),\n",
              " ('嗯，可以的。', array([-5.0712    , -0.00629466], dtype=float32), 'Positive'),\n",
              " ('泡椒耗儿鱼很难吃还没卖相 可能只有一条大耗儿鱼的分量 给老板说了两个人 结果她还是只给了一双筷子 花甲味道也一般 感觉不会再来这家店了58就买了一只鱼',\n",
              "  array([-5.8369212e+00, -2.9220763e-03], dtype=float32),\n",
              "  'Positive'),\n",
              " ('反正很好一如既往的好。喜欢去那里比较便宜。很值',\n",
              "  array([-5.9865646e+00, -2.5154874e-03], dtype=float32),\n",
              "  'Positive'),\n",
              " ('根本不是鱼香肉丝和宫保鸡丁的味道，点都不好吃，可以说是巨难吃，而且速度特慢，菜品不正宗就不说了，但那个味道差得太远了吧。',\n",
              "  array([-5.2459636 , -0.00528273], dtype=float32),\n",
              "  'Positive'),\n",
              " ('价钱便宜，味道也不差，米饭还有不同的口味',\n",
              "  array([-5.6415653e+00, -3.5536254e-03], dtype=float32),\n",
              "  'Positive'),\n",
              " ('如此好多次了，好吃，便宜实惠，',\n",
              "  array([-5.5761371e+00, -3.7943765e-03], dtype=float32),\n",
              "  'Positive'),\n",
              " ('挺好的，门店小了点，味道还不错。',\n",
              "  array([-5.8882537e+00, -2.7756281e-03], dtype=float32),\n",
              "  'Positive'),\n",
              " ('呵呵，已经不想再说什么了，再订直播吃屎',\n",
              "  array([-5.6449685e+00, -3.5415092e-03], dtype=float32),\n",
              "  'Positive'),\n",
              " ('奥尔良鸡翅上面还有毛，这是我吃的最差的一次鸡翅',\n",
              "  array([-5.0345397 , -0.00653049], dtype=float32),\n",
              "  'Positive'),\n",
              " ('老板姐姐很和善人很好 味道超级棒 喜欢喜欢喜欢',\n",
              "  array([-5.6169429e+00, -3.6423549e-03], dtype=float32),\n",
              "  'Positive'),\n",
              " ('饭是馊的，你们打饭的时候闻不到吗？打电话给商家，商家说解决，结果就这么不了了之。。。是嘛，大老板卖得好也不差我们这几个顾客',\n",
              "  array([-5.579944e+00, -3.779888e-03], dtype=float32),\n",
              "  'Positive'),\n",
              " ('强烈推荐，紫米酸奶很好喝，环境也很好，到店美女热情招呼，整个制作过程也很快，酸奶喝了也很健康，物有所值的一次团购！',\n",
              "  array([-4.7872176 , -0.00837055], dtype=float32),\n",
              "  'Positive'),\n",
              " ('牛肉炒刀削只得两片牛肉！有跟头发！差评',\n",
              "  array([-6.0767417e+00, -2.2983346e-03], dtype=float32),\n",
              "  'Positive'),\n",
              " ('很不错，服务态度好，味道什么都不错。',\n",
              "  array([-5.959702e+00, -2.583977e-03], dtype=float32),\n",
              "  'Positive'),\n",
              " ('再次光顾琳琅录音棚酒吧，服务一流，舒适温馨，专业的录音设备，本人非常满意!',\n",
              "  array([-5.7582355e+00, -3.1616723e-03], dtype=float32),\n",
              "  'Positive'),\n",
              " ('这也能叫人吃的吗  肥肠烧糊了  里面的配菜也是湖的  还有肥肠一点儿味儿都没有  各位朋友 我只能说你们千万不要再点了  垃圾',\n",
              "  array([-6.3605561e+00, -1.7298986e-03], dtype=float32),\n",
              "  'Positive'),\n",
              " ('今天让我再勺皮里面吃到一块胶纸，真的恶心！',\n",
              "  array([-6.229982e+00, -1.971446e-03], dtype=float32),\n",
              "  'Positive'),\n",
              " ('味道棒棒哒，就是找地方时找了好久，明明是个很好找的地方我偏偏走了个反方向。。。。',\n",
              "  array([-4.932732  , -0.00723291], dtype=float32),\n",
              "  'Positive'),\n",
              " ('这次这个米饭真的是吃过有史以来最难吃的米饭。可能觉得成本原因买的那种特别差的米。老板开饭店米饭也是很重要的。吃起来夹生夹生的。真的说不出的口感。将就吃了点下去就胃疼。给你差评是希望商家可以看看意见。',\n",
              "  array([-5.4865756e+00, -4.1505867e-03], dtype=float32),\n",
              "  'Positive'),\n",
              " ('老板娘很热情',\n",
              "  array([-6.1637011e+00, -2.1067108e-03], dtype=float32),\n",
              "  'Positive'),\n",
              " ('还不错.味道好.服务态度不错，价格小贵',\n",
              "  array([-5.7823458e+00, -3.0862105e-03], dtype=float32),\n",
              "  'Positive'),\n",
              " ('不卫生，吃了拉肚子',\n",
              "  array([-5.7686529e+00, -3.1288739e-03], dtype=float32),\n",
              "  'Positive'),\n",
              " ('味道还不错…零嘴吃挺不错的……',\n",
              "  array([-5.6679888e+00, -3.4607302e-03], dtype=float32),\n",
              "  'Positive'),\n",
              " ('吃了几次了，味道不错，服务很热情！',\n",
              "  array([-5.8009539e+00, -3.0292836e-03], dtype=float32),\n",
              "  'Positive'),\n",
              " ('味道不错，很喜欢，吃过多次。。。',\n",
              "  array([-5.2815094e+00, -5.0977250e-03], dtype=float32),\n",
              "  'Positive'),\n",
              " ('来吃过很多次了，一如既往的好，环境优美，服务热情，赞',\n",
              "  array([-4.526186 , -0.0108809], dtype=float32),\n",
              "  'Positive'),\n",
              " ('最喜欢的 哈哈哈 一周几次呢！',\n",
              "  array([-6.3951445e+00, -1.6709903e-03], dtype=float32),\n",
              "  'Positive'),\n",
              " ('超划算，而且贝尔麦莎的蛋糕也很好吃，我家女儿大爱。。。',\n",
              "  array([-6.11530e+00, -2.21127e-03], dtype=float32),\n",
              "  'Positive'),\n",
              " ('真的要认真点评下。因为想吃日料，和老公在两家不同的店点了餐，想考察下住家附近有哪家店的好吃。首先从配送上来说，配送时不停收到配送员的电话，如果是第一次送找不到路可以理解，但是不停的打电话是几个意思，不能自己定个位吗？说小区不让进又是怎么回事？我老公点的餐都已经送到家里了，别人能进怎么你就进不来了。结果还是自己走到小区门口来拿的餐，第一次感受了外卖不能送餐上门。再说下菜品。首先是点了刺身没有一起配送酱油和芥末，还好老公点的那份里面有。放在袋子里的冰袋把八爪鱼刺身冻得像冰一样，咬都咬不动。花之恋里面水扎扎的，',\n",
              "  array([-4.8380375 , -0.00795411], dtype=float32),\n",
              "  'Positive'),\n",
              " ('没有餐具～～～～～～～～～～',\n",
              "  array([-5.3786159e+00, -4.6248613e-03], dtype=float32),\n",
              "  'Positive'),\n",
              " ('送得太慢 很是不高兴 饿死了怎么办？',\n",
              "  array([-5.655552e+00, -3.504209e-03], dtype=float32),\n",
              "  'Positive'),\n",
              " ('挺好的，量也合适，去的时候有点晚没有肥肠了～点的里脊和鱿鱼～老板很热情，时不时会加水添饭，就是吃到后面有点咸～其他很好！',\n",
              "  array([-5.8380561e+00, -2.9187482e-03], dtype=float32),\n",
              "  'Positive'),\n",
              " ('难吃出新高度……',\n",
              "  array([-5.9525714e+00, -2.6025255e-03], dtype=float32),\n",
              "  'Positive'),\n",
              " ('味道都不用说，霸道！这都不知道是第几次来吃了',\n",
              "  array([-5.7225766e+00, -3.2765772e-03], dtype=float32),\n",
              "  'Positive'),\n",
              " ('好吃的不要不要的，服务态度也特别好，环境也很干净，东西是真好吃，一直吃了不停，下次一定还会去的',\n",
              "  array([-3.8565052, -0.0213684], dtype=float32),\n",
              "  'Positive'),\n",
              " ('味道不错，环境也好，上菜速度快！！',\n",
              "  array([-5.2843733e+00, -5.0831367e-03], dtype=float32),\n",
              "  'Positive'),\n",
              " ('这家店我自己去吃过好多次，还是第一次吃到这么难吃全是糊味，鸡还是馊的的情况。打电话给店家告诉她鸡是馊的她不承认，好吧那只能自认倒霉，结果马上又看到一坨兔子上绑着一条扯都扯不掉的红色线，十公分长，请问我是蚕吗？要吐丝？店家说退我十块钱，呵呵一顿不愉快的饭，图一剩下就是我们没在吃了，你觉得十块钱够补上这顿60的饭吗。',\n",
              "  array([-5.1340857 , -0.00590983], dtype=float32),\n",
              "  'Positive'),\n",
              " ('你确定你煮的是刀削面？拉面差不多，味道好难吃',\n",
              "  array([-5.4573216e+00, -4.2740433e-03], dtype=float32),\n",
              "  'Positive'),\n",
              " ('挺好吃的，服务也很好，价格很实惠，来了好几次了，以后还会经常光顾的，不错，不错，很满意',\n",
              "  array([-4.563766  , -0.01047742], dtype=float32),\n",
              "  'Positive'),\n",
              " ('菜挺好的，我们没有预约就去了，他们也没说什么，火大了怕我们被烫伤，几次问候我们，帮我们关火什么的，服务态度真心不错，环境也不错，挺喜欢的，，还有西瓜吃，我们吃了好多，，不管怎么说，反正我爱上了，#猪血# 很好吃，',\n",
              "  array([-4.000438  , -0.01847722], dtype=float32),\n",
              "  'Positive'),\n",
              " ('菜品新鲜，环境好，很满意！',\n",
              "  array([-5.5434904e+00, -3.9204895e-03], dtype=float32),\n",
              "  'Positive'),\n",
              " ('味道还不错吧，挺热闹的地方，吃的现杀的活羊.',\n",
              "  array([-5.4936485e+00, -4.1212635e-03], dtype=float32),\n",
              "  'Positive'),\n",
              " ('不错不错。不错，来买了几次了',\n",
              "  array([-5.6957994e+00, -3.3656876e-03], dtype=float32),\n",
              "  'Positive'),\n",
              " ('老顾客了，尽管店铺不很大，但环境优美，节假日还有歌手助唱！牛排鲜嫩，好吃极了！没去的朋友，可以去尝试一次哟！！赞！！！',\n",
              "  array([-5.0361657 , -0.00651983], dtype=float32),\n",
              "  'Positive'),\n",
              " ('太难吃，再也不买了，想退钱，我最讨厌吃鸭肉，那个大肉串明显一股死鸭味，吃了一口全扔了，面筋第一次尝试比荤菜好吃，那个鸡翅也是冰冻蜜蜡鸡肉的味道，只有鱿鱼是新鲜的，不知道那么多好评是不是买的，现在那些冰冻串肉红色那种都一个味，真怕是死耗子肉',\n",
              "  array([-4.050152  , -0.01757325], dtype=float32),\n",
              "  'Positive'),\n",
              " ('又一次带朋友来喝茶，朋友都说不错',\n",
              "  array([-5.7227440e+00, -3.2761018e-03], dtype=float32),\n",
              "  'Positive'),\n",
              " ('味道很不错哟。 服务态度超好的。 各种周到',\n",
              "  array([-6.2698579e+00, -1.8943476e-03], dtype=float32),\n",
              "  'Positive'),\n",
              " ('味道不错！田螺好吃！下次还要来！',\n",
              "  array([-5.7550969e+00, -3.1716542e-03], dtype=float32),\n",
              "  'Positive'),\n",
              " ('选大娘水饺就是看了有牌子卫生！我去，想问一句你这是哪年的水饺！今天一晚上都在拉肚子！',\n",
              "  array([-5.2207017 , -0.00541814], dtype=float32),\n",
              "  'Positive'),\n",
              " ('很不错、第二次来吃了，性价比和服务态度一流哦！牛排意面都很棒！披萨也挺好吃的，芝士很多！果汁也很好喝！真的是愉快的享受',\n",
              "  array([-4.593724  , -0.01016665], dtype=float32),\n",
              "  'Positive'),\n",
              " ('我一共叫了3份，我那份泡椒肉丝闻着有点酸，以为是泡椒的酸味，结果吃完下午拉肚子，以后再不会吃这家的，味道不怎么样。其他两份同事说味道也不行。',\n",
              "  array([-4.7359977 , -0.00881246], dtype=float32),\n",
              "  'Positive'),\n",
              " ('三个大人吃！还是不错。味道也可以服务态度很好。',\n",
              "  array([-6.2366295e+00, -1.9583588e-03], dtype=float32),\n",
              "  'Positive'),\n",
              " ('月月的服务态度很好 菜品一如既往的好吃 特别推荐烧椒小皮蛋～',\n",
              "  array([-6.6557608e+00, -1.2874657e-03], dtype=float32),\n",
              "  'Positive'),\n",
              " ('味道好  ，服务好。。',\n",
              "  array([-5.4852324e+00, -4.1561662e-03], dtype=float32),\n",
              "  'Positive'),\n",
              " ('很好，很合胃口，就是辣',\n",
              "  array([-6.1116486e+00, -2.2193582e-03], dtype=float32),\n",
              "  'Positive'),\n",
              " ('味道不错，老板热情。',\n",
              "  array([-5.5067673e+00, -4.0674820e-03], dtype=float32),\n",
              "  'Positive'),\n",
              " ('太慢了，等这个饭吃，要饿死',\n",
              "  array([-5.3838854e+00, -4.6005356e-03], dtype=float32),\n",
              "  'Positive'),\n",
              " ('有个菜我点了，但是没得，差评',\n",
              "  array([-5.2473626 , -0.00527526], dtype=float32),\n",
              "  'Positive'),\n",
              " ('非常慢，还骗人，跟他再三确认说是送到楼下了，结果还是让我在门口等了好久',\n",
              "  array([-5.3628631e+00, -4.6984274e-03], dtype=float32),\n",
              "  'Positive'),\n",
              " ('今天买的那个臭豆腐 真的有毒 我女朋友都拉肚子好几次了',\n",
              "  array([-6.2321262e+00, -1.9671628e-03], dtype=float32),\n",
              "  'Positive'),\n",
              " ('很好和经常来购买，服务挺到位的，有种酸奶有种儿时的味道吧！',\n",
              "  array([-5.7808075e+00, -3.0909642e-03], dtype=float32),\n",
              "  'Positive'),\n",
              " ('老板人非常的不错哈，虾子的味道极其的好，可以去试哈！',\n",
              "  array([-5.483938e+00, -4.161627e-03], dtype=float32),\n",
              "  'Positive'),\n",
              " ('第二次来，感觉辣味好像没有第一次辣了。建议可以将辣酱单独成碟，顾客自己加。不过这样可能会增加洗碗啊什么的工时，而且客人自己拌可能会不小心倒得到处都是等等，所以各有利弊',\n",
              "  array([-4.85437   , -0.00782472], dtype=float32),\n",
              "  'Positive'),\n",
              " ('非常好！上菜非常快，环境很漂亮，服务很周到热心。菜色好看味道也不错。关键价格真的不贵，我们5个人才吃了144元~强烈推荐',\n",
              "  array([-5.5809236e+00, -3.7762064e-03], dtype=float32),\n",
              "  'Positive'),\n",
              " ('说实话，就这个价格来说，已经是相当超值了，位置也好找，就在解放碑大都会6楼，唯一不足的就是，服务员基本上都是阿姨级别的，服务态度绝对热情，反应速度稍慢了点，交流起来有点……总体来说69元，划得来 #烤牛排# #牛排# #北京烤鸭# #鸡蛋布丁# #烤虾# #龙利鱼#',\n",
              "  array([-4.485544  , -0.01133479], dtype=float32),\n",
              "  'Positive'),\n",
              " ('味道一般，还没自己做的好吃',\n",
              "  array([-5.532456e+00, -3.964067e-03], dtype=float32),\n",
              "  'Positive'),\n",
              " ('非常好 阿姨态度很和蔼 排骨好吃两人绰绰有余 唯一就是环境差点',\n",
              "  array([-5.9501548e+00, -2.6088273e-03], dtype=float32),\n",
              "  'Positive'),\n",
              " ('环境干净，菜品新鲜，服务态度好。',\n",
              "  array([-6.0105505e+00, -2.4557929e-03], dtype=float32),\n",
              "  'Positive'),\n",
              " ('这个粥全部都是水吗？一勺舀下去都是稀的，看着都恶心，像馊的，不及店里的三分之一，饺子三个，外卖没有筷子没有勺子没有碗，还收这么贵的配送费？三个菜100，美团第一差评送给你们。谢谢',\n",
              "  array([-5.413842e+00, -4.464421e-03], dtype=float32),\n",
              "  'Positive'),\n",
              " ('吃了一个发霉的鸭爪，鸭骨架没问题，味道很好',\n",
              "  array([-5.3772187e+00, -4.6313875e-03], dtype=float32),\n",
              "  'Positive'),\n",
              " ('老顾客啦 夏天喝尤其安逸 推荐推荐',\n",
              "  array([-6.5346441e+00, -1.4532967e-03], dtype=float32),\n",
              "  'Positive'),\n",
              " ('尼玛第一次订单，吃了就拉肚子20几次，差点死了，尼玛这家店真不卫生，现在还在医院输液。',\n",
              "  array([-4.9155817 , -0.00735847], dtype=float32),\n",
              "  'Positive'),\n",
              " ('好，非常好，味道很好，可以选很多口味！',\n",
              "  array([-5.8112235e+00, -2.9982636e-03], dtype=float32),\n",
              "  'Positive'),\n",
              " ('味道不错，菜品新鲜，还可以点半份也，适合2人吃，就 可以多吃几个菜了，服务也很好，环境也好',\n",
              "  array([-5.1067905 , -0.00607395], dtype=float32),\n",
              "  'Positive'),\n",
              " ('味道好，口味棒，辣的爽，吃的安逸，分量多，强烈推荐',\n",
              "  array([-5.587592e+00, -3.751029e-03], dtype=float32),\n",
              "  'Positive'),\n",
              " ('便宜，味道好，不错！', array([-5.173338  , -0.00568179], dtype=float32), 'Positive'),\n",
              " ('口味很好 量也够了……就是汤没有之前的好',\n",
              "  array([-2.765787  , -0.06499366], dtype=float32),\n",
              "  'Positive'),\n",
              " ('来吃了好几次了，很喜欢米饼。可惜锅是斜的，看着不舒服',\n",
              "  array([-5.9352736e+00, -2.6479440e-03], dtype=float32),\n",
              "  'Positive'),\n",
              " ('味道不摆啦 家常便饭 很完美 十年忠实顾客',\n",
              "  array([-5.371438e+00, -4.658323e-03], dtype=float32),\n",
              "  'Positive'),\n",
              " ('吃到虫了  厉害厉害',\n",
              "  array([-6.4466553e+00, -1.5870845e-03], dtype=float32),\n",
              "  'Positive'),\n",
              " ('豆干和邵皮都没送',\n",
              "  array([-5.8465533e+00, -2.8940246e-03], dtype=float32),\n",
              "  'Positive'),\n",
              " ('虾很好吃份量也足，唯一就是鸡咸了一点点，朋友超爱土豆丝～能看江景，真要赞一下',\n",
              "  array([-5.220241  , -0.00542075], dtype=float32),\n",
              "  'Positive'),\n",
              " ('还是可以，帮朋友定的，现在都、涨价了。去吃过几次了',\n",
              "  array([-5.7002020e+00, -3.3509552e-03], dtype=float32),\n",
              "  'Positive'),\n",
              " ('筷子都没得 吃啥',\n",
              "  array([-6.4932914e+00, -1.5147176e-03], dtype=float32),\n",
              "  'Positive'),\n",
              " ('还可以吧！吃过很多次！就是吃了容易饿',\n",
              "  array([-5.6629634e+00, -3.4783119e-03], dtype=float32),\n",
              "  'Positive'),\n",
              " ('份量充足.很不错',\n",
              "  array([-6.166770e+00, -2.100168e-03], dtype=float32),\n",
              "  'Positive'),\n",
              " ('蛋糕非常好，很好吃，也很漂亮。',\n",
              "  array([-6.110560e+00, -2.221737e-03], dtype=float32),\n",
              "  'Positive'),\n",
              " ('我定的是两份饭，他们却只送了一份饭。',\n",
              "  array([-5.4512711e+00, -4.3000383e-03], dtype=float32),\n",
              "  'Positive'),\n",
              " ('一如既往地好，包间够大，味道也好',\n",
              "  array([-5.8819494e+00, -2.7932222e-03], dtype=float32),\n",
              "  'Positive'),\n",
              " ('确实不错，一如既往的好，继续支持。。。。。',\n",
              "  array([-5.6039982e+00, -3.6898642e-03], dtype=float32),\n",
              "  'Positive'),\n",
              " ('甜甜圈味道超级棒，老板也很好～',\n",
              "  array([-5.7137599e+00, -3.3056873e-03], dtype=float32),\n",
              "  'Positive'),\n",
              " ('位置很好找  环境也不错  晚上去的每个人另外加了十块的  菜品很多很新鲜 还有很多海鲜  晚上人挺多的  下次再去#新鲜牛肉##生蚝扇贝##蟹脚##法式髓骨牛排##韩国牛排#',\n",
              "  array([-4.427056  , -0.01202159], dtype=float32),\n",
              "  'Positive'),\n",
              " ('很不爽…点了米饭又不送，早说没米饭我就不点了，弄的其他家有米饭的也关门了…',\n",
              "  array([-4.939285  , -0.00718545], dtype=float32),\n",
              "  'Positive'),\n",
              " ('已经去过几次了  味道非常好 分量也足  不过饭点人很多  要提前去排队',\n",
              "  array([-5.6066833e+00, -3.6800061e-03], dtype=float32),\n",
              "  'Positive'),\n",
              " ('好吃，已经第二次买了，很划算，服务各方面都很好',\n",
              "  array([-5.9391227e+00, -2.6378380e-03], dtype=float32),\n",
              "  'Positive'),\n",
              " ('首先位置很好找，其次菜品很新鲜，环境也不错，老板很客气',\n",
              "  array([-5.9689384e+00, -2.5601964e-03], dtype=float32),\n",
              "  'Positive'),\n",
              " ('味道很好吃。难得吃到这样好吃的，以后会经常来的',\n",
              "  array([-6.1700382e+00, -2.0933875e-03], dtype=float32),\n",
              "  'Positive'),\n",
              " ('听我们同学说这家店上过630的美食非常道，所以今天来尝尝，感觉服务特别好，老板性格很豪爽，味道也不错，非常满意，推荐大家来吃哦！',\n",
              "  array([-5.4914474e+00, -4.1304044e-03], dtype=float32),\n",
              "  'Positive'),\n",
              " ('鱼太咸，鱼不新鲜有异味，差评',\n",
              "  array([-5.9375052e+00, -2.6421184e-03], dtype=float32),\n",
              "  'Positive'),\n",
              " ('已经是老顾客，经常推荐朋友买？。团购力度再大点更好',\n",
              "  array([-6.1033406e+00, -2.2379134e-03], dtype=float32),\n",
              "  'Positive'),\n",
              " ('配送慢成狗以后再也不会在这点11点点的1点半送到，你们要饿死人？',\n",
              "  array([-5.4429140e+00, -4.3362402e-03], dtype=float32),\n",
              "  'Positive'),\n",
              " ('饭像没熟样 好像昨天的剩饭 一点都不好吃',\n",
              "  array([-6.1878982e+00, -2.0562713e-03], dtype=float32),\n",
              "  'Positive'),\n",
              " ('送货员态度太差，味道难吃',\n",
              "  array([-5.406475e+00, -4.497532e-03], dtype=float32),\n",
              "  'Positive'),\n",
              " ('地方好找，味道也很好，下次还会去吃！',\n",
              "  array([-5.4555755e+00, -4.2815213e-03], dtype=float32),\n",
              "  'Positive'),\n",
              " ('很好 吃过很多次了 环境和菜品都很不错',\n",
              "  array([-6.2933493e+00, -1.8503226e-03], dtype=float32),\n",
              "  'Positive'),\n",
              " ('难吃 难吃 ',\n",
              "  array([-5.7412944e+00, -3.2157397e-03], dtype=float32),\n",
              "  'Positive'),\n",
              " ('一如既往的好，吃了无数次了',\n",
              "  array([-5.7379441e+00, -3.2265529e-03], dtype=float32),\n",
              "  'Positive'),\n",
              " ('想不到的差，想不到的难吃，第一次给外卖评价',\n",
              "  array([-5.012378  , -0.00667734], dtype=float32),\n",
              "  'Positive'),\n",
              " ('#炒米粉+肉#是糊的',\n",
              "  array([-6.184321e+00, -2.063647e-03], dtype=float32),\n",
              "  'Positive'),\n",
              " ('老顾客了，会继续光顾的',\n",
              "  array([-6.3249302e+00, -1.7927303e-03], dtype=float32),\n",
              "  'Positive'),\n",
              " ('三文鱼不新鲜，肉质分层了，158元的大份三文鱼（35片）每片4.5元了，28.8元的小份三文鱼（9片）每片3.2元，158元至少是49片，大份少得可怜，不要说什么切大切小，你们每种分量我都点过，绝对没有下次了，太黑心！',\n",
              "  array([-3.9075053, -0.0202951], dtype=float32),\n",
              "  'Positive'),\n",
              " ('菜非常好吃！性价比非常高，作为外地人也极力推荐！',\n",
              "  array([-5.4801702e+00, -4.1772970e-03], dtype=float32),\n",
              "  'Positive'),\n",
              " ('想吃炸熟的苍蝇 可以点一下，掺在薯条里',\n",
              "  array([-6.6031075e+00, -1.3571109e-03], dtype=float32),\n",
              "  'Positive'),\n",
              " ('味道很好，服务质量也好，不错，离家也近，以后还来',\n",
              "  array([-5.0768595 , -0.00625901], dtype=float32),\n",
              "  'Positive'),\n",
              " ('吃了N多次，订了N多次，太好吃了',\n",
              "  array([-4.846635  , -0.00788575], dtype=float32),\n",
              "  'Positive'),\n",
              " ('说实话虾子确实可以，但是店家能不能在送货前检查一下食物是否坏掉#秘制辣卤鹅翅##辣卤鸭头#这两样东西打开后完全是酸臭了的！！！叫人怎么下口！！！！浪费钱不说，吃出问题才是大事！！！',\n",
              "  array([-4.402243  , -0.01232543], dtype=float32),\n",
              "  'Positive'),\n",
              " ('良心卖家，东西也很不错，最关键的是我留言只是想要一个长得帅的外卖小哥，老板竟然派了吴彦祖那个级别的！希望老板正视自己的错误，拿出企业家的良心把小哥微信私我，我立马改评价。                                                        （好吧，其实你不给我我也会改）',\n",
              "  array([-4.5756793 , -0.01035272], dtype=float32),\n",
              "  'Positive'),\n",
              " ('一个小时前刚从他们店里点了大盘鸡盖面，然后吃出来了一只虫子，剩下的半碗全扔掉了，关键是店家的态度，太让人生气了，还不承认，还给我说是菜叶子，有见过长脚长眼睛的菜叶子吗？更何况我点的餐就没有菜，如果肯定是菜叶子，干嘛要急着销毁证据，把我的筷子抢过去扔垃圾桶，再说我又没眼瞎着，分不清菜叶还是虫子，这家店的卫生极其不达标，大家以后就餐还是注意点，这份餐是给送餐员点的，今天重庆下大雨，看他们好辛苦，就给他们点了两份饭，今天写出这个评价，是希望大家以后可以擦亮眼，不要让那些不干不净的东西影响了我们的身体健康',\n",
              "  array([-4.8589554 , -0.00778888], dtype=float32),\n",
              "  'Positive'),\n",
              " ('第二次去了，价格合适，环境不错，下午茶的好去处',\n",
              "  array([-5.8710980e+00, -2.8237728e-03], dtype=float32),\n",
              "  'Positive'),\n",
              " ('老火锅的味道不错，菜品丰富并且量足，都吃不完。#鲜毛肚# #鲜鸭肠#',\n",
              "  array([-4.8462644 , -0.00788871], dtype=float32),\n",
              "  'Positive'),\n",
              " ('米线里面还有虫太不卫生了',\n",
              "  array([-6.1291485e+00, -2.1808192e-03], dtype=float32),\n",
              "  'Positive'),\n",
              " ('味道不错，越吃越有味道。下次还去',\n",
              "  array([-5.8950529e+00, -2.7568452e-03], dtype=float32),\n",
              "  'Positive'),\n",
              " ('太棒了!服务好!好吃!便宜!划算!无可挑剔!堪称完美!量足!三个吃够!',\n",
              "  array([-5.090231 , -0.0061756], dtype=float32),\n",
              "  'Positive'),\n",
              " ('可以，分量足，我们六个大人都没吃完的，还打了包回家，呵呵',\n",
              "  array([-5.8575344e+00, -2.8624060e-03], dtype=float32),\n",
              "  'Positive'),\n",
              " ('好吃  巴适。一如既往的好  . 下次还来 !',\n",
              "  array([-5.5236564e+00, -3.9992128e-03], dtype=float32),\n",
              "  'Positive'),\n",
              " ('送的好慢，几分钟让我等了差不多半小时',\n",
              "  array([-5.6260123e+00, -3.6094536e-03], dtype=float32),\n",
              "  'Positive'),\n",
              " ('我确实，吃个饭还能吃到钢丝，真的是醉了，再也不吃了',\n",
              "  array([-4.7773886 , -0.00845354], dtype=float32),\n",
              "  'Positive'),\n",
              " ('定餐到送达只花20分钟，提前半个小时送到，诧异烤串的速度！都是温热，里脊肉还没熟，签签牛肉上还夹带一根头发，少藕片，我也是醉了。经商量后，商家已退藕片和里脊肉的钱，尽管速度重要，但质量才是第一！尤其是吃进嘴里的食物。以前经常点你们家，觉得还是不错的，这次是换了老板吗？不愉快的一次点餐经历',\n",
              "  array([-5.7100573e+00, -3.3179254e-03], dtype=float32),\n",
              "  'Positive'),\n",
              " ('推荐番茄牛尾粥…原汁排骨好咸不推荐…小炒黄牛还不错…牛肉很嫩~',\n",
              "  array([-5.9676690e+00, -2.5635257e-03], dtype=float32),\n",
              "  'Positive'),\n",
              " ('还可以人比较少 基本没有人 速度还挺快',\n",
              "  array([-5.9152803e+00, -2.7015640e-03], dtype=float32),\n",
              "  'Positive'),\n",
              " ('很好吃啊，也很划算。已经来过很多次了',\n",
              "  array([-5.7685742e+00, -3.1291114e-03], dtype=float32),\n",
              "  'Positive'),\n",
              " ('还可以，买了很多次了，蛋糕面包都好吃！',\n",
              "  array([-5.2512655 , -0.00525462], dtype=float32),\n",
              "  'Positive'),\n",
              " ('点你家外卖好几次了，也推荐朋友了，这次肚子非常饥饿的时候点的，没想到送过来，鸡腿是臭的！太失望了，不小心吃了一块，担心一会还要拉肚子',\n",
              "  array([-4.95817   , -0.00705052], dtype=float32),\n",
              "  'Positive'),\n",
              " ('很好吃，吃过几次了，环境也非常好',\n",
              "  array([-5.6475286e+00, -3.5324811e-03], dtype=float32),\n",
              "  'Positive'),\n",
              " ('说了辣一点辣一点 都不看的吗？不辣吃起很反胃 ',\n",
              "  array([-6.182925e+00, -2.066502e-03], dtype=float32),\n",
              "  'Positive'),\n",
              " ('挺好喝的。酸奶浓浓的。味道不错',\n",
              "  array([-5.8669181e+00, -2.8356602e-03], dtype=float32),\n",
              "  'Positive'),\n",
              " ('打开就发现一根头发丝，所以扔了几块，其他的口味不错，包装都不错',\n",
              "  array([-5.4410653e+00, -4.3443115e-03], dtype=float32),\n",
              "  'Positive'),\n",
              " ('反正每次路过都会去吃，真的很好吃！几种团购都买过了，奶茶是女儿的最爱，我比较钟意雪糯米！老公爱金桔柠檬，反正每一个口味都很好！美团上购买很划算，买几杯才十来块钱！以后会继续关注！经常用美团会不会给个奖励呀！',\n",
              "  array([-4.2981305 , -0.01368721], dtype=float32),\n",
              "  'Positive'),\n",
              " ('鱼还是不错的',\n",
              "  array([-6.2542615e+00, -1.9240930e-03], dtype=float32),\n",
              "  'Positive'),\n",
              " ('老板 你自己看看 还有蚊子 ',\n",
              "  array([-6.5902152e+00, -1.3747298e-03], dtype=float32),\n",
              "  'Positive'),\n",
              " ('环境优雅口味不错',\n",
              "  array([-6.5126390e+00, -1.4856741e-03], dtype=float32),\n",
              "  'Positive'),\n",
              " ('味道很好 好喝又实惠',\n",
              "  array([-5.9665985e+00, -2.5662605e-03], dtype=float32),\n",
              "  'Positive'),\n",
              " ('菜品味道超棒',\n",
              "  array([-5.7972937e+00, -3.0403363e-03], dtype=float32),\n",
              "  'Positive'),\n",
              " ('我的天！刚刚打开一只蟑螂从袋里爬到身上。。。。。我能说认真点行吗？还是你们家老顾客了。。有头发都不说了 这次太。。。',\n",
              "  array([-6.0838714e+00, -2.2819212e-03], dtype=float32),\n",
              "  'Positive'),\n",
              " ('难吃，是我吃过最难吃的干锅了，像冷菜一样混在一起，排骨只有两三个还都是骨头，里脊肉也只有几个，再次声明难吃，还没有我自己做的好吃，其他客户最爱别买，真的太难吃了，钱还贵，骗人的给它一颗星都是给送外卖的那个人的。难吃难吃真的很难吃！！！！！！！！！！！',\n",
              "  array([-5.307686e+00, -4.965711e-03], dtype=float32),\n",
              "  'Positive'),\n",
              " ('大清早点一个外卖，送过来 冷冰冰的  秒懂 就是之前先做好了了的，自己买的 硬着头皮也要吃完，边吃边找有没有其他什么出来，不放心的感觉 你们懂的。',\n",
              "  array([-4.748438  , -0.00870292], dtype=float32),\n",
              "  'Positive'),\n",
              " ('环境不错 ，服务周到，份量足，味道不错，套餐包括饮料酒水，满意。',\n",
              "  array([-5.888510e+00, -2.774915e-03], dtype=float32),\n",
              "  'Positive'),\n",
              " ('老顾客了，还是很不错的，下次还会去',\n",
              "  array([-5.5831356e+00, -3.7678932e-03], dtype=float32),\n",
              "  'Positive'),\n",
              " ('头发都在饭里，骑手还不耐烦',\n",
              "  array([-5.591492e+00, -3.736421e-03], dtype=float32),\n",
              "  'Positive'),\n",
              " ('味道不错位置很好找就在百盛下面微时代旁边，值得表扬的是服务员太热情了。看到我们都穿的浅色衣服，特地帮我们都拿了围裙。怕我们弄到身上，又亲切的给我们说无线网络密码。顾客不是很多但确实照顾到我们的感受了的，值得推荐。冲这服务我们都该再次',\n",
              "  array([-4.7660584 , -0.00855034], dtype=float32),\n",
              "  'Positive'),\n",
              " ('菜品不错，菜量也不少，口味特别好，',\n",
              "  array([-5.8700647e+00, -2.8266259e-03], dtype=float32),\n",
              "  'Positive'),\n",
              " ('这是我吃过最好吃的酥肉，真的很喜欢',\n",
              "  array([-6.0140128e+00, -2.4472307e-03], dtype=float32),\n",
              "  'Positive'),\n",
              " ('去过好多次了  一如既往的还好  下次有机会会回去的',\n",
              "  array([-6.1587744e+00, -2.1170601e-03], dtype=float32),\n",
              "  'Positive'),\n",
              " ('菜品足，服务好',\n",
              "  array([-5.9185653e+00, -2.6926473e-03], dtype=float32),\n",
              "  'Positive'),\n",
              " ('觉得好吃，专门后来又去了一次。烤猪蹄也好吃',\n",
              "  array([-5.9488678e+00, -2.6121563e-03], dtype=float32),\n",
              "  'Positive'),\n",
              " ('鱿鱼臭的，吃了拉肚子',\n",
              "  array([-5.8397555e+00, -2.9137558e-03], dtype=float32),\n",
              "  'Positive'),\n",
              " ('我超级超级钟爱蟹籽！希望能再多一点蟹籽啊啊啊啊啊啊啊，整体口味都还可以，买过几次了。下次一定要尝试在店里坐着吃，享受～',\n",
              "  array([-5.9284434e+00, -2.6661349e-03], dtype=float32),\n",
              "  'Positive'),\n",
              " ('一个人觉得好用又平价商店和她一样了',\n",
              "  array([-6.4518294e+00, -1.5788721e-03], dtype=float32),\n",
              "  'Positive'),\n",
              " ('1环境；老板贴心在地址里面说得很清楚，走到里面二号厅电梯（排队进电梯……人太多了……）上楼即到。店内环境很不错，挺有情调的，包间也给我留了，但是因为只有三个人不好意思用老板的大圆桌包间，还是坐的三张桌子的房间，空调很给力，也很舒服。2菜品；跟老板说了请少盐少辣，但是味道还是有一点点重（此次体验唯一的小瑕疵），不过味道挺不错的，摆盘造型也好看，跟大家的评价一样，生死不离这个炒鱼肉是最好吃的，只是可惜下面鱼缸的小金鱼是黑色的，如果是红色会更有卖相。试管装的银耳雪蛤水果羹很好喝。蟹黄豆腐味道很鲜，也是大赞的。每',\n",
              "  array([-5.000603  , -0.00675667], dtype=float32),\n",
              "  'Positive'),\n",
              " ('这个贡茶真的很大杯啊，超级便宜的',\n",
              "  array([-5.8743649e+00, -2.8145008e-03], dtype=float32),\n",
              "  'Positive'),\n",
              " ('怎么搞起的，手套都没有', array([-4.513484  , -0.01102074], dtype=float32), 'Positive'),\n",
              " ('螃蟹不新鲜…………',\n",
              "  array([-6.0828195e+00, -2.2843000e-03], dtype=float32),\n",
              "  'Positive'),\n",
              " ('一如既往的好。', array([-4.279029  , -0.01395304], dtype=float32), 'Positive'),\n",
              " ('在北碚，这是我吃到味道最好的火锅了，就是人太多等位时间长达1小时，菜品新鲜，三人消费166元，总体满意。',\n",
              "  array([-4.9015856, -0.0074626], dtype=float32),\n",
              "  'Positive'),\n",
              " ('菜很不错，有自己的特色。',\n",
              "  array([-5.7987833e+00, -3.0358201e-03], dtype=float32),\n",
              "  'Positive'),\n",
              " ('贡茶的口味很不错，好喝。服务员的态度也好。',\n",
              "  array([-5.8666391e+00, -2.8363734e-03], dtype=float32),\n",
              "  'Positive'),\n",
              " ('点了3份土豆却没看到土豆的影子，包装的不好，油汤都倒出来了',\n",
              "  array([-4.64007   , -0.00970396], dtype=float32),\n",
              "  'Positive'),\n",
              " ('菜品多分量足，我们一大家人吃刚刚好。值得一去',\n",
              "  array([-6.1955285e+00, -2.0405678e-03], dtype=float32),\n",
              "  'Positive'),\n",
              " ('很不错，老板特别热情，环境也很好',\n",
              "  array([-5.5510559e+00, -3.8909218e-03], dtype=float32),\n",
              "  'Positive'),\n",
              " ('味道巴适，服务不错。许久不吃，就会想念。',\n",
              "  array([-4.9871693 , -0.00684832], dtype=float32),\n",
              "  'Positive'),\n",
              " ('牛排很不错', array([-6.2905126e+00, -1.8555581e-03], dtype=float32), 'Positive'),\n",
              " ('来了好几次了，味道还不错，两个人，吃的好饱，还剩不少',\n",
              "  array([-4.625819  , -0.00984397], dtype=float32),\n",
              "  'Positive'),\n",
              " ('真的太难吃了！！！',\n",
              "  array([-5.5380797e+00, -3.9418628e-03], dtype=float32),\n",
              "  'Positive'),\n",
              " ('嗯和男朋友一起来吃的 点了一个番茄鸳鸯锅  感觉番茄汤很浓 很好喝 菜品分量也很足  服务也很周到 服务员都是很年轻的小朋友 活力十足。下次还会再来哒',\n",
              "  array([-6.1012859e+00, -2.2425521e-03], dtype=float32),\n",
              "  'Positive'),\n",
              " ('送餐太慢啦 ！不想评论！',\n",
              "  array([-5.4406986e+00, -4.3458543e-03], dtype=float32),\n",
              "  'Positive'),\n",
              " ('做工太差啦，不好吃',\n",
              "  array([-5.537739e+00, -3.943169e-03], dtype=float32),\n",
              "  'Positive'),\n",
              " ('老板非常热情，菜也非常好吃，实惠，四个人完全吃不完，好评，下次一定还来，！',\n",
              "  array([-4.9081135 , -0.00741385], dtype=float32),\n",
              "  'Positive'),\n",
              " ('不知道为什么#平菇肉丝（肉片）盖饭#里面会有尖椒？辣，不能吃辣这两天哎',\n",
              "  array([-6.1396456e+00, -2.1579806e-03], dtype=float32),\n",
              "  'Positive'),\n",
              " ('不错，味道很好，送货很快，赞一个',\n",
              "  array([-4.31565   , -0.01344789], dtype=float32),\n",
              "  'Positive'),\n",
              " ('味道很好，地方有点偏不好找，团购很划算，赞',\n",
              "  array([-5.7129846e+00, -3.3083013e-03], dtype=float32),\n",
              "  'Positive'),\n",
              " ('差评差评差评！十二点十二分下单 现在一点四十才送过来  问题是距离不到八百米  备注了加辣包结果我呵呵一个鸡腿一对翅膀一共一个调料包 不知道这家是怎么送外卖的  来了也没有一点歉意 建议大家要点外卖的避开这家 就这做生意的态度 趁早倒闭吧',\n",
              "  array([-5.514797e+00, -4.034832e-03], dtype=float32),\n",
              "  'Positive'),\n",
              " ('味道嘿好，只是番茄丸子米线只有丸子没有番茄，就有点不开心了',\n",
              "  array([-5.2841954e+00, -5.0839670e-03], dtype=float32),\n",
              "  'Positive'),\n",
              " ('味道不错，环境很好，就是不预订等很久',\n",
              "  array([-4.639328  , -0.00971117], dtype=float32),\n",
              "  'Positive'),\n",
              " ('店面位置好找，场地较小，卫生方面一般，店家的服务整体还算行，接待食客挺热情，验证卷码有规矩，排队挨个验，工作效率还算高，菜品都是半成品当场现加工成成品，点的鸡爪爪，份量由称称，一份有5个，折合下来与价格相比，虽不是很划算，但凭味道来说，还是与价格相对平衡，鸡爪爪的味道说不上有特别的特色与味道，但也挺香而爽口的，软硬度也合适，作为小食品味玩还是挺不错的。',\n",
              "  array([-3.898288  , -0.02048502], dtype=float32),\n",
              "  'Positive'),\n",
              " ('难吃，难吃，太难吃了，比在实体店味道差远了。',\n",
              "  array([-5.210035  , -0.00547647], dtype=float32),\n",
              "  'Positive'),\n",
              " ('太难吃了，光顾咸了，还有点',\n",
              "  array([-5.6218600e+00, -3.6244197e-03], dtype=float32),\n",
              "  'Positive'),\n",
              " ('很满意的，味道很好，就在电影院旁边，就是分量不多，但是值得一吃',\n",
              "  array([-4.877033  , -0.00764871], dtype=float32),\n",
              "  'Positive'),\n",
              " ('牛肉是坏的，臭的，不能吃，真郁闷',\n",
              "  array([-5.5214219e+00, -4.0082363e-03], dtype=float32),\n",
              "  'Positive'),\n",
              " ('我居然吃到蟑螂了，我好他妈无语，送半天都送不来',\n",
              "  array([-5.6028738e+00, -3.6940211e-03], dtype=float32),\n",
              "  'Positive'),\n",
              " ('#筒子骨约800g（默认宰断）#不想说了，快被那不晓得放了多少天的筒子骨臭晕了！！算我倒霉！！也就30块钱，算我倒霉！！',\n",
              "  array([-5.8318038e+00, -2.9370526e-03], dtype=float32),\n",
              "  'Positive'),\n",
              " ('鱼很差。又少不说。鱼还有腥味。无语了',\n",
              "  array([-6.2823467e+00, -1.8707885e-03], dtype=float32),\n",
              "  'Positive'),\n",
              " ('分量足，挺好的！下次还会去',\n",
              "  array([-6.1341815e+00, -2.1698759e-03], dtype=float32),\n",
              "  'Positive'),\n",
              " ('榴莲披萨酸酸的，送了从3点多到5点多，呵呵，送这么久，很6哟',\n",
              "  array([-4.793335  , -0.00831925], dtype=float32),\n",
              "  'Positive'),\n",
              " ('难吃这个词我只说一次，这家店外卖我只点一次，送来菜是温的，颜色像隔夜菜一样，口感也是，份量真的很迷你，我晓得一分价钱一分货，但是我差不多价格之前点的其他很多家都比你们份量好，主要味道也好，炸土豆都是软塌塌的了，肥肠不晓得啷个形容，反正应该不是特别新鲜，我这么懒的人都会花时间来写这么多字，是因为真的不好吃，谨代表个人观点，觉得好吃的多吃点！',\n",
              "  array([-3.8475792 , -0.02156208], dtype=float32),\n",
              "  'Positive'),\n",
              " ('很好吃，经常来吃， 鸡蛋仔比大通冰室的好吃很多',\n",
              "  array([-6.2634335e+00, -1.9064838e-03], dtype=float32),\n",
              "  'Positive'),\n",
              " ('一直都在买沁园的蛋糕面包来吃，味道好吃，经常去买，一进店里面店员很热情的推荐了新上市的芝士蛋糕，就正好团了一张来买，吃起确实口感细腻，下次还会再买。',\n",
              "  array([-4.713221  , -0.00901639], dtype=float32),\n",
              "  'Positive'),\n",
              " ('敲击好吃，下次还要来尝尝',\n",
              "  array([-5.8833985e+00, -2.7891803e-03], dtype=float32),\n",
              "  'Positive'),\n",
              " ('好吃。速度快。服务好。不错。还会来',\n",
              "  array([-5.7805576e+00, -3.0917961e-03], dtype=float32),\n",
              "  'Positive'),\n",
              " ('环境很不错，菜品新鲜分量很充足，服务很好',\n",
              "  array([-6.2141981e+00, -2.0028548e-03], dtype=float32),\n",
              "  'Positive'),\n",
              " ('超级好，老板人很好。本来以为是热的，结果是冰的，很意外，哈哈，碰到有人吃了又吃',\n",
              "  array([-5.090745 , -0.0061724], dtype=float32),\n",
              "  'Positive'),\n",
              " ('实际与宣传的差距太大，口味不行，这是我在重庆吃过最烂的石锅拌饭',\n",
              "  array([-5.457062e+00, -4.275230e-03], dtype=float32),\n",
              "  'Positive'),\n",
              " ('店面装修干净整洁，老板是个帅哥人也很好，服务很好，服务员全部白衣白帽的看着就很舒服，味道很好',\n",
              "  array([-5.069649 , -0.0063045], dtype=float32),\n",
              "  'Positive'),\n",
              " ('一如既往の好',\n",
              "  array([-6.2995815e+00, -1.8387806e-03], dtype=float32),\n",
              "  'Positive'),\n",
              " ('蛋糕很漂亮、味道也非常棒，原材料也很不错、吃起来口感很好额...而且价格又不贵、经济实惠...下次还来这里订蛋糕',\n",
              "  array([-4.987426  , -0.00684654], dtype=float32),\n",
              "  'Positive'),\n",
              " ('等了一个多小时，',\n",
              "  array([-6.1119843e+00, -2.2186444e-03], dtype=float32),\n",
              "  'Positive'),\n",
              " ('说实话，晚上去的时候没有见到小虎，没有听到小虎唱歌，心里真的很不爽，很失望。。。',\n",
              "  array([-5.0083437 , -0.00670434], dtype=float32),\n",
              "  'Positive'),\n",
              " ('吃了很多次了，味道好，价格亲民',\n",
              "  array([-5.7631330e+00, -3.1462237e-03], dtype=float32),\n",
              "  'Positive'),\n",
              " ('味道好，经常过来吃的，下次还来，大家也可以来尝尝',\n",
              "  array([-6.4320259e+00, -1.6105312e-03], dtype=float32),\n",
              "  'Positive'),\n",
              " ('非常喜欢的，经常来喝的，希望一直好下去',\n",
              "  array([-4.998094  , -0.00677372], dtype=float32),\n",
              "  'Positive'),\n",
              " ('非常好的店，经常来吃，强烈推荐。',\n",
              "  array([-5.878854e+00, -2.801900e-03], dtype=float32),\n",
              "  'Positive'),\n",
              " ('吃完拉肚子，其他的不多说',\n",
              "  array([-5.4160290e+00, -4.4546896e-03], dtype=float32),\n",
              "  'Positive'),\n",
              " ('真的无语了，素米线没有了也就算了，盒子都变小了，以前就觉得汤还挺好喝的，今天送来糊都糊了，最恶心的是还翻到个蚊子',\n",
              "  array([-4.4564495 , -0.01167135], dtype=float32),\n",
              "  'Positive'),\n",
              " ('味道不错。位置好找。吃的微辣后面也越吃越辣。三个女纸吃的四人餐貌似没吃尽兴，女汉子吖。下次会再去的。',\n",
              "  array([-5.8718076e+00, -2.8217521e-03], dtype=float32),\n",
              "  'Positive'),\n",
              " ('地方好找，离我们这里很近，老板娘很热情，味道也好，很可爱，还会去买哦！！',\n",
              "  array([-5.9877505e+00, -2.5125146e-03], dtype=float32),\n",
              "  'Positive'),\n",
              " ('嘴馋的我上了这几个菜就开始动了，后面的就没有照了，服务一如既往的好，菜的任然棒棒哒，来南坪逛街我最喜欢的吃饭点',\n",
              "  array([-4.393659  , -0.01243246], dtype=float32),\n",
              "  'Positive'),\n",
              " ('老板人很好，其中一份菜分量不够还主动说给我们加一个菜。其实老板不说我也不知道啊 哈哈',\n",
              "  array([-4.833862  , -0.00798758], dtype=float32),\n",
              "  'Positive'),\n",
              " ('好喝。口感很好',\n",
              "  array([-6.1815677e+00, -2.0693573e-03], dtype=float32),\n",
              "  'Positive'),\n",
              " ('点了几次了，但这份田螺实在不敢吃。因为前几天才出了福寿螺的新闻，卖福寿螺这在外地是可以举报的。重庆不知道可不可以，田螺不是这个样子，这就是福寿螺，没炒熟的话吃了是会被感染的啊大哥。不知道福寿螺的可以去百度一下，还有分辨田螺和福寿螺的图片。还有你们送来的时候，我一直在说小声点，大半夜家里人都睡了，特别大的声音敲门和说话。。真的无语。',\n",
              "  array([-4.395438 , -0.0124102], dtype=float32),\n",
              "  'Positive'),\n",
              " ('我从来没吃过这么奇怪又难吃的烧烤！！点了个玉米，点了点素菜，其中包括青椒，结果商家直接给我送来一个奇奇怪怪的麻辣青椒炒玉米，虽然很失望但心想算了青椒炒玉米嘛也不会太难吃，结果吃了一口，真的奇怪的味道，青椒的辣混合着油辣子海椒的辣！于是致电商家，商家说我点了青椒，他以为就是这样弄，因为一般点了青椒和玉米的都是这样想的，我想问哈，你们真的都会这样想吗？还是我不该点青椒！？然后我说这个太难吃了，你把玉米的钱退给我就算了，结果商家死活不干，还说撒子我本来就没点多少钱的菜，这是我点了多少钱菜的问题吗？这是你商家的失',\n",
              "  array([-4.6880784 , -0.00924698], dtype=float32),\n",
              "  'Positive'),\n",
              " ('菜品丰富，味道不错，服务也很到位，价格各方面也很公道。下次还会再去！',\n",
              "  array([-5.276168e+00, -5.125122e-03], dtype=float32),\n",
              "  'Positive'),\n",
              " ('我日嘛啥子几把情况嘛，又不是第一次点了，吃除了一个蚊子大的哪种，还有一个小虫子，还有一根成头发，媳妇直接吃欧了，搞麻批搞',\n",
              "  array([-4.7212915, -0.0089435], dtype=float32),\n",
              "  'Positive'),\n",
              " ('我要是再来这家店我就是傻逼！！！菜和肉只有一点不说，还是臭的。好评都是刷出来的吧！商家要有点良心，纯粹垃圾，实话实说而已。',\n",
              "  array([-5.0373473 , -0.00651213], dtype=float32),\n",
              "  'Positive'),\n",
              " ('味道很不错，糍粑特别好吃，下次会再来',\n",
              "  array([-5.1350245 , -0.00590426], dtype=float32),\n",
              "  'Positive'),\n",
              " ('好喝好喝每天一杯，便宜好喝店员服务好好喝好喝每天一杯，便宜好喝店员服务好好喝好喝每天一杯，便宜好喝店员服务好好喝好喝每天一杯，便宜好喝店员服务好好喝好喝每天一杯，便宜好喝店员服务好好喝好喝每天一杯，便宜好喝店员服务好',\n",
              "  array([-4.7335296 , -0.00883432], dtype=float32),\n",
              "  'Positive'),\n",
              " ('蛋糕很实惠，卖家送来的也挺快的，下次会再来。',\n",
              "  array([-5.9555907e+00, -2.5946782e-03], dtype=float32),\n",
              "  'Positive'),\n",
              " ('太棒了，味道很好，值得朋友聚餐去，真的很麻辣。',\n",
              "  array([-5.230688  , -0.00536419], dtype=float32),\n",
              "  'Positive'),\n",
              " ('上菜快，味道好，份量足，服务周到，虽然店面小，但环境安静优雅，梅子酒有点特色，度数低，女士们一起小酌一下还不错。下次还会来的，并且会向朋友推荐。真心好。',\n",
              "  array([-4.00503   , -0.01839179], dtype=float32),\n",
              "  'Positive'),\n",
              " ('真的不好吃，全是冰渣，三层厚厚的皮，一层带冰渣的奶油，一小块里只有五六粒芒果，感觉全是皮和冰口感也不好',\n",
              "  array([-5.5055919e+00, -4.0722312e-03], dtype=float32),\n",
              "  'Positive'),\n",
              " ('位置也比较好找，味道也非常的好吃，分量足，总体来说很开心。',\n",
              "  array([-5.2004046 , -0.00552958], dtype=float32),\n",
              "  'Positive'),\n",
              " ('好吃，菜品新鲜，分量足',\n",
              "  array([-5.7398815e+00, -3.2203740e-03], dtype=float32),\n",
              "  'Positive'),\n",
              " ('服务态度很好，店员非常热情，十分好评！',\n",
              "  array([-6.0410838e+00, -2.3818237e-03], dtype=float32),\n",
              "  'Positive'),\n",
              " ('翻找美团发现这家，抱着试一试的态度过来的，结果真心好好吃，都全部吃完了，很大一条鱼简直是太划算了，老板娘态度也很好。还配了荤菜个素菜，',\n",
              "  array([-5.098844  , -0.00612252], dtype=float32),\n",
              "  'Positive'),\n",
              " ('位置：A馆3号门对面直走大概500米，在林妹妹沾水米线旁边！环境：比较简洁，室内为主，室外只有一张桌子！服务：挺不错的，wifi速度杠杠的，团购验证很快，老板娘挺热情的！味道：酱香味确实不错，香辣太辣了！土豆很好吃！下次有机会来试试蟠龙菜～',\n",
              "  array([-4.7754135 , -0.00847032], dtype=float32),\n",
              "  'Positive'),\n",
              " ('环境和服务都非常好，下午去的比较早，人不多，有一桌打牌的，如果禁止客人在咖啡馆大厅打牌，这样可能显得咖啡馆更宁静，更专业一点。在咖啡馆打牌可能跟本地习俗有关系，再高档的咖啡厅也免不了有人打牌，所以这点上面也不能苛刻要求，总体算不错的。',\n",
              "  array([-5.0656133 , -0.00633008], dtype=float32),\n",
              "  'Positive'),\n",
              " ('来了好多次了！不错！下次再来！',\n",
              "  array([-5.1328855 , -0.00591694], dtype=float32),\n",
              "  'Positive'),\n",
              " ('老顾客了 这个套餐相当划算！推荐',\n",
              "  array([-6.0783906e+00, -2.2945285e-03], dtype=float32),\n",
              "  'Positive'),\n",
              " ('说的送冰红茶。我怎么没看到！  遁地了没？',\n",
              "  array([-5.9944382e+00, -2.4957482e-03], dtype=float32),\n",
              "  'Positive'),\n",
              " ('味道一点都不好吃！里面的菜也没有入味！',\n",
              "  array([-6.7225413e+00, -1.2042421e-03], dtype=float32),\n",
              "  'Positive'),\n",
              " ('味道还可以，分量也多足。但是作为资深的小龙虾专业户，我想说你们勒个虾子不是死虾都是放了一到两天的虾子老，虾肉又老又硬，反复加热导致虾子壳壳只有嫩个难拨老。不是新鲜的虾我全部捞出来了，老板你也真的是太没得职业道德了，新鲜虾子少得可怜。另外，不要拿同行污蔑勒些言子来解释老，我确实不是同行！',\n",
              "  array([-4.991394  , -0.00681943], dtype=float32),\n",
              "  'Positive'),\n",
              " ('口感不错，环境也还好，老板很热情，上菜在快一点就好了',\n",
              "  array([-4.9287825 , -0.00726167], dtype=float32),\n",
              "  'Positive'),\n",
              " ('很好喝，一只酸奶牛加冰了味就淡了，这家加冰味道也很浓，这种热死人的天气喝起确实爽',\n",
              "  array([-5.0274315 , -0.00657715], dtype=float32),\n",
              "  'Positive'),\n",
              " ('一直喜欢这家店，位于长江江畔，风景优美，味道鲜美，非常适合朋友聚会。',\n",
              "  array([-4.689707  , -0.00923186], dtype=float32),\n",
              "  'Positive'),\n",
              " ('一如既往的好吃，这次一个人去的。',\n",
              "  array([-5.5016546e+00, -4.0883776e-03], dtype=float32),\n",
              "  'Positive'),\n",
              " ('来咯歌剧院哈哈哈哈',\n",
              "  array([-6.2758384e+00, -1.8830440e-03], dtype=float32),\n",
              "  'Positive'),\n",
              " ('吃了很多次了味道不错',\n",
              "  array([-5.7806993e+00, -3.0913206e-03], dtype=float32),\n",
              "  'Positive'),\n",
              " ('土豆丝太难吃，还有虫子在里面。',\n",
              "  array([-5.4749146e+00, -4.1993773e-03], dtype=float32),\n",
              "  'Positive'),\n",
              " ('来了很多次了，环境很舒服，老板很细心，说天气凉了酒喝太冰对女生肠胃不好，给上一半冰一半不冰，解放碑啤酒口感很不错，而且上面还有很多有趣的重庆言子，最喜欢吃她们店的豆干和牛肉分量足，味道巴适超级下酒，这家店我是认准了',\n",
              "  array([-4.2072306 , -0.01499946], dtype=float32),\n",
              "  'Positive'),\n",
              " ('狠不满意，味太差，还吃到头发，投诉',\n",
              "  array([-5.2716508e+00, -5.1483675e-03], dtype=float32),\n",
              "  'Positive'),\n",
              " ('真不想说啦，看着都没食欲啦，',\n",
              "  array([-5.5931911e+00, -3.7301264e-03], dtype=float32),\n",
              "  'Positive'),\n",
              " ('这边的位置好找，两个人吃的，吃的蒜香味，一点也不辣，味道超好吃，不能吃辣椒的，最合适选择蒜香的。分量很多，两个人吃都没吃完，还送了一个小菜，老板的服务态度也很好，强烈推荐大家去品尝，反正我是很满意这次的用餐。',\n",
              "  array([-4.7271104, -0.0088914], dtype=float32),\n",
              "  'Positive'),\n",
              " ('饭又硬又冷，菜真的是难吃 猪扒就三块 还薄得跟纸一样薄，咖喱就像土豆泥根本没有咖喱味 下次再也不买这家了 ',\n",
              "  array([-4.923428  , -0.00730072], dtype=float32),\n",
              "  'Positive'),\n",
              " ('很多很多很多次呢，以后还会再去的味道不错',\n",
              "  array([-5.9154787e+00, -2.7009693e-03], dtype=float32),\n",
              "  'Positive'),\n",
              " ('好吃，环境好，经常来吃，团购很划算',\n",
              "  array([-5.1141534 , -0.00602916], dtype=float32),\n",
              "  'Positive'),\n",
              " ('分量其实挺足的，只是因为是干捞没有汤加上碗大，照出来不明显，味道挺好的，辣油别有一番风味还带了点豆子的香味，米线口感糯的又不失筋道，非常棒',\n",
              "  array([-4.433048  , -0.01194939], dtype=float32),\n",
              "  'Positive'),\n",
              " ('评价了好多次了 每次都吃美蛙鱼头 直接团一个这个98的 不管3个人还是4个人 我这边情况是都吃爽了的 3个人会吃不完菜 四个人刚好够 麻辣味好爽 配菜也都很好吃 虽然是路边大排档即视感 但这样才有feel',\n",
              "  array([-5.2029815 , -0.00551536], dtype=float32),\n",
              "  'Positive'),\n",
              " ('团购实惠，味道不错，蒸汽煮鱼速度快，只用了4分钟，推荐，下次还来',\n",
              "  array([-4.5946064 , -0.01015756], dtype=float32),\n",
              "  'Positive'),\n",
              " ('长这么大吃过最好吃的蛋糕…奶油的纯纯的重牛奶味，真的听不下来，蛋糕又不甜，刚好配上奶油的甜而不腻，太棒了。还有配套的工具，太喜欢了，真的太有feel，超级无敌满意，以后会继续购买。送货上门的优质态度，希望你们生意越来越好',\n",
              "  array([-4.7724156 , -0.00849586], dtype=float32),\n",
              "  'Positive'),\n",
              " ('这味道确实太差了，一点味道都没有',\n",
              "  array([-4.3458376 , -0.01304532], dtype=float32),\n",
              "  'Positive'),\n",
              " ('还不错⊙▽⊙很好吃，服务很好！',\n",
              "  array([-5.7604694e+00, -3.1546610e-03], dtype=float32),\n",
              "  'Positive'),\n",
              " ('位置好找就在狮子坪轻轨站，去的时候人不多，菜品新鲜而且品种也很多，火锅和烤肉一起很有特色，牛排也不错就是太小了，还要排队等，酒水的话就是葡萄酒太差啦，感觉就是兑出来的，一点也没有酒味，服务也还好也值这个价格了',\n",
              "  array([-4.38377   , -0.01255678], dtype=float32),\n",
              "  'Positive'),\n",
              " ('不好吃味道跟上次完全不一样',\n",
              "  array([-4.3854265 , -0.01253582], dtype=float32),\n",
              "  'Positive'),\n",
              " ('服务热情周到细致，味道美美的，环境好有免费的水果沙拉，值得去，希望多多做活动，己是常客',\n",
              "  array([-5.3445692e+00, -4.7853943e-03], dtype=float32),\n",
              "  'Positive'),\n",
              " ('一如既往的喜欢，就是大家都爱吃虾，店家一次就弄那么一盘，一上来就被抢光了，要排队等很久，扫兴。',\n",
              "  array([-5.4201603e+00, -4.4362941e-03], dtype=float32),\n",
              "  'Positive'),\n",
              " ('看到无邪入驻重庆第一时间就去拔草了，对于抹茶控来说简直大爱啊。在龙湖天街2号门口非常显眼，装修风格就是日式的，刚开业人很多，但是服务员特别热情搞得我很紧张啊哈哈哈。四个人每个人点了一个，吃个精光。',\n",
              "  array([-5.0557075 , -0.00639322], dtype=float32),\n",
              "  'Positive'),\n",
              " ('位置比较好找，环境不错，味道很好',\n",
              "  array([-5.0710487 , -0.00629561], dtype=float32),\n",
              "  'Positive'),\n",
              " ('新开的，看电影出来饿了',\n",
              "  array([-5.8441362e+00, -2.9010375e-03], dtype=float32),\n",
              "  'Positive'),\n",
              " ('油太多了，不好吃！太腻！',\n",
              "  array([-5.1741076 , -0.00567741], dtype=float32),\n",
              "  'Positive'),\n",
              " ('时间很准确，但是实物质量太差了。不好吃',\n",
              "  array([-6.0113711e+00, -2.4537712e-03], dtype=float32),\n",
              "  'Positive'),\n",
              " ('百分之百有死虾，而且还有臭味，老板开门做生意不是这么做的吧！从来没给任何一个商家差评，你算第一个',\n",
              "  array([-4.717442  , -0.00897823], dtype=float32),\n",
              "  'Positive'),\n",
              " ('第一次吃，感觉味道还不错，服务态度也挺好的，下次还会再来',\n",
              "  array([-5.3639503e+00, -4.6933251e-03], dtype=float32),\n",
              "  'Positive'),\n",
              " ('蔬菜已经过期，吃完就拉肚子了',\n",
              "  array([-5.6675630e+00, -3.4622746e-03], dtype=float32),\n",
              "  'Positive'),\n",
              " ('味道不错，就是有点热！！！！！！',\n",
              "  array([-5.7611680e+00, -3.1524033e-03], dtype=float32),\n",
              "  'Positive'),\n",
              " ('不错，挺好喝的，下次还会喝',\n",
              "  array([-5.328392e+00, -4.863694e-03], dtype=float32),\n",
              "  'Positive'),\n",
              " ('经常经过这里，第一次来团，没有失望。我去的时候比较晚，没有排队，美女服务态度也好。味道是我喜欢的就是有点辣，个人口味吧。分量很足，好多肉啊，反正我没有吃完，浪费了！下次和闺蜜一起吃，推荐，价廉物美好味道！棒棒哒！',\n",
              "  array([-4.7783666 , -0.00844526], dtype=float32),\n",
              "  'Positive'),\n",
              " ('物美价廉，上菜很快，味道也不错',\n",
              "  array([-4.8044677 , -0.00822679], dtype=float32),\n",
              "  'Positive'),\n",
              " ('贵。不到10 只。就100块也不好吃',\n",
              "  array([-5.2498865 , -0.00526198], dtype=float32),\n",
              "  'Positive'),\n",
              " ('我们是去重庆旅游的，因为宝贝睡着了，所以我们说找个茶馆休息一下，没想到环境很好，而且服务也很好，把宝贝放在沙发上睡，我们也休息了一下，茶也挺好的，没想到这么便宜的价位还有这么好的地方',\n",
              "  array([-4.1254764 , -0.01628771], dtype=float32),\n",
              "  'Positive'),\n",
              " ('十分的不错、已经来了很多次了、带起娃儿来很好',\n",
              "  array([-6.1655402e+00, -2.1027853e-03], dtype=float32),\n",
              "  'Positive'),\n",
              " ('喜欢，口味很好',\n",
              "  array([-5.8737192e+00, -2.8164028e-03], dtype=float32),\n",
              "  'Positive'),\n",
              " ('米线一股酸臭味，牛肉也是。真是一口也没吃。打开盖子就闻到了。',\n",
              "  array([-5.4044614e+00, -4.5066695e-03], dtype=float32),\n",
              "  'Positive'),\n",
              " ('态度好 服务好 做的蛋糕也不错',\n",
              "  array([-5.7983718e+00, -3.0371274e-03], dtype=float32),\n",
              "  'Positive'),\n",
              " ('我们是两个人去吃的，有一个代金劵，位置还是比较好找的，去的时候刚好快开餐，环境很好而且做中间还有节目表演，就是节目少了点服务员很好很热心 由于后来去弄照片去耽误了十几分钟，回来发现桌子的菜全没了，结果被服务员收拾啦。哈哈，说起来我们也有点不好意思呢！不过后来马上又给我们开了一桌，还有那个爬爬虾，排队的人真的很多啊，我们都排了几次，还吃了很多哈根达斯，真的是很不错的，希望店家能多有些优惠活动就好了，',\n",
              "  array([-5.309120e+00, -4.958594e-03], dtype=float32),\n",
              "  'Positive'),\n",
              " ('味道不错，服务态度也不错，环境也可以',\n",
              "  array([-4.588381 , -0.0102214], dtype=float32),\n",
              "  'Positive'),\n",
              " ('第一次儿子试了香蕉优格，味道挺不错的，以后继续光顾，非常棒！',\n",
              "  array([-5.4815202e+00, -4.1717174e-03], dtype=float32),\n",
              "  'Positive'),\n",
              " ('作为北方人真的吃不惯这个南方面食，豆浆还行，包子粥不好吃、全扔了',\n",
              "  array([-4.7534633, -0.0086592], dtype=float32),\n",
              "  'Positive'),\n",
              " ('不知道是第几次来了，这次带了两个朋友，四人餐，分量还是很足，味道依旧好',\n",
              "  array([-5.3210306e+00, -4.8997570e-03], dtype=float32),\n",
              "  'Positive'),\n",
              " ('本来很喜欢吃，但是我吃到一根头发，呵呵',\n",
              "  array([-6.1753926e+00, -2.0822051e-03], dtype=float32),\n",
              "  'Positive'),\n",
              " ('挺好的~菜品新鲜.态度很好.味道不错!',\n",
              "  array([-5.7915940e+00, -3.0578068e-03], dtype=float32),\n",
              "  'Positive'),\n",
              " ('居然.有吃到苍蝇。#鱼香肉丝套餐#',\n",
              "  array([-6.2860446e+00, -1.8638873e-03], dtype=float32),\n",
              "  'Positive'),\n",
              " ('一如既往的好 去过几次了 老人小孩都满意',\n",
              "  array([-6.4242706e+00, -1.6230280e-03], dtype=float32),\n",
              "  'Positive'),\n",
              " ('服务特别好，菜品干净，一个星期吃了两次也没有拉肚子，特别棒',\n",
              "  array([-5.2939534e+00, -5.0345077e-03], dtype=float32),\n",
              "  'Positive'),\n",
              " ('不错，很划算，强烈推荐，去了两次了',\n",
              "  array([-5.253692e+00, -5.241936e-03], dtype=float32),\n",
              "  'Positive'),\n",
              " ('菜品很精致很正宗，虾子又干净又大个，良心商家！！！',\n",
              "  array([-5.9544983e+00, -2.5975318e-03], dtype=float32),\n",
              "  'Positive'),\n",
              " ('推荐卤肉饭。味道好。而且美团还有优惠。',\n",
              "  array([-5.8331809e+00, -2.9330114e-03], dtype=float32),\n",
              "  'Positive'),\n",
              " ('三个人吃的，分量很足，味道也挺好',\n",
              "  array([-5.6827645e+00, -3.4098835e-03], dtype=float32),\n",
              "  'Positive'),\n",
              " ('服务员的态度太好了，我儿子说要给她们32个赞，，牛排也好吃，环境好，是个和家人朋友聚餐的好地方，值得推荐。',\n",
              "  array([-4.338986  , -0.01313568], dtype=float32),\n",
              "  'Positive'),\n",
              " ('很好吃，很香，味道很纯正，非常不错，性价比太高了，值得推荐',\n",
              "  array([-4.51585   , -0.01099457], dtype=float32),\n",
              "  'Positive'),\n",
              " ('一直都喜欢吃，味道一直很好',\n",
              "  array([-4.8235216 , -0.00807095], dtype=float32),\n",
              "  'Positive'),\n",
              " ('价格合理、老板细心、周到、下次还去',\n",
              "  array([-5.8465142e+00, -2.8941433e-03], dtype=float32),\n",
              "  'Positive'),\n",
              " ('量死少，感觉不值50多',\n",
              "  array([-5.3348265e+00, -4.8323749e-03], dtype=float32),\n",
              "  'Positive'),\n",
              " ('订的生日蛋糕、味道好、售货员的态度好。好评',\n",
              "  array([-5.6741214e+00, -3.4395840e-03], dtype=float32),\n",
              "  'Positive'),\n",
              " ('好好吃的茶餐厅，强烈推荐！服务也很好',\n",
              "  array([-5.7304230e+00, -3.2510306e-03], dtype=float32),\n",
              "  'Positive'),\n",
              " ('鱼很新鲜，美蛙也很好吃，菜品不错',\n",
              "  array([-5.656707e+00, -3.500170e-03], dtype=float32),\n",
              "  'Positive'),\n",
              " ('一如既往的好，品相好，价廉物美！',\n",
              "  array([-4.8318996 , -0.00800331], dtype=float32),\n",
              "  'Positive'),\n",
              " ('买的筒子骨都是臭的  真的臭的遭不住 买的绿豆送来的豆芽  补送的现在都还没送来 害我还要走其它店去买筒子骨 钱都这么浪费了',\n",
              "  array([-5.2538242e+00, -5.2412245e-03], dtype=float32),\n",
              "  'Positive'),\n",
              " ('味道不错、到处都是这样的连锁店、',\n",
              "  array([-5.5928645e+00, -3.7313141e-03], dtype=float32),\n",
              "  'Positive'),\n",
              " ('很喜欢，很好吃，分量也足',\n",
              "  array([-5.9043455e+00, -2.7312853e-03], dtype=float32),\n",
              "  'Positive'),\n",
              " ('好吃好吃，菜品也很新鲜，下次还会来',\n",
              "  array([-5.8287854e+00, -2.9459670e-03], dtype=float32),\n",
              "  'Positive'),\n",
              " ('好吃又便宜', array([-5.927237e+00, -2.669345e-03], dtype=float32), 'Positive'),\n",
              " ('带儿子在沙坪坝吃的，儿子上完课快一点了！点了金柏然同款2人套餐，吃了个精光，儿子特别喜欢苹果木肋眼牛排，还送了40元的券，味道好，超值！',\n",
              "  array([-5.3872957e+00, -4.5848722e-03], dtype=float32),\n",
              "  'Positive'),\n",
              " ('很好吃，和闺蜜来了很多次了，最爱抹茶，老板超好，而且还免费送了我们大福，很好吃！',\n",
              "  array([-5.332185e+00, -4.845187e-03], dtype=float32),\n",
              "  'Positive'),\n",
              " ('他家团了多次，味道服务都不错，环境一般般',\n",
              "  array([-5.6460872e+00, -3.5375892e-03], dtype=float32),\n",
              "  'Positive'),\n",
              " ('菜不新鲜，肉是臭的。骗人我****。',\n",
              "  array([-4.1636696 , -0.01567261], dtype=float32),\n",
              "  'Positive'),\n",
              " ('第一次来，味道真心不错，太好吃了，环境好，下次一定还和朋友来',\n",
              "  array([-3.7103014 , -0.02477446], dtype=float32),\n",
              "  'Positive'),\n",
              " ('首先分量少得可怜，然后，牛肉里面还有腊肉。算是给我加餐吗。',\n",
              "  array([-6.1318765e+00, -2.1748717e-03], dtype=float32),\n",
              "  'Positive'),\n",
              " ('到现在还在拉肚子，，，',\n",
              "  array([-5.896830e+00, -2.751971e-03], dtype=float32),\n",
              "  'Positive'),\n",
              " ('吃了西瓜拉肚子坏的也拿来卖',\n",
              "  array([-5.9860868e+00, -2.5166764e-03], dtype=float32),\n",
              "  'Positive'),\n",
              " ('喜欢吃那个牛蛙和面条，第二次来了。',\n",
              "  array([-6.1453309e+00, -2.1457286e-03], dtype=float32),\n",
              "  'Positive'),\n",
              " ('服务好 菜品很新鲜 也比较多 周末去人比较多',\n",
              "  array([-6.3154683e+00, -1.8097466e-03], dtype=float32),\n",
              "  'Positive'),\n",
              " ('味道好，老板态度热情，只是环境稍为差了点',\n",
              "  array([-5.6548128e+00, -3.5068225e-03], dtype=float32),\n",
              "  'Positive'),\n",
              " ('很不错啊，四个女生没吃完。带外地同学去吃，反正没让她们失望！！！',\n",
              "  array([-5.8235354e+00, -2.9615373e-03], dtype=float32),\n",
              "  'Positive'),\n",
              " ('阿姨叔叔都很热情，坐在了外面还怕晚上没灯会暗，不过还好，味道不错，但是朋友有些吃不惯，吃的人还是蛮多的#凯里酸汤鱼#',\n",
              "  array([-4.448469  , -0.01176538], dtype=float32),\n",
              "  'Positive'),\n",
              " ('好吃，鸡排也比较大，价格实惠',\n",
              "  array([-5.6881657e+00, -3.3915876e-03], dtype=float32),\n",
              "  'Positive'),\n",
              " ('吃了好几次 不错！',\n",
              "  array([-5.7169003e+00, -3.2953504e-03], dtype=float32),\n",
              "  'Positive'),\n",
              " ('emmmmm我外地刚过来，不知道怎么说，我感觉一股香精味，还有糖太多了，一点都不好喝，巨难受',\n",
              "  array([-4.711961  , -0.00902774], dtype=float32),\n",
              "  'Positive'),\n",
              " ('牛排问道又香又嫩，环境也很舒服，还可以弹钢琴，呵呵，服务很热情，喜欢下次还来',\n",
              "  array([-5.3226724e+00, -4.8916903e-03], dtype=float32),\n",
              "  'Positive'),\n",
              " ('严重差评。19:01就开始配送，差不多四十分钟才拿到，还是我们主动打电话询问商家联系配送员，打了好几次电话，又过了很久才拿到，食物早已凉透了，实在是太差了。',\n",
              "  array([-5.1286864 , -0.00594194], dtype=float32),\n",
              "  'Positive'),\n",
              " ('幽雅的环境，小而精致，适合约会，朋友小聚。很不错！我和朋友下午六点半下班来就餐，开始还没有多少人，后面越来越多，基本上把店家都坐满了。有3人，6人座，还有1楼的吧台座位。服务到位，亲切，温暖。菜品精致，味道惊艳。有机会还会来的。',\n",
              "  array([-4.357442  , -0.01289388], dtype=float32),\n",
              "  'Positive'),\n",
              " ('可以 味道呢将就吧 价钱也不贵 分量毛肚有点少  团购的菜品总体不是很满意',\n",
              "  array([-6.095737e+00, -2.255041e-03], dtype=float32),\n",
              "  'Positive'),\n",
              " ('吃了肚子疼 拉肚子 唉',\n",
              "  array([-5.4549255e+00, -4.2843698e-03], dtype=float32),\n",
              "  'Positive'),\n",
              " ('好吃得很，吃了很多次了，都吃不厌了，配菜也好吃，炒菜，干锅都好吃，最喜欢的店之一',\n",
              "  array([-4.6667743 , -0.00944704], dtype=float32),\n",
              "  'Positive'),\n",
              " ('一只酸奶牛的人气太高了。每次都要排好长的队。。我喜欢吃里面的紫米。。总体来讲很不错。酸奶的纯度很高。味道很好，在重庆的分店特别多。可见其知名度的大小，简直不容小觑。美团上团购比实体店买便宜点。还是挺划算的。',\n",
              "  array([-5.067392  , -0.00631871], dtype=float32),\n",
              "  'Positive'),\n",
              " ('慢，都快饿死了才送来，电话也打不通',\n",
              "  array([-5.7489982e+00, -3.1910236e-03], dtype=float32),\n",
              "  'Positive'),\n",
              " ('味道一如既往地好吃，分量一如既往地足，很好，很满意！！！',\n",
              "  array([-4.906488  , -0.00742592], dtype=float32),\n",
              "  'Positive'),\n",
              " ('味道很好，服务也好，就是环境差了一点',\n",
              "  array([-5.2721863e+00, -5.1456396e-03], dtype=float32),\n",
              "  'Positive'),\n",
              " ('挺好吃的～～分量挺多 下次还会去',\n",
              "  array([-6.0871420e+00, -2.2744283e-03], dtype=float32),\n",
              "  'Positive'),\n",
              " ('配送速度简直太慢了，一个多小时才送到，点杯豆浆不仅是冷的还没吸管',\n",
              "  array([-5.3642755e+00, -4.6917829e-03], dtype=float32),\n",
              "  'Positive'),\n",
              " ('环境挺不错的，适合朋友小聚，去之前最好预定，人特别多，去晚了就要等位啦。6个人团了3张代金券，还补了30元，姐妹聚会有点小激动，还没有找钱拿发票就走了。上菜还是挺快的，味道偏辣，就是感觉桌子有点小。总体还是不错的！',\n",
              "  array([-4.9930806 , -0.00680782], dtype=float32),\n",
              "  'Positive'),\n",
              " ('很好哦味道不错真的不错好吃惨了',\n",
              "  array([-5.7602682e+00, -3.1552552e-03], dtype=float32),\n",
              "  'Positive'),\n",
              " ('送的什么鬼。超难吃！还送错',\n",
              "  array([-6.8021402e+00, -1.1119618e-03], dtype=float32),\n",
              "  'Positive'),\n",
              " ('非常感谢店家！服务态度非常好下下雨还亲自送来，非常感谢',\n",
              "  array([-5.7644963e+00, -3.1419457e-03], dtype=float32),\n",
              "  'Positive'),\n",
              " ('一如既往的喜欢贡茶，贡茶还是招牌的最好喝',\n",
              "  array([-5.9275231e+00, -2.6686315e-03], dtype=float32),\n",
              "  'Positive'),\n",
              " ('口味还可以，就是茶包不要放得太久，太久会很涩，老板的服务也很好',\n",
              "  array([-4.632988  , -0.00977326], dtype=float32),\n",
              "  'Positive'),\n",
              " ('这的鱼吃起来很嫩。很好吃',\n",
              "  array([-6.6301994e+00, -1.3208007e-03], dtype=float32),\n",
              "  'Positive'),\n",
              " ('味道很不错，四种口味，就是不能配送到家，不过这个价格还是很实惠了，店家服务很好，让我不出地铁站直接送到站口来的，节约了时间和金钱，赞一个，下次还来。',\n",
              "  array([-4.7361016 , -0.00881152], dtype=float32),\n",
              "  'Positive'),\n",
              " ('味道很好，离公司又近。分量足，请朋友吃的，很满意',\n",
              "  array([-5.6024060e+00, -3.6958025e-03], dtype=float32),\n",
              "  'Positive'),\n",
              " ('这家烤鱼味道确实不错，我刚从北京回来。经朋友推荐来的这家店，我们吃的香辣味，确实鱼很新鲜，份量很足，刚开始没怎么入味建议煮一会儿就入味了，慢慢吃，配点他们家的柠檬水（特注：柠檬水是免费的，还有免费的洋芋饭）。吃的很满足很饱，没有去过的亲可以去试试，他们家位置有点不好找在王少龙火锅店楼上。',\n",
              "  array([-4.945851  , -0.00713823], dtype=float32),\n",
              "  'Positive'),\n",
              " ('一如既往的好 ，老板也特别好，以后会常去的',\n",
              "  array([-6.1068206e+00, -2.2300631e-03], dtype=float32),\n",
              "  'Positive'),\n",
              " ('味道好，中午人也少，菜新鲜，好',\n",
              "  array([-5.9189410e+00, -2.6916962e-03], dtype=float32),\n",
              "  'Positive'),\n",
              " ('很好，不错，环境也可以，经常来吃！',\n",
              "  array([-5.941656e+00, -2.631180e-03], dtype=float32),\n",
              "  'Positive'),\n",
              " ('地方非常好找，装修也不错，味道不错，没有外面路边摊的煤炭味道。',\n",
              "  array([-5.2317047 , -0.00535874], dtype=float32),\n",
              "  'Positive'),\n",
              " ('首先 没有因为是美团就态度不一样 其次上菜很快 米线味道很好！有一股药膳的味道 但是味道不是很浓 很合胃口 汤很浓很好喝 米线很有弹性 肉和猪肝的分量很足 还有一个煎蛋 米线下面还有海带和豆芽 另外还有一个蘸碗 可以自己加香菜葱和调料~总之很满意的一次米线！',\n",
              "  array([-5.3222699e+00, -4.8935884e-03], dtype=float32),\n",
              "  'Positive'),\n",
              " ('老顾客，在三峡广场的时候都会去吃#芒果卷#',\n",
              "  array([-5.9571309e+00, -2.5906356e-03], dtype=float32),\n",
              "  'Positive'),\n",
              " ('分量足不错', array([-5.4895453e+00, -4.1382401e-03], dtype=float32), 'Positive'),\n",
              " ('不知道是第几次来了x2，一如既往的继续支持',\n",
              "  array([-5.3126593e+00, -4.9410383e-03], dtype=float32),\n",
              "  'Positive'),\n",
              " ('可以不错，经常去买，味道卖相都很好',\n",
              "  array([-5.218539, -0.00543 ], dtype=float32),\n",
              "  'Positive'),\n",
              " ('地道重庆味 就是位置比较难找 服务热情 还送了些粽子',\n",
              "  array([-5.7723608e+00, -3.1172277e-03], dtype=float32),\n",
              "  'Positive'),\n",
              " ('经常去吃，味道不错',\n",
              "  array([-5.4079289e+00, -4.4910046e-03], dtype=float32),\n",
              "  'Positive'),\n",
              " ('一如既往的经济实惠味道也不错。',\n",
              "  array([-5.7886815e+00, -3.0667202e-03], dtype=float32),\n",
              "  'Positive'),\n",
              " ('不知道是第几次来了，老板人很好，味道不错，物美价廉',\n",
              "  array([-4.9275355 , -0.00727066], dtype=float32),\n",
              "  'Positive'),\n",
              " ('食物全馊了，好恶心的商家',\n",
              "  array([-5.0852623 , -0.00620652], dtype=float32),\n",
              "  'Positive'),\n",
              " ('味道还可以，上的很快，少冰很好喝',\n",
              "  array([-5.0672235 , -0.00631978], dtype=float32),\n",
              "  'Positive'),\n",
              " ('经济实惠，蛋糕新鲜美味又好吃，希望多多推出不同类型团购',\n",
              "  array([-6.167781e+00, -2.098027e-03], dtype=float32),\n",
              "  'Positive'),\n",
              " ('配送挺快的，但是饭里吃到钢丝，还好看到了，也恶心到了。给老板发了图片也没回我。',\n",
              "  array([-5.5034018e+00, -4.0812544e-03], dtype=float32),\n",
              "  'Positive'),\n",
              " ('很不错，美味，我們工作歺经常来吃',\n",
              "  array([-5.132904  , -0.00591682], dtype=float32),\n",
              "  'Positive'),\n",
              " ('环境很温馨，简洁。菜品的摆盘，口感都还挺不错的，推荐2人一起。',\n",
              "  array([-4.862368  , -0.00776215], dtype=float32),\n",
              "  'Positive'),\n",
              " ('好吃，牛肉入味，老板娘也很热情。',\n",
              "  array([-5.8533473e+00, -2.8744116e-03], dtype=float32),\n",
              "  'Positive'),\n",
              " ('位置好找，老板非常热情！菜品味道不错！环境也非常干净，适合家庭个人聚会！',\n",
              "  array([-6.0934744e+00, -2.2601555e-03], dtype=float32),\n",
              "  'Positive'),\n",
              " ('跟闺蜜去吃的，她平时不吃生鱼片这些，但是还是吃了，说很好吃。',\n",
              "  array([-5.5067415e+00, -4.0676007e-03], dtype=float32),\n",
              "  'Positive'),\n",
              " ('不错味道还是可以的.........',\n",
              "  array([-6.4112597e+00, -1.6443316e-03], dtype=float32),\n",
              "  'Positive'),\n",
              " ('卡布其诺很赞～环境挺小资的，每个店员都很热情，下次一定还会来～',\n",
              "  array([-5.5162435e+00, -4.0290146e-03], dtype=float32),\n",
              "  'Positive'),\n",
              " ('只要有鸡肉的，都有味道啦，不知道怎么还拿出来卖！！！！还有这个汉堡，是不是在外边放很久才拿出来卖的呢',\n",
              "  array([-4.6177373 , -0.00992424], dtype=float32),\n",
              "  'Positive'),\n",
              " ('味道很正宗 好喝 服务态度也很好',\n",
              "  array([-5.8172522e+00, -2.9801978e-03], dtype=float32),\n",
              "  'Positive'),\n",
              " ('其实我们经常来，一般聚会请客都来这里吃，每个月都会来几次的。这次家里人吃就团了一个结果遇到下大雨到处都是飞虫，后来给我们换了一桌重新换了一个锅底。虽然很不开心，影响吃东西的心情，一开始我故意要求按团购的菜重新上，不是为了贪小便宜，而是过来解决这个人的态度让我觉得不爽。毕竟是你们做生意不是第一年了，这样的情况还没得处理肯定也是服务不完善，过来处理事情的人那口气好像与她无关似的。不过最后过来解决的人态度还行，就原谅了，毕竟做生意也不容易。',\n",
              "  array([-5.7706714e+00, -3.1225753e-03], dtype=float32),\n",
              "  'Positive'),\n",
              " ('好吃！味道不错！想吃卤菜时都去买！',\n",
              "  array([-5.4984927e+00, -4.1013183e-03], dtype=float32),\n",
              "  'Positive'),\n",
              " ('份量有点少，估计用了优惠券就变少了…用了美团一张15元的券，原价30多元点这个绝对有点坑，而且我原本想吃辣的，结果没有选项，以至于后来忘记备注…',\n",
              "  array([-4.4254003 , -0.01204161], dtype=float32),\n",
              "  'Positive'),\n",
              " ('很划算，好评',\n",
              "  array([-5.6742034e+00, -3.4393463e-03], dtype=float32),\n",
              "  'Positive'),\n",
              " ('味道不错，就是稍微辣了点',\n",
              "  array([-5.5951633e+00, -3.7227629e-03], dtype=float32),\n",
              "  'Positive'),\n",
              " ('一只酸奶牛味道好极了，特别是热天喝，一个字爽',\n",
              "  array([-5.8765655e+00, -2.8083194e-03], dtype=float32),\n",
              "  'Positive'),\n",
              " ('很不错，很好吃，经常来这里吃，其他的都好',\n",
              "  array([-6.4558530e+00, -1.5725639e-03], dtype=float32),\n",
              "  'Positive'),\n",
              " ('东西不好吃&nbsp;价格死贵，商家坑人&nbsp;退款不让&nbsp;大家别人来这家店',\n",
              "  array([-4.0109844 , -0.01828165], dtype=float32),\n",
              "  'Positive'),\n",
              " ('味道不错，位置也很好找，忘了拍照了',\n",
              "  array([-5.6013227e+00, -3.6998407e-03], dtype=float32),\n",
              "  'Positive'),\n",
              " ('很不错，吃的很饱，菜品很棒，分量足，干净卫生，生意好，喜欢的朋友可以去吃吃～～新店，不要错过老板人挺棒的～？～—？～—？—～～—？～？～—？～—？～—？～—～～—？～—～～—？～—～～？～—？～—？～—',\n",
              "  array([-4.5597515 , -0.01051977], dtype=float32),\n",
              "  'Positive'),\n",
              " ('老板态度不错，而且买了两份，味道很不错，',\n",
              "  array([-5.1946344 , -0.00556171], dtype=float32),\n",
              "  'Positive'),\n",
              " ('东西打到了，还要说没问题，让人怎么吃。态度还不好。以后再也不会点这家宁愿饿死也要。',\n",
              "  array([-5.105252  , -0.00608331], dtype=float32),\n",
              "  'Positive'),\n",
              " ('稀饭是冷的，抄手里有虫，卤鸡蛋外皮硬的嚼不动，至于饺子，已经不想打开了。',\n",
              "  array([-5.3835864e+00, -4.6018413e-03], dtype=float32),\n",
              "  'Positive'),\n",
              " ('流了一半#港式奶茶#',\n",
              "  array([-5.7404537e+00, -3.2184727e-03], dtype=float32),\n",
              "  'Positive'),\n",
              " ('味道还好，一楼的待客服务很周到，下次用餐还是会选择这里',\n",
              "  array([-6.0358300e+00, -2.3944299e-03], dtype=float32),\n",
              "  'Positive'),\n",
              " ('美团优惠很多，味道不错', array([-5.022242 , -0.0066115], dtype=float32), 'Positive'),\n",
              " ('很不错呀！面包好吃野。',\n",
              "  array([-6.0069232e+00, -2.4647117e-03], dtype=float32),\n",
              "  'Positive'),\n",
              " ('总体不错，很喜欢！',\n",
              "  array([-5.3556013e+00, -4.7328351e-03], dtype=float32),\n",
              "  'Positive'),\n",
              " ('味道一如既往的好，作为一个老顾客，必点招牌酸菜肉丝米线 #招牌酸菜肉丝米线/面#',\n",
              "  array([-4.785715 , -0.0083832], dtype=float32),\n",
              "  'Positive'),\n",
              " ('味道很好，吃了挺多次了，配菜不一定，每次都不一样',\n",
              "  array([-4.277259  , -0.01397785], dtype=float32),\n",
              "  'Positive'),\n",
              " ('除了这家烤鸭店，其他的我基本再也没有去吃过了，因为大部分的烤鸭都是冷冰冰，油腻腻的，吃了胃很难受，只有这家我一直很满意，价格也比其他的实惠很多，以后我还会继续光顾的，并且环境很好，服务态度也不错，总之我都很满意～',\n",
              "  array([-4.493038  , -0.01124968], dtype=float32),\n",
              "  'Positive'),\n",
              " ('好吃 经常来 味道很巴适',\n",
              "  array([-6.1244760e+00, -2.1910488e-03], dtype=float32),\n",
              "  'Positive'),\n",
              " ('很好，长期在这家吃，味道好极了',\n",
              "  array([-5.7987313e+00, -3.0360578e-03], dtype=float32),\n",
              "  'Positive'),\n",
              " ('环境很不错，分量足，我们一家三口都没吃完。',\n",
              "  array([-4.972398 , -0.0069506], dtype=float32),\n",
              "  'Positive'),\n",
              " ('口味挺好的，五分', array([-4.9832144 , -0.00687555], dtype=float32), 'Positive'),\n",
              " ('土豆都馊了，夏天尤其应该注意的嘛，差评差评',\n",
              "  array([-5.8541360e+00, -2.8721532e-03], dtype=float32),\n",
              "  'Positive'),\n",
              " ('用代金券还是很划算，菜比较丰富新鲜。',\n",
              "  array([-6.2644653e+00, -1.9045800e-03], dtype=float32),\n",
              "  'Positive'),\n",
              " ('我是一只酸奶牛的老顾客了，现在在磁器口也可以喝到了，从观音桥的第一家店开到现在的随处可见，可见生意真的是越做越大了！可是价格也是越来越贵了，呜呜呜呜……加冰的紫米露真的是很舒服，一口气喝下去，哇好爽！就是紫米少了些。',\n",
              "  array([-4.245773  , -0.01442822], dtype=float32),\n",
              "  'Positive'),\n",
              " ('这是第二次团购这家的汤锅了，第一次去感觉还不错，第二次就继续回购了。位置依旧好找，对于熟悉南坪的人来说就是轻车熟路了，不太了解的可以问一下，位置还是挺当道的，好找。吃腻了火锅什么的，来吃一次汤锅，很舒服。这一次吃的腊排骨，里面配菜有藕还有玉米，我们两个人去吃还有剩下的菜，排骨还是挺多的，汤真的很好喝，两个人吃饱饱的。而且团购价格真的是很实惠。建议去吃的人，选择红椒的拌料，青椒味道还是要差一点，偏辣。值得一提的是红椒真的很好吃，下饭都可以，建议商家可以推出更多的团购套餐哦。',\n",
              "  array([-5.0593176 , -0.00637012], dtype=float32),\n",
              "  'Positive'),\n",
              " ('分量足，味道不错，环境也挺好的',\n",
              "  array([-5.895349e+00, -2.756013e-03], dtype=float32),\n",
              "  'Positive'),\n",
              " ('第一次没看评价点了这家，因为图片和价位还蛮吸引人的，吃完没事干给你们来个具体的建议，是真的不好吃！！首先1.包装纸盒，一股l浓烈的酸臭味，这可是餐饮密封装呀，能不用了吗？2.港式套餐除了奥尔良其他的被外卖员路上吃了吗？3.米饭夹生味道真的不好&nbsp;吃&nbsp;ps:&nbsp;好后悔没有认真看评价',\n",
              "  array([-4.496795  , -0.01120725], dtype=float32),\n",
              "  'Positive'),\n",
              " ('这个披萨真的是7寸吗  我不是小学生',\n",
              "  array([-6.0777721e+00, -2.2959558e-03], dtype=float32),\n",
              "  'Positive'),\n",
              " ('点的东西少了，居然还有没给我烤的#鸭心#，我反正没看到',\n",
              "  array([-4.941688  , -0.00716817], dtype=float32),\n",
              "  'Positive'),\n",
              " ('菜品不算多。但是很新鲜。麻辣牛肉吃起有点沙哈。其他都不错。饮料也不错不像其他自助餐整些杂牌饮料。这家连矿泉水都走的高端很赞！底料的口感有待于提升。个人觉得有点咸。我听到隔壁桌也说咸。服务态度特别好。特别是有个瘦瘦的小妹特别勤快。还帮我兑奶粉的，长得也很可爱。',\n",
              "  array([-6.0326800e+00, -2.4019221e-03], dtype=float32),\n",
              "  'Positive'),\n",
              " ('送外卖给我放到地下，什么态度？放了就走了 ',\n",
              "  array([-5.9708867e+00, -2.5552025e-03], dtype=float32),\n",
              "  'Positive'),\n",
              " ('#水果蛋糕#很好，很喜欢！！！！！！！！！',\n",
              "  array([-6.0324974e+00, -2.4023978e-03], dtype=float32),\n",
              "  'Positive'),\n",
              " ('什么情况嘛？辣椒那么辣的，第一次吃到这么辣的东西，我本来都是很能吃辣了，这次这个鱼吃得我辣的一把鼻涕一把泪的，这个辣椒有问题啊朋友',\n",
              "  array([-5.3237219e+00, -4.8864707e-03], dtype=float32),\n",
              "  'Positive'),\n",
              " ('味道挺有特色 很好。推荐...',\n",
              "  array([-6.0362706e+00, -2.3933596e-03], dtype=float32),\n",
              "  'Positive'),\n",
              " ('又好吃 又有味 还是老顾客 以后经常会去的#玫瑰诱惑# #午餐肉# #广式香肠#',\n",
              "  array([-5.9685812e+00, -2.5611478e-03], dtype=float32),\n",
              "  'Positive'),\n",
              " ('之前朋友带我来的，感觉不错第2次来',\n",
              "  array([-4.574322  , -0.01036688], dtype=float32),\n",
              "  'Positive'),\n",
              " ('绝对好吃，每次都带好朋友来吃，味道真的很棒，服务态度也很棒！比杨家坪那家好吃，哈哈哈，下次还来！',\n",
              "  array([-4.8802767 , -0.00762386], dtype=float32),\n",
              "  'Positive'),\n",
              " ('回头客，菜品不错，价格优惠，菜品丰富',\n",
              "  array([-5.6563888e+00, -3.5012392e-03], dtype=float32),\n",
              "  'Positive'),\n",
              " ('菜很含盐巴不要钱',\n",
              "  array([-5.7867098e+00, -3.0727813e-03], dtype=float32),\n",
              "  'Positive'),\n",
              " ('经常去喝，和老板很熟了，万达周边独爱这家！',\n",
              "  array([-5.8688345e+00, -2.8301920e-03], dtype=float32),\n",
              "  'Positive'),\n",
              " ('口味很不错，性比价高，特别划算。',\n",
              "  array([-5.078657  , -0.00624775], dtype=float32),\n",
              "  'Positive'),\n",
              " ('最喜欢吃，很划算哟，不错，以后都买',\n",
              "  array([-5.7308459e+00, -3.2496047e-03], dtype=float32),\n",
              "  'Positive'),\n",
              " ('强烈推荐，来了很多次了，位子好找，菜品丰富新鲜',\n",
              "  array([-5.8511806e+00, -2.8805926e-03], dtype=float32),\n",
              "  'Positive'),\n",
              " ('吃到了小蚊子，昨天室友也吃到了小蚊子，有图为证',\n",
              "  array([-5.8423038e+00, -2.9063863e-03], dtype=float32),\n",
              "  'Positive'),\n",
              " ('真是物美价廉，菜品也丰富，非常满意',\n",
              "  array([-5.3121552e+00, -4.9435291e-03], dtype=float32),\n",
              "  'Positive'),\n",
              " ('味道非常好，服务好，环境也不错',\n",
              "  array([-5.234719  , -0.00534261], dtype=float32),\n",
              "  'Positive'),\n",
              " ('没味道，除了辣，说了我是孕妇菜烤熟一点，当我没有说，不行，以后不会点了',\n",
              "  array([-4.6270714 , -0.00983158], dtype=float32),\n",
              "  'Positive'),\n",
              " ('很不错。价格也还好。还会来的。老板很热情',\n",
              "  array([-6.0999646e+00, -2.2455256e-03], dtype=float32),\n",
              "  'Positive'),\n",
              " ('多次购买，味道好，服务也好，单位团年基本都在这里。',\n",
              "  array([-5.9130373e+00, -2.7076271e-03], dtype=float32),\n",
              "  'Positive'),\n",
              " ('速度太慢。送到的时候都要饿死了',\n",
              "  array([-6.5051093e+00, -1.4968631e-03], dtype=float32),\n",
              "  'Positive'),\n",
              " ('套餐没有介绍说的那些口味_就是两个手卷切开的。感觉就会死欺骗人的',\n",
              "  array([-5.8756576e+00, -2.8109346e-03], dtype=float32),\n",
              "  'Positive'),\n",
              " ('这个鱿鱼根本没办法吃，像水泡的一样，看起很恶心，这就是鲜虾堡，里面的夹的菜不是一般的黑，还有，骑手态度差还骂人，找不到地方还说什么我又没住这我怎么找得到，吃个外卖气都吃饱了。',\n",
              "  array([-5.102672  , -0.00609906], dtype=float32),\n",
              "  'Positive'),\n",
              " ('价格适中，味道还可以，在他们家买了好多蛋糕了。团购的款式差不多都试过了。蓝莓和芒果的好吃。',\n",
              "  array([-5.7447171e+00, -3.2048076e-03], dtype=float32),\n",
              "  'Positive'),\n",
              " ('姐姐很温柔，炒酸奶很好吃，里面有葡萄干，红豆，黑芝麻，蓝莓酱.....',\n",
              "  array([-5.7123895e+00, -3.3102024e-03], dtype=float32),\n",
              "  'Positive'),\n",
              " ('难吃，还特马贵。虾不鲜。肉质超级差。一碗米饭，碗小就算了，你倒是给我装满啊？？？',\n",
              "  array([-5.798499e+00, -3.036652e-03], dtype=float32),\n",
              "  'Positive'),\n",
              " ('菜品很不新鲜，感觉是前一天剩下的  位置好找把喜欢那里的汤圆还有洋芋饭',\n",
              "  array([-6.237172e+00, -1.957288e-03], dtype=float32),\n",
              "  'Positive'),\n",
              " ('很好吃，跟女朋友去重庆玩的时候去的，服务很有特色，解放前的风格。去的时候生意很好，排好长队，味道不错',\n",
              "  array([-5.0677376 , -0.00631658], dtype=float32),\n",
              "  'Positive'),\n",
              " ('\\u3000这就是#红烧牛肉煲仔饭#真难吃',\n",
              "  array([-5.8087502e+00, -3.0057512e-03], dtype=float32),\n",
              "  'Positive'),\n",
              " ('还挺好吃的，下次还光顾 #蛋糕胚#',\n",
              "  array([-5.6862717e+00, -3.3980031e-03], dtype=float32),\n",
              "  'Positive'),\n",
              " ('服务很好，鸡排也好吃，，，，，',\n",
              "  array([-5.8556576e+00, -2.8677550e-03], dtype=float32),\n",
              "  'Positive'),\n",
              " ('我都吃了那么多次你们家。竟然拿这种长虫的材料给我做粥！刚开始飘面上一只以为自己家的 结果越吃越多 才知道粥有问题   以后不敢点了。接近30一碗粥 卫生都保证不了也是够了',\n",
              "  array([-5.7044826e+00, -3.3365791e-03], dtype=float32),\n",
              "  'Positive'),\n",
              " ('超级难吃，土豆是炸的，又来煮，一点都不新鲜，菜种类很少，感觉食材不新鲜。',\n",
              "  array([-5.5792165e+00, -3.7826195e-03], dtype=float32),\n",
              "  'Positive'),\n",
              " ('老板人很好，很好吃的，也会再去的',\n",
              "  array([-5.5204349e+00, -4.0121544e-03], dtype=float32),\n",
              "  'Positive'),\n",
              " ('第二次来买，这次上团购便宜好多，介绍给朋友了，另外老板是个美女哈。',\n",
              "  array([-5.3723526e+00, -4.6540508e-03], dtype=float32),\n",
              "  'Positive'),\n",
              " ('送个面条一个小时我也是醉了，面块都溶了 还能吃？并且太油太油  味道难以下咽！等了半个小时给商家打电话问怎么还没送过来  反而还被凶 说 还没有煮 还问我要不要 不要都算了  哈子态度 ！后面有将近等了二十多分钟 人都快饿死了 打电话过去 却关机   呵呵呵！垃圾  并且面送到的时候 盖子上面全部是别个点的什么番茄的油水  恶心！  垃圾 再也不在这家吃了！',\n",
              "  array([-5.7011790e+00, -3.3476285e-03], dtype=float32),\n",
              "  'Positive'),\n",
              " ('服务很周到，态度很客气，味道很不错',\n",
              "  array([-5.249585  , -0.00526352], dtype=float32),\n",
              "  'Positive'),\n",
              " ('非常值得推荐的餐厅，味道好，人气旺，服务一流，二楼，一楼都爆满，还好有预约哟',\n",
              "  array([-5.0780554 , -0.00625154], dtype=float32),\n",
              "  'Positive'),\n",
              " ('不实惠，菜太少太贵了！', array([-4.494995  , -0.01122752], dtype=float32), 'Positive'),\n",
              " ('吃的时候只是不好吃，吃完晚上就开始不舒服，想要吐，第二天早上起来就直接开始拉稀',\n",
              "  array([-5.133249 , -0.0059148], dtype=float32),\n",
              "  'Positive'),\n",
              " ('味道很不错，环境很不错，位置很好找',\n",
              "  array([-5.211436  , -0.00546877], dtype=float32),\n",
              "  'Positive'),\n",
              " ('中午时间很紧，必吃林妹妹。以前非要去两路口，现在开的到处都有了。',\n",
              "  array([-4.7177415 , -0.00897552], dtype=float32),\n",
              "  'Positive'),\n",
              " ('来了好多次了，味道一如既往的好。老板生意兴隆哈',\n",
              "  array([-5.9389281e+00, -2.6383137e-03], dtype=float32),\n",
              "  'Positive'),\n",
              " ('不得不说确实分量足，4人餐，两男两女都吃不完 #洪湖藕炖盐排（小）#',\n",
              "  array([-4.579345  , -0.01031461], dtype=float32),\n",
              "  'Positive'),\n",
              " ('给差评是因为不卫生 吃起来地沟油的感觉太强烈了.... 果不其然第二天拉肚子 ',\n",
              "  array([-5.3469601e+00, -4.7740047e-03], dtype=float32),\n",
              "  'Positive'),\n",
              " ('地瓜老火锅味道好，服务态度很好，菜品新鲜，环境一般。',\n",
              "  array([-5.6292701e+00, -3.5976942e-03], dtype=float32),\n",
              "  'Positive'),\n",
              " ('很好吃的一家小店哟。。鱼的味道特别好，老板服务热情，菜品份量足，这个套餐我们四个大人一个孩子吃都没有吃完素菜。鱼是吃光了好吃。加了一份豆花一个菜吃的很舒服，比山上好多了。。呵呵，赞一个。太饿了没有拍美食光顾着吃了',\n",
              "  array([-4.3600917 , -0.01285951], dtype=float32),\n",
              "  'Positive'),\n",
              " ('鸡块居然没熟…………不好吃全扔了#黄金鸡块#',\n",
              "  array([-5.9366264e+00, -2.6443773e-03], dtype=float32),\n",
              "  'Positive'),\n",
              " ('量少了 而且速度慢 换了菜还不说一声',\n",
              "  array([-5.7861557e+00, -3.0744451e-03], dtype=float32),\n",
              "  'Positive'),\n",
              " ('有点不好找，要进去巷子上二楼才到。店铺装修非常小清新，音乐，环境都很适合一两个人听听音乐，上上网，聊聊天，喝喝茶，非常惬意。老板一家人都很不错，没有了还特意现做给我吃，太感动，醪糟汤好喝还能续杯，油茶也比较有味，还可以送一张照片哦',\n",
              "  array([-4.5344787 , -0.01079045], dtype=float32),\n",
              "  'Positive'),\n",
              " ('我点的米线  怎么就是煮的土豆粉',\n",
              "  array([-5.663980e+00, -3.474748e-03], dtype=float32),\n",
              "  'Positive'),\n",
              " ('服务很好，快递给力，性价比较高！',\n",
              "  array([-5.372689e+00, -4.652390e-03], dtype=float32),\n",
              "  'Positive'),\n",
              " ('味道还不错，位置非常好找的到的',\n",
              "  array([-5.7208333e+00, -3.2823991e-03], dtype=float32),\n",
              "  'Positive'),\n",
              " ('味道非常好，上菜速度也比较快。',\n",
              "  array([-5.0800333, -0.0062391], dtype=float32),\n",
              "  'Positive'),\n",
              " ('服务态度一般',\n",
              "  array([-5.9143238e+00, -2.7041794e-03], dtype=float32),\n",
              "  'Positive'),\n",
              " ('很不错啊，老板人也挺好，小鱼好萌的',\n",
              "  array([-6.0208325e+00, -2.4305822e-03], dtype=float32),\n",
              "  'Positive'),\n",
              " ('买的八人套餐 ，很划算，菜量很足，八个人都没吃完，还打了包，沾的酱超好吃，菜好吃，汤很香，而且店面的位置很好着，给她们说美团八人套餐直接找位置坐下，上菜快，服务超棒，态度也很赞，一起的朋友说下次要再来。是个很帮很棒的地方，强烈推荐',\n",
              "  array([-4.1752114 , -0.01549128], dtype=float32),\n",
              "  'Positive'),\n",
              " ('肉是臭的，今天好难吃',\n",
              "  array([-6.1448941e+00, -2.1466801e-03], dtype=float32),\n",
              "  'Positive'),\n",
              " ('哈哈哈 刨酸奶太好吃了，好评好评',\n",
              "  array([-5.6071224e+00, -3.6783433e-03], dtype=float32),\n",
              "  'Positive'),\n",
              " ('一直喜欢每味每客',\n",
              "  array([-6.5320954e+00, -1.4569869e-03], dtype=float32),\n",
              "  'Positive'),\n",
              " ('总体来说这个价格还是很不错了，个人觉得饮料很好，加多宝，国宾都是随便喝，菜还可以增加一点点',\n",
              "  array([-4.378966  , -0.01261764], dtype=float32),\n",
              "  'Positive'),\n",
              " ('东西还送少了一样！...太差了！服务差，东西差，快递差，难吃死了，一股恶臭、丢了丢了.....',\n",
              "  array([-5.0459023 , -0.00645647], dtype=float32),\n",
              "  'Positive'),\n",
              " ('味道非常非常的好，价格实惠，以后还会再来的。',\n",
              "  array([-5.8214250e+00, -2.9678368e-03], dtype=float32),\n",
              "  'Positive'),\n",
              " ('不错，酸辣粉很好吃，味道很正中，鸡排也好吃，就是奶茶感觉味道不够浓郁',\n",
              "  array([-4.569829  , -0.01041371], dtype=float32),\n",
              "  'Positive'),\n",
              " ('时间啊一个小时二十分钟',\n",
              "  array([-5.7809978e+00, -3.0903700e-03], dtype=float32),\n",
              "  'Positive'),\n",
              " ('说句实话量不多，一锅芋儿鸡可能只有一只鸡的三分之一，不过味道很好，可惜就是辣了一点。服务还不错。',\n",
              "  array([-4.593629  , -0.01016759], dtype=float32),\n",
              "  'Positive'),\n",
              " ('老板态度很好，羊肉粉的味道还不错',\n",
              "  array([-5.500717e+00, -4.092177e-03], dtype=float32),\n",
              "  'Positive'),\n",
              " ('这个一吃就晓得是隔夜菜的味道，盐煎肉也是肥得明目张胆，白菜和藕都是生的，是给人吃的吗，我去',\n",
              "  array([-4.0586977 , -0.01742237], dtype=float32),\n",
              "  'Positive'),\n",
              " ('12.26下单 13.56送达 这速度也是没谁了 得亏是天气热 要是冬天油都凝结了',\n",
              "  array([-5.6127515e+00, -3.6576770e-03], dtype=float32),\n",
              "  'Positive'),\n",
              " ('就在理工门口，，来过好几次了。。',\n",
              "  array([-5.9663701e+00, -2.5668552e-03], dtype=float32),\n",
              "  'Positive'),\n",
              " ('什么鬼东西，贵又不好吃，排骨没有几块，都是汤和藕，藕切的那么大',\n",
              "  array([-5.6291919e+00, -3.5979317e-03], dtype=float32),\n",
              "  'Positive'),\n",
              " ('很不错，长期老顾客就是我们，哈哈哈',\n",
              "  array([-5.3207960e+00, -4.9008247e-03], dtype=float32),\n",
              "  'Positive'),\n",
              " ('最慢最差劲收三块钱还拿不要那种盒子装，炒面八九块那种不如，还标十六块，对得起那个价钱吗？打过一次鬼都不敢打下一次',\n",
              "  array([-5.2888169e+00, -5.0604832e-03], dtype=float32),\n",
              "  'Positive'),\n",
              " ('菜品多，新鲜，干净，服务员态度也好，好得有点懦弱了，居然允许客人牵狗进店吃饭，弄得狗毛满天飞，顿时没了食欲，匆忙离席',\n",
              "  array([-4.998909  , -0.00676816], dtype=float32),\n",
              "  'Positive'),\n",
              " ('一打开就是一个蚊子…无语',\n",
              "  array([-5.5451813e+00, -3.9138398e-03], dtype=float32),\n",
              "  'Positive'),\n",
              " ('我们经常来吃，一个星期要来吃5次，我们自己也是很多女性朋友带来了，你们都会在一起就算再来的时候就会说些须经典语录你说你们是不是觉得自己的心都有自己的人生目标生活方式和生活方式不一样的话就要开始啦。是不是很多！',\n",
              "  array([-5.1085553 , -0.00606316], dtype=float32),\n",
              "  'Positive'),\n",
              " ('吃出一只苍蝇的时候我想算了吧，继续吃吧。我一共吃出2只。。。补蛋白质也不应这样吧',\n",
              "  array([-5.1380863 , -0.00588624], dtype=float32),\n",
              "  'Positive'),\n",
              " ('妈卖批的，不拿牙签，吃锤子个螺丝',\n",
              "  array([-6.1285958e+00, -2.1820087e-03], dtype=float32),\n",
              "  'Positive'),\n",
              " ('什么东西，送外面的态度极差，什么鸡肉卷里还有头发，搞的我胃口都没有了，我是再也不会在这家店吃东西了，垃圾',\n",
              "  array([-4.9913077 , -0.00682002], dtype=float32),\n",
              "  'Positive'),\n",
              " ('不好吃，咖喱不正宗，想吐的味道',\n",
              "  array([-4.781825  , -0.00841595], dtype=float32),\n",
              "  'Positive'),\n",
              " ('我不知道说什么好，包装袋一打开居然有股蟑螂味，这怎么吃',\n",
              "  array([-4.967511  , -0.00698482], dtype=float32),\n",
              "  'Positive'),\n",
              " ('最爱绿豆紫米露，买了好多次了，烈日下跑去买也是挺拼_(:_」∠)_',\n",
              "  array([-4.3435173 , -0.01307592], dtype=float32),\n",
              "  'Positive'),\n",
              " ('很多次去了！各方面都好，就是太热，老板说人少不开空调。太热了，吃个饭像洗了个澡。',\n",
              "  array([-5.5655613e+00, -3.8347533e-03], dtype=float32),\n",
              "  'Positive'),\n",
              " ('死虾没敢吃，唯一好一点就是花甲洗干净了的',\n",
              "  array([-6.0045352e+00, -2.4705385e-03], dtype=float32),\n",
              "  'Positive'),\n",
              " ('菜品很丰富的，而且都很新鲜，去吃了好多次了，每次吃自助都是来这家，真心很好吃，赞一个',\n",
              "  array([-4.8359556 , -0.00797079], dtype=float32),\n",
              "  'Positive'),\n",
              " ('味道很好吃，上菜速度快，',\n",
              "  array([-5.7549682e+00, -3.1720106e-03], dtype=float32),\n",
              "  'Positive'),\n",
              " ('还可以 比较喜欢偏甜的… 熊猫奶盖 抹茶奶盖不错',\n",
              "  array([-5.840981e+00, -2.910190e-03], dtype=float32),\n",
              "  'Positive'),\n",
              " ('味道真的不错！是个宴请亲朋好友的地方！还会再去的！',\n",
              "  array([-6.5077109e+00, -1.4930541e-03], dtype=float32),\n",
              "  'Positive'),\n",
              " ('味道好，上菜快，环境也好！位置也很好找的',\n",
              "  array([-5.4725204e+00, -4.2094677e-03], dtype=float32),\n",
              "  'Positive'),\n",
              " ('汤还不错，但是青椒炒玉米，玉米炒的太老了，特别难吃！还有麻辣鸡，鸡肉贴近骨头的部分都是生的！！还有血！！！！',\n",
              "  array([-4.798492  , -0.00827633], dtype=float32),\n",
              "  'Positive'),\n",
              " ('下午茶人少环境不错',\n",
              "  array([-5.5043502e+00, -4.0773363e-03], dtype=float32),\n",
              "  'Positive'),\n",
              " ('没有第一次点餐好吃，味道越来越不好了',\n",
              "  array([-5.4509683e+00, -4.3013440e-03], dtype=float32),\n",
              "  'Positive'),\n",
              " ('菜品新鲜，口感不错，环境优雅。',\n",
              "  array([-5.8012142e+00, -3.0284515e-03], dtype=float32),\n",
              "  'Positive'),\n",
              " ('味道不错，有这么大，10个人刚刚好，下次还会来',\n",
              "  array([-5.795184e+00, -3.046754e-03], dtype=float32),\n",
              "  'Positive'),\n",
              " ('很划算  和妈妈两个人吃的很饱',\n",
              "  array([-5.9272966e+00, -2.6692259e-03], dtype=float32),\n",
              "  'Positive'),\n",
              " ('来过几次了 味道不错 ，服务员很热情 虽说我们是团购 c但依然态度很好 分量也很足  环境还可以 有卡座 卫生也很好',\n",
              "  array([-5.3751445e+00, -4.6409988e-03], dtype=float32),\n",
              "  'Positive'),\n",
              " ('阿兴记的环境名声在外不用点评，团购后价廉物美，宴请、接待的好地方',\n",
              "  array([-5.3691254e+00, -4.6691201e-03], dtype=float32),\n",
              "  'Positive'),\n",
              " ('菜品不错，环境还好，服务不错。总的还可以。。。',\n",
              "  array([-5.8547392e+00, -2.8703702e-03], dtype=float32),\n",
              "  'Positive'),\n",
              " ('服务态度超级好，就是点多了，鱼的分量好大，两个人两个菜就够。',\n",
              "  array([-5.8363857e+00, -2.9236213e-03], dtype=float32),\n",
              "  'Positive'),\n",
              " ('第二次来店里吃披萨啦！这次吃的水果披萨，口味感觉很不错，吃完了才发现没有照照片。水果量很多芝士也很多有我喜欢的黄桃。小吃还是一如既往的好吃！鱿鱼圈和薯条都很喜欢！这次去没想到老板还认识我，真是一位有心的老板！无论是美食还是店里的环境和服务，都是值得我再一次去消费的！',\n",
              "  array([-5.7525382e+00, -3.1797346e-03], dtype=float32),\n",
              "  'Positive'),\n",
              " ('环境还是可以的口味不错下次还到你们家消费',\n",
              "  array([-6.055748e+00, -2.347097e-03], dtype=float32),\n",
              "  'Positive'),\n",
              " ('老公在重庆工作，生日的时候在美团上订购的，老公反应说味道好极了，外观也很漂亮，最重要的是很及时的送到了，真心不错！',\n",
              "  array([-4.3848186 , -0.01254348], dtype=float32),\n",
              "  'Positive'),\n",
              " ('一如既往的好，来吃过好几次了，真心不错',\n",
              "  array([-5.1820164 , -0.00563248], dtype=float32),\n",
              "  'Positive'),\n",
              " ('怎么不可以上图 这么大个虫吃到最后才发现 你是要毒死我嘛 做餐饮重要就是干净卫生。看来以后再也不敢吃你家的了。现在看到就想吐 不知吃了多少虫进去了',\n",
              "  array([-5.8463554e+00, -2.8946188e-03], dtype=float32),\n",
              "  'Positive'),\n",
              " ('酸奶味道一直很好，值得推荐……',\n",
              "  array([-4.866882  , -0.00772714], dtype=float32),\n",
              "  'Positive'),\n",
              " ('服务超级棒！！(*/ω＼*)服务员都好可爱，，吃的也不错 #毛肚# #刘一手香豆腐#',\n",
              "  array([-3.8014119 , -0.02259254], dtype=float32),\n",
              "  'Positive'),\n",
              " ('味道很好吃，特别是椒麻值得推荐，家人聚餐已经来第三次了，味道一次比一次好，请各位亲朋好友一起组队来吃鱼吧。',\n",
              "  array([-4.9401135 , -0.00717953], dtype=float32),\n",
              "  'Positive'),\n",
              " ('一如既往的好吃，还会再来',\n",
              "  array([-5.6115160e+00, -3.6621904e-03], dtype=float32),\n",
              "  'Positive'),\n",
              " ('味道挺好的，就是我们吃不了辣，剩了很多',\n",
              "  array([-5.5931115e+00, -3.7303639e-03], dtype=float32),\n",
              "  'Positive'),\n",
              " ('饭是臭的，简直了',\n",
              "  array([-6.0356865e+00, -2.3946678e-03], dtype=float32),\n",
              "  'Positive'),\n",
              " ('好吃，经常买来吃，继续保持这个味道',\n",
              "  array([-5.593238e+00, -3.729889e-03], dtype=float32),\n",
              "  'Positive'),\n",
              " ('很好啊 阿姨很好阿  菜也好啊',\n",
              "  array([-5.9159884e+00, -2.6996618e-03], dtype=float32),\n",
              "  'Positive'),\n",
              " ('一个字，好.，二个字很好，三个字非常好，服务不但好而且菜品新鲜，大力推荐大家去尝尝，我们11人才600多元，太划算了',\n",
              "  array([-4.686762  , -0.00925926], dtype=float32),\n",
              "  'Positive'),\n",
              " ('已经来了很多次了！态度超级好！香辣味的很棒！',\n",
              "  array([-6.4016752e+00, -1.6601603e-03], dtype=float32),\n",
              "  'Positive'),\n",
              " ('猪蹄是臭的 再也不会买',\n",
              "  array([-5.6205297e+00, -3.6292896e-03], dtype=float32),\n",
              "  'Positive'),\n",
              " ('油弄的到处都是，100块钱就买了一点点，分量超级小，骗人的',\n",
              "  array([-5.0282736 , -0.00657171], dtype=float32),\n",
              "  'Positive'),\n",
              " ('我的哥，外卖送了1个小时40分钟，我昨晚都没吃饭，要饿死我嘛，筷子也没给我',\n",
              "  array([-5.1275616, -0.0059487], dtype=float32),\n",
              "  'Positive'),\n",
              " ('环境很干净，味道很巴适。值得享用！',\n",
              "  array([-5.9782758e+00, -2.5364154e-03], dtype=float32),\n",
              "  'Positive'),\n",
              " ('包装越来越好了  服务非常周到  下次还来',\n",
              "  array([-5.8463054e+00, -2.8947378e-03], dtype=float32),\n",
              "  'Positive'),\n",
              " ('越来越差了，手套也不送，奶茶我叫的冷的结果来热的。差评。。。',\n",
              "  array([-5.243743  , -0.00529447], dtype=float32),\n",
              "  'Positive'),\n",
              " ('老顾客了！非常好吃！以后走到哪里都要吃！',\n",
              "  array([-6.4753637e+00, -1.5420938e-03], dtype=float32),\n",
              "  'Positive'),\n",
              " ('好喝 只是常温的也还是冷',\n",
              "  array([-6.5905781e+00, -1.3741346e-03], dtype=float32),\n",
              "  'Positive'),\n",
              " ('#空心菜# 不知道昨天是不是这个空心菜的原因，害得我早上有呕吐现象，还拉肚子。很不卫生，宽粉也没煮的散',\n",
              "  array([-4.938128  , -0.00719385], dtype=float32),\n",
              "  'Positive'),\n",
              " ('鱼是臭的，申请退款',\n",
              "  array([-6.1597004e+00, -2.1151570e-03], dtype=float32),\n",
              "  'Positive'),\n",
              " ('味道不错，值得推荐，好吃，吃得出重庆的味道！！',\n",
              "  array([-5.2391663 , -0.00531878], dtype=float32),\n",
              "  'Positive'),\n",
              " ('价格便宜，菜品新鲜，份量足够！！',\n",
              "  array([-5.8784423e+00, -2.8030889e-03], dtype=float32),\n",
              "  'Positive'),\n",
              " ('上菜速度快，态度很好热情。菜品味道正宗',\n",
              "  array([-5.3801007e+00, -4.6179788e-03], dtype=float32),\n",
              "  'Positive'),\n",
              " ('个人创业不容易，支持一下，东西不错，服务态度也很好！约了取蛋糕的地点亲自送下来，还把我送到了轻轨站才回去，感动！蛋糕很新鲜，朋友很喜欢，蛋糕虽然不大，但是味道还很不错，大家都很喜欢，希望老板以后再接再厉，可以做更好更漂亮的蛋糕！#6寸蛋糕#',\n",
              "  array([-4.5136933 , -0.01101839], dtype=float32),\n",
              "  'Positive'),\n",
              " ('太硬了嚼都嚼不动 像皮鞋样怎么吃嘛 .买了也不是一次两次了这次最难吃 .还有我备注了不要葱是指的两个都不要葱 气死了',\n",
              "  array([-4.75731   , -0.00862575], dtype=float32),\n",
              "  'Positive'),\n",
              " ('上菜快，菜品真的很好吃特别适合重口味的人',\n",
              "  array([-6.0117092e+00, -2.4529388e-03], dtype=float32),\n",
              "  'Positive'),\n",
              " ('味道不错，分量较多，环境比较好，服务较好，下次还会光顾。',\n",
              "  array([-5.369180e+00, -4.668883e-03], dtype=float32),\n",
              "  'Positive'),\n",
              " ('这次吃的质量不太好，吃了拉肚子！',\n",
              "  array([-5.4199047e+00, -4.4373623e-03], dtype=float32),\n",
              "  'Positive'),\n",
              " ('差评，我说了两遍加热，是希望你送来的时候还是热的，而你送来的是温的，大冬天的，这么油腻的菜，你不怕别人吃了拉肚子，害我不得不去加热一下。味精味同样很重',\n",
              "  array([-4.7126055 , -0.00902195], dtype=float32),\n",
              "  'Positive'),\n",
              " ('味道很好，量很足，8个人吃完全够了',\n",
              "  array([-4.933475  , -0.00722747], dtype=float32),\n",
              "  'Positive'),\n",
              " ('蛋仔超好吃  口感不干不腻  有颜又有料  值得推荐',\n",
              "  array([-6.3224521e+00, -1.7971331e-03], dtype=float32),\n",
              "  'Positive'),\n",
              " ('速度太慢，等了一个小时，但态度还是很好。',\n",
              "  array([-5.5239224e+00, -3.9981441e-03], dtype=float32),\n",
              "  'Positive'),\n",
              " ('很好，我们是游客。又麻又辣，特别香，才知道其他地方吃的都是假火锅',\n",
              "  array([-5.927763e+00, -2.668037e-03], dtype=float32),\n",
              "  'Positive'),\n",
              " ('说了要少加辣椒的可是还是很辣',\n",
              "  array([-5.7036476e+00, -3.3393118e-03], dtype=float32),\n",
              "  'Positive'),\n",
              " ('非常不错 在家里预约了  到的时候老板就已经把菜上好了  直接坐下煮一会就可以吃了 味道也非常不错 汤也好喝 还可以看看江景 有经济又实惠',\n",
              "  array([-6.0424318e+00, -2.3786128e-03], dtype=float32),\n",
              "  'Positive'),\n",
              " ('我点的五花肉，一点盐都没有，而且肉是臭的',\n",
              "  array([-4.991912  , -0.00681588], dtype=float32),\n",
              "  'Positive'),\n",
              " ('吃了很多次了，味道不错，而且服务态度超级好，经济实惠。还回来，团的68的吃的好胀！',\n",
              "  array([-5.0518713 , -0.00641786], dtype=float32),\n",
              "  'Positive'),\n",
              " ('不好吃 没有蒜香味 虾子不新鲜 是冰冻虾 哎 ',\n",
              "  array([-6.1930065e+00, -2.0458023e-03], dtype=float32),\n",
              "  'Positive'),\n",
              " ('吃了就拉肚子，无语',\n",
              "  array([-5.8054228e+00, -3.0157347e-03], dtype=float32),\n",
              "  'Positive'),\n",
              " ('吃的人挺多，分量也多，四人吃完全吃不完，浪费好多',\n",
              "  array([-5.6898899e+00, -3.3856472e-03], dtype=float32),\n",
              "  'Positive'),\n",
              " ('整体都不错，服务很好，不用等，上菜快。上一次二人餐，两个人使劲吃都没有吃完，这一次三人餐，也是吃的很撑，吃的很饱了，都没吃完，蘸酱很好吃，我觉得面皮湛江加烤鸭简直就是绝配呀！那个汤锅我喜欢麻辣竹笋的，面皮也不错，好评啦～前两张是三人餐，后两张是两人餐',\n",
              "  array([-4.022816  , -0.01806462], dtype=float32),\n",
              "  'Positive'),\n",
              " ('真的很难吃  确实难吃没办法了',\n",
              "  array([-5.403033e+00, -4.513078e-03], dtype=float32),\n",
              "  'Positive'),\n",
              " ('老板人超超好 味道超好',\n",
              "  array([-6.1575031e+00, -2.1197961e-03], dtype=float32),\n",
              "  'Positive'),\n",
              " ('不错，价廉物美，比想的要好。以后还会再去',\n",
              "  array([-5.4982934e+00, -4.1021495e-03], dtype=float32),\n",
              "  'Positive'),\n",
              " ('很不错，甜品好吃，鳗鱼饭也很好吃',\n",
              "  array([-5.5299435e+00, -3.9740410e-03], dtype=float32),\n",
              "  'Positive'),\n",
              " ('味道不错，服务很好，已经多次来了。',\n",
              "  array([-5.7032766e+00, -3.3406187e-03], dtype=float32),\n",
              "  'Positive'),\n",
              " ('下次再也不想买了',\n",
              "  array([-6.0665274e+00, -2.3218836e-03], dtype=float32),\n",
              "  'Positive'),\n",
              " ('不错，吃过好多回了，一如既往的好。离家也很近，就在小区门口，走几步就到了。店家态度也非常好，没有因为团购而有歧视，吃饭前还有消毒过的热毛巾擦脸擦手，态度相当好，非常满意！还有免费玉米羹或者醪糟汤圆吃。值得推荐！',\n",
              "  array([-4.9677505 , -0.00698316], dtype=float32),\n",
              "  'Positive'),\n",
              " ('这家店装潢风格独特，服务员也是穿着偏民族的服饰，我男朋友是维族人，他在四川待了几年，这次和他一起过来，偶然看到这个店，他说简直不要太正宗，特别好吃，赞不绝口！性比价也特别好，服务态度特别好，也有新疆的啤酒，很赞！刚吃没几口，他就给我说下次小长假还要来吃，这次没吃到抓饭，下次补！',\n",
              "  array([-4.662727  , -0.00948553], dtype=float32),\n",
              "  'Positive'),\n",
              " ('饭太少了，一碗饭都没，几口就吃完了',\n",
              "  array([-4.8359356 , -0.00797091], dtype=float32),\n",
              "  'Positive'),\n",
              " ('再江苏经常喝德，今天点的原味奶盖，红茶半糖的，去冰的，味道和江苏一样的，就是这里不可以茶少点，奶盖多点，但是奶盖上洒了点抹茶粉，这满不错的，适合我的口味，一大杯量足，够两个人喝德，把奶盖拌均匀好喝，不会腻味！',\n",
              "  array([-4.552218  , -0.01059974], dtype=float32),\n",
              "  'Positive'),\n",
              " ('这次送的披萨给蛋挞一样大，呵呵了。',\n",
              "  array([-5.9927573e+00, -2.4999101e-03], dtype=float32),\n",
              "  'Positive'),\n",
              " ('味道不错，离我家近，五花肉不错',\n",
              "  array([-4.289028  , -0.01381326], dtype=float32),\n",
              "  'Positive'),\n",
              " ('味道很好，服务态度也很好，下次再去',\n",
              "  array([-5.1563745 , -0.00577922], dtype=float32),\n",
              "  'Positive'),\n",
              " ('味道不错，但真心不要再放芝麻酱了，重庆人吃不了这个！',\n",
              "  array([-4.734312  , -0.00882735], dtype=float32),\n",
              "  'Positive'),\n",
              " ('不错的，去过几次了，刚开业的时候最好',\n",
              "  array([-5.3111658e+00, -4.9483925e-03], dtype=float32),\n",
              "  'Positive'),\n",
              " ('经常来吃 强烈推荐  金针菇 豆皮 方便面和虾饺组合',\n",
              "  array([-6.134518e+00, -2.169162e-03], dtype=float32),\n",
              "  'Positive'),\n",
              " ('送两个小时，我就不说什么了，其他来这家买的酌情考虑',\n",
              "  array([-5.5864372e+00, -3.7554232e-03], dtype=float32),\n",
              "  'Positive'),\n",
              " ('猕猴桃都变质了 很软了居然给我？开始没注意 吃的时候有很大的酒味 今天又吃的时候也是很大的酒味 以前在超市买的都没有 呵呵百度一查结果是变质了 吃了对人体特别不好 你们这个店也好意思拿出来卖？？？出门路过你家的店也不会再进来买水果了 没得良心 我还是个孕妇 呵呵 确实可以的 ',\n",
              "  array([-5.369448e+00, -4.667578e-03], dtype=float32),\n",
              "  'Positive'),\n",
              " ('方便面没熟，没法吃，竹笋很老咬不动而且很少，菜品也很少',\n",
              "  array([-5.2270126 , -0.00538399], dtype=float32),\n",
              "  'Positive'),\n",
              " ('超级难吃又咸，而且鱼也老，难吃得要死……再也不叫了，这是第一次叫',\n",
              "  array([-5.0617824 , -0.00635437], dtype=float32),\n",
              "  'Positive'),\n",
              " ('好吃，就是价格贵，份量又少，一家5口人平均一人100元才够。',\n",
              "  array([-4.9756045 , -0.00692835], dtype=float32),\n",
              "  'Positive'),\n",
              " ('味道很好  大理的酸奶就是好喝',\n",
              "  array([-6.858095e+00, -1.051469e-03], dtype=float32),\n",
              "  'Positive'),\n",
              " ('味道不错，上菜也快，分量十足，就是的服务员态度很差，需要提高服务质量。',\n",
              "  array([-5.1925807 , -0.00557309], dtype=float32),\n",
              "  'Positive'),\n",
              " ('环境还好，味道很好，服务很好，就是价格贵',\n",
              "  array([-5.4675837e+00, -4.2303600e-03], dtype=float32),\n",
              "  'Positive'),\n",
              " ('很不错，都团了好多次了，还会去。',\n",
              "  array([-6.3798656e+00, -1.6968151e-03], dtype=float32),\n",
              "  'Positive'),\n",
              " ('味道好，而且便宜。环境也好。32赞',\n",
              "  array([-5.2193017 , -0.00542585], dtype=float32),\n",
              "  'Positive'),\n",
              " ('菜品很新鲜，值得一去',\n",
              "  array([-5.823440e+00, -2.961775e-03], dtype=float32),\n",
              "  'Positive'),\n",
              " ('鸭肠是坏的 拉了一晚上！',\n",
              "  array([-6.1756530e+00, -2.0816103e-03], dtype=float32),\n",
              "  'Positive'),\n",
              " ('份量少好多，55元的菜还不够3个人吃，我们你们家吃了N次，这次少了很多！',\n",
              "  array([-4.564589  , -0.01046881], dtype=float32),\n",
              "  'Positive'),\n",
              " ('老顾客了，吃了几十回了，不过服务一般，都习惯了',\n",
              "  array([-5.8074312e+00, -3.0096732e-03], dtype=float32),\n",
              "  'Positive'),\n",
              " ('味道还不错~~~分量非常足 ！本来三个人吃想团四人餐，但是看到评论都说三个人吃两人餐都足够就没有团四人的~~~~~想着不够再点~~~但是………居然没吃完！老板说鱼都是整条上，有的不止两斤半~~~良心商家啊~~',\n",
              "  array([-4.5065103 , -0.01109832], dtype=float32),\n",
              "  'Positive'),\n",
              " ('味道非常好。种类是很多样的。你很不错。',\n",
              "  array([-5.8938031e+00, -2.7602927e-03], dtype=float32),\n",
              "  'Positive'),\n",
              " ('送货速度很快哦，而且服务态度好，芒果千层好好吃的说，一点都不腻，性价比很高了，赞赞赞，迫不及待来评价',\n",
              "  array([-4.4634433 , -0.01158946], dtype=float32),\n",
              "  'Positive'),\n",
              " ('服务很好，很到位，老板人不错。很好吃，很过瘾，下次还要去',\n",
              "  array([-5.4516015e+00, -4.2986139e-03], dtype=float32),\n",
              "  'Positive'),\n",
              " ('#莴笋头# #鲜毛肚# #红汤锅底# #南瓜饼# #手工老肉片# #珺花# #黄瓜条#',\n",
              "  array([-4.1557817, -0.0157977], dtype=float32),\n",
              "  'Positive'),\n",
              " ('上午10点过去的，黑米家服务小哥正在准备食材准备开工，我前面已经有几个人在等了，还好等了两分钟就开始正式开始做手卷了。做的过程看着很干净卫生，也很快~手卷拿到了就开吃，木有拍照，不过味道真心很好，在等的时候也有很多人来，很多回头客，32个赞~\\\\\\\\(≧▽≦)/~',\n",
              "  array([-4.5403605 , -0.01072689], dtype=float32),\n",
              "  'Positive'),\n",
              " ('嗯，去吃了以后感觉非常不错，分量也比较多，我们4个人去吃了，还没有吃完还剩了很多，比较经济便宜实惠。',\n",
              "  array([-4.473258  , -0.01147563], dtype=float32),\n",
              "  'Positive'),\n",
              " ('什么鬼，蛋呢，这是炒饭？',\n",
              "  array([-5.7697935e+00, -3.1253085e-03], dtype=float32),\n",
              "  'Positive'),\n",
              " ('今天店家怎么了？心情不好吗？',\n",
              "  array([-6.108565e+00, -2.226257e-03], dtype=float32),\n",
              "  'Positive'),\n",
              " ('不错，挺多，味道不错', array([-4.732149 , -0.0088465], dtype=float32), 'Positive'),\n",
              " ('环境好 服务态度好 菜品丰富 味道也很不错，商务餐好去处！赞一个',\n",
              "  array([-5.3363194e+00, -4.8251380e-03], dtype=float32),\n",
              "  'Positive'),\n",
              " ('评价来迟了，蛋糕很好吃的，到店里面看到师傅做的，做得也很快',\n",
              "  array([-5.9011526e+00, -2.7400828e-03], dtype=float32),\n",
              "  'Positive'),\n",
              " ('我点的宫保鸡丁、这确定是鸡丁么？全是肉丝！没有宫保鸡丁不知道说啊！欺骗人么？',\n",
              "  array([-5.6357756e+00, -3.5742940e-03], dtype=float32),\n",
              "  'Positive'),\n",
              " ('想吐，银耳汤杯盖上面有一颗老鼠屎，而且还黏在上面了',\n",
              "  array([-4.261743, -0.014198], dtype=float32),\n",
              "  'Positive'),\n",
              " ('还是一如既往的好，来了这里不下10次了。每次都有不一样的感觉，而且每次都要吃她们的黑椒意大利面也很好吃。',\n",
              "  array([-5.2665067e+00, -5.1749330e-03], dtype=float32),\n",
              "  'Positive'),\n",
              " ('菜品还不错，不错。感觉有点点小贵。嘿嘿！服务态度这些还不错。',\n",
              "  array([-5.515322e+00, -4.032695e-03], dtype=float32),\n",
              "  'Positive'),\n",
              " ('菜品很有特色，环境也不错，味道也好，特别是吊烧鸡和传奇牛肉非常好吃，下次还来。',\n",
              "  array([-4.920376  , -0.00732309], dtype=float32),\n",
              "  'Positive'),\n",
              " ('#只只酸奶牛#酸奶臭了。馊的',\n",
              "  array([-5.9036093e+00, -2.7333065e-03], dtype=float32),\n",
              "  'Positive'),\n",
              " ('最最糟糕的一次外卖，没有更糟糕！！！食品全部是死的，估计明天要拉肚子，不知道冻了多久，反正再也不会点他家的了，老板，做食品生意，食材真的很重要，不要自己把自己做挎掉！#蒜蓉生蚝##蒜蓉大元贝5赠1##香辣小龙虾#',\n",
              "  array([-4.103098  , -0.01665943], dtype=float32),\n",
              "  'Positive'),\n",
              " ('可乐没有，鸡肉卷有，就不知道可乐跑哪里去了',\n",
              "  array([-5.9385219e+00, -2.6393838e-03], dtype=float32),\n",
              "  'Positive'),\n",
              " ('好吃好吃 我最喜欢吃这家的盐酥鸡和带骨鸡排了',\n",
              "  array([-6.4590287e+00, -1.5675650e-03], dtype=float32),\n",
              "  'Positive'),\n",
              " ('太干，不润，，没有丝，，不正宗。',\n",
              "  array([-3.7526352 , -0.02373532], dtype=float32),\n",
              "  'Positive'),\n",
              " ('稀饭炖的不好吃。不香，饭也不糯。不值得这个价钱。',\n",
              "  array([-5.3983126e+00, -4.5344387e-03], dtype=float32),\n",
              "  'Positive'),\n",
              " ('三个小时吃到饭，很难受',\n",
              "  array([-6.4104266e+00, -1.6456407e-03], dtype=float32),\n",
              "  'Positive'),\n",
              " ('太咸了，饭是凉的，太难吃。',\n",
              "  array([-5.1205564 , -0.00599065], dtype=float32),\n",
              "  'Positive'),\n",
              " ('去过几次了，不管是味道还是服务都很满意而且在家附近会常来的！',\n",
              "  array([-6.2668285e+00, -1.9000587e-03], dtype=float32),\n",
              "  'Positive'),\n",
              " ('超过了预计时间一个小时',\n",
              "  array([-6.6663918e+00, -1.2737741e-03], dtype=float32),\n",
              "  'Positive'),\n",
              " ('环境不错，上菜也比较快，菜的分量还是可以的，我们三个人吃都吃撑了，汤的味道很好，一锅汤加了几次，都喝完了，强烈推荐，还有自助的水果和饮料，服务员的态度赞一个，一点也不会因为是团购就不好，美女都很漂亮哦！',\n",
              "  array([-3.6561613 , -0.02617097], dtype=float32),\n",
              "  'Positive'),\n",
              " ('总体来说还不错，牛肉精到，口感也好',\n",
              "  array([-5.6501479e+00, -3.5232157e-03], dtype=float32),\n",
              "  'Positive'),\n",
              " ('还可以，应该都会喜欢吧，重庆口味。',\n",
              "  array([-6.3845186e+00, -1.6889606e-03], dtype=float32),\n",
              "  'Positive'),\n",
              " ('#尖椒兔套饭#肉都是臭的！',\n",
              "  array([-6.232597e+00, -1.966330e-03], dtype=float32),\n",
              "  'Positive'),\n",
              " ('我生日的时候老公给我买的，超级好吃，是我吃过最好吃的蛋糕，水果也多，还新鲜',\n",
              "  array([-5.6013265e+00, -3.6998407e-03], dtype=float32),\n",
              "  'Positive'),\n",
              " ('可以，商家服务态度也很好，下次还会再来的， #红汤锅底# #绿色毛肚# #鲜鸭肠# #油碟#',\n",
              "  array([-4.8545384 , -0.00782342], dtype=float32),\n",
              "  'Positive'),\n",
              " ('来了很多次了可以',\n",
              "  array([-6.181311e+00, -2.069833e-03], dtype=float32),\n",
              "  'Positive'),\n",
              " ('菜品还不错！分量也足，完全吃不完！',\n",
              "  array([-5.5211396e+00, -4.0093050e-03], dtype=float32),\n",
              "  'Positive'),\n",
              " ('分量很小 卖得偏贵 感觉东西不卫生 第二天拉肚子了吃了',\n",
              "  array([-6.2913775e+00, -1.8538922e-03], dtype=float32),\n",
              "  'Positive'),\n",
              " ('差评，我要的部分微辣，没有叫他减，既然全部给我减成了一盒，真的黑冒火',\n",
              "  array([-4.511154  , -0.01104656], dtype=float32),\n",
              "  'Positive'),\n",
              " ('蛋糕好可爱的，蛋糕的味道也很不错，就是上面的水果看着漂亮，但猕猴桃还是生的，浪费了，商家可以换成别的，买了个面包也好吃，下次还是会去的',\n",
              "  array([-4.4798455 , -0.01139985], dtype=float32),\n",
              "  'Positive'),\n",
              " ('里脊肉吃起有股味道，应该不是新鲜的吧！我们没去店里买就是相信他们店里的食材都是新鲜的 以为我们是网上买的就可以欺骗消费者？？？藕片也是放了很久的吧？和以往相比  食材越来越不新鲜 吃了这些会拉肚子的！不要一味的为了钱 就这样对待消费者！！',\n",
              "  array([-5.4836793e+00, -4.1626953e-03], dtype=float32),\n",
              "  'Positive'),\n",
              " ('14块饭少，也就是一般加点杂碎，随便抄抄而已。',\n",
              "  array([-5.6516414e+00, -3.5178701e-03], dtype=float32),\n",
              "  'Positive'),\n",
              " ('首先青椒没炒熟，其次，肉量很少，并且不像炒的，而像是煮的，一份小炒肉全是生的青椒，怎么吃啊',\n",
              "  array([-5.357186e+00, -4.725242e-03], dtype=float32),\n",
              "  'Positive'),\n",
              " ('选了一种非常辣的，老板服务态度相当好！',\n",
              "  array([-5.9741755e+00, -2.5468790e-03], dtype=float32),\n",
              "  'Positive'),\n",
              " ('一般。态度还好。菜品少。❤️总体还行',\n",
              "  array([-6.1502318e+00, -2.1352605e-03], dtype=float32),\n",
              "  'Positive'),\n",
              " ('不错！服务态度十分满意！下次聚会或者年终聚会还来！',\n",
              "  array([-6.2320967e+00, -1.9672818e-03], dtype=float32),\n",
              "  'Positive'),\n",
              " ('全是豆芽，肉去哪里了',\n",
              "  array([-6.2256594e+00, -1.9800120e-03], dtype=float32),\n",
              "  'Positive'),\n",
              " ('真是难吃，还不如路边摊',\n",
              "  array([-5.7261567e+00, -3.2649327e-03], dtype=float32),\n",
              "  'Positive'),\n",
              " ('味道不错，环境也好，服务也还好，总之还不错啦',\n",
              "  array([-4.7463627 , -0.00872112], dtype=float32),\n",
              "  'Positive'),\n",
              " ('老顾客了，没什么好挑剔的。。。',\n",
              "  array([-5.8021889e+00, -3.0254803e-03], dtype=float32),\n",
              "  'Positive'),\n",
              " ('不是一般的难吃    ', array([-4.0434246 , -0.01769295], dtype=float32), 'Positive'),\n",
              " ('送过来都是冷的，怎么吃？',\n",
              "  array([-6.073859e+00, -2.304876e-03], dtype=float32),\n",
              "  'Positive'),\n",
              " ('味道好 服务好 又便宜哈哈哈哈哈好得很',\n",
              "  array([-5.6018109e+00, -3.6980594e-03], dtype=float32),\n",
              "  'Positive'),\n",
              " ('夏天吃这个不上火，味道很好，物美价廉。',\n",
              "  array([-5.8270864e+00, -2.9509591e-03], dtype=float32),\n",
              "  'Positive'),\n",
              " ('#椒盐皮皮虾#没肉，而且咸的发苦，巨咸无比！吃了一只剩下的全部都浪费了#香辣耗儿鱼#一个字“咸”而且特别干，跟鱼干差不多。。。反正超级难吃！',\n",
              "  array([-4.931138  , -0.00724451], dtype=float32),\n",
              "  'Positive'),\n",
              " ('送了半天，量太少，不好吃，',\n",
              "  array([-5.8092785e+00, -3.0040874e-03], dtype=float32),\n",
              "  'Positive'),\n",
              " ('第一次有点失望，荤的有臭味',\n",
              "  array([-5.465126e+00, -4.240806e-03], dtype=float32),\n",
              "  'Positive'),\n",
              " ('每次都去这家，父母也觉得不错图。',\n",
              "  array([-5.9593158e+00, -2.5850472e-03], dtype=float32),\n",
              "  'Positive'),\n",
              " ('吃光了，味道很好吃，下次买个大份的',\n",
              "  array([-5.9848933e+00, -2.5196492e-03], dtype=float32),\n",
              "  'Positive'),\n",
              " ('有虫子，好恶心，清洁卫生怎么回事，太不地道了呀，工商局管不管这事，商家看到请联系我，很气愤',\n",
              "  array([-3.960565 , -0.0192362], dtype=float32),\n",
              "  'Positive'),\n",
              " ('味道很不错，而且分量足，还送了份凉面，好评！',\n",
              "  array([-5.107622  , -0.00606885], dtype=float32),\n",
              "  'Positive'),\n",
              " ('一如既往地好，好吃好吃美味美味',\n",
              "  array([-5.095057  , -0.00614575], dtype=float32),\n",
              "  'Positive'),\n",
              " ('味道好，我喜欢原味。服务可以，欢迎大家来尝试',\n",
              "  array([-5.5605841e+00, -3.8539912e-03], dtype=float32),\n",
              "  'Positive'),\n",
              " ('谁还会放心吃你家的？',\n",
              "  array([-6.8538003e+00, -1.0559942e-03], dtype=float32),\n",
              "  'Positive'),\n",
              " ('上次路过，吃过一次，服务热情好吃。这次附近逛街，特意又团了单，遇到手机没电关机无法验证，商家先煮了面，很体贴周到。会经常光顾~',\n",
              "  array([-4.978404  , -0.00690881], dtype=float32),\n",
              "  'Positive'),\n",
              " ('不错，汤头好喝，蘸酱很好吃，怎么搭配都很好吃，不错。',\n",
              "  array([-5.2788062e+00, -5.1116017e-03], dtype=float32),\n",
              "  'Positive'),\n",
              " ('好喝，每周喝两次',\n",
              "  array([-5.8680954e+00, -2.8322130e-03], dtype=float32),\n",
              "  'Positive'),\n",
              " ('都馊了还拿出来卖，不是缺德么',\n",
              "  array([-4.84376   , -0.00790858], dtype=float32),\n",
              "  'Positive'),\n",
              " ('味道差的要死，几块鸡，没香味，吃了还拉肚子，不会再买了',\n",
              "  array([-5.6702595e+00, -3.4528894e-03], dtype=float32),\n",
              "  'Positive'),\n",
              " ('可以可以的 味道不错哦 你值得一试',\n",
              "  array([-5.7297668e+00, -3.2531694e-03], dtype=float32),\n",
              "  'Positive'),\n",
              " ('老顾客了，很好吃的火锅～尤其是鳕鱼',\n",
              "  array([-5.8240981e+00, -2.9598735e-03], dtype=float32),\n",
              "  'Positive'),\n",
              " ('很喜欢去吃，味道也一直都很不错',\n",
              "  array([-4.8504896 , -0.00785536], dtype=float32),\n",
              "  'Positive'),\n",
              " ('服务很好 焦糖布丁很好吃 奶茶也很好喝 下次会继续来吃',\n",
              "  array([-6.2329550e+00, -1.9656161e-03], dtype=float32),\n",
              "  'Positive'),\n",
              " ('服务一般，菜的味道不错！就是份量有点少',\n",
              "  array([-5.243255  , -0.00529708], dtype=float32),\n",
              "  'Positive'),\n",
              " ('老板请你告诉我你确定这是3.5斤的鱼？严重参假我连鱼都看不到！全是菜！！！！！很气',\n",
              "  array([-5.428391e+00, -4.399858e-03], dtype=float32),\n",
              "  'Positive'),\n",
              " ('太难吃了，戚风蛋糕就跟一两元蛋糕一样、、椰蓉蛋糕干瘪的像放了N天、还有那个黄金片硬的咬掉牙…好评是刷出来的吗？',\n",
              "  array([-5.3357224e+00, -4.8281038e-03], dtype=float32),\n",
              "  'Positive'),\n",
              " ('奶茶苦的，不好喝。',\n",
              "  array([-5.9261284e+00, -2.6723172e-03], dtype=float32),\n",
              "  'Positive'),\n",
              " ('对于一个吃货来说，这估计是我吃过最难吃烧烤了，最重要的是下单后过了七分钟点退货，老板立马打电话说已经烤好了，拒绝退款，尼玛，从拿菜品到烤再到扮佐料打包，七分钟够？结果等了五十分钟才送来，这就是七分钟烤好了？送个餐要五十分钟？还离得不远。果断差评，还难吃，点这家烧烤的需慎重',\n",
              "  array([-5.3361950e+00, -4.8257313e-03], dtype=float32),\n",
              "  'Positive'),\n",
              " ('不错，今天多收了餐费都打电话给我退还给我的。口感还不错，下次还来',\n",
              "  array([-5.5992675e+00, -3.7074420e-03], dtype=float32),\n",
              "  'Positive'),\n",
              " ('这个味道怎么和之前吃的完全不一样了啊？ 换老板了吗？ 味道好淡。 时间也迟到这么久',\n",
              "  array([-4.8141336 , -0.00814734], dtype=float32),\n",
              "  'Positive'),\n",
              " ('味道很好，分量很足，锅巴最香了',\n",
              "  array([-5.9549847e+00, -2.5962240e-03], dtype=float32),\n",
              "  'Positive'),\n",
              " ('联系卖家时，知道汤都臭了还送。吃过这么多外卖没吃过这么糟糕的。炒饭炒粉都有股臭味。不敢吃，都扔了。也不是正宗的沙县。各位食客请慎重订餐。用美团这么久，就算点的饭菜不合口味都给好评，但是饭菜臭的不能忍。第一次差评。',\n",
              "  array([-5.1499352 , -0.00581668], dtype=float32),\n",
              "  'Positive'),\n",
              " ('服务员小哥态度很好，也很细心，棒棒的。味道也不错',\n",
              "  array([-6.1275253e+00, -2.1843878e-03], dtype=float32),\n",
              "  'Positive'),\n",
              " ('还是需要加菜',\n",
              "  array([-5.7853765e+00, -3.0769408e-03], dtype=float32),\n",
              "  'Positive'),\n",
              " ('吃到个蟑螂…好恶心',\n",
              "  array([-5.560205e+00, -3.855416e-03], dtype=float32),\n",
              "  'Positive'),\n",
              " ('还说了多拿番茄酱 结果没有番茄酱 ！！！',\n",
              "  array([-6.214630e+00, -2.001903e-03], dtype=float32),\n",
              "  'Positive'),\n",
              " ('牛肉都扔了肉都是臭的里面菜也没有再也不会点这家',\n",
              "  array([-6.3254924e+00, -1.7916594e-03], dtype=float32),\n",
              "  'Positive'),\n",
              " ('没人接配送也不说一声，打了n个电话给商家都没人接，等了一个半小时，我真是呵呵了……送来的粥里面有蚊虫，包子里面还有锡箔纸，该怎么吃！很少差评！第一次都给你了！',\n",
              "  array([-6.1769118e+00, -2.0789932e-03], dtype=float32),\n",
              "  'Positive'),\n",
              " ('小面的味道意外的不错，份量也足。',\n",
              "  array([-5.044232  , -0.00646725], dtype=float32),\n",
              "  'Positive'),\n",
              " ('很好，很久就想吃铁锅门了，以前读书的时候就喜欢吃。今天正好看到，终于满足了！一如既往，虾也很大，刚好吃了一百，一张代金券就够了！',\n",
              "  array([-4.9863    , -0.00685435], dtype=float32),\n",
              "  'Positive'),\n",
              " ('不管是环境，服务还是菜品，都很满意。菜品新鲜，店员也很亲切，进门就听见大声的迎宾语位置很好找，就在大融城背后的星天广场3楼的美食街里面，中午去的，人很多，不过上菜速度很快，没等多久就好了，味道特别好吃',\n",
              "  array([-4.9311137 , -0.00724463], dtype=float32),\n",
              "  'Positive'),\n",
              " ('吃出只苍蝇是怎样',\n",
              "  array([-6.6801124e+00, -1.2563915e-03], dtype=float32),\n",
              "  'Positive'),\n",
              " ('价格合适，服务周到，吃的种类很多，去几次了',\n",
              "  array([-6.1747231e+00, -2.0835137e-03], dtype=float32),\n",
              "  'Positive'),\n",
              " ('来重庆第二次来了，味道很棒，价格很合理。很推荐',\n",
              "  array([-6.2958922e+00, -1.8455631e-03], dtype=float32),\n",
              "  'Positive'),\n",
              " ('第一吃铁板烧 量多  两个人吃不完 辣椒好',\n",
              "  array([-6.0287261e+00, -2.4114358e-03], dtype=float32),\n",
              "  'Positive'),\n",
              " ('超级好，食材新鲜，服务又好！最爱海胆和牡丹虾。',\n",
              "  array([-5.8039618e+00, -3.0201322e-03], dtype=float32),\n",
              "  'Positive'),\n",
              " ('还没有吃就看到，饭表面就有个虫，怎么吃啊！',\n",
              "  array([-5.6351337e+00, -3.5765509e-03], dtype=float32),\n",
              "  'Positive'),\n",
              " ('味道不错，老板人很好~喜欢吃的都可以去尝试一下',\n",
              "  array([-5.5439901e+00, -3.9185896e-03], dtype=float32),\n",
              "  'Positive'),\n",
              " ('来了好多次 老板人很好。下午得猪脚好吃些上午的没有入味。下午去还是棒棒哒',\n",
              "  array([-6.1223903e+00, -2.1955688e-03], dtype=float32),\n",
              "  'Positive'),\n",
              " ('可以！这里每次都是排队！',\n",
              "  array([-6.770901e+00, -1.147327e-03], dtype=float32),\n",
              "  'Positive'),\n",
              " ('第三回去了，这次是临时决定去的，马上手机团购了就去的，下午六点多了，没有电话预约以为去要等位，还好去了还有位置，服务员还是一如既往的很热情，六人餐六个人吃得都很满意，那里蛋炒饭和免费脐橙相当的好吃，醪糟汤圆也很不错，这次唯一的缺憾就是那一盘豆干有些变味了，估计是放得有点久了，希望商家以后注意，总体还是值得再推荐给大家！',\n",
              "  array([-4.9077396 , -0.00741657], dtype=float32),\n",
              "  'Positive'),\n",
              " ('东西真的不怎样，快递还是不错的',\n",
              "  array([-5.171351  , -0.00569305], dtype=float32),\n",
              "  'Positive'),\n",
              " ('特别不卫生千万不要吃了，点了#秘制烤翅（2块）#鸡腿糊了也没怎么在意，妹妹说糊得咬不动我就让她扔了，还点了一只#蜜汁手扒鸡#送来了，我打开给我妹妹吃，打开了就感觉味道怪怪的，扒了一只鸡腿臭味就散发出来了，点了那么多次还是第一次遇到这种情况！',\n",
              "  array([-4.404407 , -0.0122987], dtype=float32),\n",
              "  'Positive'),\n",
              " ('味道棒 很甜',\n",
              "  array([-5.7983246e+00, -3.0372464e-03], dtype=float32),\n",
              "  'Positive'),\n",
              " ('送个外卖从3个多小时才到',\n",
              "  array([-5.8193617e+00, -2.9738985e-03], dtype=float32),\n",
              "  'Positive'),\n",
              " ('吃过最难吃的开胃粉，从没点过这么难吃的东西，根本吃不下，全扔了',\n",
              "  array([-4.4854546 , -0.01133573], dtype=float32),\n",
              "  'Positive'),\n",
              " ('才开业的店，环境很好，紫米露好大一杯，味道还不错，态度特别好，还送了我两张3元的优惠券',\n",
              "  array([-4.733435  , -0.00883515], dtype=float32),\n",
              "  'Positive'),\n",
              " ('离住的地方不远，鱼现杀的，很新鲜，鱼也很肥妹，老板人很好',\n",
              "  array([-5.5243192e+00, -3.9966004e-03], dtype=float32),\n",
              "  'Positive'),\n",
              " ('味道极好，脆皮也足够脆，而且还不油',\n",
              "  array([-5.508149e+00, -4.061783e-03], dtype=float32),\n",
              "  'Positive'),\n",
              " ('还不错 就在车站那 只有那家店能用 重百店里的不能用 订了蛋糕 团购划算',\n",
              "  array([-6.2643332e+00, -1.9048181e-03], dtype=float32),\n",
              "  'Positive'),\n",
              " ('味道 服务都不错 下次还去',\n",
              "  array([-5.556243e+00, -3.870735e-03], dtype=float32),\n",
              "  'Positive'),\n",
              " ('点了牛肉串根本就没有，放在一起根本看不出来，没有把牛肉串放进去，真的可怕',\n",
              "  array([-5.1852894 , -0.00561399], dtype=float32),\n",
              "  'Positive'),\n",
              " ('真的超好吃，想吃正宗火锅的，选这家，没错啦',\n",
              "  array([-4.5108914 , -0.01104951], dtype=float32),\n",
              "  'Positive'),\n",
              " ('居然不加饭！差评(*｀Ω´*)v',\n",
              "  array([-4.3271794 , -0.01329274], dtype=float32),\n",
              "  'Positive'),\n",
              " ('味道不错，很好吃，以后经常来很独特',\n",
              "  array([-5.6602001e+00, -3.4879344e-03], dtype=float32),\n",
              "  'Positive'),\n",
              " ('白米饭很好吃，很划算，一元买了很大一盒。水煮肉片就算了吧。先不说口味一般的问题，大半碗都是豆芽菜，肉片很少，怎么吃？不如直接叫水煮豆芽好了。名字取的好听，图片拍得漂亮只是吸引新顾客罢了，吃过一次的人，知道这种事实还会再来吗？老顾客还会有吗？做餐饮讲的是良心，是诚信，这几点根本都没有，怎么得人心。但米饭确实好吃又便宜，我甚至觉得卖家有点亏。水煮肉片的话...可能赚了不少吧。',\n",
              "  array([-5.3742723e+00, -4.6450333e-03], dtype=float32),\n",
              "  'Positive'),\n",
              " ('环境不错，九十分钟转一圈，可以看到整个解放碑全景，请外地朋友吃饭特别合适；上菜速度也快，味道也不错！就是水煮牛肉有些太肥了，瘦点就好了。。特别温馨的是餐前送了每人一小碗红糖冰粉，冰凉爽口，谢谢店家，其他挺好',\n",
              "  array([-5.0858626 , -0.00620273], dtype=float32),\n",
              "  'Positive'),\n",
              " ('位置挺好找的，门面也很宽敞，环境不错，干净大气，我定的晚上七点多的位置，店里人蛮多的，店家还是预留了一桌，还是有些小感动，没有排队等，直接就上桌了，上菜的速度也很快，菜品丰富，份量很足，还有水果和炒饭，都蛮好吃的，好评！',\n",
              "  array([-4.58522   , -0.01025385], dtype=float32),\n",
              "  'Positive'),\n",
              " ('很好吃，牛肉比较多，非常实惠，就是位置不太好找，强烈推荐，全五分',\n",
              "  array([-4.058397  , -0.01742764], dtype=float32),\n",
              "  'Positive'),\n",
              " ('一如既往的好喝 喜欢放牛斑 希望多点座位',\n",
              "  array([-5.7550716e+00, -3.1716542e-03], dtype=float32),\n",
              "  'Positive'),\n",
              " ('菜品种类很多 饮料也挺多的 还有烧烤真的很赞 本人喜欢鸡瓜  真的不错',\n",
              "  array([-5.1700974 , -0.00570028], dtype=float32),\n",
              "  'Positive'),\n",
              " ('点了三两，估计最多2两，最多，',\n",
              "  array([-5.3453150e+00, -4.7818352e-03], dtype=float32),\n",
              "  'Positive'),\n",
              " ('不想说什么了难吃到吐！红烧茄子不烧焦一点怎么吃？放点油下锅衮一圈就弄起来了？还有送到的时候已经基本完全冷了！我已经无语！我只想说你怎么不把一个茄子直接抄？切怎么大还不如不切！什么玩意？',\n",
              "  array([-5.4322619e+00, -4.3827672e-03], dtype=float32),\n",
              "  'Positive'),\n",
              " ('离家近，味道不错，环境很好，下次还会再来光顾的。',\n",
              "  array([-5.3507724e+00, -4.7557340e-03], dtype=float32),\n",
              "  'Positive'),\n",
              " ('服务很满意', array([-5.9787097e+00, -2.5353450e-03], dtype=float32), 'Positive'),\n",
              " ('去的比较晚，菜什么的都比较少了，所以大家还是早点儿去～嗯，去了几次了，总体还可以吧',\n",
              "  array([-5.7751431e+00, -3.1085524e-03], dtype=float32),\n",
              "  'Positive'),\n",
              " ('可以味道不错，经常来喝，商家也不错',\n",
              "  array([-4.995224  , -0.00679326], dtype=float32),\n",
              "  'Positive'),\n",
              " ('吃了N次了，很不错',\n",
              "  array([-5.4032869e+00, -4.5118914e-03], dtype=float32),\n",
              "  'Positive'),\n",
              " ('毛豆难吃就算了，关键说满28送金猴福袋，我专门点够了，居然根本没有送？呵呵了，什么风味也不过阿骗人的？',\n",
              "  array([-5.6709967e+00, -3.4503946e-03], dtype=float32),\n",
              "  'Positive'),\n",
              " ('没有第一次好吃，鱿鱼腥味很大，没得价格单子，说好送加多宝也没有，',\n",
              "  array([-5.2813787e+00, -5.0984370e-03], dtype=float32),\n",
              "  'Positive'),\n",
              " ('味道很不错 老板娘服务态度很好 很有亲和力 下次吃鸡还会去',\n",
              "  array([-6.0062208e+00, -2.4663764e-03], dtype=float32),\n",
              "  'Positive'),\n",
              " ('送来放到门口，连个电话都不打！全部冷了 根本没法吃！真的很差',\n",
              "  array([-5.586400e+00, -3.755542e-03], dtype=float32),\n",
              "  'Positive'),\n",
              " ('快递小哥不错 电梯上不来 爬楼梯五楼送到 真心不错   外卖就算了 重来没吃过这么难吃的烧烤 一点味都没有 我想请问店家 你是没钱买盐吗',\n",
              "  array([-5.6085768e+00, -3.6729986e-03], dtype=float32),\n",
              "  'Positive'),\n",
              " ('一个人尝了一口确认它是真的臭了，其他的东西也是难吃的一逼，难吃就算了，能理解，竟然卖变质的东西，真的不能忍',\n",
              "  array([-4.2880425, -0.0138269], dtype=float32),\n",
              "  'Positive'),\n",
              " ('送得太慢了，送来算是冷的，不会再点这家了',\n",
              "  array([-5.942042e+00, -2.630110e-03], dtype=float32),\n",
              "  'Positive'),\n",
              " ('好吃，吐血推荐，味道极赞，汤汁味道浓厚',\n",
              "  array([-5.5801558e+00, -3.7790567e-03], dtype=float32),\n",
              "  'Positive'),\n",
              " ('味道不错～老板人还是多好的，就算是有点远也及时送到了',\n",
              "  array([-5.6166492e+00, -3.6434238e-03], dtype=float32),\n",
              "  'Positive'),\n",
              " ('吃了很多次了 很划算 味道很好 面和米饭都好吃',\n",
              "  array([-5.6189032e+00, -3.6352284e-03], dtype=float32),\n",
              "  'Positive'),\n",
              " ('鸡腿生的会拉肚子的',\n",
              "  array([-6.3404951e+00, -1.7650039e-03], dtype=float32),\n",
              "  'Positive'),\n",
              " ('吃了很多次了 每次来万象城必点 特别喜欢它家的薯霸王 地址 万象城b1西西弗书店那个大门进去就看到 它家生意挺好的 人流量挺多服务 是自助打印团购券的 打印小票后就可以领餐了 没有过多的服务 其实最好是在团购兑券处安排一个人 好方便顾客的操作速度 打印券后 把小票给服务员后就可以等着领餐了 速度还是蛮快的环境 和肯德基和麦当劳吃起来 喜欢它家环境一些要更现代一些 没有那么多小孩纸和供小孩玩耍的器具感觉更清净一些味道 团购的一个薯霸王套餐 里面包括超打薯霸王和一杯气泡水  没有超大的薯条包装给了两个大薯条 ',\n",
              "  array([-5.7669592e+00, -3.1342213e-03], dtype=float32),\n",
              "  'Positive'),\n",
              " ('牛奶送过来都臭了我去，有点过分了',\n",
              "  array([-5.6342597e+00, -3.5797581e-03], dtype=float32),\n",
              "  'Positive'),\n",
              " ('非常好吃，味道也很好！',\n",
              "  array([-6.0023217e+00, -2.4760086e-03], dtype=float32),\n",
              "  'Positive'),\n",
              " ('除了以前那个像金丝一样的酥点味道不及以前，其他都很赞，菜品新鲜，还会再去',\n",
              "  array([-4.301548  , -0.01364017], dtype=float32),\n",
              "  'Positive'),\n",
              " ('味道不错，第二次来了，就是价格偏贵。对了，小刘服务挺好的，热情，好评。',\n",
              "  array([-5.6379957e+00, -3.5663354e-03], dtype=float32),\n",
              "  'Positive'),\n",
              " ('老板人特别好，点心也特别好吃，每次都要吃好多点心呢',\n",
              "  array([-5.9000659e+00, -2.7430549e-03], dtype=float32),\n",
              "  'Positive'),\n",
              " ('老板态度很好，而且价格很实惠，下次再来',\n",
              "  array([-5.5887980e+00, -3.7465158e-03], dtype=float32),\n",
              "  'Positive'),\n",
              " ('6啊6的刨酸奶，一碗就吃饱了，分量足。',\n",
              "  array([-5.5107307e+00, -4.0513356e-03], dtype=float32),\n",
              "  'Positive'),\n",
              " ('味道不错，经济实惠，强烈推荐！',\n",
              "  array([-5.4926953e+00, -4.1251811e-03], dtype=float32),\n",
              "  'Positive'),\n",
              " ('味道不错分量也很足   吃饭的环境比较舒适  适合大家聚餐什么的',\n",
              "  array([-6.2757373e+00, -1.8831630e-03], dtype=float32),\n",
              "  'Positive'),\n",
              " ('与朋友一起去的，和一切一样的好',\n",
              "  array([-5.1214476 , -0.00598531], dtype=float32),\n",
              "  'Positive'),\n",
              " ('奶味超足呀～小姐姐小哥哥人都很好，紫米刚蒸出来的香喷喷，以后会经常吃哒 包装超可爱*^o^*',\n",
              "  array([-5.530906e+00, -3.970241e-03], dtype=float32),\n",
              "  'Positive'),\n",
              " ('很好喝，不错，新鲜，来了几次了',\n",
              "  array([-5.9394445e+00, -2.6370059e-03], dtype=float32),\n",
              "  'Positive'),\n",
              " ('可乐送成奶茶 热的',\n",
              "  array([-6.6328850e+00, -1.3172292e-03], dtype=float32),\n",
              "  'Positive'),\n",
              " ('味道还不错，就是那个锅有一点辣，东西还挺多的，小吃很好～ nice',\n",
              "  array([-5.8153858e+00, -2.9857839e-03], dtype=float32),\n",
              "  'Positive'),\n",
              " ('味道好，鱼新鲜。我跟我老公都喜欢',\n",
              "  array([-5.9090972e+00, -2.7183269e-03], dtype=float32),\n",
              "  'Positive'),\n",
              " ('很好 很喜欢 会再去',\n",
              "  array([-6.5823784e+00, -1.3855629e-03], dtype=float32),\n",
              "  'Positive'),\n",
              " ('肉多份量多，完全吃不完，不错，地方也还好找',\n",
              "  array([-5.9678335e+00, -2.5630502e-03], dtype=float32),\n",
              "  'Positive'),\n",
              " ('完全不新鲜，千万别去吃。有苍蝇，有头发，啥都有',\n",
              "  array([-5.7422605e+00, -3.2126503e-03], dtype=float32),\n",
              "  'Positive'),\n",
              " ('经常来吃这家，服务什么都挺好就是菜品没时代天街多，音乐声音真心大。关小点能给人更好的就餐环境',\n",
              "  array([-6.0128403e+00, -2.4500848e-03], dtype=float32),\n",
              "  'Positive'),\n",
              " ('各位，骗人的店。偷工减料的，好少，有些菜还没有。烂店一个。。烂，烂，烂。。。。',\n",
              "  array([-4.686341  , -0.00926316], dtype=float32),\n",
              "  'Positive'),\n",
              " ('草莓和石头似的且发苦！西瓜变质了！桔子都是酸苦！这种水果也卖？我也是醉了！无良商家！',\n",
              "  array([-6.1210561e+00, -2.1985425e-03], dtype=float32),\n",
              "  'Positive'),\n",
              " ('已经是很多次去吃了，位置好找，因为人多菜品换新快，同时新货也上的快！',\n",
              "  array([-5.6766872e+00, -3.4307926e-03], dtype=float32),\n",
              "  'Positive'),\n",
              " ('最差的一次外卖体验。好不好吃是一回事，点的多荤少素的套餐全是素菜，套餐外单点的脆皮肠和鸡心吃完了都没看到。下午两点的订单，饭点高峰期都过了别扯你很忙。建议以后走点心吧',\n",
              "  array([-4.6554613 , -0.00955508], dtype=float32),\n",
              "  'Positive'),\n",
              " ('比平时面包店买的小', array([-4.691179  , -0.00921827], dtype=float32), 'Positive'),\n",
              " ('风格特别好', array([-5.8080273e+00, -3.0078904e-03], dtype=float32), 'Positive'),\n",
              " ('鱼香肉丝很甜很酸',\n",
              "  array([-6.2932677e+00, -1.8504416e-03], dtype=float32),\n",
              "  'Positive'),\n",
              " ('点两瓶荔枝爽只送了一瓶可乐  牛肉点了两次都没得',\n",
              "  array([-6.3595467e+00, -1.7316836e-03], dtype=float32),\n",
              "  'Positive'),\n",
              " ('很满意，还会再来',\n",
              "  array([-5.8300982e+00, -2.9421635e-03], dtype=float32),\n",
              "  'Positive'),\n",
              " ('分量也太少了撒，',\n",
              "  array([-5.8086667e+00, -3.0059889e-03], dtype=float32),\n",
              "  'Positive'),\n",
              " ('味道很好，只是我是第二次叫烤鱼外卖，回头客，食材和烤鱼都缩水了，相当严重的缩水。感觉以后不会再光顾了。呵呵。',\n",
              "  array([-5.2873678e+00, -5.0678365e-03], dtype=float32),\n",
              "  'Positive'),\n",
              " ('粥都馊了，点的鲜肉包送的酱肉包，搞什么',\n",
              "  array([-5.7069826e+00, -3.3282621e-03], dtype=float32),\n",
              "  'Positive'),\n",
              " ('分量可以，味道很好。不错值得推荐。',\n",
              "  array([-5.6033368e+00, -3.6923583e-03], dtype=float32),\n",
              "  'Positive'),\n",
              " ('鸡肉饭很好吃的，店里面其他的饭都很好吃也不贵，照片是之前打包的鳗鱼饭，山贼牛肉饭也很赞，推荐大家去尝一下真的很nice！',\n",
              "  array([-5.5266418e+00, -3.9872206e-03], dtype=float32),\n",
              "  'Positive'),\n",
              " ('位置:学林街路口进来向上几家，就能很清楚的看到招牌，绝味干锅',\n",
              "  array([-5.6200795e+00, -3.6309524e-03], dtype=float32),\n",
              "  'Positive'),\n",
              " ('无语了，吃了一半。蟑螂腿',\n",
              "  array([-5.8928213e+00, -2.7630269e-03], dtype=float32),\n",
              "  'Positive'),\n",
              " ('味道还可以，环境比较好，感觉比沙坪坝其他家都要好些',\n",
              "  array([-5.4091039e+00, -4.4856644e-03], dtype=float32),\n",
              "  'Positive'),\n",
              " ('味道不错，老板很好很帅，很绅士的帮我们加菜，菜品很新鲜，鸭肠很脆，嫩牛肉，香菜丸子也是很棒，好吃，环境也不错，推荐。',\n",
              "  array([-4.8502107 , -0.00785749], dtype=float32),\n",
              "  'Positive'),\n",
              " ('观音桥不夜城下面', array([-4.519102  , -0.01095861], dtype=float32), 'Positive'),\n",
              " ('确实特别出乎意料！！！！！',\n",
              "  array([-5.9606943e+00, -2.5814802e-03], dtype=float32),\n",
              "  'Positive'),\n",
              " ('很好，两盆鱼，端上来还觉得是隔壁的',\n",
              "  array([-5.985890e+00, -2.517152e-03], dtype=float32),\n",
              "  'Positive'),\n",
              " ('味道真的很不错，老公也喜欢',\n",
              "  array([-5.9656615e+00, -2.5686387e-03], dtype=float32),\n",
              "  'Positive'),\n",
              " ('不好吃…味道一般般', array([-5.1520576 , -0.00580435], dtype=float32), 'Positive'),\n",
              " ('#蜜汁烤全鸡#难吃就两字，我只说一次！',\n",
              "  array([-5.7799578e+00, -3.0935786e-03], dtype=float32),\n",
              "  'Positive'),\n",
              " ('环境挺好，服务态度很好，味道还可以，小吃也很多，下次还会光顾。',\n",
              "  array([-5.689837e+00, -3.385885e-03], dtype=float32),\n",
              "  'Positive'),\n",
              " ('超级喜欢这个面，清淡有嚼劲。店里干净整洁，服务态度超级好。',\n",
              "  array([-6.0979190e+00, -2.2500455e-03], dtype=float32),\n",
              "  'Positive'),\n",
              " ('很好吃，麻辣口味和蒜香口味都挺好的！',\n",
              "  array([-6.263921e+00, -1.905532e-03], dtype=float32),\n",
              "  'Positive'),\n",
              " ('环境很好，味道好，也很好找地方，牛排味道很不错，几十块钱值了。',\n",
              "  array([-5.6142287e+00, -3.6523321e-03], dtype=float32),\n",
              "  'Positive'),\n",
              " ('很不错的餐厅，菜品很新鲜，口味份量很足，好评。',\n",
              "  array([-5.9383707e+00, -2.6398592e-03], dtype=float32),\n",
              "  'Positive'),\n",
              " ('不不摆了，吃了肚子好疼，我和老公都拉肚子，估计是那个油是潲水油，以后不吃外卖了，太脏了……',\n",
              "  array([-5.3630209e+00, -4.6977154e-03], dtype=float32),\n",
              "  'Positive'),\n",
              " ('还不错，服务好，味道将就，就是稍微有点咸，可能是我们吃的淡。',\n",
              "  array([-5.1504655 , -0.00581359], dtype=float32),\n",
              "  'Positive'),\n",
              " ('味道不错，就是分量不是很多，服务态度很好！',\n",
              "  array([-5.085083  , -0.00620759], dtype=float32),\n",
              "  'Positive'),\n",
              " ('味道不错，很香，很实惠啊！',\n",
              "  array([-5.283057e+00, -5.089779e-03], dtype=float32),\n",
              "  'Positive'),\n",
              " ('吃了拉肚子，太坑了。',\n",
              "  array([-5.352888e+00, -4.745649e-03], dtype=float32),\n",
              "  'Positive'),\n",
              " ('菜品很足，也很合口味！值得推荐',\n",
              "  array([-6.403008e+00, -1.657899e-03], dtype=float32),\n",
              "  'Positive'),\n",
              " ('环境非常不错。包间里面商务谈事情高端大气。只不过要收服务会！消费的15%茶水都要钱的！',\n",
              "  array([-6.2232695e+00, -1.9847711e-03], dtype=float32),\n",
              "  'Positive'),\n",
              " ('备注不理？ 客人要求不看',\n",
              "  array([-5.72946e+00, -3.25412e-03], dtype=float32),\n",
              "  'Positive'),\n",
              " ('不错  态度也很好 一共团了八张',\n",
              "  array([-5.9486933e+00, -2.6126320e-03], dtype=float32),\n",
              "  'Positive'),\n",
              " ('竟然还能吃出虫子……真的怀疑是饭店卫生过关吗……建议大家不要去这家吃……卫生真的差',\n",
              "  array([-4.6946697 , -0.00918591], dtype=float32),\n",
              "  'Positive'),\n",
              " ('很好的味道，服务好，干净卫生。',\n",
              "  array([-5.8692999e+00, -2.8288844e-03], dtype=float32),\n",
              "  'Positive'),\n",
              " ('好喝，现做，用藓柠檬榨的汁，比勾兑的好喝多了，买了好多次了，喜欢的不要不要的',\n",
              "  array([-4.5414033 , -0.01071568], dtype=float32),\n",
              "  'Positive'),\n",
              " ('特别好吃，已经吃过好几次了，下次还会去的',\n",
              "  array([-5.7856307e+00, -3.0761089e-03], dtype=float32),\n",
              "  'Positive'),\n",
              " ('环境不错，味道挺不错 ，美团点餐价格也很划算。',\n",
              "  array([-5.2536087e+00, -5.2422918e-03], dtype=float32),\n",
              "  'Positive'),\n",
              " ('味道很不错已经不是第一次光顾了',\n",
              "  array([-6.1806211e+00, -2.0712607e-03], dtype=float32),\n",
              "  'Positive'),\n",
              " ('环境不错   遇到一个新服务员服务   老服务员在带   速度有点慢   不过可以理解',\n",
              "  array([-6.2914639e+00, -1.8537733e-03], dtype=float32),\n",
              "  'Positive'),\n",
              " ('态度好。味道不错。特好吃。！！！！！！！！',\n",
              "  array([-5.7267151e+00, -3.2630316e-03], dtype=float32),\n",
              "  'Positive'),\n",
              " ('好吃好吃好吃，也很划算，不错的。',\n",
              "  array([-5.5752678e+00, -3.7977018e-03], dtype=float32),\n",
              "  'Positive'),\n",
              " ('根本就不是瓦罐汤，店家你也太会骗人了，骗人是骗不长久的',\n",
              "  array([-3.9305599 , -0.01982797], dtype=float32),\n",
              "  'Positive'),\n",
              " ('味道非常好 菜品都很新鲜 团购也很划算 份量也很足 下次还会再来的',\n",
              "  array([-6.221195e+00, -1.988816e-03], dtype=float32),\n",
              "  'Positive'),\n",
              " ('很划算。。。。比直接买单便宜10块',\n",
              "  array([-5.1882415 , -0.00559739], dtype=float32),\n",
              "  'Positive'),\n",
              " ('第三次来了，味道好，强烈推荐给大家，都可以来位置也好。',\n",
              "  array([-5.8852220e+00, -2.7840685e-03], dtype=float32),\n",
              "  'Positive'),\n",
              " ('还可以，环境和味道都不错！！！',\n",
              "  array([-5.457654e+00, -4.272619e-03], dtype=float32),\n",
              "  'Positive'),\n",
              " ('慢就不说了  我点的鸡块呢？送半天送外太空去了？',\n",
              "  array([-5.5887794e+00, -3.7466348e-03], dtype=float32),\n",
              "  'Positive'),\n",
              " ('老板人不错，份量很足，味道巴实，绝对有物有所值。',\n",
              "  array([-5.18759   , -0.00560107], dtype=float32),\n",
              "  'Positive'),\n",
              " ('味道不错，分量足，团购性价比高',\n",
              "  array([-4.660501  , -0.00950679], dtype=float32),\n",
              "  'Positive'),\n",
              " ('无语，配送慢，找不到路，味道一般',\n",
              "  array([-4.697504  , -0.00915981], dtype=float32),\n",
              "  'Positive'),\n",
              " ('菜品佳，分量足，服务不错，味道不错，推荐来吃！',\n",
              "  array([-4.9490013 , -0.00711574], dtype=float32),\n",
              "  'Positive'),\n",
              " ('品种很多，还很新鲜，环境味道都很好，推荐！',\n",
              "  array([-5.251576  , -0.00525308], dtype=float32),\n",
              "  'Positive'),\n",
              " ('一如既往的好吃，都大学四年了，每年都要吃几十次，味道很好，又便宜',\n",
              "  array([-5.9201460e+00, -2.6883674e-03], dtype=float32),\n",
              "  'Positive'),\n",
              " ('店里的价格说实话真的很贵，就算是全果汁不加水也还是很贵，团购价格还说比较划算的，味道就是原味，不添加任何调味剂，这一点很好很放心',\n",
              "  array([-5.8407507e+00, -2.9109032e-03], dtype=float32),\n",
              "  'Positive'),\n",
              " ('没放盐！吃毛线！！！！',\n",
              "  array([-5.895673e+00, -2.755062e-03], dtype=float32),\n",
              "  'Positive'),\n",
              " ('我很喜欢这家的酸奶牛，味道不错，常客了！',\n",
              "  array([-5.7765055e+00, -3.1043931e-03], dtype=float32),\n",
              "  'Positive'),\n",
              " ('位置好，口味好，菜品新鲜，喜欢吃什么就吃什么',\n",
              "  array([-5.933996e+00, -2.651392e-03], dtype=float32),\n",
              "  'Positive'),\n",
              " ('之冒火！根本不看备注，三样东西，15%的主食，85%全是莴笋叶子！你家是卖菜的？点干拌来个汤的，关键是之尼玛难吃，店家还一再找借口，有必要？直接上图，你还找借口？',\n",
              "  array([-4.6415286, -0.0096898], dtype=float32),\n",
              "  'Positive'),\n",
              " ('真的无语了……两份的量还没人家店一份多',\n",
              "  array([-4.565696  , -0.01045713], dtype=float32),\n",
              "  'Positive'),\n",
              " ('一如既往，没萨说的，星光店上菜速度比较慢，不过可以接受。',\n",
              "  array([-5.5764437e+00, -3.7931888e-03], dtype=float32),\n",
              "  'Positive'),\n",
              " ('西瓜品质太差#西瓜2.5kg/份##红萝卜500g#萝卜里面都康了  差评',\n",
              "  array([-4.289752  , -0.01380315], dtype=float32),\n",
              "  'Positive'),\n",
              " ('朋友生日，给她订了送过去的，就是迟到了一小下，口味据说不错',\n",
              "  array([-4.641812  , -0.00968696], dtype=float32),\n",
              "  'Positive'),\n",
              " ('大赞！重庆经典，美味至极！食品干净卫生！油而不腻，百吃不厌！价格公道，多次光顾了！谁去谁知道！绝不后悔！一定要去星光时代店哈，万达店服务不周到，环境一般，而且星光时代广场感觉也要比万达广场好很多，万达看着就憋屈，在星光时代吃完，你还可以去金逸影城去MAX一下，美好的生活哇(>﹏',\n",
              "  array([-5.0290446 , -0.00656661], dtype=float32),\n",
              "  'Positive'),\n",
              " ('味道好，有水果，小吃送，下次再来',\n",
              "  array([-5.756580e+00, -3.166901e-03], dtype=float32),\n",
              "  'Positive'),\n",
              " ('米线泡容了我本来就不高兴了，居然还有个虫，早知到还是该点饭',\n",
              "  array([-5.6116395e+00, -3.6617152e-03], dtype=float32),\n",
              "  'Positive'),\n",
              " ('味道很不错，而且服务超级好。昨天定的有些晚了，但是店家依然准时送到了。好评啊！',\n",
              "  array([-5.6184721e+00, -3.6367725e-03], dtype=float32),\n",
              "  'Positive'),\n",
              " ('觉得还可以，经济实惠价格也不贵',\n",
              "  array([-5.7282338e+00, -3.2581598e-03], dtype=float32),\n",
              "  'Positive'),\n",
              " ('味道不错，就是有点贵', array([-4.915151  , -0.00736167], dtype=float32), 'Positive'),\n",
              " ('我要的鱿鱼干锅结果全是洋葱豆芽菜，花钱不值，以后不会再吃了，豆皮也不正宗好难吃',\n",
              "  array([-5.3943639e+00, -4.5524766e-03], dtype=float32),\n",
              "  'Positive'),\n",
              " ('很好的饮品，口感非常好，店里的员工服务热情',\n",
              "  array([-6.7895250e+00, -1.1261319e-03], dtype=float32),\n",
              "  'Positive'),\n",
              " ('卫生条件不好，有虫子，',\n",
              "  array([-5.3271875e+00, -4.8695067e-03], dtype=float32),\n",
              "  'Positive'),\n",
              " ('挺实惠的，味道也不错',\n",
              "  array([-5.3864512e+00, -4.5886696e-03], dtype=float32),\n",
              "  'Positive'),\n",
              " ('菜品和味道都很好，老板为人也很好',\n",
              "  array([-5.9169960e+00, -2.6969272e-03], dtype=float32),\n",
              "  'Positive'),\n",
              " ('饭硬像冷饭难吃就算了，茄子还是酸的，而且连筷子都没有，凉拌个豆干也太随意了吧好难吃',\n",
              "  array([-4.889712  , -0.00755205], dtype=float32),\n",
              "  'Positive'),\n",
              " ('强烈推荐，有机会都回来的，在商场里面还是很实惠，味道也很不错',\n",
              "  array([-5.7934203e+00, -3.0522211e-03], dtype=float32),\n",
              "  'Positive'),\n",
              " ('适合朋友小聚，环境清雅。味道也还好',\n",
              "  array([-5.8783355e+00, -2.8033266e-03], dtype=float32),\n",
              "  'Positive'),\n",
              " ('吃水煮肉除了肉就是豆芽还少分量我也是醉了能不能在坑点',\n",
              "  array([-5.8579183e+00, -2.8612174e-03], dtype=float32),\n",
              "  'Positive'),\n",
              " ('味道不错环境也可以团了两桌菜品分量十足',\n",
              "  array([-6.3739686e+00, -1.7068117e-03], dtype=float32),\n",
              "  'Positive'),\n",
              " ('很不错  好吃 味道好 分量很足  服务也不错',\n",
              "  array([-6.195943e+00, -2.039735e-03], dtype=float32),\n",
              "  'Positive'),\n",
              " ('这次分量不如之前', array([-0.14005192, -2.034951  ], dtype=float32), 'Negaitive'),\n",
              " ('老板人特别好，环境很棒，很有风格！下次会再来的',\n",
              "  array([-5.9982815e+00, -2.4861163e-03], dtype=float32),\n",
              "  'Positive'),\n",
              " ('直接给卖家换了商品',\n",
              "  array([-6.2872853e+00, -1.8615075e-03], dtype=float32),\n",
              "  'Positive'),\n",
              " ('美女老板 服务热情  蛋糕味道不错  就是太大了吃不完',\n",
              "  array([-6.2995548e+00, -1.8387806e-03], dtype=float32),\n",
              "  'Positive'),\n",
              " ('味道很好，去了很多次了，就是位置不是很好，。',\n",
              "  array([-5.6619549e+00, -3.4817571e-03], dtype=float32),\n",
              "  'Positive'),\n",
              " ('价格公道，便宜，吃腻了沁园这些了！！！！！',\n",
              "  array([-5.9308214e+00, -2.6598335e-03], dtype=float32),\n",
              "  'Positive'),\n",
              " ('送朋友的，做得很漂亮，很喜欢，最重要的是味道特别好，奶油很细',\n",
              "  array([-5.209323  , -0.00548038], dtype=float32),\n",
              "  'Positive'),\n",
              " ('口味很棒，服务态度很不错，很干净',\n",
              "  array([-5.4594955e+00, -4.2647845e-03], dtype=float32),\n",
              "  'Positive'),\n",
              " ('味道特别好，喜欢麻和辣 #钵钵鸡# #热# #好吃#',\n",
              "  array([-5.0533495 , -0.00640838], dtype=float32),\n",
              "  'Positive'),\n",
              " ('位置很好找，就在家门口的滋味街。环境干净典雅，菜品新鲜，服务热情红油锅底免费，火锅底料是特制的，有logo，吃过不上火。菜量丰盛，每盘量都很足，餐位费5元，包括油碟和水果，新鲜好吃。代金券不分日期和时间随时使用，但小吃和酒水不包括在内。',\n",
              "  array([-5.3404036e+00, -4.8054443e-03], dtype=float32),\n",
              "  'Positive'),\n",
              " ('预定单 这么早送来',\n",
              "  array([-5.436689e+00, -4.363421e-03], dtype=float32),\n",
              "  'Positive'),\n",
              " ('味道很好，物廉价美，必须去吃，吃了还想吃，新鲜',\n",
              "  array([-5.229047  , -0.00537308], dtype=float32),\n",
              "  'Positive'),\n",
              " ('味道不错，地方也好找，平时人很多',\n",
              "  array([-5.936090e+00, -2.645804e-03], dtype=float32),\n",
              "  'Positive'),\n",
              " ('饭里面还有米虫，有虫就算了嘛，能不能把虫选干净，眼不见心不烦！确实是羊肉汤已经和我在别家吃的不一样！',\n",
              "  array([-6.1223550e+00, -2.1956877e-03], dtype=float32),\n",
              "  'Positive'),\n",
              " ('装修得很好。看起很有档次。我点了一个药膳鹅掌。味道很好。美味下次还去。老板非常热情送了饮料和水果。多实惠的',\n",
              "  array([-5.6735315e+00, -3.4416036e-03], dtype=float32),\n",
              "  'Positive'),\n",
              " ('环境非常不错，位置也比较好找，味道也挺不错的，朋友都吃得挺开心的。',\n",
              "  array([-4.7524786, -0.0086677], dtype=float32),\n",
              "  'Positive'),\n",
              " ('我只能给菜品差评了，没办法，我点的藕片去哪里了？雪花肉去哪里了？肥肠还有个味道，菜品也不新鲜，什么鬼？都没怎么吃，扔掉了，我只能说没有下次了……',\n",
              "  array([-5.2591000e+00, -5.2135936e-03], dtype=float32),\n",
              "  'Positive'),\n",
              " ('来了几次了，有点餐也有团购，服务态度一如既往的好啊',\n",
              "  array([-5.4498134e+00, -4.3063289e-03], dtype=float32),\n",
              "  'Positive'),\n",
              " ('牛排很好，姐姐们服务也很好，不过那天人很多我等了好久的，不过还是很好的',\n",
              "  array([-5.8043876e+00, -3.0188248e-03], dtype=float32),\n",
              "  'Positive'),\n",
              " ('回头客，一直都喜欢这个，好吃，赞赞赞',\n",
              "  array([-5.1399226 , -0.00587534], dtype=float32),\n",
              "  'Positive'),\n",
              " ('水果过期了，吃了拉肚子',\n",
              "  array([-5.4397025e+00, -4.3502459e-03], dtype=float32),\n",
              "  'Positive'),\n",
              " ('性价比很高，值得推荐',\n",
              "  array([-5.4698825e+00, -4.2206263e-03], dtype=float32),\n",
              "  'Positive'),\n",
              " ('点个外卖筷子都没有。真心难受',\n",
              "  array([-5.8357644e+00, -2.9255231e-03], dtype=float32),\n",
              "  'Positive'),\n",
              " ('云南的口感，没有放醋，秘制的酸菜味，不错！',\n",
              "  array([-4.9480815 , -0.00712236], dtype=float32),\n",
              "  'Positive'),\n",
              " ('服务很好     味道也不错   我外省的   吃不了太多辣子   不过吃起来确实爽',\n",
              "  array([-5.2659535e+00, -5.1778979e-03], dtype=float32),\n",
              "  'Positive'),\n",
              " ('老板帅，口味好，撑死了～～～我去的时候是下午，然后老板还挺忙的，嗯可能，重，重庆得，火锅都是晚上比较火热吧',\n",
              "  array([-4.4561734 , -0.01167454], dtype=float32),\n",
              "  'Positive'),\n",
              " ('#炸鸡翅#好吃，实惠。店里面要10块，这里只需要4.9',\n",
              "  array([-5.8154588e+00, -2.9855461e-03], dtype=float32),\n",
              "  'Positive'),\n",
              " ('味道完全没有香辣味，全是酱油味，而且蟹很不新鲜，一股腥味。吃过最难吃的蟹',\n",
              "  array([-5.6961546e+00, -3.3644997e-03], dtype=float32),\n",
              "  'Positive'),\n",
              " ('我觉得这份单里面，最好吃的东西，是饭上面的榨菜。',\n",
              "  array([-6.1961427e+00, -2.0393780e-03], dtype=float32),\n",
              "  'Positive'),\n",
              " ('良心商家，点赞', array([-4.823278  , -0.00807284], dtype=float32), 'Positive'),\n",
              " ('真难吃，真肥，恶心死我了',\n",
              "  array([-4.920871  , -0.00731954], dtype=float32),\n",
              "  'Positive'),\n",
              " ('环境可以，4个人够吃，菜品新鲜，上菜速度快，味道不错',\n",
              "  array([-4.936928  , -0.00720249], dtype=float32),\n",
              "  'Positive'),\n",
              " ('很好吃的披萨，价格合适味道好，孩子很喜欢。就是他又把青椒挑出来，挑食没办法啊。',\n",
              "  array([-5.4363823e+00, -4.3647266e-03], dtype=float32),\n",
              "  'Positive'),\n",
              " ('整体很不错，比较新鲜',\n",
              "  array([-5.3264008e+00, -4.8734215e-03], dtype=float32),\n",
              "  'Positive'),\n",
              " ('不错不错，还是一如既往下次在带朋友去吃，性价比还可以',\n",
              "  array([-4.981642  , -0.00688644], dtype=float32),\n",
              "  'Positive'),\n",
              " ('很好吃，每次都要跑这么远的地方来吃羊肉粉，我也是醉了，怎么就那么喜欢',\n",
              "  array([-6.172393e+00, -2.088391e-03], dtype=float32),\n",
              "  'Positive'),\n",
              " ('菜品新鲜，服务不错，价格实惠，环境好，值得推荐。',\n",
              "  array([-5.9253311e+00, -2.6744572e-03], dtype=float32),\n",
              "  'Positive'),\n",
              " ('十三只就这么点，龙虾小的基本没肉，没刷干净，虾线没挑，里面是黑的，有异味，虾头也没剪！从没吃到过这么差的龙虾，这个价格太不值了！！绝不会点第二次',\n",
              "  array([-5.395794e+00, -4.545950e-03], dtype=float32),\n",
              "  'Positive'),\n",
              " ('一如既往的好吃！希望可以再脆一些！',\n",
              "  array([-6.0657687e+00, -2.3236675e-03], dtype=float32),\n",
              "  'Positive'),\n",
              " ('态度很好，我们很喜欢来吃',\n",
              "  array([-5.7228146e+00, -3.2758643e-03], dtype=float32),\n",
              "  'Positive'),\n",
              " ('分量明显不足了，粉都快煮化了！！！',\n",
              "  array([-5.249557  , -0.00526364], dtype=float32),\n",
              "  'Positive'),\n",
              " ('鱼真的好吃，整体都不错，亲可以试试哦。',\n",
              "  array([-6.0527272e+00, -2.3542326e-03], dtype=float32),\n",
              "  'Positive'),\n",
              " ('味道不错哦，服务员和老板也很好，就是菜品有点少，尤其是荤菜。但是菜都还是蛮新鲜。',\n",
              "  array([-5.6512642e+00, -3.5192955e-03], dtype=float32),\n",
              "  'Positive'),\n",
              " ('点的猪扒饭、味道很不错哦，价格不贵，性价比高、环境服务态度让人满意！服务员姐姐太热情了！让怪不好意思的！',\n",
              "  array([-4.1891546 , -0.01527516], dtype=float32),\n",
              "  'Positive'),\n",
              " ('味道挺好的，老板服务也错的下次还会去',\n",
              "  array([-5.5643568e+00, -3.8393848e-03], dtype=float32),\n",
              "  'Positive'),\n",
              " ('味道一般，时间太长', array([-4.236876  , -0.01455816], dtype=float32), 'Positive'),\n",
              " ('第一映像就是装修特别吸引我，很大气！然后端上来的时候真的惊艳到了，好大一锅，色相味俱全！性价比特别高，一定要吃排骨，感觉一个人可以吃一份！太安逸了',\n",
              "  array([-4.2433114 , -0.01446405], dtype=float32),\n",
              "  'Positive'),\n",
              " ('我没吃过这么难吃的饺子 肉不晓得是什么过期肉 饺子不知道包了好久 一股馊味 建议大家谨慎点餐 还不如速冻饺子干净卫生',\n",
              "  array([-5.368011e+00, -4.674341e-03], dtype=float32),\n",
              "  'Positive'),\n",
              " ('点的温柔锅，没敢尝试火爆辣，作为重庆本地人觉得温柔锅也够味。锅底不错，现炸酥肉也好吃，两个人吃了204，感觉吃得很饱！晚上六点过到的，停车停的好远，建议就停在枇杷园上面走路下来！我',\n",
              "  array([-4.4244432 , -0.01205327], dtype=float32),\n",
              "  'Positive'),\n",
              " ...]"
            ]
          },
          "metadata": {
            "tags": []
          },
          "execution_count": 47
        }
      ]
    },
    {
      "cell_type": "code",
      "metadata": {
        "id": "-Mn6l5uKgch-",
        "colab_type": "code",
        "colab": {}
      },
      "source": [
        "target['label'] = None\n",
        "for row in range(len(predictions)):\n",
        "    if predictions[row][2] == 'Positive':\n",
        "        target.loc[row, 'label'] = 0\n",
        "    else:\n",
        "        target.loc[row, 'label'] = 1     "
      ],
      "execution_count": 0,
      "outputs": []
    },
    {
      "cell_type": "code",
      "metadata": {
        "id": "qE3zgxJ-iBt2",
        "colab_type": "code",
        "outputId": "9d66e46e-4c66-4b88-abdc-4f2fbf8e5107",
        "colab": {
          "base_uri": "https://localhost:8080/",
          "height": 289
        }
      },
      "source": [
        "target.head()"
      ],
      "execution_count": 0,
      "outputs": [
        {
          "output_type": "execute_result",
          "data": {
            "text/html": [
              "<div>\n",
              "<style scoped>\n",
              "    .dataframe tbody tr th:only-of-type {\n",
              "        vertical-align: middle;\n",
              "    }\n",
              "\n",
              "    .dataframe tbody tr th {\n",
              "        vertical-align: top;\n",
              "    }\n",
              "\n",
              "    .dataframe thead th {\n",
              "        text-align: right;\n",
              "    }\n",
              "</style>\n",
              "<table border=\"1\" class=\"dataframe\">\n",
              "  <thead>\n",
              "    <tr style=\"text-align: right;\">\n",
              "      <th></th>\n",
              "      <th>id</th>\n",
              "      <th>comment</th>\n",
              "      <th>label</th>\n",
              "    </tr>\n",
              "  </thead>\n",
              "  <tbody>\n",
              "    <tr>\n",
              "      <th>0</th>\n",
              "      <td>0011f384-9e54-4fb4-a272-330a6cab6804</td>\n",
              "      <td>糯米团是我小时候的记忆了，吃起还是好吃，只是小时候的油条没有这么硬！油茶也还好！可以试试</td>\n",
              "      <td>0</td>\n",
              "    </tr>\n",
              "    <tr>\n",
              "      <th>1</th>\n",
              "      <td>00223e4f-47e1-4fc8-9657-06444a7de9a5</td>\n",
              "      <td>满满的五星好评，口味好，服务好，特别喜欢，昨天第一次买，今天就回购了，买的刨奶，店长问我加腰...</td>\n",
              "      <td>0</td>\n",
              "    </tr>\n",
              "    <tr>\n",
              "      <th>2</th>\n",
              "      <td>00225350-c169-435c-84cf-970068df5b12</td>\n",
              "      <td>好喝！经常会再去买来喝！就是排队的人太多了</td>\n",
              "      <td>0</td>\n",
              "    </tr>\n",
              "    <tr>\n",
              "      <th>3</th>\n",
              "      <td>00a3190c-90c1-44c3-b809-7a9b1314cd27</td>\n",
              "      <td>三个人订的四人餐，菜量大没吃完，问道不错。</td>\n",
              "      <td>0</td>\n",
              "    </tr>\n",
              "    <tr>\n",
              "      <th>4</th>\n",
              "      <td>00b3f76e-fda3-42cd-8884-25e03a5dba64</td>\n",
              "      <td>好的一如既往，真真爱上了自助炒饭自助八宝粥自助冰粉！！！喜欢所有菜和肉，两女一男吃两份两人餐...</td>\n",
              "      <td>0</td>\n",
              "    </tr>\n",
              "  </tbody>\n",
              "</table>\n",
              "</div>"
            ],
            "text/plain": [
              "                                     id  ... label\n",
              "0  0011f384-9e54-4fb4-a272-330a6cab6804  ...     0\n",
              "1  00223e4f-47e1-4fc8-9657-06444a7de9a5  ...     0\n",
              "2  00225350-c169-435c-84cf-970068df5b12  ...     0\n",
              "3  00a3190c-90c1-44c3-b809-7a9b1314cd27  ...     0\n",
              "4  00b3f76e-fda3-42cd-8884-25e03a5dba64  ...     0\n",
              "\n",
              "[5 rows x 3 columns]"
            ]
          },
          "metadata": {
            "tags": []
          },
          "execution_count": 53
        }
      ]
    },
    {
      "cell_type": "code",
      "metadata": {
        "id": "_3BolWIoiECk",
        "colab_type": "code",
        "colab": {}
      },
      "source": [
        "target_o = target[['id', 'label']]\n",
        "target_o.to_csv('output_BERT.csv', index=False)"
      ],
      "execution_count": 0,
      "outputs": []
    },
    {
      "cell_type": "code",
      "metadata": {
        "id": "jOjHq1j_jI6P",
        "colab_type": "code",
        "colab": {}
      },
      "source": [
        ""
      ],
      "execution_count": 0,
      "outputs": []
    }
  ]
}